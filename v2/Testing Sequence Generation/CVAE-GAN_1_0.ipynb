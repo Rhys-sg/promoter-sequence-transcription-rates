{
 "cells": [
  {
   "cell_type": "markdown",
   "metadata": {},
   "source": [
    "### Description\n",
    "\n",
    "This implements a CVAE-GAN that infills a masked promoter sequence based on a combined loss function, including:\n",
    "1. Reconstruction Loss (CVAE): Ensures that the infilled sequence closely resembles the original.\n",
    "2. Adversarial Loss (GAN): Encourages the generation of realistic sequences.\n",
    "3. Auxiliary Loss (MSE): Ensures that the generated sequence produces the correct expression when evaluated by the CNN."
   ]
  },
  {
   "cell_type": "code",
   "execution_count": 1,
   "metadata": {},
   "outputs": [],
   "source": [
    "import CTGAN_1_5 as parent"
   ]
  },
  {
   "cell_type": "code",
   "execution_count": 2,
   "metadata": {},
   "outputs": [],
   "source": [
    "version = '1_5'"
   ]
  },
  {
   "cell_type": "code",
   "execution_count": 3,
   "metadata": {},
   "outputs": [],
   "source": [
    "# Hyperparameters\n",
    "batch_size = 64\n",
    "epochs = 5\n",
    "learning_rate = 0.0002\n",
    "adversarial_lambda = 1\n",
    "cnn_lambda = 10\n",
    "path_to_cnn = '../Models/CNN_5_0.keras'\n",
    "path_to_data = '../Data/combined/LaFleur_supp.csv'\n",
    "\n",
    "# Load Data and Prepare Dataloaders\n",
    "df = parent.load_data(path_to_data)\n",
    "train_loader, test_loader = parent.prepare_dataloader(df, batch_size)\n",
    " \n",
    "# Initialize Models\n",
    "generator = parent.Generator()\n",
    "discriminator = parent.Discriminator()\n",
    "cnn = parent.KerasModelWrapper(path_to_cnn)"
   ]
  },
  {
   "cell_type": "code",
   "execution_count": 4,
   "metadata": {},
   "outputs": [
    {
     "name": "stdout",
     "output_type": "stream",
     "text": [
      "Epoch [1/5]  Loss aD: 0.7234, Loss cD: 0.0372, Loss G: 1.0952\n",
      "Epoch [2/5]  Loss aD: 0.5904, Loss cD: 0.0215, Loss G: 0.8051\n",
      "Epoch [3/5]  Loss aD: 0.6089, Loss cD: 0.0184, Loss G: 0.7927\n",
      "Epoch [4/5]  Loss aD: 0.7077, Loss cD: 0.0198, Loss G: 0.9057\n",
      "Epoch [5/5]  Loss aD: 0.7998, Loss cD: 0.0233, Loss G: 1.0328\n",
      "Model saved to ../Models/generator_1_5.pth\n",
      "Model saved to ../Models/generator_1_5.pth\n"
     ]
    }
   ],
   "source": [
    "# Train Models with Training DataLoader\n",
    "parent.train_ctgan(generator, discriminator, train_loader, cnn, epochs, learning_rate, adversarial_lambda, cnn_lambda)\n",
    "\n",
    "# Save the trained models\n",
    "parent.save_model(generator, f'../Models/generator_{version}.pth')\n",
    "parent.save_model(discriminator, f'../Models/generator_{version}.pth')"
   ]
  },
  {
   "cell_type": "code",
   "execution_count": 6,
   "metadata": {},
   "outputs": [
    {
     "name": "stdout",
     "output_type": "stream",
     "text": [
      "Average MSE on Test Set: 0.0188\n"
     ]
    }
   ],
   "source": [
    "# # Load the models\n",
    "# parent.load_model(generator, f'../Models/generator_{version}.pth')\n",
    "# parent.load_model(discriminator, f'../Models/generator_{version}.pth')\n",
    "\n",
    "# Evaluate the generator on the test set\n",
    "parent.evaluate_generator(generator, cnn, test_loader)"
   ]
  },
  {
   "cell_type": "markdown",
   "metadata": {},
   "source": [
    "Average MSE on Test Set: 0.0188"
   ]
  },
  {
   "cell_type": "code",
   "execution_count": 7,
   "metadata": {},
   "outputs": [
    {
     "name": "stdout",
     "output_type": "stream",
     "text": [
      "Original Sequences: TTTTCTATCTACGTACTTGACACTATTTCNNNNNNNNNNATTACCTTAGTTTGTACGTT\n",
      "Infilled Sequences: TTTTCTATCTACGTACTTGACACTATTTCACTGGTTTAAATTACCTTAGTTTGTACGTT\n"
     ]
    }
   ],
   "source": [
    "# Test Example\n",
    "sequences = ['TTTTCTATCTACGTACTTGACACTATTTCNNNNNNNNNNATTACCTTAGTTTGTACGTT']\n",
    "expressions = [0.5]\n",
    "\n",
    "# Generate infills\n",
    "infilled = parent.generate_infills(generator, sequences, expressions)\n",
    "for original, infilled in zip(sequences, infilled):\n",
    "    print(\"Original Sequences:\", original)\n",
    "    print(\"Infilled Sequences:\", infilled)"
   ]
  },
  {
   "cell_type": "code",
   "execution_count": 115,
   "metadata": {},
   "outputs": [
    {
     "name": "stdout",
     "output_type": "stream",
     "text": [
      "Original Sequences: TTTTCTATCTACGTACTTGACACTATTTCCTATTTCNNNNNNNNNNATATTACTCTACCTTAGTTTGTACGTT, Expression: 0.5\n",
      "Infilled Sequences: TTTTCTATCTACGTACTTGACACTATTTCCTATTTCACTCGTTTAAATATTACTCTACCTTAGTTTGTACGTT, Expression: 0.6876955628395081\n"
     ]
    }
   ],
   "source": [
    "import torch\n",
    "\n",
    "def generate_infills(generator, sequences, expressions, mask_size=10):\n",
    "    infilled_sequences = []\n",
    "    predicted_exprs = []\n",
    "    \n",
    "    for sequence, expr in zip(sequences, expressions):\n",
    "        start = sequence.find('N' * mask_size)\n",
    "        if start == -1:\n",
    "            raise ValueError(\"No masked region ('N') found in the sequence.\")\n",
    "        \n",
    "        # Convert the masked sequence to a tensor\n",
    "        sequence_tensor = parent.one_hot_encode_sequence(sequence).unsqueeze(0)\n",
    "        expr_tensor = torch.tensor([expr], dtype=torch.float32).view(1, 1)\n",
    "\n",
    "        # Generate infill using the generator\n",
    "        generated_segment = generator(sequence_tensor, expr_tensor)\n",
    "        predicted_infill = parent.decode_one_hot_sequence(generated_segment.argmax(dim=2).squeeze().numpy())\n",
    "\n",
    "        # Predict the expression of the generated segment using the CNN\n",
    "        cnn_input = parent.preprocess_cnn_input(sequence_tensor, generated_segment, 0)\n",
    "        predicted_expr = cnn(cnn_input).item()\n",
    "        \n",
    "        # Reconstruct the full sequence\n",
    "        infilled_sequence = (\n",
    "            sequence[:start] + predicted_infill + sequence[start + mask_size:]\n",
    "        )\n",
    "        infilled_sequences.append(infilled_sequence)\n",
    "        predicted_exprs.append(predicted_expr)\n",
    "    \n",
    "    return infilled_sequences, predicted_exprs\n",
    "\n",
    "# Test Example\n",
    "sequences = ['TTTTCTATCTACGTACTTGACACTATTTCCTATTTCNNNNNNNNNNATATTACTCTACCTTAGTTTGTACGTT']\n",
    "real_exprs = [0.5]\n",
    "\n",
    "# Generate infills\n",
    "infilled, predicted_exprs = generate_infills(generator, sequences, real_exprs)\n",
    "for original, infilled, predicted_expr, real_expr in zip(sequences, infilled, predicted_exprs, real_exprs):\n",
    "    print(f\"Original Sequences: {original}, Expression: {real_expr}\")\n",
    "    print(f\"Infilled Sequences: {infilled}, Expression: {predicted_expr}\")"
   ]
  }
 ],
 "metadata": {
  "kernelspec": {
   "display_name": "Python 3",
   "language": "python",
   "name": "python3"
  },
  "language_info": {
   "codemirror_mode": {
    "name": "ipython",
    "version": 3
   },
   "file_extension": ".py",
   "mimetype": "text/x-python",
   "name": "python",
   "nbconvert_exporter": "python",
   "pygments_lexer": "ipython3",
   "version": "3.12.3"
  }
 },
 "nbformat": 4,
 "nbformat_minor": 2
}
