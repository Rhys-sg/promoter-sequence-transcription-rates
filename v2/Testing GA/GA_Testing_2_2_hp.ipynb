{
 "cells": [
  {
   "cell_type": "markdown",
   "metadata": {},
   "source": [
    "#### Description\n",
    "\n",
    "This code uses <b>Random Search</b> to find optimal hyperparameters for the GA_2_2 GeneticAlgorithm run method:\n",
    "* base_mutation_rate\n",
    "* chromosomes\n",
    "* islands\n",
    "* num_parents\n",
    "* gene_flow_rate"
   ]
  },
  {
   "cell_type": "code",
   "execution_count": 1,
   "metadata": {},
   "outputs": [],
   "source": [
    "import matplotlib.pyplot as plt\n",
    "import numpy as np\n",
    "import seaborn as sns\n",
    "import pandas as pd\n",
    "import time\n",
    "import random\n",
    "\n",
    "from GA_2_2 import GeneticAlgorithm"
   ]
  },
  {
   "cell_type": "code",
   "execution_count": 2,
   "metadata": {},
   "outputs": [],
   "source": [
    "# Control variables\n",
    "cnn_model_path = '../Models/CNN_6_1_2.keras'\n",
    "masked_sequence = 'NNNNNNNNNNNNNNNNNNNNNNNNNNNNNNNNNNNNNNNNNNNNNNNNNNNNNNNNNNNNNNNNNNNNNNNNNNN'\n",
    "max_length = 150\n",
    "pop_size = 20\n",
    "generations = 100\n",
    "precision = 0.1\n",
    "\n",
    "# Testing variables\n",
    "combinations = 10\n",
    "run_per_combination = 10\n",
    "results = []\n",
    "target_expressions = [0, 1]"
   ]
  },
  {
   "cell_type": "code",
   "execution_count": null,
   "metadata": {},
   "outputs": [
    {
     "name": "stdout",
     "output_type": "stream",
     "text": [
      "Running with base_mutation_rate=0.750, chromosomes=9, islands=4, num_parents=13, gene_flow_rate=0.573Avg. error=0.172\n",
      "Running with base_mutation_rate=0.538, chromosomes=16, islands=13, num_parents=5, gene_flow_rate=0.166"
     ]
    },
    {
     "ename": "IndexError",
     "evalue": "list index out of range",
     "output_type": "error",
     "traceback": [
      "\u001b[1;31m---------------------------------------------------------------------------\u001b[0m",
      "\u001b[1;31mIndexError\u001b[0m                                Traceback (most recent call last)",
      "Cell \u001b[1;32mIn[4], line 32\u001b[0m\n\u001b[0;32m     30\u001b[0m \u001b[38;5;66;03m# Time the run\u001b[39;00m\n\u001b[0;32m     31\u001b[0m start_time \u001b[38;5;241m=\u001b[39m time\u001b[38;5;241m.\u001b[39mtime()\n\u001b[1;32m---> 32\u001b[0m best_sequence, best_prediction \u001b[38;5;241m=\u001b[39m \u001b[43mga\u001b[49m\u001b[38;5;241;43m.\u001b[39;49m\u001b[43mrun\u001b[49m\u001b[43m(\u001b[49m\u001b[43m)\u001b[49m\n\u001b[0;32m     33\u001b[0m end_time \u001b[38;5;241m=\u001b[39m time\u001b[38;5;241m.\u001b[39mtime()\n\u001b[0;32m     34\u001b[0m run_time \u001b[38;5;241m=\u001b[39m end_time \u001b[38;5;241m-\u001b[39m start_time\n",
      "File \u001b[1;32mc:\\Users\\rsore\\Documents\\GitHub\\promoter-sequence-transcription-rates\\v2\\Testing GA\\GA_2_2.py:186\u001b[0m, in \u001b[0;36mGeneticAlgorithm.run\u001b[1;34m(self)\u001b[0m\n\u001b[0;32m    184\u001b[0m \u001b[38;5;28;01mwhile\u001b[39;00m \u001b[38;5;28mlen\u001b[39m(next_gen) \u001b[38;5;241m<\u001b[39m \u001b[38;5;28mlen\u001b[39m(infills):\n\u001b[0;32m    185\u001b[0m     selected_parents \u001b[38;5;241m=\u001b[39m random\u001b[38;5;241m.\u001b[39msample(parents, \u001b[38;5;28mself\u001b[39m\u001b[38;5;241m.\u001b[39mnum_parents)\n\u001b[1;32m--> 186\u001b[0m     child \u001b[38;5;241m=\u001b[39m \u001b[38;5;28;43mself\u001b[39;49m\u001b[38;5;241;43m.\u001b[39;49m\u001b[43mcrossover\u001b[49m\u001b[43m(\u001b[49m\u001b[43mselected_parents\u001b[49m\u001b[43m)\u001b[49m\n\u001b[0;32m    187\u001b[0m     next_gen\u001b[38;5;241m.\u001b[39mappend(\u001b[38;5;28mself\u001b[39m\u001b[38;5;241m.\u001b[39mmutate(child, \u001b[38;5;28mself\u001b[39m\u001b[38;5;241m.\u001b[39mbase_mutation_rate))\n\u001b[0;32m    188\u001b[0m \u001b[38;5;28mself\u001b[39m\u001b[38;5;241m.\u001b[39misland_populations[i] \u001b[38;5;241m=\u001b[39m next_gen[:\u001b[38;5;28mlen\u001b[39m(infills)]\n",
      "File \u001b[1;32mc:\\Users\\rsore\\Documents\\GitHub\\promoter-sequence-transcription-rates\\v2\\Testing GA\\GA_2_2.py:127\u001b[0m, in \u001b[0;36mGeneticAlgorithm.crossover\u001b[1;34m(self, parents)\u001b[0m\n\u001b[0;32m    125\u001b[0m parent_chromosomes \u001b[38;5;241m=\u001b[39m [\u001b[38;5;28mself\u001b[39m\u001b[38;5;241m.\u001b[39m_split_into_chromosomes(parent) \u001b[38;5;28;01mfor\u001b[39;00m parent \u001b[38;5;129;01min\u001b[39;00m parents]\n\u001b[0;32m    126\u001b[0m child_chromosomes \u001b[38;5;241m=\u001b[39m []\n\u001b[1;32m--> 127\u001b[0m \u001b[38;5;28;01mfor\u001b[39;00m chrom_idx \u001b[38;5;129;01min\u001b[39;00m \u001b[38;5;28mrange\u001b[39m(\u001b[38;5;28mlen\u001b[39m(\u001b[43mparent_chromosomes\u001b[49m\u001b[43m[\u001b[49m\u001b[38;5;241;43m0\u001b[39;49m\u001b[43m]\u001b[49m)):\n\u001b[0;32m    128\u001b[0m     chrom_slices \u001b[38;5;241m=\u001b[39m [parent[chrom_idx] \u001b[38;5;28;01mfor\u001b[39;00m parent \u001b[38;5;129;01min\u001b[39;00m parent_chromosomes]\n\u001b[0;32m    129\u001b[0m     child_chromosome \u001b[38;5;241m=\u001b[39m \u001b[38;5;124m'\u001b[39m\u001b[38;5;124m'\u001b[39m\u001b[38;5;241m.\u001b[39mjoin(random\u001b[38;5;241m.\u001b[39mchoice(chrom_slices)[i] \u001b[38;5;28;01mfor\u001b[39;00m i \u001b[38;5;129;01min\u001b[39;00m \u001b[38;5;28mrange\u001b[39m(\u001b[38;5;28mlen\u001b[39m(chrom_slices[\u001b[38;5;241m0\u001b[39m])))\n",
      "\u001b[1;31mIndexError\u001b[0m: list index out of range"
     ]
    }
   ],
   "source": [
    "for target_expression in target_expressions:\n",
    "    for combination_id in range(combinations):\n",
    "\n",
    "        # Randomly select values for each of the dependent variables\n",
    "        base_mutation_rate = random.uniform(0, 1)\n",
    "        chromosomes = random.randint(1, 16)\n",
    "        islands = random.randint(1, 16)\n",
    "        num_parents = random.randint(1, 16)\n",
    "        gene_flow_rate = random.uniform(0, 1)\n",
    "\n",
    "        print(f'Running with base_mutation_rate={base_mutation_rate:.3f}, chromosomes={chromosomes}, islands={islands}, num_parents={num_parents}, gene_flow_rate={gene_flow_rate:.3f}', end='')\n",
    "\n",
    "        for run_id in range(run_per_combination):\n",
    "            ga = GeneticAlgorithm(\n",
    "                cnn_model_path=cnn_model_path,\n",
    "                masked_sequence=masked_sequence,\n",
    "                target_expression=target_expression,\n",
    "                max_length=max_length,\n",
    "                pop_size=pop_size,\n",
    "                generations=generations,\n",
    "                base_mutation_rate=base_mutation_rate,  # Dependent variable\n",
    "                precision=precision,\n",
    "                chromosomes=chromosomes, # Dependent variable\n",
    "                islands=islands, # Dependent variable\n",
    "                num_parents=num_parents, # Dependent variable\n",
    "                gene_flow_rate=gene_flow_rate, # Dependent variable\n",
    "                print_progress=False\n",
    "            )\n",
    "            \n",
    "            # Time the run\n",
    "            start_time = time.time()\n",
    "            best_sequence, best_prediction = ga.run()\n",
    "            end_time = time.time()\n",
    "            run_time = end_time - start_time\n",
    "            \n",
    "            # Record the results\n",
    "            results.append({\n",
    "                'target_expression': target_expression,\n",
    "                'combination_id': combination_id + 1,\n",
    "                'run_id': run_id + 1,\n",
    "                'chromosomes': chromosomes,\n",
    "                'num_parents': num_parents,\n",
    "                'islands': islands,\n",
    "                'gene_flow_rate': gene_flow_rate,\n",
    "                'error': abs(best_prediction - target_expression),\n",
    "                'run_time': run_time\n",
    "            })\n",
    "        # print Averaged combination error\n",
    "        print(f' Avg. error={np.mean([result[\"error\"] for result in results[-run_per_combination:]]):.3f}')\n",
    "\n",
    "# Convert results to a DataFrame for analysis\n",
    "results_df = pd.DataFrame(results)"
   ]
  },
  {
   "cell_type": "code",
   "execution_count": null,
   "metadata": {},
   "outputs": [],
   "source": [
    "results_df.head()"
   ]
  }
 ],
 "metadata": {
  "kernelspec": {
   "display_name": "Python 3",
   "language": "python",
   "name": "python3"
  },
  "language_info": {
   "codemirror_mode": {
    "name": "ipython",
    "version": 3
   },
   "file_extension": ".py",
   "mimetype": "text/x-python",
   "name": "python",
   "nbconvert_exporter": "python",
   "pygments_lexer": "ipython3",
   "version": "3.12.3"
  }
 },
 "nbformat": 4,
 "nbformat_minor": 2
}
