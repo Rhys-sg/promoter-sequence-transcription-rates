{
 "cells": [
  {
   "cell_type": "code",
   "execution_count": 6,
   "metadata": {},
   "outputs": [],
   "source": [
    "from GA_2_3 import GeneticAlgorithm"
   ]
  },
  {
   "cell_type": "code",
   "execution_count": 7,
   "metadata": {},
   "outputs": [],
   "source": [
    "cnn_model_path = '../Models/CNN_6_1_2.keras'\n",
    "masked_sequence = 'AATACTAGAGGTCTTCCGACNNNNNNNNNNNNNNNNNNNNNNNNNNNNNNTGTGGAGCGGGAAGACAACTAGGGG'"
   ]
  },
  {
   "cell_type": "code",
   "execution_count": 8,
   "metadata": {},
   "outputs": [],
   "source": [
    "def get_sequences(target_expression):\n",
    "    ga = GeneticAlgorithm(\n",
    "        cnn_model_path=cnn_model_path,\n",
    "        masked_sequence=masked_sequence,\n",
    "        target_expression=target_expression,\n",
    "        pop_size=100,\n",
    "        generations=100,\n",
    "        base_mutation_rate=0.05,\n",
    "        precision=0.001,\n",
    "        print_progress=False\n",
    "    )\n",
    "    best_sequences, best_predictions = ga.run(5)\n",
    "    print(\"\\nBest infilled sequence:\", best_sequences)\n",
    "    print(\"Predicted transcription rate:\", best_predictions)\n"
   ]
  },
  {
   "cell_type": "code",
   "execution_count": 9,
   "metadata": {},
   "outputs": [
    {
     "name": "stderr",
     "output_type": "stream",
     "text": [
      "c:\\Users\\rsore\\anaconda3\\envs\\TX_prediction\\Lib\\site-packages\\keras\\src\\saving\\saving_lib.py:719: UserWarning: Skipping variable loading for optimizer 'adam', because it has 34 variables whereas the saved optimizer has 2 variables. \n",
      "  saveable.load_own_variables(weights_store.get(inner_path))\n"
     ]
    },
    {
     "name": "stdout",
     "output_type": "stream",
     "text": [
      "\n",
      "Best infilled sequence: ['AATACTAGAGGTCTTCCGACTCATATTCGTGTCTGCCCCCCGCACCGTACTGTGGAGCGGGAAGACAACTAGGGG', 'AATACTAGAGGTCTTCCGACCCTATGGGGGTTGTCCCCCCCTCGCACGGATGTGGAGCGGGAAGACAACTAGGGG', 'AATACTAGAGGTCTTCCGACGCATTCTGGTCGTTGCCCCCCTGCGCTAGCTGTGGAGCGGGAAGACAACTAGGGG', 'AATACTAGAGGTCTTCCGACGCCTTGTGCATTGGCCCCCCCAGCTGCAGCTGTGGAGCGGGAAGACAACTAGGGG', 'AATACTAGAGGTCTTCCGACCTATTGTCTTGCCCAGCGGTTCTGTTCGGTTGTGGAGCGGGAAGACAACTAGGGG']\n",
      "Predicted transcription rate: [0.15719876, 0.14493299, 0.13012981, 0.14500463, 0.14004353]\n"
     ]
    }
   ],
   "source": [
    "get_sequences(0)"
   ]
  },
  {
   "cell_type": "code",
   "execution_count": 10,
   "metadata": {},
   "outputs": [
    {
     "name": "stdout",
     "output_type": "stream",
     "text": [
      "\n",
      "Best infilled sequence: ['AATACTAGAGGTCTTCCGACGTAGCCCGGTGTAGGCGCCTGTCACGACCATGTGGAGCGGGAAGACAACTAGGGG', 'AATACTAGAGGTCTTCCGACTACTTCAAATCTTAGACCCTCCAAGAGGGTTGTGGAGCGGGAAGACAACTAGGGG', 'AATACTAGAGGTCTTCCGACCTGTAATGGCGCGTTATTTTGCTAGTGGGTTGTGGAGCGGGAAGACAACTAGGGG', 'AATACTAGAGGTCTTCCGACCAAAGGGCTTGGTTTCTTACTAATGACACGTGTGGAGCGGGAAGACAACTAGGGG', 'AATACTAGAGGTCTTCCGACGTAAGTCCGTCATACTCGTCGGCAATGAGTTGTGGAGCGGGAAGACAACTAGGGG']\n",
      "Predicted transcription rate: [0.24943168, 0.25035667, 0.24945377, 0.25073352, 0.24996811]\n"
     ]
    }
   ],
   "source": [
    "get_sequences(0.25)"
   ]
  },
  {
   "cell_type": "code",
   "execution_count": 11,
   "metadata": {},
   "outputs": [
    {
     "name": "stdout",
     "output_type": "stream",
     "text": [
      "\n",
      "Best infilled sequence: ['AATACTAGAGGTCTTCCGACTATAACTGTAAAACCCTAATAAACTTCTGATGTGGAGCGGGAAGACAACTAGGGG', 'AATACTAGAGGTCTTCCGACCTTTGACTTGAGTAAAATGTGGTAGTAACTTGTGGAGCGGGAAGACAACTAGGGG', 'AATACTAGAGGTCTTCCGACAAAGCGAGTATCTCAAGCTGTACAATGGCATGTGGAGCGGGAAGACAACTAGGGG', 'AATACTAGAGGTCTTCCGACTATACAATAATTAGGCTCTATTCTAGCTATTGTGGAGCGGGAAGACAACTAGGGG', 'AATACTAGAGGTCTTCCGACCCGATTACATGTGTATATATAACTATTGTTTGTGGAGCGGGAAGACAACTAGGGG']\n",
      "Predicted transcription rate: [0.49974966, 0.5001336, 0.49915093, 0.49931586, 0.49979287]\n"
     ]
    }
   ],
   "source": [
    "get_sequences(0.5)"
   ]
  },
  {
   "cell_type": "code",
   "execution_count": 12,
   "metadata": {},
   "outputs": [
    {
     "name": "stdout",
     "output_type": "stream",
     "text": [
      "\n",
      "Best infilled sequence: ['AATACTAGAGGTCTTCCGACCTTCTATTATAATATATAATCGGTTGACATTGTGGAGCGGGAAGACAACTAGGGG', 'AATACTAGAGGTCTTCCGACCAAAACCGATTATAATTTATTATAACAGCATGTGGAGCGGGAAGACAACTAGGGG', 'AATACTAGAGGTCTTCCGACCACCGAAAAGGTAAATTCTATAATTATACCTGTGGAGCGGGAAGACAACTAGGGG', 'AATACTAGAGGTCTTCCGACTTGACAAATATATATTATGTTATACTTCTCTGTGGAGCGGGAAGACAACTAGGGG', 'AATACTAGAGGTCTTCCGACTAAAAGGGTATTAAAATCAGTATAATACACTGTGGAGCGGGAAGACAACTAGGGG']\n",
      "Predicted transcription rate: [0.74935985, 0.7491709, 0.7505794, 0.74959314, 0.75080335]\n"
     ]
    }
   ],
   "source": [
    "get_sequences(0.75)"
   ]
  },
  {
   "cell_type": "code",
   "execution_count": 13,
   "metadata": {},
   "outputs": [
    {
     "name": "stdout",
     "output_type": "stream",
     "text": [
      "\n",
      "Best infilled sequence: ['AATACTAGAGGTCTTCCGACTTGCTAAAAGGTATAATTATTATACTAGCCTGTGGAGCGGGAAGACAACTAGGGG', 'AATACTAGAGGTCTTCCGACATTGTATTATATATATAATATAATTGACATTGTGGAGCGGGAAGACAACTAGGGG', 'AATACTAGAGGTCTTCCGACACTGCTATTATATTATGGTATAATAGCCTCTGTGGAGCGGGAAGACAACTAGGGG', 'AATACTAGAGGTCTTCCGACACTTGGTATAGTATAATAATCCCTTAGAATTGTGGAGCGGGAAGACAACTAGGGG', 'AATACTAGAGGTCTTCCGACTTATTATTAATATATTATCCCAGTTGGACTTGTGGAGCGGGAAGACAACTAGGGG']\n",
      "Predicted transcription rate: [0.86497176, 0.7614363, 0.765986, 0.7914737, 0.7309084]\n"
     ]
    }
   ],
   "source": [
    "get_sequences(1)"
   ]
  }
 ],
 "metadata": {
  "kernelspec": {
   "display_name": "Python 3",
   "language": "python",
   "name": "python3"
  },
  "language_info": {
   "codemirror_mode": {
    "name": "ipython",
    "version": 3
   },
   "file_extension": ".py",
   "mimetype": "text/x-python",
   "name": "python",
   "nbconvert_exporter": "python",
   "pygments_lexer": "ipython3",
   "version": "3.12.3"
  }
 },
 "nbformat": 4,
 "nbformat_minor": 2
}
