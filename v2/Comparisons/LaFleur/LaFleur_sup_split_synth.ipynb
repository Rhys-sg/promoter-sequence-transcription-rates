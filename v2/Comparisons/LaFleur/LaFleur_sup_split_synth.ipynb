{
 "cells": [
  {
   "cell_type": "code",
   "execution_count": 1,
   "metadata": {},
   "outputs": [],
   "source": [
    "import pandas as pd\n",
    "import numpy as np\n",
    "import matplotlib.pyplot as plt"
   ]
  },
  {
   "cell_type": "code",
   "execution_count": 2,
   "metadata": {},
   "outputs": [],
   "source": [
    "file_path = '../../Data/LaFleur/41467_2022_32829_MOESM5_ESM.xlsx'"
   ]
  },
  {
   "cell_type": "code",
   "execution_count": null,
   "metadata": {},
   "outputs": [],
   "source": [
    "# Makes each sheet a seperate csv file (for every sheet in the excel file)\n",
    "\n",
    "sheets = pd.read_excel(file_path, sheet_name=None)\n",
    "\n",
    "sheet_names = list(sheets.keys())\n",
    "\n",
    "for i in range(len(sheets)):\n",
    "    name = f'supp_{i+1}_' + sheet_names[i].replace(' ', '_').split('_(')[0]\n",
    "    sheets[sheet_names[i]].to_csv(f'../../Data/LaFleur_supp/{name}.csv', index=False)"
   ]
  },
  {
   "cell_type": "code",
   "execution_count": 3,
   "metadata": {},
   "outputs": [],
   "source": [
    "# Combines promoter data into one csv file\n",
    "\n",
    "# Only get files with promoter sequences\n",
    "all_sheet_names = pd.ExcelFile(file_path).sheet_names\n",
    "slice = all_sheet_names[3:10] + all_sheet_names[13:15]\n",
    "sheets = pd.read_excel(file_path, sheet_name=slice)\n",
    "\n",
    "combined = pd.DataFrame()\n",
    "columns_to_keep = ['Upstream DNA', 'Promoter Sequence', 'Downstream DNA', 'Observed log(TX/Txref)']\n",
    "\n",
    "for name, df in sheets.items():\n",
    "    new_data = {'File Name' : name + '.csv'}\n",
    "\n",
    "    for col in columns_to_keep:\n",
    "        if col in df.columns:\n",
    "            new_data[col] = df[col]\n",
    "        else:\n",
    "            new_data[col] = ''\n",
    "    \n",
    "    new_df = pd.DataFrame(new_data)\n",
    "    combined = pd.concat([combined, new_df])\n",
    "\n",
    "combined.to_csv('../../Data/LaFleur_supp/combined.csv', index=False)\n"
   ]
  }
 ],
 "metadata": {
  "kernelspec": {
   "display_name": "Python 3",
   "language": "python",
   "name": "python3"
  },
  "language_info": {
   "codemirror_mode": {
    "name": "ipython",
    "version": 3
   },
   "file_extension": ".py",
   "mimetype": "text/x-python",
   "name": "python",
   "nbconvert_exporter": "python",
   "pygments_lexer": "ipython3",
   "version": "3.9.6"
  }
 },
 "nbformat": 4,
 "nbformat_minor": 2
}
