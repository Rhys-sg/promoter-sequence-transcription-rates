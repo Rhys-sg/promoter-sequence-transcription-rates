{
 "cells": [
  {
   "cell_type": "markdown",
   "metadata": {},
   "source": [
    "## Lagator's Pl and Pr have the same values, but LaFleurs do not"
   ]
  },
  {
   "cell_type": "code",
   "execution_count": 1,
   "metadata": {},
   "outputs": [],
   "source": [
    "import pandas as pd\n",
    "import numpy as np\n",
    "import matplotlib.pyplot as plt\n",
    "import seaborn as sns\n",
    "from sklearn.preprocessing import PolynomialFeatures\n",
    "from sklearn.linear_model import LinearRegression"
   ]
  },
  {
   "cell_type": "code",
   "execution_count": 2,
   "metadata": {},
   "outputs": [],
   "source": [
    "Lagator_Pl_TX = pd.read_csv('../../Data/LaFleur_supp/supp_9_Lagator_Pl.csv')[['Promoter', 'Observed log(TX/Txref)']]\n",
    "Lagator_Pr_TX = pd.read_csv('../../Data/LaFleur_supp/supp_10_Lagator_Pr.csv')[['Promoter', 'Observed log(TX/Txref)']]"
   ]
  },
  {
   "cell_type": "code",
   "execution_count": 3,
   "metadata": {},
   "outputs": [],
   "source": [
    "Lagator_Pl_bin = pd.read_csv('../../Data/Lagator/Pl_constitutive.csv')[['sequence', 'Mean', 'Median', 'Mode']]\n",
    "Lagator_Pr_bin = pd.read_csv('../../Data/Lagator/Pr_constitutive.csv')[['sequence', 'Mean', 'Median', 'Mode']]\n",
    "\n",
    "Lagator_Pl_bin = Lagator_Pl_bin.rename(columns={'sequence': 'Promoter'})\n",
    "Lagator_Pr_bin = Lagator_Pl_bin.rename(columns={'sequence': 'Promoter'})\n",
    "Lagator_Pl_bin = Lagator_Pl_bin.rename(columns={'Median': 'Median Bin'})\n",
    "Lagator_Pr_bin = Lagator_Pl_bin.rename(columns={'Median': 'Median Bin'})\n",
    "Lagator_Pl_bin = Lagator_Pl_bin.rename(columns={'Mean': 'Mean Bin'})\n",
    "Lagator_Pr_bin = Lagator_Pl_bin.rename(columns={'Mean': 'Mean Bin'})\n",
    "Lagator_Pl_bin = Lagator_Pl_bin.rename(columns={'Mode': 'Mode Bin'})\n",
    "Lagator_Pr_bin = Lagator_Pl_bin.rename(columns={'Mode': 'Mode Bin'})"
   ]
  },
  {
   "cell_type": "code",
   "execution_count": 4,
   "metadata": {},
   "outputs": [
    {
     "name": "stdout",
     "output_type": "stream",
     "text": [
      "Mean of Mean Differences: 0.0\n",
      "Median of Mean Differences: 0.0\n",
      "Mode of Mean Differences: 0.0\n",
      "\n",
      "Mean of Median Differences: 0.0\n",
      "Median of Median Differences: 0.0\n",
      "Mode of Median Differences: 0.0\n",
      "\n",
      "Mean of Mode Differences: 0.0\n",
      "Median of Mode Differences: 0.0\n",
      "Mode of Mode Differences: 0\n"
     ]
    }
   ],
   "source": [
    "# Pl and Pr comparison\n",
    "\n",
    "merge_test = Lagator_Pl_bin.merge(Lagator_Pr_bin, on='Promoter', how='left')\n",
    "\n",
    "# Calculate differences\n",
    "merge_test['Mean Difference'] = merge_test['Mean Bin_x'] - merge_test['Mean Bin_y']\n",
    "merge_test['Median Difference'] = merge_test['Median Bin_x'] - merge_test['Median Bin_y']\n",
    "merge_test['Mode Difference'] = merge_test['Mode Bin_x'] - merge_test['Mode Bin_y']\n",
    "\n",
    "# Calculate summary statistics for the differences\n",
    "mean_diff_mean = merge_test['Mean Difference'].mean()\n",
    "mean_diff_median = merge_test['Mean Difference'].median()\n",
    "mean_diff_mode = merge_test['Mean Difference'].mode().values[0]\n",
    "\n",
    "median_diff_mean = merge_test['Median Difference'].mean()\n",
    "median_diff_median = merge_test['Median Difference'].median()\n",
    "median_diff_mode = merge_test['Median Difference'].mode().values[0]\n",
    "\n",
    "mode_diff_mean = merge_test['Mode Difference'].mean()\n",
    "mode_diff_median = merge_test['Mode Difference'].median()\n",
    "mode_diff_mode = merge_test['Mode Difference'].mode().values[0]\n",
    "\n",
    "# Print results\n",
    "print(\"Mean of Mean Differences:\", mean_diff_mean)\n",
    "print(\"Median of Mean Differences:\", mean_diff_median)\n",
    "print(\"Mode of Mean Differences:\", mean_diff_mode)\n",
    "\n",
    "print(\"\\nMean of Median Differences:\", median_diff_mean)\n",
    "print(\"Median of Median Differences:\", median_diff_median)\n",
    "print(\"Mode of Median Differences:\", median_diff_mode)\n",
    "\n",
    "print(\"\\nMean of Mode Differences:\", mode_diff_mean)\n",
    "print(\"Median of Mode Differences:\", mode_diff_median)\n",
    "print(\"Mode of Mode Differences:\", mode_diff_mode)"
   ]
  },
  {
   "cell_type": "code",
   "execution_count": 5,
   "metadata": {},
   "outputs": [
    {
     "data": {
      "text/html": [
       "<div>\n",
       "<style scoped>\n",
       "    .dataframe tbody tr th:only-of-type {\n",
       "        vertical-align: middle;\n",
       "    }\n",
       "\n",
       "    .dataframe tbody tr th {\n",
       "        vertical-align: top;\n",
       "    }\n",
       "\n",
       "    .dataframe thead th {\n",
       "        text-align: right;\n",
       "    }\n",
       "</style>\n",
       "<table border=\"1\" class=\"dataframe\">\n",
       "  <thead>\n",
       "    <tr style=\"text-align: right;\">\n",
       "      <th></th>\n",
       "      <th>Promoter</th>\n",
       "      <th>Observed log(TX/Txref)</th>\n",
       "      <th>Mean Bin</th>\n",
       "      <th>Median Bin</th>\n",
       "      <th>Mode Bin</th>\n",
       "    </tr>\n",
       "  </thead>\n",
       "  <tbody>\n",
       "    <tr>\n",
       "      <th>2</th>\n",
       "      <td>gcgcccgctgatcctcctcgaggattaatatataacactgtgcgtg...</td>\n",
       "      <td>-6.080312</td>\n",
       "      <td>NaN</td>\n",
       "      <td>NaN</td>\n",
       "      <td>NaN</td>\n",
       "    </tr>\n",
       "    <tr>\n",
       "      <th>3</th>\n",
       "      <td>agcgcccgctgatcctcctcgaggataaagatcgaccaccgtgcgt...</td>\n",
       "      <td>-5.798336</td>\n",
       "      <td>NaN</td>\n",
       "      <td>NaN</td>\n",
       "      <td>NaN</td>\n",
       "    </tr>\n",
       "    <tr>\n",
       "      <th>4</th>\n",
       "      <td>gcgcccgctgatcctcctcgaggtaaaatatctgacatcgtgcgtg...</td>\n",
       "      <td>-5.121143</td>\n",
       "      <td>NaN</td>\n",
       "      <td>NaN</td>\n",
       "      <td>NaN</td>\n",
       "    </tr>\n",
       "    <tr>\n",
       "      <th>5</th>\n",
       "      <td>gcgcccgctgatcctcctcgaggataaatatctaacaccgtgcgag...</td>\n",
       "      <td>-5.758692</td>\n",
       "      <td>NaN</td>\n",
       "      <td>NaN</td>\n",
       "      <td>NaN</td>\n",
       "    </tr>\n",
       "    <tr>\n",
       "      <th>6</th>\n",
       "      <td>gcgcccgctgatcctcctcgaggataaatatctaactccgtgcggg...</td>\n",
       "      <td>-5.097580</td>\n",
       "      <td>NaN</td>\n",
       "      <td>NaN</td>\n",
       "      <td>NaN</td>\n",
       "    </tr>\n",
       "  </tbody>\n",
       "</table>\n",
       "</div>"
      ],
      "text/plain": [
       "                                            Promoter  Observed log(TX/Txref)  \\\n",
       "2  gcgcccgctgatcctcctcgaggattaatatataacactgtgcgtg...               -6.080312   \n",
       "3  agcgcccgctgatcctcctcgaggataaagatcgaccaccgtgcgt...               -5.798336   \n",
       "4  gcgcccgctgatcctcctcgaggtaaaatatctgacatcgtgcgtg...               -5.121143   \n",
       "5  gcgcccgctgatcctcctcgaggataaatatctaacaccgtgcgag...               -5.758692   \n",
       "6  gcgcccgctgatcctcctcgaggataaatatctaactccgtgcggg...               -5.097580   \n",
       "\n",
       "   Mean Bin  Median Bin  Mode Bin  \n",
       "2       NaN         NaN       NaN  \n",
       "3       NaN         NaN       NaN  \n",
       "4       NaN         NaN       NaN  \n",
       "5       NaN         NaN       NaN  \n",
       "6       NaN         NaN       NaN  "
      ]
     },
     "execution_count": 5,
     "metadata": {},
     "output_type": "execute_result"
    }
   ],
   "source": [
    "# There are 12195 missmatched promoters between LaFleur's and Lagator's Pr datasets.\n",
    "\n",
    "merged_Pr = Lagator_Pr_TX.merge(Lagator_Pr_bin, on='Promoter', how='left')\n",
    "\n",
    "not_merged_Pr = merged_Pr[merged_Pr.isna().any(axis=1)]\n",
    "\n",
    "# merged_Pr.head()\n",
    "not_merged_Pr.head()\n",
    "\n",
    "# print(len(merged_Pr['Observed log(TX/Txref)'].isna()))\n",
    "# print(len(merged_Pr['Median Bin'].isna()))\n"
   ]
  }
 ],
 "metadata": {
  "kernelspec": {
   "display_name": "Synth_CURE_env",
   "language": "python",
   "name": "python3"
  },
  "language_info": {
   "codemirror_mode": {
    "name": "ipython",
    "version": 3
   },
   "file_extension": ".py",
   "mimetype": "text/x-python",
   "name": "python",
   "nbconvert_exporter": "python",
   "pygments_lexer": "ipython3",
   "version": "3.9.6"
  }
 },
 "nbformat": 4,
 "nbformat_minor": 2
}
