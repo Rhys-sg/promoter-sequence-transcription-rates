{
 "cells": [
  {
   "cell_type": "markdown",
   "metadata": {},
   "source": [
    "### Description\n",
    "\n",
    "This implements a CVAE to infill the promoter based on the latent variation and the expression condition. It does not includes CNN Auxiliary Loss.\n",
    "\n",
    "Other changes format to be similar to CTGAN:\n",
    "* Uses dataloader\n",
    "* Masks sequence before onehot encoding"
   ]
  },
  {
   "cell_type": "code",
   "execution_count": 3,
   "metadata": {},
   "outputs": [],
   "source": [
    "from CVAE_1_1 import *"
   ]
  },
  {
   "cell_type": "code",
   "execution_count": 4,
   "metadata": {},
   "outputs": [
    {
     "name": "stdout",
     "output_type": "stream",
     "text": [
      "Epoch 1/10, Loss: 0.1298\n",
      "Epoch 2/10, Loss: 0.1196\n",
      "Epoch 3/10, Loss: 0.1178\n",
      "Epoch 4/10, Loss: 0.1175\n",
      "Epoch 5/10, Loss: 0.1173\n",
      "Epoch 6/10, Loss: 0.1167\n",
      "Epoch 7/10, Loss: 0.1151\n",
      "Epoch 8/10, Loss: 0.1130\n",
      "Epoch 9/10, Loss: 0.1116\n",
      "Epoch 10/10, Loss: 0.1109\n",
      "Average Test Loss: 0.1106\n"
     ]
    }
   ],
   "source": [
    "# Hyperparameters\n",
    "batch_size = 32\n",
    "epochs = 10\n",
    "\n",
    "# Paths to Data\n",
    "path_to_train_data = '../Data/Train Test/train_data.csv'\n",
    "path_to_test_data = '../Data/Train Test/train_data.csv'\n",
    "\n",
    "# Load Data and Prepare Dataloaders\n",
    "train_df = load_data(path_to_train_data)\n",
    "test_df = load_data(path_to_test_data)\n",
    "\n",
    "train_loader = prepare_dataloader(train_df, batch_size)\n",
    "test_loader = prepare_dataloader(test_df, batch_size)\n",
    "\n",
    "\n",
    "latent_dim = 16\n",
    "model = CVAE(latent_dim)\n",
    "optimizer = torch.optim.Adam(model.parameters(), lr=1e-3)\n",
    "\n",
    "train_model(model, optimizer, train_loader, epochs)\n",
    "\n",
    "test_loss = evaluate_model(model, test_loader)\n",
    "print(f'Average Test Loss: {test_loss:.4f}')"
   ]
  }
 ],
 "metadata": {
  "kernelspec": {
   "display_name": "Python 3",
   "language": "python",
   "name": "python3"
  },
  "language_info": {
   "codemirror_mode": {
    "name": "ipython",
    "version": 3
   },
   "file_extension": ".py",
   "mimetype": "text/x-python",
   "name": "python",
   "nbconvert_exporter": "python",
   "pygments_lexer": "ipython3",
   "version": "3.12.3"
  }
 },
 "nbformat": 4,
 "nbformat_minor": 2
}
