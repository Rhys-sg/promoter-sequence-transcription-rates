{
 "cells": [
  {
   "cell_type": "code",
   "execution_count": 1,
   "metadata": {},
   "outputs": [],
   "source": [
    "from deap_ga import GeneticAlgorithm"
   ]
  },
  {
   "cell_type": "code",
   "execution_count": 2,
   "metadata": {},
   "outputs": [
    {
     "name": "stdout",
     "output_type": "stream",
     "text": [
      "WARNING:tensorflow:From c:\\Users\\rsore\\Documents\\GitHub\\promoter-sequence-transcription-rates\\v2\\Testing GA\\GA_deap\\cnn.py:54: _EagerTensorBase.cpu (from tensorflow.python.framework.ops) is deprecated and will be removed in a future version.\n",
      "Instructions for updating:\n",
      "Use tf.identity with explicit device placement instead.\n"
     ]
    },
    {
     "name": "stderr",
     "output_type": "stream",
     "text": [
      "c:\\Users\\rsore\\anaconda3\\envs\\TX_prediction\\Lib\\site-packages\\keras\\src\\saving\\saving_lib.py:719: UserWarning: Skipping variable loading for optimizer 'adam', because it has 34 variables whereas the saved optimizer has 2 variables. \n",
      "  saveable.load_own_variables(weights_store.get(inner_path))\n"
     ]
    },
    {
     "name": "stdout",
     "output_type": "stream",
     "text": [
      "Best Sequence: AATACTAGAGGTCTTCCGACTTAAAGGTTTATATAATATGGTTATACTCGGTGTGGGCGGGAAGACAACTAGGGG\n",
      "Best Fitness: (0.7110460996627808,)\n",
      "Prediction: [0.7110461]\n"
     ]
    }
   ],
   "source": [
    "cnn_model_path = '../../Models/CNN_6_1_2.keras'\n",
    "masked_sequence = 'AATACTAGAGGTCTTCCGACNNNNNNNNNNNNNNNNNNNNNNNNNNNNNNGTGTGGGCGGGAAGACAACTAGGGG'\n",
    "precision = None\n",
    "\n",
    "ga = GeneticAlgorithm(\n",
    "    cnn_model_path=cnn_model_path,\n",
    "    use_cache=True,\n",
    "    masked_sequence=masked_sequence,\n",
    "    target_expression=1,\n",
    "    population_size=100,\n",
    "    generations=40,\n",
    "    crossover_prob=0.5,\n",
    "    mutation_prob=0.2\n",
    ")\n",
    "\n",
    "sequence, fitness, prediction = ga.run()\n",
    "print(\"Best Sequence:\", sequence)\n",
    "print(\"Best Fitness:\", fitness)\n",
    "print(\"Prediction:\", prediction)"
   ]
  },
  {
   "cell_type": "code",
   "execution_count": 9,
   "metadata": {},
   "outputs": [
    {
     "name": "stdout",
     "output_type": "stream",
     "text": [
      "Best Sequence: AATACTAGAGGTCTTCCGACCCATTCGTTATTGGCACCCCACGCTTAAACGTGTGGGCGGGAAGACAACTAGGGG\n",
      "Best Fitness: (0.8877952694892883,)\n",
      "Prediction: [0.11220475]\n"
     ]
    }
   ],
   "source": [
    "ga = GeneticAlgorithm(\n",
    "    cnn_model_path=cnn_model_path,\n",
    "    use_cache=True,\n",
    "    masked_sequence=masked_sequence,\n",
    "    target_expression=0,\n",
    "    population_size=100,\n",
    "    generations=40,\n",
    "    crossover_prob=0.5,\n",
    "    mutation_prob=0.2\n",
    ")\n",
    "\n",
    "sequence, fitness, prediction = ga.run()\n",
    "print(\"Best Sequence:\", sequence)\n",
    "print(\"Best Fitness:\", fitness)\n",
    "print(\"Prediction:\", prediction)"
   ]
  }
 ],
 "metadata": {
  "kernelspec": {
   "display_name": "Python 3",
   "language": "python",
   "name": "python3"
  },
  "language_info": {
   "codemirror_mode": {
    "name": "ipython",
    "version": 3
   },
   "file_extension": ".py",
   "mimetype": "text/x-python",
   "name": "python",
   "nbconvert_exporter": "python",
   "pygments_lexer": "ipython3",
   "version": "3.12.3"
  }
 },
 "nbformat": 4,
 "nbformat_minor": 2
}
