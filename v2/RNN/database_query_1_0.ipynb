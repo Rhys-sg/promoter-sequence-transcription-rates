{
 "cells": [
  {
   "cell_type": "code",
   "execution_count": 1,
   "metadata": {},
   "outputs": [],
   "source": [
    "import pandas as pd\n",
    "from sklearn.preprocessing import MinMaxScaler"
   ]
  },
  {
   "cell_type": "code",
   "execution_count": null,
   "metadata": {},
   "outputs": [],
   "source": [
    "def apply_padding(sequence, max_length=150):\n",
    "    return '0' * (max_length - len(sequence)) + sequence"
   ]
  },
  {
   "cell_type": "code",
   "execution_count": null,
   "metadata": {},
   "outputs": [],
   "source": [
    "max_length=150"
   ]
  },
  {
   "cell_type": "code",
   "execution_count": 6,
   "metadata": {},
   "outputs": [
    {
     "data": {
      "text/html": [
       "<div>\n",
       "<style scoped>\n",
       "    .dataframe tbody tr th:only-of-type {\n",
       "        vertical-align: middle;\n",
       "    }\n",
       "\n",
       "    .dataframe tbody tr th {\n",
       "        vertical-align: top;\n",
       "    }\n",
       "\n",
       "    .dataframe thead th {\n",
       "        text-align: right;\n",
       "    }\n",
       "</style>\n",
       "<table border=\"1\" class=\"dataframe\">\n",
       "  <thead>\n",
       "    <tr style=\"text-align: right;\">\n",
       "      <th></th>\n",
       "      <th>File Name</th>\n",
       "      <th>Observed log(TX/Txref)</th>\n",
       "      <th>Promoter Sequence</th>\n",
       "      <th>Normalized Observed log(TX/Txref)</th>\n",
       "      <th>Length</th>\n",
       "    </tr>\n",
       "  </thead>\n",
       "  <tbody>\n",
       "    <tr>\n",
       "      <th>0</th>\n",
       "      <td>La Fleur et al (Fig 3a).csv</td>\n",
       "      <td>-3.386326</td>\n",
       "      <td>TTTTCTATCTACGTACTTGACACTATTTCCTATTTCTCTTATAATC...</td>\n",
       "      <td>0.751317</td>\n",
       "      <td>27</td>\n",
       "    </tr>\n",
       "    <tr>\n",
       "      <th>1</th>\n",
       "      <td>La Fleur et al (Fig 3a).csv</td>\n",
       "      <td>-3.392439</td>\n",
       "      <td>TTTTCTATCTACGTACTTGACACTATTTCCTATTTCTCTTATAATG...</td>\n",
       "      <td>0.750868</td>\n",
       "      <td>27</td>\n",
       "    </tr>\n",
       "    <tr>\n",
       "      <th>2</th>\n",
       "      <td>La Fleur et al (Fig 3a).csv</td>\n",
       "      <td>-3.698903</td>\n",
       "      <td>TTTTCTATCTACGTACTTGACACTATTTCCTATTTCTCTTATAATC...</td>\n",
       "      <td>0.728362</td>\n",
       "      <td>27</td>\n",
       "    </tr>\n",
       "    <tr>\n",
       "      <th>3</th>\n",
       "      <td>La Fleur et al (Fig 3a).csv</td>\n",
       "      <td>-3.979249</td>\n",
       "      <td>TTTTCTATCTACGTACTTGACACTATTTCCTATTTCTCTTATAATA...</td>\n",
       "      <td>0.707775</td>\n",
       "      <td>27</td>\n",
       "    </tr>\n",
       "    <tr>\n",
       "      <th>4</th>\n",
       "      <td>La Fleur et al (Fig 3a).csv</td>\n",
       "      <td>-2.577630</td>\n",
       "      <td>TTTTCTATCTACGTACTTGACACTATTTCCTATTTCTCTTATAATA...</td>\n",
       "      <td>0.810706</td>\n",
       "      <td>27</td>\n",
       "    </tr>\n",
       "  </tbody>\n",
       "</table>\n",
       "</div>"
      ],
      "text/plain": [
       "                     File Name  Observed log(TX/Txref)  \\\n",
       "0  La Fleur et al (Fig 3a).csv               -3.386326   \n",
       "1  La Fleur et al (Fig 3a).csv               -3.392439   \n",
       "2  La Fleur et al (Fig 3a).csv               -3.698903   \n",
       "3  La Fleur et al (Fig 3a).csv               -3.979249   \n",
       "4  La Fleur et al (Fig 3a).csv               -2.577630   \n",
       "\n",
       "                                   Promoter Sequence  \\\n",
       "0  TTTTCTATCTACGTACTTGACACTATTTCCTATTTCTCTTATAATC...   \n",
       "1  TTTTCTATCTACGTACTTGACACTATTTCCTATTTCTCTTATAATG...   \n",
       "2  TTTTCTATCTACGTACTTGACACTATTTCCTATTTCTCTTATAATC...   \n",
       "3  TTTTCTATCTACGTACTTGACACTATTTCCTATTTCTCTTATAATA...   \n",
       "4  TTTTCTATCTACGTACTTGACACTATTTCCTATTTCTCTTATAATA...   \n",
       "\n",
       "   Normalized Observed log(TX/Txref)  Length  \n",
       "0                           0.751317      27  \n",
       "1                           0.750868      27  \n",
       "2                           0.728362      27  \n",
       "3                           0.707775      27  \n",
       "4                           0.810706      27  "
      ]
     },
     "execution_count": 6,
     "metadata": {},
     "output_type": "execute_result"
    }
   ],
   "source": [
    "file_path = '../Data/combined/LaFleur_supp.csv'\n",
    "\n",
    "df = pd.read_csv(file_path)[['File Name', 'Observed log(TX/Txref)', 'Promoter Sequence']]\n",
    "df['Promoter Sequence'] = df['Promoter Sequence'].apply(lambda x: apply_padding(x, max_len))\n",
    "df['Normalized Observed log(TX/Txref)'] = MinMaxScaler().fit_transform(df[['Observed log(TX/Txref)']])\n",
    "df['Length'] = df['File Name'].apply(lambda x: len(x))\n",
    "\n",
    "df.head()"
   ]
  },
  {
   "cell_type": "code",
   "execution_count": null,
   "metadata": {},
   "outputs": [],
   "source": []
  }
 ],
 "metadata": {
  "kernelspec": {
   "display_name": "Python 3",
   "language": "python",
   "name": "python3"
  },
  "language_info": {
   "codemirror_mode": {
    "name": "ipython",
    "version": 3
   },
   "file_extension": ".py",
   "mimetype": "text/x-python",
   "name": "python",
   "nbconvert_exporter": "python",
   "pygments_lexer": "ipython3",
   "version": "3.12.3"
  }
 },
 "nbformat": 4,
 "nbformat_minor": 2
}
