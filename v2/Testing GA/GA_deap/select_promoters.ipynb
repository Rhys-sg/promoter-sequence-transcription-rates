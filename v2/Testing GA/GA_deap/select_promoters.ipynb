{
 "cells": [
  {
   "cell_type": "code",
   "execution_count": 1,
   "metadata": {},
   "outputs": [],
   "source": [
    "import numpy as np\n",
    "import pandas as pd\n",
    "from GA.TestGeneticAlgorithm import GeneticAlgorithm"
   ]
  },
  {
   "cell_type": "code",
   "execution_count": 2,
   "metadata": {},
   "outputs": [],
   "source": [
    "cnn_model_path = '../../Models/CNN_6_1_2.keras'\n",
    "masked_sequence = 'AATACTAGAGGTCTTCCGACNNNNNNNNNNNNNNNNNNNNNNNNNNNNNNGTGTGGGCGGGAAGACAACTAGGGG'"
   ]
  },
  {
   "cell_type": "code",
   "execution_count": 3,
   "metadata": {},
   "outputs": [],
   "source": [
    "def get_sequences(target_expression):\n",
    "    sequences = []\n",
    "    predictions = []\n",
    "    ga = GeneticAlgorithm(\n",
    "        cnn_model_path=cnn_model_path,\n",
    "        masked_sequence=masked_sequence,\n",
    "        target_expression=target_expression,\n",
    "        population_size=300,\n",
    "        generations=100,\n",
    "        seed=0,\n",
    "    )\n",
    "    ga.run(3)\n",
    "    sequences.append(ga.best_sequences)\n",
    "    predictions.append(ga.best_predictions)\n",
    "    \n",
    "    return sorted(\n",
    "        zip(sequences[0], predictions[0]),\n",
    "        key=lambda x: abs(x[1] - target_expression)\n",
    "    )\n",
    "\n",
    "def complement(seq):\n",
    "    complement = {'A': 'T', 'T': 'A', 'C': 'G', 'G': 'C'}\n",
    "    return ''.join(complement[base] for base in seq)"
   ]
  },
  {
   "cell_type": "code",
   "execution_count": 10,
   "metadata": {},
   "outputs": [
    {
     "name": "stdout",
     "output_type": "stream",
     "text": [
      "Target expression: 0.6\n"
     ]
    },
    {
     "name": "stderr",
     "output_type": "stream",
     "text": [
      "c:\\Users\\rsore\\anaconda3\\envs\\TX_prediction\\Lib\\site-packages\\keras\\src\\saving\\saving_lib.py:719: UserWarning: Skipping variable loading for optimizer 'adam', because it has 34 variables whereas the saved optimizer has 2 variables. \n",
      "  saveable.load_own_variables(weights_store.get(inner_path))\n"
     ]
    },
    {
     "name": "stdout",
     "output_type": "stream",
     "text": [
      "Target expression: 0.65\n",
      "Target expression: 0.7\n",
      "Target expression: 0.75\n",
      "Target expression: 0.8\n"
     ]
    }
   ],
   "source": [
    "data = {'Name': [], 'Sequence': [], 'Prediction': []}\n",
    "\n",
    "for target_expression in np.linspace(0.6, 0.8, 5):\n",
    "    print(f'Target expression: {target_expression}')\n",
    "    sorted_results = get_sequences(target_expression)\n",
    "\n",
    "    sequence = sorted_results[0][0]\n",
    "\n",
    "    data['Name'].extend([f'Cal_p{target_expression*1000:.0f}_top'])\n",
    "    data['Name'].extend([f'Cal_p{target_expression*1000:.0f}_bottom'])\n",
    "\n",
    "    data['Sequence'].extend([sequence[16:-19]])\n",
    "    data['Sequence'].extend([(complement(sequence[20:-19])+'CGCC')[::-1]])\n",
    "\n",
    "    data['Prediction'].extend([round(sorted_results[0][1], 3)])\n",
    "    data['Prediction'].extend([round(sorted_results[0][1], 3)])\n",
    "\n",
    "df = pd.DataFrame(data)"
   ]
  },
  {
   "cell_type": "code",
   "execution_count": 11,
   "metadata": {},
   "outputs": [
    {
     "data": {
      "text/html": [
       "<div>\n",
       "<style scoped>\n",
       "    .dataframe tbody tr th:only-of-type {\n",
       "        vertical-align: middle;\n",
       "    }\n",
       "\n",
       "    .dataframe tbody tr th {\n",
       "        vertical-align: top;\n",
       "    }\n",
       "\n",
       "    .dataframe thead th {\n",
       "        text-align: right;\n",
       "    }\n",
       "</style>\n",
       "<table border=\"1\" class=\"dataframe\">\n",
       "  <thead>\n",
       "    <tr style=\"text-align: right;\">\n",
       "      <th></th>\n",
       "      <th>Name</th>\n",
       "      <th>Sequence</th>\n",
       "      <th>Prediction</th>\n",
       "    </tr>\n",
       "  </thead>\n",
       "  <tbody>\n",
       "    <tr>\n",
       "      <th>0</th>\n",
       "      <td>Cal_p600_top</td>\n",
       "      <td>CGACTTGAAATAAGGAATATATTATTTTAACATGGTGTGG</td>\n",
       "      <td>0.60</td>\n",
       "    </tr>\n",
       "    <tr>\n",
       "      <th>1</th>\n",
       "      <td>Cal_p600_bottom</td>\n",
       "      <td>CCGCCCACACCATGTTAAAATAATATATTCCTTATTTCAA</td>\n",
       "      <td>0.60</td>\n",
       "    </tr>\n",
       "    <tr>\n",
       "      <th>2</th>\n",
       "      <td>Cal_p650_top</td>\n",
       "      <td>CGACTTTGAAAATATATTATTGTATATATATTATGTGTGG</td>\n",
       "      <td>0.65</td>\n",
       "    </tr>\n",
       "    <tr>\n",
       "      <th>3</th>\n",
       "      <td>Cal_p650_bottom</td>\n",
       "      <td>CCGCCCACACATAATATATATACAATAATATATTTTCAAA</td>\n",
       "      <td>0.65</td>\n",
       "    </tr>\n",
       "    <tr>\n",
       "      <th>4</th>\n",
       "      <td>Cal_p700_top</td>\n",
       "      <td>CGACTTGACTTATAAAATATATTGCATATAAACTGTGTGG</td>\n",
       "      <td>0.70</td>\n",
       "    </tr>\n",
       "    <tr>\n",
       "      <th>5</th>\n",
       "      <td>Cal_p700_bottom</td>\n",
       "      <td>CCGCCCACACAGTTTATATGCAATATATTTTATAAGTCAA</td>\n",
       "      <td>0.70</td>\n",
       "    </tr>\n",
       "    <tr>\n",
       "      <th>6</th>\n",
       "      <td>Cal_p750_top</td>\n",
       "      <td>CGACTTGACTTCTATATTATATTAGATAAACTATGTGTGG</td>\n",
       "      <td>0.75</td>\n",
       "    </tr>\n",
       "    <tr>\n",
       "      <th>7</th>\n",
       "      <td>Cal_p750_bottom</td>\n",
       "      <td>CCGCCCACACATAGTTTATCTAATATAATATAGAAGTCAA</td>\n",
       "      <td>0.75</td>\n",
       "    </tr>\n",
       "    <tr>\n",
       "      <th>8</th>\n",
       "      <td>Cal_p800_top</td>\n",
       "      <td>CGACTTGACGGGTATATTATACTGTATACTATCAGTGTGG</td>\n",
       "      <td>0.80</td>\n",
       "    </tr>\n",
       "    <tr>\n",
       "      <th>9</th>\n",
       "      <td>Cal_p800_bottom</td>\n",
       "      <td>CCGCCCACACTGATAGTATACAGTATAATATACCCGTCAA</td>\n",
       "      <td>0.80</td>\n",
       "    </tr>\n",
       "  </tbody>\n",
       "</table>\n",
       "</div>"
      ],
      "text/plain": [
       "              Name                                  Sequence  Prediction\n",
       "0     Cal_p600_top  CGACTTGAAATAAGGAATATATTATTTTAACATGGTGTGG        0.60\n",
       "1  Cal_p600_bottom  CCGCCCACACCATGTTAAAATAATATATTCCTTATTTCAA        0.60\n",
       "2     Cal_p650_top  CGACTTTGAAAATATATTATTGTATATATATTATGTGTGG        0.65\n",
       "3  Cal_p650_bottom  CCGCCCACACATAATATATATACAATAATATATTTTCAAA        0.65\n",
       "4     Cal_p700_top  CGACTTGACTTATAAAATATATTGCATATAAACTGTGTGG        0.70\n",
       "5  Cal_p700_bottom  CCGCCCACACAGTTTATATGCAATATATTTTATAAGTCAA        0.70\n",
       "6     Cal_p750_top  CGACTTGACTTCTATATTATATTAGATAAACTATGTGTGG        0.75\n",
       "7  Cal_p750_bottom  CCGCCCACACATAGTTTATCTAATATAATATAGAAGTCAA        0.75\n",
       "8     Cal_p800_top  CGACTTGACGGGTATATTATACTGTATACTATCAGTGTGG        0.80\n",
       "9  Cal_p800_bottom  CCGCCCACACTGATAGTATACAGTATAATATACCCGTCAA        0.80"
      ]
     },
     "execution_count": 11,
     "metadata": {},
     "output_type": "execute_result"
    }
   ],
   "source": [
    "df.head(None)"
   ]
  },
  {
   "cell_type": "code",
   "execution_count": 12,
   "metadata": {},
   "outputs": [],
   "source": [
    "df.to_csv('../../Data/RFP/2025_04_04_order.csv', index=False)"
   ]
  }
 ],
 "metadata": {
  "kernelspec": {
   "display_name": "TX_prediction",
   "language": "python",
   "name": "python3"
  },
  "language_info": {
   "codemirror_mode": {
    "name": "ipython",
    "version": 3
   },
   "file_extension": ".py",
   "mimetype": "text/x-python",
   "name": "python",
   "nbconvert_exporter": "python",
   "pygments_lexer": "ipython3",
   "version": "3.12.3"
  }
 },
 "nbformat": 4,
 "nbformat_minor": 2
}
