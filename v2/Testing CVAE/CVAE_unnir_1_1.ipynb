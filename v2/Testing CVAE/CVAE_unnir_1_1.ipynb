{
 "cells": [
  {
   "cell_type": "markdown",
   "metadata": {},
   "source": [
    "### Description\n",
    "\n",
    "This implements a CVAE based on https://github.com/unnir/cVAE adapted for promoter sequences and expressions. This does include CNN auxiliary loss, \"re-masking\" the generated sequence before giving it to the CNN."
   ]
  },
  {
   "cell_type": "code",
   "execution_count": 1,
   "metadata": {},
   "outputs": [],
   "source": [
    "from CVAE_unnir_1_1 import *"
   ]
  },
  {
   "cell_type": "code",
   "execution_count": 2,
   "metadata": {},
   "outputs": [],
   "source": [
    "# Defining hyperparameters\n",
    "batch_size = 64\n",
    "epochs = 100\n",
    "early_stopping_patience = 10\n",
    "early_stopping_min_delta = 0.01\n",
    "latent_size = 20"
   ]
  },
  {
   "cell_type": "code",
   "execution_count": 3,
   "metadata": {},
   "outputs": [
    {
     "name": "stderr",
     "output_type": "stream",
     "text": [
      "c:\\Users\\rsore\\anaconda3\\envs\\TX_prediction\\Lib\\site-packages\\keras\\src\\saving\\saving_lib.py:719: UserWarning: Skipping variable loading for optimizer 'adam', because it has 34 variables whereas the saved optimizer has 2 variables. \n",
      "  saveable.load_own_variables(weights_store.get(inner_path))\n"
     ]
    }
   ],
   "source": [
    "# Set seed for reproducibility\n",
    "seed = 42\n",
    "random.seed(seed)\n",
    "np.random.seed(seed)\n",
    "torch.manual_seed(seed)\n",
    "if torch.cuda.is_available():\n",
    "    torch.cuda.manual_seed(seed)\n",
    "\n",
    "# Paths to Data and Pre-trained CNN\n",
    "path_to_train = '../Data/Augmented/augmented_train_data_6_1.csv'\n",
    "path_to_test = '../Data/Augmented/augmented_test_data_6_1.csv'\n",
    "path_to_cvae = '../Models/CVAE_6_1.pt'\n",
    "path_to_cnn = '../Models/CNN_6_1.keras'\n",
    "path_to_summary = '../Testing CVAE/runs/CNN_6_1_summary'\n",
    "\n",
    "# Set up device\n",
    "device = get_device()\n",
    "\n",
    "# Initialize model, optimizer\n",
    "cnn = KerasModelWrapper(path_to_cnn)\n",
    "model = CVAE(150, latent_size, 1).to(device)\n",
    "optimizer = optim.Adam(model.parameters(), lr=1e-3)\n",
    "\n",
    "# Load data and one-hot encode sequences\n",
    "onehot_masked_train, mask_lengths_train, mask_starts_train, expressions_train = load_data(path_to_train)\n",
    "onehot_masked_test, mask_lengths_test, mask_starts_test, expressions_test = load_data(path_to_test)\n",
    "\n",
    "# Preprocess sequences and expressions into tensors\n",
    "masked_tensor_train = torch.tensor(np.stack(onehot_masked_train), dtype=torch.float32)\n",
    "expressions_tensor_train = torch.tensor(expressions_train.values, dtype=torch.float32)\n",
    "masked_tensor_test = torch.tensor(np.stack(onehot_masked_test), dtype=torch.float32)\n",
    "expressions_tensor_test = torch.tensor(expressions_test.values, dtype=torch.float32)\n",
    "\n",
    "# Create DataLoader\n",
    "train_loader = torch.utils.data.DataLoader(\n",
    "    torch.utils.data.TensorDataset(masked_tensor_train, expressions_tensor_train),\n",
    "    batch_size=batch_size, shuffle=True, num_workers=4, pin_memory=True\n",
    ")\n",
    "test_loader = torch.utils.data.DataLoader(\n",
    "    torch.utils.data.TensorDataset(masked_tensor_test, expressions_tensor_test),\n",
    "    batch_size=batch_size, shuffle=False, num_workers=4, pin_memory=True\n",
    ")\n"
   ]
  },
  {
   "cell_type": "code",
   "execution_count": 4,
   "metadata": {},
   "outputs": [],
   "source": [
    "# # Train and test the model\n",
    "# train_losses, test_losses = fit_model(epochs,\n",
    "#                                         model,\n",
    "#                                         cnn,\n",
    "#                                         path_to_summary,\n",
    "#                                         train_loader,\n",
    "#                                         test_loader,\n",
    "#                                         optimizer,\n",
    "#                                         device,\n",
    "#                                         early_stopping_patience,\n",
    "#                                         early_stopping_min_delta\n",
    "# )\n",
    "\n",
    "# # Plot the training and testing losses\n",
    "# plot_losses(train_losses, test_losses)\n",
    "\n",
    "# # Save the model\n",
    "# save_model(model, path_to_cvae)"
   ]
  },
  {
   "cell_type": "code",
   "execution_count": 5,
   "metadata": {},
   "outputs": [
    {
     "data": {
      "text/plain": [
       "RecursiveScriptModule(\n",
       "  original_name=CVAE\n",
       "  (fc1): RecursiveScriptModule(original_name=Linear)\n",
       "  (fc21): RecursiveScriptModule(original_name=Linear)\n",
       "  (fc22): RecursiveScriptModule(original_name=Linear)\n",
       "  (fc3): RecursiveScriptModule(original_name=Linear)\n",
       "  (fc4): RecursiveScriptModule(original_name=Linear)\n",
       "  (elu): RecursiveScriptModule(original_name=ELU)\n",
       "  (sigmoid): RecursiveScriptModule(original_name=Sigmoid)\n",
       ")"
      ]
     },
     "execution_count": 5,
     "metadata": {},
     "output_type": "execute_result"
    }
   ],
   "source": [
    "# Load the model\n",
    "load_model(path_to_cvae)"
   ]
  },
  {
   "cell_type": "code",
   "execution_count": 9,
   "metadata": {},
   "outputs": [
    {
     "name": "stdout",
     "output_type": "stream",
     "text": [
      "Masked:   TTTTCTATCTACGTACNNNNNNCTATTTCCTATTTCTCTTATAATCCCCGCGGCTCTACCTTAGTTTGTACGTT\n",
      "Infilled: TTTTCTATCTACGTACAGCGGACTATTTCCTATTTCTCTTATAATCCCCGCGGCTCTACCTTAGTTTGTACGTT\n",
      "Predicted Expression: 0.21180134\n",
      "\n"
     ]
    }
   ],
   "source": [
    "# Test Example\n",
    "\"TTTTCTATCTACGTAC\tTTGACA\tCTATTTCCTATTTCTCT\tTATAAT\tCCCCGCGG\tCTCTACCTTAGTTTGTACGTT\"\n",
    "\n",
    "masked_sequences = ['TTTTCTATCTACGTACNNNNNNCTATTTCCTATTTCTCTTATAATCCCCGCGGCTCTACCTTAGTTTGTACGTT']\n",
    "expressions = [0.2]\n",
    "\n",
    "# Generate infills\n",
    "infilled_sequences, predicted_expressions = generate_infills(model, cnn, masked_sequences, expressions)\n",
    "for masked, infilled, expressions in zip(masked_sequences, infilled_sequences, predicted_expressions):\n",
    "    print(\"Masked:  \", masked)\n",
    "    print(\"Infilled:\", infilled)\n",
    "    print(\"Predicted Expression:\", expressions)\n",
    "    print()"
   ]
  }
 ],
 "metadata": {
  "kernelspec": {
   "display_name": "Python 3",
   "language": "python",
   "name": "python3"
  },
  "language_info": {
   "codemirror_mode": {
    "name": "ipython",
    "version": 3
   },
   "file_extension": ".py",
   "mimetype": "text/x-python",
   "name": "python",
   "nbconvert_exporter": "python",
   "pygments_lexer": "ipython3",
   "version": "3.12.3"
  }
 },
 "nbformat": 4,
 "nbformat_minor": 2
}
