{
 "cells": [
  {
   "cell_type": "markdown",
   "metadata": {},
   "source": [
    "#### Parameter Interdependance\n",
    "\n",
    "This code tests all combinations of high and low levels of parameters (full factorial design) to explicitly test for interactions, interdependance, or influence on each other. We define a ranges for each hyperparameter (each with 6 values), XXXX, then analyze results using ANOVA to identify significant interaction effects."
   ]
  },
  {
   "cell_type": "code",
   "execution_count": null,
   "metadata": {},
   "outputs": [],
   "source": [
    "import matplotlib.pyplot as plt\n",
    "import numpy as np\n",
    "import seaborn as sns\n",
    "import pandas as pd\n",
    "import time\n",
    "\n",
    "from GA_param_function_module import *\n",
    "\n",
    "cnn_model_path = '../../Models/CNN_6_1_2.keras'\n",
    "masked_sequence = 'AATACTAGAGGTCTTCCGACNNNNNNNNNNNNNNNNNNNNNNNNNNNNNNTGTGGAGCGGGAAGACAACTAGGGG'\n",
    "target_expression = 0\n",
    "precision = 0.001\n",
    "run_per_combination = 20"
   ]
  },
  {
   "cell_type": "code",
   "execution_count": null,
   "metadata": {},
   "outputs": [],
   "source": [
    "# Optimization subparameters (see 1_sub_params.ipynb)\n",
    "gene_flow_rate = 0.5\n",
    "boltzmann_temperature = 1\n",
    "\n",
    "# Parameters for full factorial design testing\n",
    "range_pop_size=np.linspace(50, 500, 6, dtype=int)\n",
    "range_generations=np.linspace(50, 500, 6, dtype=int)\n",
    "range_base_mutation_rate=np.linspace(0.1, 1, 6, dtype=float)\n",
    "range_chromosomes=np.linspace(1, 30, 6, dtype=int) # The mask is 30 nucleotides long\n",
    "range_islands=np.linspace(1, 10, 10, dtype=int)\n",
    "range_surval_rate=np.linspace(0.1, 1, 6, dtype=float)\n",
    "range_num_parents=np.linspace(1, 10, 6, dtype=int)\n",
    "range_num_competitors=np.linspace(1, 10, 6, dtype=int)\n",
    "range_selection=['tournament', 'roulette', 'rank_based', 'truncation', 'boltzmann'] # does not include all selection methods"
   ]
  }
 ],
 "metadata": {
  "kernelspec": {
   "display_name": "Python 3",
   "language": "python",
   "name": "python3"
  },
  "language_info": {
   "codemirror_mode": {
    "name": "ipython",
    "version": 3
   },
   "file_extension": ".py",
   "mimetype": "text/x-python",
   "name": "python",
   "nbconvert_exporter": "python",
   "pygments_lexer": "ipython3",
   "version": "3.12.3"
  }
 },
 "nbformat": 4,
 "nbformat_minor": 2
}
