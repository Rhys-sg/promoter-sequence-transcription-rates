{
 "cells": [
  {
   "cell_type": "code",
   "execution_count": 1,
   "metadata": {},
   "outputs": [],
   "source": [
    "import matplotlib.pyplot as plt\n",
    "import numpy as np\n",
    "import seaborn as sns\n",
    "import pandas as pd\n",
    "import time\n",
    "from tqdm import tqdm\n",
    "from itertools import combinations\n",
    "\n",
    "from GA_params_class.GeneticAlgorithm import GeneticAlgorithm\n",
    "from function_module import *"
   ]
  },
  {
   "cell_type": "code",
   "execution_count": 2,
   "metadata": {},
   "outputs": [],
   "source": [
    "cnn_model_path = '../../Models/CNN_6_1_2.keras'\n",
    "masked_sequence = 'AATACTAGAGGTCTTCCGACNNNNNNNNNNNNNNNNNNNNNNNNNNNNNNGTGTGGGCGGGAAGACAACTAGGGG'\n",
    "target_expressions = [0, 0.5, 1]\n",
    "precision = None\n",
    "verbose = 0\n",
    "lineages = 30\n",
    "test_cases = 10"
   ]
  },
  {
   "cell_type": "code",
   "execution_count": null,
   "metadata": {},
   "outputs": [],
   "source": [
    "# For each selection method, vary elitist_rate\n",
    "selection_methods = ['boltzmann', 'rank_based', 'roulette', 'roulette_linear_scaling', 'steady_state', 'sus', 'tournament', 'tournament_without_replacement', 'tournament_pop', 'truncation']\n",
    "range_elitist_rate = np.linspace(0, 1, test_cases)\n",
    "\n",
    "total_combinations = len(target_expressions) * len(selection_methods) * len(range_elitist_rate) * lineages\n",
    "progress_bar = tqdm(total=total_combinations, desc=\"Processing combinations\", position=0)\n",
    "initial_time = time.time()\n",
    "\n",
    "current_combination = 0\n",
    "results = []\n",
    "\n",
    "for target_expression in target_expressions:\n",
    "    for selection_method in selection_methods:\n",
    "        for elitist_rate in range_elitist_rate:\n",
    "            current_combination += 1\n",
    "            ga = GeneticAlgorithm(\n",
    "                cnn_model_path=cnn_model_path,\n",
    "                masked_sequence=masked_sequence,\n",
    "                target_expression=target_expression,\n",
    "                precision=precision,\n",
    "                verbose=verbose,\n",
    "                selection=selection_method, # Dependant variable\n",
    "                elitist_rate=elitist_rate, # Dependant variable\n",
    "            )\n",
    "            for _ in range(lineages):\n",
    "                current_combination += 1\n",
    "\n",
    "                # Time the run\n",
    "                start_time = time.time()\n",
    "                best_sequences, best_predictions = ga.run()\n",
    "                end_time = time.time()\n",
    "\n",
    "                # Record the results\n",
    "                for sequence, prediction in zip(best_sequences, best_predictions):\n",
    "                    results.append({\n",
    "                        'target_expression': target_expression,\n",
    "                        'selection_method' : selection_method,\n",
    "                        'elitist_rate': elitist_rate,\n",
    "                        'error': abs(prediction - target_expression),\n",
    "                        'run_time': (end_time - start_time) / lineages\n",
    "                    })\n",
    "            \n",
    "                # # Update progress bar\n",
    "                # progress_bar.update(1)\n",
    "                # elapsed_time = time.time() - initial_time\n",
    "                # progress_bar.set_postfix({\n",
    "                #     \"Elapsed\": format_time(elapsed_time),\n",
    "                #     \"ETA\": format_time(((elapsed_time / current_combination) * (total_combinations - current_combination)))\n",
    "                # })\n",
    "\n",
    "# Close progress bar\n",
    "progress_bar.close()\n",
    "\n",
    "results_df = pd.DataFrame(results)\n",
    "results_df.to_csv('Data/selection_methods/elitist_rates.csv', index=False)"
   ]
  },
  {
   "cell_type": "code",
   "execution_count": null,
   "metadata": {},
   "outputs": [],
   "source": [
    "for target_expression in target_expressions:\n",
    "    filtered_df = results_df[results_df['target_expression'] == target_expression]\n",
    "    heatmap(filtered_df, target_expression, 'selection_method', 'elitist_rate')"
   ]
  }
 ],
 "metadata": {
  "kernelspec": {
   "display_name": "Python 3",
   "language": "python",
   "name": "python3"
  },
  "language_info": {
   "codemirror_mode": {
    "name": "ipython",
    "version": 3
   },
   "file_extension": ".py",
   "mimetype": "text/x-python",
   "name": "python",
   "nbconvert_exporter": "python",
   "pygments_lexer": "ipython3",
   "version": "3.12.3"
  }
 },
 "nbformat": 4,
 "nbformat_minor": 2
}
