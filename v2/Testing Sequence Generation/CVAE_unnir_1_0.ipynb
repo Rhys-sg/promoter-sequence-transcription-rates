{
 "cells": [
  {
   "cell_type": "markdown",
   "metadata": {},
   "source": [
    "### Description\n",
    "\n",
    "This implements a CVAE based on https://github.com/unnir/cVAE adapted for promoter sequences and expressions. Does not include CNN."
   ]
  },
  {
   "cell_type": "code",
   "execution_count": 1,
   "metadata": {},
   "outputs": [],
   "source": [
    "from CVAE_unnir_1_0 import *"
   ]
  },
  {
   "cell_type": "code",
   "execution_count": 2,
   "metadata": {},
   "outputs": [
    {
     "name": "stdout",
     "output_type": "stream",
     "text": [
      "Train Epoch: 1 [38400/39013]\tLoss: 85.8691947\n",
      "====> Epoch: 1 Average loss: 115.0590\n",
      "====> Test set loss: 87.3951\n",
      "Train Epoch: 2 [38400/39013]\tLoss: 75.632904\n",
      "====> Epoch: 2 Average loss: 82.2808\n",
      "====> Test set loss: 79.1694\n",
      "Train Epoch: 3 [38400/39013]\tLoss: 80.878258\n",
      "====> Epoch: 3 Average loss: 76.4401\n",
      "====> Test set loss: 74.5460\n",
      "Train Epoch: 4 [38400/39013]\tLoss: 74.180161\n",
      "====> Epoch: 4 Average loss: 73.0534\n",
      "====> Test set loss: 72.1220\n",
      "Train Epoch: 5 [38400/39013]\tLoss: 62.594082\n",
      "====> Epoch: 5 Average loss: 71.0125\n",
      "====> Test set loss: 71.0040\n",
      "Train Epoch: 6 [38400/39013]\tLoss: 63.678757\n",
      "====> Epoch: 6 Average loss: 69.7270\n",
      "====> Test set loss: 69.6788\n",
      "Train Epoch: 7 [38400/39013]\tLoss: 66.677948\n",
      "====> Epoch: 7 Average loss: 68.6541\n",
      "====> Test set loss: 68.7134\n",
      "Train Epoch: 8 [38400/39013]\tLoss: 63.389267\n",
      "====> Epoch: 8 Average loss: 67.9542\n",
      "====> Test set loss: 68.2429\n",
      "Train Epoch: 9 [38400/39013]\tLoss: 71.731674\n",
      "====> Epoch: 9 Average loss: 67.2386\n",
      "====> Test set loss: 68.0900\n",
      "Train Epoch: 10 [38400/39013]\tLoss: 60.553635\n",
      "====> Epoch: 10 Average loss: 66.8436\n",
      "====> Test set loss: 67.2468\n"
     ]
    }
   ],
   "source": [
    "# Set up device\n",
    "device = get_device()\n",
    "\n",
    "# Load data\n",
    "train_sequences, train_expression = load_data('../Data/Train Test/train_data.csv')\n",
    "test_sequences, test_expression = load_data('../Data/Train Test/test_data.csv')\n",
    "\n",
    "# Create DataLoader\n",
    "train_loader = torch.utils.data.DataLoader(\n",
    "    torch.utils.data.TensorDataset(train_sequences, train_expression),\n",
    "    batch_size=64, shuffle=True\n",
    ")\n",
    "test_loader = torch.utils.data.DataLoader(\n",
    "    torch.utils.data.TensorDataset(test_sequences, test_expression),\n",
    "    batch_size=64, shuffle=False\n",
    ")\n",
    "\n",
    "# Initialize model, optimizer\n",
    "latent_size = 20\n",
    "model = CVAE(150, latent_size, 1).to(device)\n",
    "optimizer = optim.Adam(model.parameters(), lr=1e-3)\n",
    "\n",
    "# Train and test the model\n",
    "epochs = 10\n",
    "for epoch in range(1, epochs + 1):\n",
    "    train(epoch, model, train_loader, optimizer, device)\n",
    "    test(epoch, model, test_loader, device)"
   ]
  }
 ],
 "metadata": {
  "kernelspec": {
   "display_name": "Python 3",
   "language": "python",
   "name": "python3"
  },
  "language_info": {
   "codemirror_mode": {
    "name": "ipython",
    "version": 3
   },
   "file_extension": ".py",
   "mimetype": "text/x-python",
   "name": "python",
   "nbconvert_exporter": "python",
   "pygments_lexer": "ipython3",
   "version": "3.12.3"
  }
 },
 "nbformat": 4,
 "nbformat_minor": 2
}
