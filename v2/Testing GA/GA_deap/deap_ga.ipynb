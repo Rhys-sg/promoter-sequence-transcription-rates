{
 "cells": [
  {
   "cell_type": "code",
   "execution_count": 1,
   "metadata": {},
   "outputs": [],
   "source": [
    "from GA.GeneticAlgorithm import GeneticAlgorithm\n",
    "from GA.Operators.SelectionMethod import SelectionMethod\n",
    "from GA.Operators.MutationMethod import MutationMethod\n",
    "from GA.Operators.CrossoverMethod import CrossoverMethod"
   ]
  },
  {
   "cell_type": "code",
   "execution_count": 2,
   "metadata": {},
   "outputs": [],
   "source": [
    "kwargs = {\n",
    "    'cnn_model_path': '../../Models/CNN_6_1_2.keras',\n",
    "    'masked_sequence': 'AATACTAGAGGTCTTCCGACNNNNNNNNNNNNNNNNNNNNNNNNNNNNNNGTGTGGGCGGGAAGACAACTAGGGG',\n",
    "}"
   ]
  },
  {
   "cell_type": "code",
   "execution_count": 3,
   "metadata": {},
   "outputs": [
    {
     "name": "stdout",
     "output_type": "stream",
     "text": [
      "WARNING:tensorflow:From c:\\Users\\rsore\\Documents\\GitHub\\promoter-sequence-transcription-rates\\v2\\Testing GA\\GA_deap\\GA\\CNN.py:66: _EagerTensorBase.cpu (from tensorflow.python.framework.ops) is deprecated and will be removed in a future version.\n",
      "Instructions for updating:\n",
      "Use tf.identity with explicit device placement instead.\n"
     ]
    },
    {
     "name": "stderr",
     "output_type": "stream",
     "text": [
      "c:\\Users\\rsore\\anaconda3\\envs\\TX_prediction\\Lib\\site-packages\\keras\\src\\saving\\saving_lib.py:719: UserWarning: Skipping variable loading for optimizer 'adam', because it has 34 variables whereas the saved optimizer has 2 variables. \n",
      "  saveable.load_own_variables(weights_store.get(inner_path))\n"
     ]
    },
    {
     "name": "stdout",
     "output_type": "stream",
     "text": [
      "['AATACTAGAGGTCTTCCGACCTTAAATGACACGTCCCCCACTTGCGTCGGGTGTGGGCGGGAAGACAACTAGGGG']\n",
      "[0.8401871621608734]\n",
      "[0.15981284]\n",
      "['AATACTAGAGGTCTTCCGACCCTATTTCTTGACCGCCTTTACCTGCGCGGGTGTGGGCGGGAAGACAACTAGGGG']\n",
      "[0.8621190190315247]\n",
      "[0.13788098]\n",
      "['AATACTAGAGGTCTTCCGACCTAATGCAGTCCCCATTCCCTTTCTTGACAGTGTGGGCGGGAAGACAACTAGGGG']\n",
      "[0.8500354290008545]\n",
      "[0.14996457]\n",
      "['AATACTAGAGGTCTTCCGACCTCCCGTTATTGACCCGCATTCCTTCTGACGTGTGGGCGGGAAGACAACTAGGGG']\n",
      "[0.8334732204675674]\n",
      "[0.16652678]\n"
     ]
    }
   ],
   "source": [
    "methods = CrossoverMethod.get_all_methods()\n",
    "\n",
    "for method in methods:\n",
    "    ga = GeneticAlgorithm(\n",
    "        **kwargs,\n",
    "        target_expression=0,\n",
    "        crossover_method=method,\n",
    "    )\n",
    "\n",
    "    ga.run(lineages=1)\n",
    "    print(ga.best_sequences)\n",
    "    print(ga.best_fitnesses)\n",
    "    print(ga.best_predictions)"
   ]
  }
 ],
 "metadata": {
  "kernelspec": {
   "display_name": "Python 3",
   "language": "python",
   "name": "python3"
  },
  "language_info": {
   "codemirror_mode": {
    "name": "ipython",
    "version": 3
   },
   "file_extension": ".py",
   "mimetype": "text/x-python",
   "name": "python",
   "nbconvert_exporter": "python",
   "pygments_lexer": "ipython3",
   "version": "3.12.3"
  }
 },
 "nbformat": 4,
 "nbformat_minor": 2
}
