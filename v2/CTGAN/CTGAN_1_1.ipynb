{
 "cells": [
  {
   "cell_type": "markdown",
   "metadata": {},
   "source": [
    "### Description\n",
    "\n",
    "This implements the first GAN (not CTGAN), which takes a DNA sequence with sections masked and a desired expression, and then generates a full sequence."
   ]
  },
  {
   "cell_type": "code",
   "execution_count": 1,
   "metadata": {},
   "outputs": [],
   "source": [
    "import CTGAN_1_1 as parent"
   ]
  },
  {
   "cell_type": "code",
   "execution_count": 2,
   "metadata": {},
   "outputs": [],
   "source": [
    "version = '1_1'\n",
    "model_dir = '../Models/'"
   ]
  },
  {
   "cell_type": "code",
   "execution_count": 3,
   "metadata": {},
   "outputs": [],
   "source": [
    "# Hyperparameters\n",
    "sequence_length = 150\n",
    "latent_dim = 100\n",
    "expression_dim = 1\n",
    "batch_size = 64\n",
    "num_epochs = 100\n",
    "lr = 0.0002"
   ]
  },
  {
   "cell_type": "code",
   "execution_count": 4,
   "metadata": {},
   "outputs": [],
   "source": [
    "# Load and preprocess data\n",
    "file_path = '../Data/combined/LaFleur_supp.csv'\n",
    "dataloader = parent.load_and_preprocess_data(file_path, batch_size)\n",
    "\n",
    "# Initialize models\n",
    "device = parent.initialize_device()\n",
    "generator, discriminator = parent.initialize_models(sequence_length, latent_dim, expression_dim, device)"
   ]
  },
  {
   "cell_type": "code",
   "execution_count": null,
   "metadata": {},
   "outputs": [],
   "source": [
    "# Train the CTGAN\n",
    "parent.train_ctgan(generator, discriminator, dataloader, num_epochs=num_epochs, latent_dim=latent_dim, expression_dim=expression_dim, lr=lr, device=device)"
   ]
  },
  {
   "cell_type": "code",
   "execution_count": null,
   "metadata": {},
   "outputs": [],
   "source": [
    "# Save the trained models\n",
    "parent.save_model(generator, f'{model_dir}generator_{version}.pth')\n",
    "parent.save_model(discriminator, f'{model_dir}discriminator{version}.pth')"
   ]
  },
  {
   "cell_type": "code",
   "execution_count": null,
   "metadata": {},
   "outputs": [],
   "source": [
    "# Load the models\n",
    "parent.load_model(generator, f'{model_dir}generator_{version}.pth')\n",
    "parent.load_model(discriminator, f'{model_dir}discriminator_{version}.pth')"
   ]
  },
  {
   "cell_type": "code",
   "execution_count": null,
   "metadata": {},
   "outputs": [],
   "source": [
    "# Evaluate the Generator\n",
    "sequence = 'TTTTCTATCTACGTACTTGACACTATTTC______________ATT__________ACCTTAGTTTGTACGTT'\n",
    "generated_sequences = parent.evaluate_generator(generator, ['TTTTCTATCTACGTACTTGACACTATTTC______________ATT__________ACCTTAGTTTGTACGTT'], latent_dim=latent_dim, device=device)\n",
    "print(\"Generated Sequences: \", generated_sequences)\n",
    "print(\"Decoded Sequences: \", parent.decode_one_hot_sequences(generated_sequences))"
   ]
  }
 ],
 "metadata": {
  "kernelspec": {
   "display_name": "Python 3",
   "language": "python",
   "name": "python3"
  },
  "language_info": {
   "codemirror_mode": {
    "name": "ipython",
    "version": 3
   },
   "file_extension": ".py",
   "mimetype": "text/x-python",
   "name": "python",
   "nbconvert_exporter": "python",
   "pygments_lexer": "ipython3",
   "version": "3.12.3"
  }
 },
 "nbformat": 4,
 "nbformat_minor": 2
}
