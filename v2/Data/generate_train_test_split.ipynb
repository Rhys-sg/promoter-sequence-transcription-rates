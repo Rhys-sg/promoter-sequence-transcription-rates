{
 "cells": [
  {
   "cell_type": "markdown",
   "metadata": {},
   "source": [
    "# Description\n",
    "\n",
    "Generates the training and testing CSVs used for CNN_6_0 and after. Uses 80% training 20% testing split.\n",
    "\n",
    "It does not include augmented data, just takes the data from La Fleur's supplemental materials including:\n",
    " - La Fleur et al (and De Novo Designs)\n",
    " - Urtecho et al\n",
    " - Hossain et al\n",
    " - Yu et al\n",
    " - Lagator (36N, Pl, and Pr)\n",
    " - Anderson Series"
   ]
  },
  {
   "cell_type": "code",
   "execution_count": 1,
   "metadata": {},
   "outputs": [],
   "source": [
    "import pandas as pd\n",
    "from sklearn.model_selection import train_test_split"
   ]
  },
  {
   "cell_type": "code",
   "execution_count": 2,
   "metadata": {},
   "outputs": [
    {
     "name": "stdout",
     "output_type": "stream",
     "text": [
      "39013 training samples\n",
      "9754 testing samples\n"
     ]
    }
   ],
   "source": [
    "# Load the data\n",
    "file_path = '../Data/combined/LaFleur_supp.csv'\n",
    "df = pd.read_csv(file_path)\n",
    "\n",
    "# Split the dataframe into 80% training and 20% testing\n",
    "train_df, test_df = train_test_split(df, test_size=0.2, random_state=42)\n",
    "\n",
    "print(len(train_df), 'training samples')\n",
    "print(len(test_df), 'testing samples')"
   ]
  },
  {
   "cell_type": "code",
   "execution_count": 8,
   "metadata": {},
   "outputs": [],
   "source": [
    "# Save the training and testing data as CSV files\n",
    "train_df.to_csv('../Data/Train Test/train_data.csv', index=False)\n",
    "test_df.to_csv('../Data/Train Test/test_data.csv', index=False)"
   ]
  }
 ],
 "metadata": {
  "kernelspec": {
   "display_name": "Python 3",
   "language": "python",
   "name": "python3"
  },
  "language_info": {
   "codemirror_mode": {
    "name": "ipython",
    "version": 3
   },
   "file_extension": ".py",
   "mimetype": "text/x-python",
   "name": "python",
   "nbconvert_exporter": "python",
   "pygments_lexer": "ipython3",
   "version": "3.12.3"
  }
 },
 "nbformat": 4,
 "nbformat_minor": 2
}
