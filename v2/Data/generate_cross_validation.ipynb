{
 "cells": [
  {
   "cell_type": "markdown",
   "metadata": {},
   "source": [
    "# Description\n",
    "\n",
    "Generates the training and testing CSVs used for CNN_6_3 and after. Details:\n",
    " - Splits by file\n",
    " - Noramlizes the expression from 0 (no expression) to 1 (highest expression). This is the inverse of 'Observed log(TX/Txref)'\n",
    "\n",
    "It does not include augmented data, just takes the data from La Fleur's supplemental materials including:\n",
    " - La Fleur et al (and De Novo Designs)\n",
    " - Urtecho et al\n",
    " - Hossain et al\n",
    " - Yu et al\n",
    " - Lagator (36N, Pl, and Pr)\n",
    " - Anderson Series"
   ]
  },
  {
   "cell_type": "code",
   "execution_count": 4,
   "metadata": {},
   "outputs": [
    {
     "name": "stdout",
     "output_type": "stream",
     "text": [
      "../Data/Cross Validation\\Anderson_Series.csv - 4 NaN values dropped\n",
      "../Data/Cross Validation\\De_Novo_Designs.csv - 3 NaN values dropped\n",
      "../Data/Cross Validation\\Hossain_et_al.csv - 0 NaN values dropped\n",
      "../Data/Cross Validation\\Lagator_36N.csv - 0 NaN values dropped\n",
      "../Data/Cross Validation\\Lagator_Pl.csv - 0 NaN values dropped\n",
      "../Data/Cross Validation\\Lagator_Pr.csv - 0 NaN values dropped\n",
      "../Data/Cross Validation\\La_Fleur_et_al.csv - 0 NaN values dropped\n",
      "../Data/Cross Validation\\Urtecho_et_al.csv - 0 NaN values dropped\n",
      "../Data/Cross Validation\\Yu_et_al.csv - 0 NaN values dropped\n"
     ]
    }
   ],
   "source": [
    "import pandas as pd\n",
    "from sklearn.preprocessing import MinMaxScaler\n",
    "import glob\n",
    "\n",
    "# Load all the data\n",
    "files = glob.glob('../Data/Cross Validation/*.csv')\n",
    "data = []\n",
    "\n",
    "# Read and concatenate data for fitting the scaler\n",
    "for file in files:\n",
    "    data.append(pd.read_csv(file))\n",
    "\n",
    "data = pd.concat(data)\n",
    "\n",
    "# Fit the scaler using the absolute values of the observed expression\n",
    "scaler = MinMaxScaler()\n",
    "scaler.fit(data[['Observed log(TX/Txref)']].abs())\n",
    "\n",
    "# Normalize the expression values and save the files\n",
    "for file in files:\n",
    "    df = pd.read_csv(file)[['Promoter Sequence', 'Observed log(TX/Txref)']]\n",
    "    df['Promoter Sequence'] = df['Promoter Sequence'].astype(str).str.upper()\n",
    "    df['Normalized Expression'] = scaler.transform(df[['Observed log(TX/Txref)']].abs())\n",
    "    df = df[['Promoter Sequence', 'Observed log(TX/Txref)', 'Normalized Expression']]\n",
    "\n",
    "    # Drop nan values\n",
    "    print(f'{file} - {len(df) - len(df.dropna())} NaN values dropped')\n",
    "    df = df.dropna()\n",
    "\n",
    "    df.to_csv(file, index=False)\n"
   ]
  }
 ],
 "metadata": {
  "kernelspec": {
   "display_name": "Python 3",
   "language": "python",
   "name": "python3"
  },
  "language_info": {
   "codemirror_mode": {
    "name": "ipython",
    "version": 3
   },
   "file_extension": ".py",
   "mimetype": "text/x-python",
   "name": "python",
   "nbconvert_exporter": "python",
   "pygments_lexer": "ipython3",
   "version": "3.12.3"
  }
 },
 "nbformat": 4,
 "nbformat_minor": 2
}
