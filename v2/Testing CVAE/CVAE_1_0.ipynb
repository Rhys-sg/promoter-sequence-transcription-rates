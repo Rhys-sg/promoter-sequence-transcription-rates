{
 "cells": [
  {
   "cell_type": "markdown",
   "metadata": {},
   "source": [
    "### Description\n",
    "\n",
    "This implements a CVAE to infill the promoter based on the latent variation and the expression condition."
   ]
  },
  {
   "cell_type": "code",
   "execution_count": 1,
   "metadata": {},
   "outputs": [],
   "source": [
    "from CVAE_1_0 import *"
   ]
  },
  {
   "cell_type": "code",
   "execution_count": 3,
   "metadata": {},
   "outputs": [],
   "source": [
    "# Load and preprocess data\n",
    "train_path = '../Data/Train Test/train_data.csv'\n",
    "test_path = '../Data/Train Test/test_data.csv'\n",
    "(X_train, y_train), (X_test, y_test) = load_and_preprocess_data(train_path, test_path)\n",
    "\n",
    "# Initialize model and optimizer\n",
    "latent_dim = 16\n",
    "model = CVAE(latent_dim)\n",
    "optimizer = torch.optim.Adam(model.parameters(), lr=1e-3)\n",
    "\n",
    "# Prepare datasets\n",
    "batch_size = 32\n",
    "train_dataset = DataLoader(TensorDataset(X_train, y_train), batch_size=batch_size, shuffle=True)\n",
    "test_dataset = DataLoader(TensorDataset(X_test, y_test), batch_size=batch_size)\n",
    "\n",
    "# Train the model\n",
    "train_model(model, optimizer, train_dataset, epochs=10)\n",
    "\n",
    "# Evaluate the model\n",
    "test_loss = evaluate_model(model, test_dataset)\n",
    "print(f'Average Test Loss: {test_loss:.4f}')"
   ]
  }
 ],
 "metadata": {
  "kernelspec": {
   "display_name": "Python 3",
   "language": "python",
   "name": "python3"
  },
  "language_info": {
   "codemirror_mode": {
    "name": "ipython",
    "version": 3
   },
   "file_extension": ".py",
   "mimetype": "text/x-python",
   "name": "python",
   "nbconvert_exporter": "python",
   "pygments_lexer": "ipython3",
   "version": "3.12.3"
  }
 },
 "nbformat": 4,
 "nbformat_minor": 2
}
