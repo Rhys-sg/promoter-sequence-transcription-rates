{
 "cells": [
  {
   "cell_type": "markdown",
   "metadata": {},
   "source": [
    "### Description\n",
    "\n",
    "This implements a CTGAN that uses infill properly. Has not applied CNN layer yet."
   ]
  },
  {
   "cell_type": "code",
   "execution_count": 1,
   "metadata": {},
   "outputs": [],
   "source": [
    "import CTGAN_1_3 as parent"
   ]
  },
  {
   "cell_type": "code",
   "execution_count": 2,
   "metadata": {},
   "outputs": [],
   "source": [
    "version = '1_3'\n",
    "model_dir = '../Models/'"
   ]
  },
  {
   "cell_type": "code",
   "execution_count": 3,
   "metadata": {},
   "outputs": [],
   "source": [
    "# Load and preprocess data\n",
    "file_path = '../Data/combined/LaFleur_supp.csv'\n",
    "\n",
    "# Hyperparameters\n",
    "batch_size = 64\n",
    "epochs = 5\n",
    "learning_rate = 0.0002\n",
    "\n",
    "# Load Data and Prepare Dataloaders\n",
    "df = parent.load_data(file_path)\n",
    "train_loader, test_loader = parent.prepare_dataloader(df, batch_size)\n",
    "\n",
    "# Initialize Models\n",
    "generator = parent.Generator()\n",
    "discriminator = parent.Discriminator()"
   ]
  },
  {
   "cell_type": "code",
   "execution_count": 4,
   "metadata": {},
   "outputs": [],
   "source": [
    "# # Train Models with Training DataLoader\n",
    "# parent.train_ctgan(generator, discriminator, train_loader, epochs, learning_rate)\n",
    "\n",
    "# # Save the trained models\n",
    "# parent.save_model(generator, 'generator.pth')\n",
    "# parent.save_model(discriminator, 'discriminator.pth')"
   ]
  },
  {
   "cell_type": "code",
   "execution_count": 5,
   "metadata": {},
   "outputs": [
    {
     "name": "stdout",
     "output_type": "stream",
     "text": [
      "Model loaded from generator.pth\n",
      "Model loaded from discriminator.pth\n",
      "GCGCCCGCTGATCCTCAAAAAAAAAAAGTATCTCACACCGTGCGTGTTGAATATTTTACCTCTGGTGGTGATAATGGTAGCATGTACCAGAATTCATTAAAGAGGAGAAAGGTACCATGAGTAAAGGAGAAGAACTTTTAAAAAAAAAAA\n",
      "GCGCCCGCTGATCCTCCTCGAGGATAAATATCTAAAAAAAAAAGTGTGGACTATTTTACCTCTAGCGGTGAGAATGGTTGCATGGACTAGAATTCATTAAAGAGGAGAAAGGTACCATGAGTAAAGGAGAAGAACTTTTAAAAAAAAAAA\n",
      "ACCTCGAGCACGAGGCCAGGCTTCAAATCTCAATGCTATTATGACCAAATAGTACTGTGTACGGTGCGCCTTTTAGTGAAAAAAAAAATTGAGTAATGGCATCGAAACGGATCCTCAAAAAAAAAAAAAAAAAAAAAAAAAAAAAAAAAA\n",
      "GCGCCCGCTGATCCTCCTCGAGGATAAATGTCGTACACCGCGCCGGTTGACTATTTTACCTCTGGCGGTGATAATGGTCGCATGTCAAAAAAAAAATTAAAGAGGAGAAAGGTACCATGAGTAAAGGAGAAGAACTTTTAAAAAAAAAAA\n",
      "ACCTCGAGCACGAGGCCAGGCTTCAAATCTCAATGCTATTATAAAACCGTACAAAGCTCCGAGTCTGAATCAGTAATGTGCATACAGAAAAAAAAAAGGCATCGAAACGGATCCTCAAAAAAAAAAAAAAAAAAAAAAAAAAAAAAAAAA\n",
      "ACAGGTTTCCCGACTGGCAAAAAAAAAAACGCAATTGGAAAGCGAATGTAAGTTAGCTCATTCATTAGGCACCCCAGGCTTTTACATTTATGCTTCCGGCTCGTATAATGTGTGGAAATTGTAGCGAGTAACAACCACACACAGGAAACA\n",
      "ACTGGACGCGGAAGAGCGTGAAATACTGGCGCATCCGCTGGAAAAAAAAAAGATTCTCTTGAAAATATATTTTTCAAAAGTAGCCCTTAGAAGCACGAAAATGGAAGTTATAATCGCAGCATCGCGCAATCGTCTGGTGGTGGCGGTTGA\n",
      "GCGCCCGCTGATCCTCCTCGAGGATAAATATCTAACACCGTGCGTGTTGAATATTTTACCTCTGGCGGTGATAATGGTCGCATGTACTAGAATTCATTAAAGAGGAGAAAGGAAAAAAAAAAAAAGGAGAAGAACTTTTAAAAAAAAAAA\n"
     ]
    },
    {
     "name": "stderr",
     "output_type": "stream",
     "text": [
      "c:\\Users\\rsore\\Documents\\GitHub\\promoter-sequence-transcription-rates\\v2\\CTGAN\\CTGAN_1_3.py:147: FutureWarning: You are using `torch.load` with `weights_only=False` (the current default value), which uses the default pickle module implicitly. It is possible to construct malicious pickle data which will execute arbitrary code during unpickling (See https://github.com/pytorch/pytorch/blob/main/SECURITY.md#untrusted-models for more details). In a future release, the default value for `weights_only` will be flipped to `True`. This limits the functions that could be executed during unpickling. Arbitrary objects will no longer be allowed to be loaded via this mode unless they are explicitly allowlisted by the user via `torch.serialization.add_safe_globals`. We recommend you start setting `weights_only=True` for any use case where you don't have full control of the loaded file. Please open an issue on GitHub for any issues related to this experimental feature.\n",
      "  model.load_state_dict(torch.load(file_path))\n"
     ]
    }
   ],
   "source": [
    "# Load the models\n",
    "parent.load_model(generator, 'generator.pth')\n",
    "parent.load_model(discriminator, 'discriminator.pth')\n",
    "\n",
    "# Example usage with a batch from the test DataLoader\n",
    "for X_test, expr_test, y_test in test_loader:\n",
    "    reconstructed_sequence = parent.evaluate_generator(generator, X_test[0], expr_test[0])\n",
    "    print(parent.decode_tensor_to_sequence(X_test[0]))\n"
   ]
  },
  {
   "cell_type": "code",
   "execution_count": 8,
   "metadata": {},
   "outputs": [
    {
     "name": "stdout",
     "output_type": "stream",
     "text": [
      "Desired Sequence:  TTTTCTATCTACGTACTTGACACTATTTCNNNNNNNNNNATTACCTTAGTTTGTACGTT\n",
      "Infilled Sequence: TTTTCTATCTACGTACTTGACACTATTTCGCTGATTGGGATTACCTTAGTTTGTACGTT\n"
     ]
    }
   ],
   "source": [
    "# Test Example\n",
    "sequences = ['TTTTCTATCTACGTACTTGACACTATTTCNNNNNNNNNNATTACCTTAGTTTGTACGTT']\n",
    "expressions = [0.5]\n",
    "\n",
    "# Generate infills\n",
    "infilled = parent.generate_infills(generator, sequences, expressions)\n",
    "for desired_sequence, infilled_sequence in zip(sequences, infilled):\n",
    "    print(\"Desired Sequence: \", desired_sequence)\n",
    "    print(\"Infilled Sequence:\", infilled_sequence)"
   ]
  }
 ],
 "metadata": {
  "kernelspec": {
   "display_name": "Python 3",
   "language": "python",
   "name": "python3"
  },
  "language_info": {
   "codemirror_mode": {
    "name": "ipython",
    "version": 3
   },
   "file_extension": ".py",
   "mimetype": "text/x-python",
   "name": "python",
   "nbconvert_exporter": "python",
   "pygments_lexer": "ipython3",
   "version": "3.12.3"
  }
 },
 "nbformat": 4,
 "nbformat_minor": 2
}
