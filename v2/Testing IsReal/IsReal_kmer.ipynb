{
 "cells": [
  {
   "cell_type": "markdown",
   "metadata": {},
   "source": [
    "## Desciption\n",
    "\n",
    "An algorithm that analyzes k-mer frequencies from real DNA sequences and assigns a realness score (0-1) to new sequences:\n",
    "\n",
    "1. Extracts k-mer frequencies from real Urtecho 2023 promoter sequences.\n",
    "2. Computes k-mer frequencies for an input sequence.\n",
    "3. Scores the input sequence using a distance metric from 0 (fake) to 1 (real) using: cosine similarity, KL-divergence, or euclidean distance."
   ]
  },
  {
   "cell_type": "code",
   "execution_count": 21,
   "metadata": {},
   "outputs": [],
   "source": [
    "import pandas as pd\n",
    "from collections import defaultdict\n",
    "import numpy as np\n",
    "from scipy.spatial.distance import cosine\n",
    "from scipy.stats import entropy\n",
    "from numpy.linalg import norm"
   ]
  },
  {
   "cell_type": "code",
   "execution_count": 2,
   "metadata": {},
   "outputs": [],
   "source": [
    "# Load the sequences from the file\n",
    "\n",
    "file_path = '../Data/Urtecho_2023/Urtecho_2023.csv'\n",
    "real_sequences = list(pd.read_csv(file_path)['promoter_sequence'])"
   ]
  },
  {
   "cell_type": "code",
   "execution_count": 18,
   "metadata": {},
   "outputs": [],
   "source": [
    "def extract_kmer_frequencies(sequences, k_min=2, k_max=3):\n",
    "    \"\"\"\n",
    "    Extracts k-mer frequency distributions from one or multiple DNA sequences.\n",
    "    If a list of sequences is provided, it computes the overall frequency distribution.\n",
    "    If a single sequence is provided, it computes its individual k-mer frequency.\n",
    "    \"\"\"\n",
    "    if isinstance(sequences, str):\n",
    "        sequences = [sequences]\n",
    "\n",
    "    kmer_counts = {k: defaultdict(int) for k in range(k_min, k_max+1)}\n",
    "    total_counts = {k: 0 for k in range(k_min, k_max+1)}\n",
    "    \n",
    "    for seq in sequences:\n",
    "        for k in range(k_min, k_max+1):\n",
    "            for i in range(len(seq) - k + 1):\n",
    "                kmer = seq[i:i+k]\n",
    "                kmer_counts[k][kmer] += 1\n",
    "                total_counts[k] += 1\n",
    "\n",
    "    kmer_freqs = {\n",
    "        k: {kmer: count / total_counts[k] for kmer, count in kmer_counts[k].items()}\n",
    "        for k in range(k_min, k_max+1) if total_counts[k] > 0\n",
    "    }\n",
    "    \n",
    "    return kmer_freqs\n",
    "\n",
    "def cosine_similarity(real_kmer_freqs, input_kmer_freqs):\n",
    "    \"\"\"\n",
    "    Compares the k-mer distributions of an input sequence against real DNA k-mer distributions.\n",
    "    Uses cosine similarity to compute a realness score (0 to 1).\n",
    "    \"\"\"\n",
    "    similarity_scores = []\n",
    "\n",
    "    for k in real_kmer_freqs.keys():\n",
    "        real_dist = real_kmer_freqs[k]\n",
    "        input_dist = input_kmer_freqs.get(k, {})\n",
    "        all_kmers = set(real_dist.keys()).union(set(input_dist.keys()))\n",
    "        real_vector = np.array([real_dist.get(kmer, 0) for kmer in all_kmers])\n",
    "        input_vector = np.array([input_dist.get(kmer, 0) for kmer in all_kmers])\n",
    "        sim = 1 - cosine(real_vector, input_vector) if np.any(real_vector) and np.any(input_vector) else 0\n",
    "        similarity_scores.append(sim)\n",
    "\n",
    "    return np.mean(similarity_scores)\n",
    "\n",
    "\n",
    "def kl_divergence(real_kmer_freqs, input_kmer_freqs):\n",
    "    \"\"\"\n",
    "    Computes the average KL-divergence between real and input k-mer frequency distributions.\n",
    "    A lower KL-divergence means the input sequence is more similar to real DNA sequences.\n",
    "    \"\"\"\n",
    "    kl_scores = []\n",
    "\n",
    "    for k in real_kmer_freqs.keys():\n",
    "        real_dist = real_kmer_freqs[k]\n",
    "        input_dist = input_kmer_freqs.get(k, {})\n",
    "        all_kmers = set(real_dist.keys()).union(set(input_dist.keys()))\n",
    "        real_vector = np.array([real_dist.get(kmer, 1e-10) for kmer in all_kmers])\n",
    "        input_vector = np.array([input_dist.get(kmer, 1e-10) for kmer in all_kmers])\n",
    "        kl_score = entropy(input_vector, real_vector)  # KL(P || Q)\n",
    "        kl_scores.append(kl_score)\n",
    "\n",
    "    return np.mean(kl_scores)\n",
    "\n",
    "\n",
    "def euclidean_distance(real_kmer_freqs, input_kmer_freqs):\n",
    "    \"\"\"\n",
    "    Computes the average Euclidean distance between real and input k-mer frequency distributions.\n",
    "    A lower Euclidean distance means the input sequence is more similar to real DNA sequences.\n",
    "    \"\"\"\n",
    "    distance_scores = []\n",
    "\n",
    "    for k in real_kmer_freqs.keys():\n",
    "        real_dist = real_kmer_freqs[k]\n",
    "        input_dist = input_kmer_freqs.get(k, {})\n",
    "        all_kmers = set(real_dist.keys()).union(set(input_dist.keys()))\n",
    "        real_vector = np.array([real_dist.get(kmer, 0) for kmer in all_kmers])\n",
    "        input_vector = np.array([input_dist.get(kmer, 0) for kmer in all_kmers])\n",
    "        distance = norm(real_vector - input_vector)\n",
    "        distance_scores.append(distance)\n",
    "\n",
    "    return np.mean(distance_scores)\n"
   ]
  },
  {
   "cell_type": "code",
   "execution_count": 10,
   "metadata": {},
   "outputs": [],
   "source": [
    "# Find k-mer frequencies of the real sequences\n",
    "\n",
    "real_kmer_freqs = extract_kmer_frequencies(real_sequences)"
   ]
  },
  {
   "cell_type": "code",
   "execution_count": 19,
   "metadata": {},
   "outputs": [],
   "source": [
    "# Find the kmer frequencies of pLac\n",
    "\n",
    "input_sequence = 'AATACTAGAGGTCTTCCGACTTTACACTTTATGCTTCCGGCTCGTATGTTGTGTGGGCGGGAAGACAACTAGGGG'\n",
    "input_kmer_freqs = extract_kmer_frequencies(input_sequence)"
   ]
  },
  {
   "cell_type": "code",
   "execution_count": 22,
   "metadata": {},
   "outputs": [
    {
     "name": "stdout",
     "output_type": "stream",
     "text": [
      "Cosine similarity: 0.7700\n",
      "KL-divergence: 0.3662\n",
      "Euclidean distance: 0.1284\n"
     ]
    }
   ],
   "source": [
    "# Compare the realness of the input sequence\n",
    "\n",
    "cosine_similarity_score = cosine_similarity(real_kmer_freqs, input_kmer_freqs)\n",
    "print(f\"Cosine similarity: {cosine_similarity_score:.4f}\")\n",
    "\n",
    "kl_divergence_score = kl_divergence(real_kmer_freqs, input_kmer_freqs)\n",
    "print(f\"KL-divergence: {kl_divergence_score:.4f}\")\n",
    "\n",
    "euclidean_distance_score = euclidean_distance(real_kmer_freqs, input_kmer_freqs)\n",
    "print(f\"Euclidean distance: {euclidean_distance_score:.4f}\")"
   ]
  }
 ],
 "metadata": {
  "kernelspec": {
   "display_name": "TX_prediction",
   "language": "python",
   "name": "python3"
  },
  "language_info": {
   "codemirror_mode": {
    "name": "ipython",
    "version": 3
   },
   "file_extension": ".py",
   "mimetype": "text/x-python",
   "name": "python",
   "nbconvert_exporter": "python",
   "pygments_lexer": "ipython3",
   "version": "3.12.3"
  }
 },
 "nbformat": 4,
 "nbformat_minor": 2
}
