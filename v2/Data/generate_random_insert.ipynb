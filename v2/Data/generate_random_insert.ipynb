{
 "cells": [
  {
   "cell_type": "markdown",
   "metadata": {},
   "source": [
    "# Description\n",
    "\n",
    "Augments the data by masking a random section, infilling it with a random sequence, and getting the predicted expression of the new sequence using CNN_6_1\n",
    "\n",
    "The CVAEs then receive the masked sequence and one of the new expression values and try to infill the sequence. This ensures that for each sequence, we are giving training data that shows the variety that masking can achieve."
   ]
  },
  {
   "cell_type": "code",
   "execution_count": 1,
   "metadata": {},
   "outputs": [],
   "source": [
    "import keras\n",
    "import pandas as pd\n",
    "\n",
    "from generate_random_insert import *"
   ]
  },
  {
   "cell_type": "code",
   "execution_count": 2,
   "metadata": {},
   "outputs": [
    {
     "name": "stderr",
     "output_type": "stream",
     "text": [
      "c:\\Users\\rsore\\anaconda3\\envs\\TX_prediction\\Lib\\site-packages\\keras\\src\\saving\\saving_lib.py:719: UserWarning: Skipping variable loading for optimizer 'adam', because it has 34 variables whereas the saved optimizer has 2 variables. \n",
      "  saveable.load_own_variables(weights_store.get(inner_path))\n"
     ]
    }
   ],
   "source": [
    "train_df = pd.read_csv('../Data/Train Test/train_data.csv')\n",
    "test_df = pd.read_csv('../Data/Train Test/test_data.csv')\n",
    "cnn = keras.models.load_model('../Models/CNN_6_1.keras')"
   ]
  },
  {
   "cell_type": "code",
   "execution_count": 3,
   "metadata": {},
   "outputs": [
    {
     "data": {
      "text/html": [
       "<div>\n",
       "<style scoped>\n",
       "    .dataframe tbody tr th:only-of-type {\n",
       "        vertical-align: middle;\n",
       "    }\n",
       "\n",
       "    .dataframe tbody tr th {\n",
       "        vertical-align: top;\n",
       "    }\n",
       "\n",
       "    .dataframe thead th {\n",
       "        text-align: right;\n",
       "    }\n",
       "</style>\n",
       "<table border=\"1\" class=\"dataframe\">\n",
       "  <thead>\n",
       "    <tr style=\"text-align: right;\">\n",
       "      <th></th>\n",
       "      <th>Masked Promoter Sequence</th>\n",
       "      <th>Infilled Promoter Sequence</th>\n",
       "      <th>Mask Length</th>\n",
       "      <th>Mask Start</th>\n",
       "      <th>Expressions</th>\n",
       "    </tr>\n",
       "  </thead>\n",
       "  <tbody>\n",
       "    <tr>\n",
       "      <th>0</th>\n",
       "      <td>TTTNNTATCTACGTACTCTTGGCTATTTCCTATTTCTCTTATAATT...</td>\n",
       "      <td>TTTTCTATCTACGTACTCTTGGCTATTTCCTATTTCTCTTATAATT...</td>\n",
       "      <td>2</td>\n",
       "      <td>3</td>\n",
       "      <td>0.251926</td>\n",
       "    </tr>\n",
       "    <tr>\n",
       "      <th>1</th>\n",
       "      <td>TTTNNTATCTACGTACTCTTGGCTATTTCCTATTTCTCTTATAATT...</td>\n",
       "      <td>TTTCATATCTACGTACTCTTGGCTATTTCCTATTTCTCTTATAATT...</td>\n",
       "      <td>2</td>\n",
       "      <td>3</td>\n",
       "      <td>0.253599</td>\n",
       "    </tr>\n",
       "    <tr>\n",
       "      <th>2</th>\n",
       "      <td>TTGCGGTTTTTTCGGTTCAATCACCGNNNGCTGACGAGCTGGGCGC...</td>\n",
       "      <td>TTGCGGTTTTTTCGGTTCAATCACCGCCTGCTGACGAGCTGGGCGC...</td>\n",
       "      <td>3</td>\n",
       "      <td>26</td>\n",
       "      <td>0.216335</td>\n",
       "    </tr>\n",
       "    <tr>\n",
       "      <th>3</th>\n",
       "      <td>TTGCGGTTTTTTCGGTTCAATCACCGNNNGCTGACGAGCTGGGCGC...</td>\n",
       "      <td>TTGCGGTTTTTTCGGTTCAATCACCGCGAGCTGACGAGCTGGGCGC...</td>\n",
       "      <td>3</td>\n",
       "      <td>26</td>\n",
       "      <td>0.220322</td>\n",
       "    </tr>\n",
       "    <tr>\n",
       "      <th>4</th>\n",
       "      <td>AGCCGCTTNNNNNNNACGACGTGAGTAAACAAAACCCAGACATCAT...</td>\n",
       "      <td>AGCCGCTTTTAGCGGACGACGTGAGTAAACAAAACCCAGACATCAT...</td>\n",
       "      <td>7</td>\n",
       "      <td>8</td>\n",
       "      <td>0.113414</td>\n",
       "    </tr>\n",
       "  </tbody>\n",
       "</table>\n",
       "</div>"
      ],
      "text/plain": [
       "                            Masked Promoter Sequence  \\\n",
       "0  TTTNNTATCTACGTACTCTTGGCTATTTCCTATTTCTCTTATAATT...   \n",
       "1  TTTNNTATCTACGTACTCTTGGCTATTTCCTATTTCTCTTATAATT...   \n",
       "2  TTGCGGTTTTTTCGGTTCAATCACCGNNNGCTGACGAGCTGGGCGC...   \n",
       "3  TTGCGGTTTTTTCGGTTCAATCACCGNNNGCTGACGAGCTGGGCGC...   \n",
       "4  AGCCGCTTNNNNNNNACGACGTGAGTAAACAAAACCCAGACATCAT...   \n",
       "\n",
       "                          Infilled Promoter Sequence  Mask Length  Mask Start  \\\n",
       "0  TTTTCTATCTACGTACTCTTGGCTATTTCCTATTTCTCTTATAATT...            2           3   \n",
       "1  TTTCATATCTACGTACTCTTGGCTATTTCCTATTTCTCTTATAATT...            2           3   \n",
       "2  TTGCGGTTTTTTCGGTTCAATCACCGCCTGCTGACGAGCTGGGCGC...            3          26   \n",
       "3  TTGCGGTTTTTTCGGTTCAATCACCGCGAGCTGACGAGCTGGGCGC...            3          26   \n",
       "4  AGCCGCTTTTAGCGGACGACGTGAGTAAACAAAACCCAGACATCAT...            7           8   \n",
       "\n",
       "   Expressions  \n",
       "0     0.251926  \n",
       "1     0.253599  \n",
       "2     0.216335  \n",
       "3     0.220322  \n",
       "4     0.113414  "
      ]
     },
     "execution_count": 3,
     "metadata": {},
     "output_type": "execute_result"
    }
   ],
   "source": [
    "new_train_df = mask_predict_data(train_df, cnn, num_masks=1, num_inserts=1, min_mask=1, max_mask=10)\n",
    "new_train_df.head()"
   ]
  },
  {
   "cell_type": "code",
   "execution_count": 4,
   "metadata": {},
   "outputs": [
    {
     "data": {
      "text/html": [
       "<div>\n",
       "<style scoped>\n",
       "    .dataframe tbody tr th:only-of-type {\n",
       "        vertical-align: middle;\n",
       "    }\n",
       "\n",
       "    .dataframe tbody tr th {\n",
       "        vertical-align: top;\n",
       "    }\n",
       "\n",
       "    .dataframe thead th {\n",
       "        text-align: right;\n",
       "    }\n",
       "</style>\n",
       "<table border=\"1\" class=\"dataframe\">\n",
       "  <thead>\n",
       "    <tr style=\"text-align: right;\">\n",
       "      <th></th>\n",
       "      <th>Masked Promoter Sequence</th>\n",
       "      <th>Infilled Promoter Sequence</th>\n",
       "      <th>Mask Length</th>\n",
       "      <th>Mask Start</th>\n",
       "      <th>Expressions</th>\n",
       "    </tr>\n",
       "  </thead>\n",
       "  <tbody>\n",
       "    <tr>\n",
       "      <th>0</th>\n",
       "      <td>GCGCCCNNTGATCCTCCTCGAGGTTAAGTATCTCACACCGTGCGTG...</td>\n",
       "      <td>GCGCCCGCTGATCCTCCTCGAGGTTAAGTATCTCACACCGTGCGTG...</td>\n",
       "      <td>2</td>\n",
       "      <td>6</td>\n",
       "      <td>0.203525</td>\n",
       "    </tr>\n",
       "    <tr>\n",
       "      <th>1</th>\n",
       "      <td>GCGCCCNNTGATCCTCCTCGAGGTTAAGTATCTCACACCGTGCGTG...</td>\n",
       "      <td>GCGCCCCATGATCCTCCTCGAGGTTAAGTATCTCACACCGTGCGTG...</td>\n",
       "      <td>2</td>\n",
       "      <td>6</td>\n",
       "      <td>0.202589</td>\n",
       "    </tr>\n",
       "    <tr>\n",
       "      <th>2</th>\n",
       "      <td>GTTAACAAACAAGGAGAAAACAGTATNNNACACGGAATTAAAGCAC...</td>\n",
       "      <td>GTTAACAAACAAGGAGAAAACAGTATGAAACACGGAATTAAAGCAC...</td>\n",
       "      <td>3</td>\n",
       "      <td>26</td>\n",
       "      <td>0.088163</td>\n",
       "    </tr>\n",
       "    <tr>\n",
       "      <th>3</th>\n",
       "      <td>GTTAACAAACAAGGAGAAAACAGTATNNNACACGGAATTAAAGCAC...</td>\n",
       "      <td>GTTAACAAACAAGGAGAAAACAGTATCGAACACGGAATTAAAGCAC...</td>\n",
       "      <td>3</td>\n",
       "      <td>26</td>\n",
       "      <td>0.088282</td>\n",
       "    </tr>\n",
       "    <tr>\n",
       "      <th>4</th>\n",
       "      <td>GCGCCCGCNNNNNNNCCTCGAGGATAAATATGTATCTCTGGCGGTG...</td>\n",
       "      <td>GCGCCCGCTGATCCTCCTCGAGGATAAATATGTATCTCTGGCGGTG...</td>\n",
       "      <td>7</td>\n",
       "      <td>8</td>\n",
       "      <td>0.134554</td>\n",
       "    </tr>\n",
       "  </tbody>\n",
       "</table>\n",
       "</div>"
      ],
      "text/plain": [
       "                            Masked Promoter Sequence  \\\n",
       "0  GCGCCCNNTGATCCTCCTCGAGGTTAAGTATCTCACACCGTGCGTG...   \n",
       "1  GCGCCCNNTGATCCTCCTCGAGGTTAAGTATCTCACACCGTGCGTG...   \n",
       "2  GTTAACAAACAAGGAGAAAACAGTATNNNACACGGAATTAAAGCAC...   \n",
       "3  GTTAACAAACAAGGAGAAAACAGTATNNNACACGGAATTAAAGCAC...   \n",
       "4  GCGCCCGCNNNNNNNCCTCGAGGATAAATATGTATCTCTGGCGGTG...   \n",
       "\n",
       "                          Infilled Promoter Sequence  Mask Length  Mask Start  \\\n",
       "0  GCGCCCGCTGATCCTCCTCGAGGTTAAGTATCTCACACCGTGCGTG...            2           6   \n",
       "1  GCGCCCCATGATCCTCCTCGAGGTTAAGTATCTCACACCGTGCGTG...            2           6   \n",
       "2  GTTAACAAACAAGGAGAAAACAGTATGAAACACGGAATTAAAGCAC...            3          26   \n",
       "3  GTTAACAAACAAGGAGAAAACAGTATCGAACACGGAATTAAAGCAC...            3          26   \n",
       "4  GCGCCCGCTGATCCTCCTCGAGGATAAATATGTATCTCTGGCGGTG...            7           8   \n",
       "\n",
       "   Expressions  \n",
       "0     0.203525  \n",
       "1     0.202589  \n",
       "2     0.088163  \n",
       "3     0.088282  \n",
       "4     0.134554  "
      ]
     },
     "execution_count": 4,
     "metadata": {},
     "output_type": "execute_result"
    }
   ],
   "source": [
    "new_test_df = mask_predict_data(test_df, cnn, num_masks=1, num_inserts=1, min_mask=1, max_mask=10)\n",
    "new_test_df.head()"
   ]
  },
  {
   "cell_type": "code",
   "execution_count": 5,
   "metadata": {},
   "outputs": [],
   "source": [
    "new_train_df.to_csv('../Data/Augmented/augmented_train_data_6_1.csv', index=False)\n",
    "new_test_df.to_csv('../Data/Augmented/augmented_test_data_6_1.csv', index=False)"
   ]
  }
 ],
 "metadata": {
  "kernelspec": {
   "display_name": "Python 3",
   "language": "python",
   "name": "python3"
  },
  "language_info": {
   "codemirror_mode": {
    "name": "ipython",
    "version": 3
   },
   "file_extension": ".py",
   "mimetype": "text/x-python",
   "name": "python",
   "nbconvert_exporter": "python",
   "pygments_lexer": "ipython3",
   "version": "3.12.3"
  }
 },
 "nbformat": 4,
 "nbformat_minor": 2
}
