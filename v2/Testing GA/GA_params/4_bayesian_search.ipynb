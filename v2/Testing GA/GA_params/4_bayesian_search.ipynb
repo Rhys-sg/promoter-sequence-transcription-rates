{
 "cells": [
  {
   "cell_type": "markdown",
   "metadata": {},
   "source": [
    "#### Parameter Grid Search\n",
    "\n",
    "This code does broad grid search for each parameter (or combination if interdependant) seperately. Then, we repeat the grid searh, narrowing in on the minimum error and run time combinations."
   ]
  },
  {
   "cell_type": "code",
   "execution_count": 1,
   "metadata": {},
   "outputs": [],
   "source": [
    "import matplotlib.pyplot as plt\n",
    "import numpy as np\n",
    "import seaborn as sns\n",
    "import pandas as pd\n",
    "import time\n",
    "\n",
    "from skopt import gp_minimize\n",
    "from skopt.space import Integer, Real, Categorical\n",
    "from skopt.utils import use_named_args\n",
    "\n",
    "from GA_params_class.GeneticAlgorithm import GeneticAlgorithm\n",
    "from function_module import *"
   ]
  },
  {
   "cell_type": "code",
   "execution_count": 2,
   "metadata": {},
   "outputs": [],
   "source": [
    "cnn_model_path = '../../Models/CNN_6_1_2.keras'\n",
    "masked_sequence = 'AATACTAGAGGTCTTCCGACNNNNNNNNNNNNNNNNNNNNNNNNNNNNNNGTGTGGGCGGGAAGACAACTAGGGG'\n",
    "target_expressions = [0, 0.5, 1]\n",
    "precision = None\n",
    "verbose = 0\n",
    "lineages = 10\n",
    "seed = 0"
   ]
  },
  {
   "cell_type": "code",
   "execution_count": 3,
   "metadata": {},
   "outputs": [],
   "source": [
    "# Define the parameter ranges for skopt\n",
    "# Does not include pop_size, islands, gene_flow_rate, num_competitors, boltzmann_temperature\n",
    "param_ranges = [\n",
    "    Integer(50, 500, name='generations'),\n",
    "    Real(0.1, 1.0, name='base_mutation_rate'),\n",
    "    Integer(1, 30, name='chromosomes'),\n",
    "    Real(0.1, 1.0, name='elitist_rate'),\n",
    "    Real(0.1, 1.0, name='surval_rate'),\n",
    "    Integer(1, 10, name='num_parents'),\n",
    "    Categorical(['tournament', 'tournament_pop', 'roulette', \n",
    "                 'linear_scaling', 'rank_based', 'sus', 'truncation'], name='selection')\n",
    "]"
   ]
  },
  {
   "cell_type": "code",
   "execution_count": 4,
   "metadata": {},
   "outputs": [],
   "source": [
    "# Objective function: combines error and runtime\n",
    "@use_named_args(param_ranges)\n",
    "def objective_function(**params):\n",
    "    \"\"\"\n",
    "    Objective function for Bayesian Optimization.\n",
    "    The function combines average_error and runtime.\n",
    "    Lower weights favor faster runtime optimization.\n",
    "    \"\"\"\n",
    "    try:\n",
    "        average_error, average_runtime = bayesian_test(\n",
    "            params,\n",
    "            cnn_model_path,\n",
    "            masked_sequence,\n",
    "            target_expressions,\n",
    "            precision,\n",
    "            verbose,\n",
    "            lineages,\n",
    "            seed\n",
    "        )\n",
    "\n",
    "        return average_error\n",
    "\n",
    "        # # Combine error and runtime into a single objective\n",
    "        # weight_error = 0.7  # weight for the error\n",
    "        # weight_runtime = 0.3  # weight for the runtime\n",
    "        \n",
    "        # combined_metric = weight_error * average_error + weight_runtime * average_runtime\n",
    "        # return combined_metric\n",
    "    except Exception as e:\n",
    "        print(e)\n",
    "        return 1e6 # return a large value in case of an error"
   ]
  },
  {
   "cell_type": "code",
   "execution_count": null,
   "metadata": {},
   "outputs": [],
   "source": [
    "# Perform Bayesian Optimization\n",
    "result = gp_minimize(\n",
    "    func=objective_function,\n",
    "    dimensions=param_ranges,\n",
    "    n_calls=100,  # Number of evaluations\n",
    "    random_state=seed,\n",
    ")"
   ]
  },
  {
   "cell_type": "code",
   "execution_count": null,
   "metadata": {},
   "outputs": [],
   "source": [
    "# Print the results\n",
    "print(\"Optimal Parameters:\")\n",
    "print(f\"Generations: {result.x[0]}\")\n",
    "print(f\"Base Mutation Rate: {result.x[1]}\")\n",
    "print(f\"Chromosomes: {result.x[2]}\")\n",
    "print(f\"Elitist Rate: {result.x[3]}\")\n",
    "print(f\"Survival Rate: {result.x[4]}\")\n",
    "print(f\"Num Parents: {result.x[5]}\")\n",
    "print(f\"Selection: {result.x[6]}\")\n",
    "\n",
    "print(\"\\nBest Combined Metric:\", result.fun)"
   ]
  }
 ],
 "metadata": {
  "kernelspec": {
   "display_name": "Python 3",
   "language": "python",
   "name": "python3"
  },
  "language_info": {
   "codemirror_mode": {
    "name": "ipython",
    "version": 3
   },
   "file_extension": ".py",
   "mimetype": "text/x-python",
   "name": "python",
   "nbconvert_exporter": "python",
   "pygments_lexer": "ipython3",
   "version": "3.12.3"
  }
 },
 "nbformat": 4,
 "nbformat_minor": 2
}
