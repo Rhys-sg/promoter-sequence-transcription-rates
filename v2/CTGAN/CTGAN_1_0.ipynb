{
 "cells": [
  {
   "cell_type": "markdown",
   "metadata": {},
   "source": [
    "### Description\n",
    "\n",
    "This implements the first CTGAN, which takes a DNA sequence with sections masked and a desired expression, and then generates a full sequence."
   ]
  },
  {
   "cell_type": "code",
   "execution_count": 1,
   "metadata": {},
   "outputs": [],
   "source": [
    "import CTGAN_1_0 as parent"
   ]
  },
  {
   "cell_type": "code",
   "execution_count": 2,
   "metadata": {},
   "outputs": [],
   "source": [
    "version = '1_0'\n",
    "model_dir = '../Models/'"
   ]
  },
  {
   "cell_type": "code",
   "execution_count": 3,
   "metadata": {},
   "outputs": [],
   "source": [
    "# Hyperparameters\n",
    "sequence_length = 150\n",
    "latent_dim = 100\n",
    "expression_dim = 1\n",
    "batch_size = 64\n",
    "num_epochs = 100\n",
    "lr = 0.0002"
   ]
  },
  {
   "cell_type": "code",
   "execution_count": 4,
   "metadata": {},
   "outputs": [],
   "source": [
    "# Load and preprocess data\n",
    "file_path = '../Data/combined/LaFleur_supp.csv'\n",
    "dataloader = parent.load_and_preprocess_data(file_path, batch_size)\n",
    "\n",
    "# Initialize models\n",
    "device = parent.initialize_device()\n",
    "generator, discriminator = parent.initialize_models(sequence_length, latent_dim, expression_dim, device)"
   ]
  },
  {
   "cell_type": "code",
   "execution_count": 5,
   "metadata": {},
   "outputs": [],
   "source": [
    "# # Train the CTGAN\n",
    "# parent.train_ctgan(generator, discriminator, dataloader, num_epochs=num_epochs, latent_dim=latent_dim, expression_dim=expression_dim, lr=lr, device=device)\n",
    "\n",
    "# # Save the trained models\n",
    "# parent.save_model(generator, f'{model_dir}generator_{version}.pth')\n",
    "# parent.save_model(discriminator, f'{model_dir}discriminator_{version}.pth')"
   ]
  },
  {
   "cell_type": "code",
   "execution_count": 6,
   "metadata": {},
   "outputs": [
    {
     "name": "stderr",
     "output_type": "stream",
     "text": [
      "c:\\Users\\rsore\\Documents\\GitHub\\promoter-sequence-transcription-rates\\v2\\CTGAN\\CTGAN_1_0.py:182: FutureWarning: You are using `torch.load` with `weights_only=False` (the current default value), which uses the default pickle module implicitly. It is possible to construct malicious pickle data which will execute arbitrary code during unpickling (See https://github.com/pytorch/pytorch/blob/main/SECURITY.md#untrusted-models for more details). In a future release, the default value for `weights_only` will be flipped to `True`. This limits the functions that could be executed during unpickling. Arbitrary objects will no longer be allowed to be loaded via this mode unless they are explicitly allowlisted by the user via `torch.serialization.add_safe_globals`. We recommend you start setting `weights_only=True` for any use case where you don't have full control of the loaded file. Please open an issue on GitHub for any issues related to this experimental feature.\n",
      "  model.load_state_dict(torch.load(file_path))\n"
     ]
    }
   ],
   "source": [
    "# Load the models\n",
    "parent.load_model(generator, f'{model_dir}generator_{version}.pth')\n",
    "parent.load_model(discriminator, f'{model_dir}discriminator_{version}.pth')"
   ]
  },
  {
   "cell_type": "code",
   "execution_count": 11,
   "metadata": {},
   "outputs": [
    {
     "name": "stdout",
     "output_type": "stream",
     "text": [
      "Original Sequences:  TTTTCTATCTACGTACTTGACACTATTTC______________ATT__________ACCTTAGTTTGTACGTT\n",
      " Decoded Sequences:  GCGCCCGCTGATCCTCCTCGAGGATAAATATCTAACACCGTGCGTGTTGACTATTTTACCTCTGGCGGTGATAATGGTTGCATGTACTAGAATTCATTAAAGAGGAGAAAGGTACCATGAGTAAAGGAGAAGAACTTTT\n"
     ]
    }
   ],
   "source": [
    "# Values to evaluate the Generator\n",
    "sequences = ['TTTTCTATCTACGTACTTGACACTATTTC______________ATT__________ACCTTAGTTTGTACGTT']\n",
    "expressions = [0.5]\n",
    "\n",
    "# Evaluate the Generator\n",
    "generated_sequences = parent.evaluate_generator(generator, expressions, latent_dim=latent_dim, device=device)\n",
    "print(\"Original Sequences: \", sequences[0])\n",
    "print(\" Decoded Sequences: \", parent.decode_one_hot_sequences(generated_sequences)[0])"
   ]
  }
 ],
 "metadata": {
  "kernelspec": {
   "display_name": "Python 3",
   "language": "python",
   "name": "python3"
  },
  "language_info": {
   "codemirror_mode": {
    "name": "ipython",
    "version": 3
   },
   "file_extension": ".py",
   "mimetype": "text/x-python",
   "name": "python",
   "nbconvert_exporter": "python",
   "pygments_lexer": "ipython3",
   "version": "3.12.3"
  }
 },
 "nbformat": 4,
 "nbformat_minor": 2
}
