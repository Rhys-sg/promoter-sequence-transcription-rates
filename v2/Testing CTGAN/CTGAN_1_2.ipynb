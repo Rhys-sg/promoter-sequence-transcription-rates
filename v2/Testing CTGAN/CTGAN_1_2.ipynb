{
 "cells": [
  {
   "cell_type": "markdown",
   "metadata": {},
   "source": [
    "### Description\n",
    "\n",
    "Trying to use infill and CNN loss DOES NOT WORK"
   ]
  },
  {
   "cell_type": "code",
   "execution_count": 1,
   "metadata": {},
   "outputs": [],
   "source": [
    "import CTGAN_1_2 as parent"
   ]
  },
  {
   "cell_type": "code",
   "execution_count": 2,
   "metadata": {},
   "outputs": [],
   "source": [
    "version = '1_2'\n",
    "model_dir = '../Models/'"
   ]
  },
  {
   "cell_type": "code",
   "execution_count": 3,
   "metadata": {},
   "outputs": [],
   "source": [
    "# Hyperparameters\n",
    "sequence_length = 150\n",
    "latent_dim = 100\n",
    "expression_dim = 1\n",
    "batch_size = 64\n",
    "num_epochs = 100\n",
    "lr = 0.0002"
   ]
  },
  {
   "cell_type": "code",
   "execution_count": 4,
   "metadata": {},
   "outputs": [
    {
     "ename": "ValueError",
     "evalue": "setting an array element with a sequence. The requested array has an inhomogeneous shape after 1 dimensions. The detected shape was (48767,) + inhomogeneous part.",
     "output_type": "error",
     "traceback": [
      "\u001b[1;31m---------------------------------------------------------------------------\u001b[0m",
      "\u001b[1;31mValueError\u001b[0m                                Traceback (most recent call last)",
      "Cell \u001b[1;32mIn[4], line 3\u001b[0m\n\u001b[0;32m      1\u001b[0m \u001b[38;5;66;03m# Load and preprocess data\u001b[39;00m\n\u001b[0;32m      2\u001b[0m file_path \u001b[38;5;241m=\u001b[39m \u001b[38;5;124m'\u001b[39m\u001b[38;5;124m../Data/combined/LaFleur_supp.csv\u001b[39m\u001b[38;5;124m'\u001b[39m\n\u001b[1;32m----> 3\u001b[0m dataloader \u001b[38;5;241m=\u001b[39m \u001b[43mparent\u001b[49m\u001b[38;5;241;43m.\u001b[39;49m\u001b[43mload_and_preprocess_data\u001b[49m\u001b[43m(\u001b[49m\u001b[43mfile_path\u001b[49m\u001b[43m,\u001b[49m\u001b[43m \u001b[49m\u001b[43mbatch_size\u001b[49m\u001b[43m)\u001b[49m\n\u001b[0;32m      5\u001b[0m \u001b[38;5;66;03m# Initialize models\u001b[39;00m\n\u001b[0;32m      6\u001b[0m device \u001b[38;5;241m=\u001b[39m parent\u001b[38;5;241m.\u001b[39minitialize_device()\n",
      "File \u001b[1;32mc:\\Users\\rsore\\Documents\\GitHub\\promoter-sequence-transcription-rates\\v2\\CTGAN\\CTGAN_1_2.py:14\u001b[0m, in \u001b[0;36mload_and_preprocess_data\u001b[1;34m(file_path, batch_size)\u001b[0m\n\u001b[0;32m     11\u001b[0m \u001b[38;5;28;01mdef\u001b[39;00m \u001b[38;5;21mload_and_preprocess_data\u001b[39m(file_path, batch_size):\n\u001b[0;32m     12\u001b[0m     df, scaler \u001b[38;5;241m=\u001b[39m load_data(file_path)\n\u001b[1;32m---> 14\u001b[0m     X_sequence, X_expressions, X_start_idx, X_len_removed, y \u001b[38;5;241m=\u001b[39m \u001b[43mpreprocess_X_y\u001b[49m\u001b[43m(\u001b[49m\u001b[43mdf\u001b[49m\u001b[43m)\u001b[49m\n\u001b[0;32m     16\u001b[0m     \u001b[38;5;66;03m# Convert data to PyTorch Tensors\u001b[39;00m\n\u001b[0;32m     17\u001b[0m     X_sequence \u001b[38;5;241m=\u001b[39m torch\u001b[38;5;241m.\u001b[39mTensor(X_sequence)\n",
      "File \u001b[1;32mc:\\Users\\rsore\\Documents\\GitHub\\promoter-sequence-transcription-rates\\v2\\CTGAN\\CTGAN_1_2.py:58\u001b[0m, in \u001b[0;36mpreprocess_X_y\u001b[1;34m(df, num_augmentations, min_length, max_length)\u001b[0m\n\u001b[0;32m     55\u001b[0m         X_len_removed\u001b[38;5;241m.\u001b[39mappend(len_removed)\n\u001b[0;32m     56\u001b[0m         y\u001b[38;5;241m.\u001b[39mappend(one_hot_encode_output(missing_element))\n\u001b[1;32m---> 58\u001b[0m \u001b[38;5;28;01mreturn\u001b[39;00m np\u001b[38;5;241m.\u001b[39marray(X_sequence), np\u001b[38;5;241m.\u001b[39marray(X_expressions), np\u001b[38;5;241m.\u001b[39marray(X_start_idx), np\u001b[38;5;241m.\u001b[39marray(X_len_removed), \u001b[43mnp\u001b[49m\u001b[38;5;241;43m.\u001b[39;49m\u001b[43marray\u001b[49m\u001b[43m(\u001b[49m\u001b[43my\u001b[49m\u001b[43m)\u001b[49m\n",
      "\u001b[1;31mValueError\u001b[0m: setting an array element with a sequence. The requested array has an inhomogeneous shape after 1 dimensions. The detected shape was (48767,) + inhomogeneous part."
     ]
    }
   ],
   "source": [
    "# Load and preprocess data\n",
    "file_path = '../Data/combined/LaFleur_supp.csv'\n",
    "dataloader = parent.load_and_preprocess_data(file_path, batch_size)\n",
    "\n",
    "# Initialize models\n",
    "device = parent.initialize_device()\n",
    "generator, discriminator = parent.initialize_models(sequence_length, latent_dim, expression_dim, device)"
   ]
  },
  {
   "cell_type": "code",
   "execution_count": 5,
   "metadata": {},
   "outputs": [],
   "source": [
    "# Train the CTGAN\n",
    "parent.train_ctgan(generator, discriminator, dataloader, num_epochs=num_epochs, latent_dim=latent_dim, expression_dim=expression_dim, lr=lr, device=device)\n",
    "\n",
    "# Save the trained models\n",
    "parent.save_model(generator, f'{model_dir}generator_{version}.pth')\n",
    "parent.save_model(discriminator, f'{model_dir}discriminator_{version}.pth')"
   ]
  },
  {
   "cell_type": "code",
   "execution_count": 6,
   "metadata": {},
   "outputs": [
    {
     "name": "stderr",
     "output_type": "stream",
     "text": [
      "c:\\Users\\rsore\\Documents\\GitHub\\promoter-sequence-transcription-rates\\v2\\CTGAN\\CTGAN_1_0.py:182: FutureWarning: You are using `torch.load` with `weights_only=False` (the current default value), which uses the default pickle module implicitly. It is possible to construct malicious pickle data which will execute arbitrary code during unpickling (See https://github.com/pytorch/pytorch/blob/main/SECURITY.md#untrusted-models for more details). In a future release, the default value for `weights_only` will be flipped to `True`. This limits the functions that could be executed during unpickling. Arbitrary objects will no longer be allowed to be loaded via this mode unless they are explicitly allowlisted by the user via `torch.serialization.add_safe_globals`. We recommend you start setting `weights_only=True` for any use case where you don't have full control of the loaded file. Please open an issue on GitHub for any issues related to this experimental feature.\n",
      "  model.load_state_dict(torch.load(file_path))\n"
     ]
    }
   ],
   "source": [
    "# Load the models\n",
    "parent.load_model(generator, f'{model_dir}generator_{version}.pth')\n",
    "parent.load_model(discriminator, f'{model_dir}discriminator_{version}.pth')"
   ]
  },
  {
   "cell_type": "code",
   "execution_count": 11,
   "metadata": {},
   "outputs": [
    {
     "name": "stdout",
     "output_type": "stream",
     "text": [
      "Original Sequences:  TTTTCTATCTACGTACTTGACACTATTTC______________ATT__________ACCTTAGTTTGTACGTT\n",
      " Decoded Sequences:  GCGCCCGCTGATCCTCCTCGAGGATAAATATCTAACACCGTGCGTGTTGACTATTTTACCTCTGGCGGTGATAATGGTTGCATGTACTAGAATTCATTAAAGAGGAGAAAGGTACCATGAGTAAAGGAGAAGAACTTTT\n"
     ]
    }
   ],
   "source": [
    "# Values to evaluate the Generator\n",
    "sequences = ['TTTTCTATCTACGTACTTGACACTATTTC______________ATT__________ACCTTAGTTTGTACGTT']\n",
    "expressions = [0.5]\n",
    "\n",
    "# Evaluate the Generator\n",
    "generated_sequences = parent.evaluate_generator(generator, expressions, latent_dim=latent_dim, device=device)\n",
    "print(\"Original Sequences: \", sequences[0])\n",
    "print(\" Decoded Sequences: \", parent.decode_one_hot_sequences(generated_sequences)[0])"
   ]
  }
 ],
 "metadata": {
  "kernelspec": {
   "display_name": "Python 3",
   "language": "python",
   "name": "python3"
  },
  "language_info": {
   "codemirror_mode": {
    "name": "ipython",
    "version": 3
   },
   "file_extension": ".py",
   "mimetype": "text/x-python",
   "name": "python",
   "nbconvert_exporter": "python",
   "pygments_lexer": "ipython3",
   "version": "3.12.3"
  }
 },
 "nbformat": 4,
 "nbformat_minor": 2
}
