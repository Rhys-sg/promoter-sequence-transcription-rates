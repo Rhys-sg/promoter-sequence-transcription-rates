{
 "cells": [
  {
   "cell_type": "markdown",
   "metadata": {},
   "source": [
    "# Description\n",
    "\n",
    "Generates the training and testing CSVs used for CNN_6_0 and after. Details:\n",
    " - Uses 80% training 20% testing split\n",
    " - Noramlizes the expression from 0 (no expression) to 1 (highest expression). This is the inverse of 'Observed log(TX/Txref)'\n",
    "\n",
    "It does not include augmented data, just takes the data from La Fleur's supplemental materials including:\n",
    " - La Fleur et al (and De Novo Designs)\n",
    " - Urtecho et al\n",
    " - Hossain et al\n",
    " - Yu et al\n",
    " - Lagator (36N, Pl, and Pr)\n",
    " - Anderson Series"
   ]
  },
  {
   "cell_type": "code",
   "execution_count": 1,
   "metadata": {},
   "outputs": [],
   "source": [
    "import pandas as pd\n",
    "from sklearn.model_selection import train_test_split\n",
    "from sklearn.preprocessing import MinMaxScaler"
   ]
  },
  {
   "cell_type": "code",
   "execution_count": 2,
   "metadata": {},
   "outputs": [
    {
     "name": "stdout",
     "output_type": "stream",
     "text": [
      "39013 training samples\n",
      "9754 testing samples\n"
     ]
    }
   ],
   "source": [
    "# Load the data\n",
    "file_path = '../Data/combined/LaFleur_supp.csv'\n",
    "df = pd.read_csv(file_path)\n",
    "df['Promoter Sequence'] = df['Promoter Sequence'].str.upper()\n",
    "df['Normalized Expression'] = MinMaxScaler().fit_transform(df[['Observed log(TX/Txref)']].abs())\n",
    "\n",
    "# Split the dataframe into 80% training and 20% testing\n",
    "train_df, test_df = train_test_split(df, test_size=0.2, random_state=42)\n",
    "\n",
    "print(len(train_df), 'training samples')\n",
    "print(len(test_df), 'testing samples')"
   ]
  },
  {
   "cell_type": "code",
   "execution_count": 3,
   "metadata": {},
   "outputs": [
    {
     "data": {
      "text/html": [
       "<div>\n",
       "<style scoped>\n",
       "    .dataframe tbody tr th:only-of-type {\n",
       "        vertical-align: middle;\n",
       "    }\n",
       "\n",
       "    .dataframe tbody tr th {\n",
       "        vertical-align: top;\n",
       "    }\n",
       "\n",
       "    .dataframe thead th {\n",
       "        text-align: right;\n",
       "    }\n",
       "</style>\n",
       "<table border=\"1\" class=\"dataframe\">\n",
       "  <thead>\n",
       "    <tr style=\"text-align: right;\">\n",
       "      <th></th>\n",
       "      <th>File Name</th>\n",
       "      <th>Upstream DNA</th>\n",
       "      <th>Promoter Sequence</th>\n",
       "      <th>Downstream DNA</th>\n",
       "      <th>Observed log(TX/Txref)</th>\n",
       "      <th>Normalized Expression</th>\n",
       "    </tr>\n",
       "  </thead>\n",
       "  <tbody>\n",
       "    <tr>\n",
       "      <th>3287</th>\n",
       "      <td>La Fleur et al (Fig 3a).csv</td>\n",
       "      <td>CTCGGTACCAAATTCCAGAA</td>\n",
       "      <td>TTTTCTATCTACGTACTCTTGGCTATTTCCTATTTCTCTTATAATT...</td>\n",
       "      <td>GAATTCGATCAAATTTCGAG</td>\n",
       "      <td>-2.529635</td>\n",
       "      <td>0.185770</td>\n",
       "    </tr>\n",
       "    <tr>\n",
       "      <th>8661</th>\n",
       "      <td>Urtecho et al (Fig 3c, S7b).csv</td>\n",
       "      <td>NaN</td>\n",
       "      <td>TTGCGGTTTTTTCGGTTCAATCACCGCCTGCTGACGAGCTGGGCGC...</td>\n",
       "      <td>NaN</td>\n",
       "      <td>-1.505491</td>\n",
       "      <td>0.110559</td>\n",
       "    </tr>\n",
       "    <tr>\n",
       "      <th>15653</th>\n",
       "      <td>Urtecho et al (Fig 3c, S7b).csv</td>\n",
       "      <td>NaN</td>\n",
       "      <td>AGCCGCTTTTAGCGGACGACGTGAGTAAACAAAACCCAGACATCAT...</td>\n",
       "      <td>NaN</td>\n",
       "      <td>-1.700999</td>\n",
       "      <td>0.124917</td>\n",
       "    </tr>\n",
       "    <tr>\n",
       "      <th>41540</th>\n",
       "      <td>Lagator Pr.csv</td>\n",
       "      <td>NaN</td>\n",
       "      <td>GCGCCCGCTGATCCTCCTCGAGGATAAATATCTAATACCGTGCGTG...</td>\n",
       "      <td>NaN</td>\n",
       "      <td>-5.049856</td>\n",
       "      <td>0.370848</td>\n",
       "    </tr>\n",
       "    <tr>\n",
       "      <th>36243</th>\n",
       "      <td>Lagator Pl.csv</td>\n",
       "      <td>NaN</td>\n",
       "      <td>GCGCCCGCTGATCCTCCTCGAGGATAAATATTACACACAGGTGGTG...</td>\n",
       "      <td>NaN</td>\n",
       "      <td>-1.473306</td>\n",
       "      <td>0.108196</td>\n",
       "    </tr>\n",
       "  </tbody>\n",
       "</table>\n",
       "</div>"
      ],
      "text/plain": [
       "                             File Name          Upstream DNA  \\\n",
       "3287       La Fleur et al (Fig 3a).csv  CTCGGTACCAAATTCCAGAA   \n",
       "8661   Urtecho et al (Fig 3c, S7b).csv                   NaN   \n",
       "15653  Urtecho et al (Fig 3c, S7b).csv                   NaN   \n",
       "41540                   Lagator Pr.csv                   NaN   \n",
       "36243                   Lagator Pl.csv                   NaN   \n",
       "\n",
       "                                       Promoter Sequence  \\\n",
       "3287   TTTTCTATCTACGTACTCTTGGCTATTTCCTATTTCTCTTATAATT...   \n",
       "8661   TTGCGGTTTTTTCGGTTCAATCACCGCCTGCTGACGAGCTGGGCGC...   \n",
       "15653  AGCCGCTTTTAGCGGACGACGTGAGTAAACAAAACCCAGACATCAT...   \n",
       "41540  GCGCCCGCTGATCCTCCTCGAGGATAAATATCTAATACCGTGCGTG...   \n",
       "36243  GCGCCCGCTGATCCTCCTCGAGGATAAATATTACACACAGGTGGTG...   \n",
       "\n",
       "             Downstream DNA  Observed log(TX/Txref)  Normalized Expression  \n",
       "3287   GAATTCGATCAAATTTCGAG               -2.529635               0.185770  \n",
       "8661                    NaN               -1.505491               0.110559  \n",
       "15653                   NaN               -1.700999               0.124917  \n",
       "41540                   NaN               -5.049856               0.370848  \n",
       "36243                   NaN               -1.473306               0.108196  "
      ]
     },
     "execution_count": 3,
     "metadata": {},
     "output_type": "execute_result"
    }
   ],
   "source": [
    "train_df.head()"
   ]
  },
  {
   "cell_type": "code",
   "execution_count": 4,
   "metadata": {},
   "outputs": [],
   "source": [
    "# Save the training and testing data as CSV files\n",
    "train_df.to_csv('../Data/Train Test/train_data.csv', index=False)\n",
    "test_df.to_csv('../Data/Train Test/test_data.csv', index=False)"
   ]
  }
 ],
 "metadata": {
  "kernelspec": {
   "display_name": "Python 3",
   "language": "python",
   "name": "python3"
  },
  "language_info": {
   "codemirror_mode": {
    "name": "ipython",
    "version": 3
   },
   "file_extension": ".py",
   "mimetype": "text/x-python",
   "name": "python",
   "nbconvert_exporter": "python",
   "pygments_lexer": "ipython3",
   "version": "3.12.3"
  }
 },
 "nbformat": 4,
 "nbformat_minor": 2
}
