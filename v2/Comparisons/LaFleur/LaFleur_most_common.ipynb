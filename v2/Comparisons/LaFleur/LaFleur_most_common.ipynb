{
 "cells": [
  {
   "cell_type": "code",
   "execution_count": 1,
   "metadata": {},
   "outputs": [],
   "source": [
    "import pandas as pd\n",
    "import numpy as np\n",
    "from scipy import stats\n",
    "import seaborn as sns\n",
    "import matplotlib.pyplot as plt\n"
   ]
  },
  {
   "cell_type": "code",
   "execution_count": 2,
   "metadata": {},
   "outputs": [],
   "source": [
    "df = pd.read_csv('../../data/41467_2022_32829_MOESM5_ESM.csv')"
   ]
  },
  {
   "cell_type": "code",
   "execution_count": 3,
   "metadata": {},
   "outputs": [
    {
     "name": "stdout",
     "output_type": "stream",
     "text": [
      "UP : TTTTCTATCTACGTAC\n",
      "h35 : TTGACA\n",
      "spacs : CTATTTCCTATTTCTCT\n",
      "h10 : TATAAT\n",
      "disc : TTGTGTT\n",
      "ITR : CTCTACCTTAGTTTGTACGTT\n"
     ]
    }
   ],
   "source": [
    "# Most common sequences\n",
    "\n",
    "for col in ['UP', 'h35', 'spacs', 'h10', 'disc', 'ITR']:\n",
    "    print(f\"{col} : {df[col].value_counts().idxmax()}\")"
   ]
  },
  {
   "cell_type": "code",
   "execution_count": 4,
   "metadata": {},
   "outputs": [
    {
     "data": {
      "text/html": [
       "<div>\n",
       "<style scoped>\n",
       "    .dataframe tbody tr th:only-of-type {\n",
       "        vertical-align: middle;\n",
       "    }\n",
       "\n",
       "    .dataframe tbody tr th {\n",
       "        vertical-align: top;\n",
       "    }\n",
       "\n",
       "    .dataframe thead th {\n",
       "        text-align: right;\n",
       "    }\n",
       "</style>\n",
       "<table border=\"1\" class=\"dataframe\">\n",
       "  <thead>\n",
       "    <tr style=\"text-align: right;\">\n",
       "      <th></th>\n",
       "      <th>UP</th>\n",
       "      <th>h35</th>\n",
       "      <th>spacs</th>\n",
       "      <th>h10</th>\n",
       "      <th>disc</th>\n",
       "      <th>ITR</th>\n",
       "    </tr>\n",
       "  </thead>\n",
       "  <tbody>\n",
       "    <tr>\n",
       "      <th>count</th>\n",
       "      <td>13481.000000</td>\n",
       "      <td>13481.0</td>\n",
       "      <td>13481.000000</td>\n",
       "      <td>13481.0</td>\n",
       "      <td>13481.000000</td>\n",
       "      <td>13481.000000</td>\n",
       "    </tr>\n",
       "    <tr>\n",
       "      <th>mean</th>\n",
       "      <td>16.561828</td>\n",
       "      <td>6.0</td>\n",
       "      <td>16.935613</td>\n",
       "      <td>6.0</td>\n",
       "      <td>7.001854</td>\n",
       "      <td>20.957718</td>\n",
       "    </tr>\n",
       "    <tr>\n",
       "      <th>std</th>\n",
       "      <td>1.678029</td>\n",
       "      <td>0.0</td>\n",
       "      <td>0.975368</td>\n",
       "      <td>0.0</td>\n",
       "      <td>0.069416</td>\n",
       "      <td>0.201239</td>\n",
       "    </tr>\n",
       "    <tr>\n",
       "      <th>min</th>\n",
       "      <td>16.000000</td>\n",
       "      <td>6.0</td>\n",
       "      <td>1.000000</td>\n",
       "      <td>6.0</td>\n",
       "      <td>6.000000</td>\n",
       "      <td>20.000000</td>\n",
       "    </tr>\n",
       "    <tr>\n",
       "      <th>25%</th>\n",
       "      <td>16.000000</td>\n",
       "      <td>6.0</td>\n",
       "      <td>17.000000</td>\n",
       "      <td>6.0</td>\n",
       "      <td>7.000000</td>\n",
       "      <td>21.000000</td>\n",
       "    </tr>\n",
       "    <tr>\n",
       "      <th>50%</th>\n",
       "      <td>16.000000</td>\n",
       "      <td>6.0</td>\n",
       "      <td>17.000000</td>\n",
       "      <td>6.0</td>\n",
       "      <td>7.000000</td>\n",
       "      <td>21.000000</td>\n",
       "    </tr>\n",
       "    <tr>\n",
       "      <th>75%</th>\n",
       "      <td>16.000000</td>\n",
       "      <td>6.0</td>\n",
       "      <td>17.000000</td>\n",
       "      <td>6.0</td>\n",
       "      <td>7.000000</td>\n",
       "      <td>21.000000</td>\n",
       "    </tr>\n",
       "    <tr>\n",
       "      <th>max</th>\n",
       "      <td>22.000000</td>\n",
       "      <td>6.0</td>\n",
       "      <td>31.000000</td>\n",
       "      <td>6.0</td>\n",
       "      <td>8.000000</td>\n",
       "      <td>21.000000</td>\n",
       "    </tr>\n",
       "  </tbody>\n",
       "</table>\n",
       "</div>"
      ],
      "text/plain": [
       "                 UP      h35         spacs      h10          disc  \\\n",
       "count  13481.000000  13481.0  13481.000000  13481.0  13481.000000   \n",
       "mean      16.561828      6.0     16.935613      6.0      7.001854   \n",
       "std        1.678029      0.0      0.975368      0.0      0.069416   \n",
       "min       16.000000      6.0      1.000000      6.0      6.000000   \n",
       "25%       16.000000      6.0     17.000000      6.0      7.000000   \n",
       "50%       16.000000      6.0     17.000000      6.0      7.000000   \n",
       "75%       16.000000      6.0     17.000000      6.0      7.000000   \n",
       "max       22.000000      6.0     31.000000      6.0      8.000000   \n",
       "\n",
       "                ITR  \n",
       "count  13481.000000  \n",
       "mean      20.957718  \n",
       "std        0.201239  \n",
       "min       20.000000  \n",
       "25%       21.000000  \n",
       "50%       21.000000  \n",
       "75%       21.000000  \n",
       "max       21.000000  "
      ]
     },
     "execution_count": 4,
     "metadata": {},
     "output_type": "execute_result"
    }
   ],
   "source": [
    "# Create a DataFrame with the length of each entry\n",
    "lengths_df = df[['UP', 'h35', 'spacs', 'h10', 'disc', 'ITR']].map(len)\n",
    "\n",
    "lengths_df.describe()"
   ]
  },
  {
   "cell_type": "code",
   "execution_count": 5,
   "metadata": {},
   "outputs": [
    {
     "data": {
      "image/png": "[encoded data removed]",
      "text/plain": [
       "<Figure size 640x480 with 1 Axes>"
      ]
     },
     "metadata": {},
     "output_type": "display_data"
    }
   ],
   "source": [
    "lengths_df.plot(kind='box')\n",
    "plt.title('Length Distribution of Entries in Columns')\n",
    "plt.ylabel('Length')\n",
    "plt.show()"
   ]
  }
 ],
 "metadata": {
  "kernelspec": {
   "display_name": "Python 3",
   "language": "python",
   "name": "python3"
  },
  "language_info": {
   "codemirror_mode": {
    "name": "ipython",
    "version": 3
   },
   "file_extension": ".py",
   "mimetype": "text/x-python",
   "name": "python",
   "nbconvert_exporter": "python",
   "pygments_lexer": "ipython3",
   "version": "3.9.6"
  }
 },
 "nbformat": 4,
 "nbformat_minor": 2
}
