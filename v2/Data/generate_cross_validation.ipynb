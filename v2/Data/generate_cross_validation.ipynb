{
 "cells": [
  {
   "cell_type": "markdown",
   "metadata": {},
   "source": [
    "# Description\n",
    "\n",
    "Generates the training and testing CSVs used for CNN_6_3 and after. Details:\n",
    " - Splits by file\n",
    " - Noramlizes the expression from 0 (no expression) to 1 (highest expression). This is the inverse of 'Observed log(TX/Txref)'\n",
    "\n",
    "It does not include augmented data, just takes the data from La Fleur's supplemental materials including:\n",
    " - La Fleur et al (and De Novo Designs)\n",
    " - Urtecho et al\n",
    " - Hossain et al\n",
    " - Yu et al\n",
    " - Lagator (36N, Pl, and Pr)\n",
    " - Anderson Series"
   ]
  },
  {
   "cell_type": "code",
   "execution_count": 1,
   "metadata": {},
   "outputs": [],
   "source": [
    "import pandas as pd\n",
    "from sklearn.preprocessing import MinMaxScaler\n",
    "import glob"
   ]
  },
  {
   "cell_type": "code",
   "execution_count": 2,
   "metadata": {},
   "outputs": [],
   "source": [
    "# Each of the files used in the model training and testing\n",
    "\n",
    "file_names = {'La_Fleur_et_al',\n",
    "              'Urtecho_et_al',\n",
    "              'Hossain_et_al',\n",
    "              'Yu_et_al',\n",
    "              'Lagator_36N',\n",
    "              'Lagator_Pl',\n",
    "              'Lagator_Pr',\n",
    "              'Anderson_Series',\n",
    "              'De_Novo_Designs',\n",
    "}"
   ]
  },
  {
   "cell_type": "code",
   "execution_count": 3,
   "metadata": {},
   "outputs": [
    {
     "name": "stdout",
     "output_type": "stream",
     "text": [
      "Saved ../Data/LaFleur_supp/La_Fleur_et_al.csv\n",
      "Saved ../Data/LaFleur_supp/La_Fleur_et_al.csv\n",
      "Saved ../Data/LaFleur_supp/Urtecho_et_al.csv\n",
      "Saved ../Data/LaFleur_supp/Hossain_et_al.csv\n",
      "Saved ../Data/LaFleur_supp/Yu_et_al.csv\n",
      "Saved ../Data/LaFleur_supp/Lagator_36N.csv\n",
      "Saved ../Data/LaFleur_supp/Lagator_Pl.csv\n",
      "Saved ../Data/LaFleur_supp/Lagator_Pr.csv\n",
      "Saved ../Data/LaFleur_supp/Anderson_Series.csv\n",
      "Saved ../Data/LaFleur_supp/De_Novo_Designs.csv\n"
     ]
    }
   ],
   "source": [
    "excel_file = '../Data/LaFleur/41467_2022_32829_MOESM5_ESM.xlsx'\n",
    "xls = pd.ExcelFile(excel_file)\n",
    "\n",
    "for sheet_name in xls.sheet_names:\n",
    "    new_sheet_name = sheet_name.split(\" (\")[0].replace(' ', '_')\n",
    "    if not new_sheet_name in file_names:\n",
    "        continue\n",
    "    df = xls.parse(sheet_name)\n",
    "    output_csv = f'../Data/LaFleur_supp/{new_sheet_name}.csv'\n",
    "\n",
    "    df.to_csv(output_csv, index=False)\n",
    "    print(f\"Saved {output_csv}\")\n"
   ]
  },
  {
   "cell_type": "code",
   "execution_count": 4,
   "metadata": {},
   "outputs": [],
   "source": [
    "# Load all unprocessed select data\n",
    "files = glob.glob('../Data/LaFleur_supp/*.csv')\n",
    "data = []\n",
    "\n",
    "# Read and concatenate data for fitting the scaler\n",
    "for file in files:\n",
    "    df = pd.read_csv(file)\n",
    "    if 'Sequence' in df.columns:\n",
    "        df = df.rename(columns={'Sequence': 'Promoter Sequence'})\n",
    "    df['Promoter Sequence'] = df['Promoter Sequence'].astype(str).str.upper()\n",
    "    df['File Name'] = file.split('\\\\')[-1]\n",
    "    data.append(df[['File Name', 'Promoter Sequence', 'Observed log(TX/Txref)']])\n",
    "\n",
    "# Concatenate all data into a single DataFrame\n",
    "concatenated_data = pd.concat(data, ignore_index=True)\n",
    "scaler = MinMaxScaler()\n",
    "concatenated_data['Normalized Expression'] = scaler.fit_transform(concatenated_data[['Observed log(TX/Txref)']].abs())\n",
    "concatenated_data.to_csv('../Data/Cross Validation/all_data.csv', index=False)"
   ]
  },
  {
   "cell_type": "code",
   "execution_count": 5,
   "metadata": {},
   "outputs": [
    {
     "name": "stdout",
     "output_type": "stream",
     "text": [
      "../Data/LaFleur_supp\\Anderson_Series.csv - 0 NaN values dropped\n",
      "../Data/LaFleur_supp\\De_Novo_Designs.csv - 0 NaN values dropped\n",
      "../Data/LaFleur_supp\\Hossain_et_al.csv - 0 NaN values dropped\n",
      "../Data/LaFleur_supp\\Lagator_36N.csv - 0 NaN values dropped\n",
      "../Data/LaFleur_supp\\Lagator_Pl.csv - 0 NaN values dropped\n",
      "../Data/LaFleur_supp\\Lagator_Pr.csv - 0 NaN values dropped\n",
      "../Data/LaFleur_supp\\La_Fleur_et_al.csv - 0 NaN values dropped\n",
      "../Data/LaFleur_supp\\Urtecho_et_al.csv - 0 NaN values dropped\n",
      "../Data/LaFleur_supp\\Yu_et_al.csv - 0 NaN values dropped\n"
     ]
    }
   ],
   "source": [
    "for file in files:\n",
    "    df = pd.read_csv(file)\n",
    "    if 'Sequence' in df.columns:\n",
    "        df = df.rename(columns={'Sequence': 'Promoter Sequence'})\n",
    "    df['Promoter Sequence'] = df['Promoter Sequence'].astype(str).str.upper()\n",
    "    df['Normalized Expression'] = scaler.transform(df[['Observed log(TX/Txref)']].abs())\n",
    "\n",
    "    df = df[['Promoter Sequence', 'Normalized Expression']]\n",
    "\n",
    "    print(f'{file} - {len(df) - len(df.dropna())} NaN values dropped')\n",
    "    df = df.dropna()\n",
    "    \n",
    "    df.to_csv(file.replace('LaFleur_supp', 'Cross Validation'), index=False)"
   ]
  }
 ],
 "metadata": {
  "kernelspec": {
   "display_name": "Python 3",
   "language": "python",
   "name": "python3"
  },
  "language_info": {
   "codemirror_mode": {
    "name": "ipython",
    "version": 3
   },
   "file_extension": ".py",
   "mimetype": "text/x-python",
   "name": "python",
   "nbconvert_exporter": "python",
   "pygments_lexer": "ipython3",
   "version": "3.12.3"
  }
 },
 "nbformat": 4,
 "nbformat_minor": 2
}
