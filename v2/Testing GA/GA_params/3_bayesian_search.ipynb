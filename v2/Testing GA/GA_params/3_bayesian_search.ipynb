{
 "cells": [
  {
   "cell_type": "markdown",
   "metadata": {},
   "source": [
    "#### Parameter Grid Search\n",
    "\n",
    "This code does broad grid search for each parameter (or combination if interdependant) seperately. Then, we repeat the grid searh, narrowing in on the minimum error and run time combinations."
   ]
  },
  {
   "cell_type": "code",
   "execution_count": null,
   "metadata": {},
   "outputs": [],
   "source": [
    "import matplotlib.pyplot as plt\n",
    "import numpy as np\n",
    "import seaborn as sns\n",
    "import pandas as pd\n",
    "import time\n",
    "from tqdm import tqdm\n",
    "\n",
    "from GA_params_class.GeneticAlgorithm import GeneticAlgorithm\n",
    "from function_module import *"
   ]
  },
  {
   "cell_type": "code",
   "execution_count": null,
   "metadata": {},
   "outputs": [],
   "source": [
    "cnn_model_path = '../../Models/CNN_6_1_2.keras'\n",
    "masked_sequence = 'AATACTAGAGGTCTTCCGACNNNNNNNNNNNNNNNNNNNNNNNNNNNNNNGTGTGGGCGGGAAGACAACTAGGGG'\n",
    "target_expressions = [0]\n",
    "precision = None\n",
    "verbose = 0\n",
    "lieages = 10"
   ]
  },
  {
   "cell_type": "code",
   "execution_count": null,
   "metadata": {},
   "outputs": [],
   "source": [
    "# Parameters for full factorial design testing\n",
    "# Does not include pop_size, islands, gene_flow_rate, num_competitors, boltzmann_temperature\n",
    "\n",
    "param_ranges = {\n",
    "    'generations' : np.linspace(50, 500, 5, dtype=int),\n",
    "    'base_mutation_rate' : np.linspace(0.1, 1, 5, dtype=float),\n",
    "    'chromosomes' : np.linspace(1, 30, 5, dtype=int), # The masked region is 30 nucleotides long. When chromosomes=30, each nucleotide is a chromosome\n",
    "    'elitist_rate' : np.linspace(0.1, 1, 5, dtype=float),\n",
    "    'surval_rate' : np.linspace(0.1, 1, 5, dtype=float),\n",
    "    'num_parents' : np.linspace(1, 10, 5, dtype=int),\n",
    "    'selection' : ['tournament', 'tournament_pop', 'roulette', 'linear_scaling', 'rank_based', 'sus', 'truncation'], # does not include 'boltzmann' (see 1_sub_params.ipynb)\n",
    "}"
   ]
  }
 ],
 "metadata": {
  "kernelspec": {
   "display_name": "Python 3",
   "language": "python",
   "name": "python3"
  },
  "language_info": {
   "codemirror_mode": {
    "name": "ipython",
    "version": 3
   },
   "file_extension": ".py",
   "mimetype": "text/x-python",
   "name": "python",
   "nbconvert_exporter": "python",
   "pygments_lexer": "ipython3",
   "version": "3.12.3"
  }
 },
 "nbformat": 4,
 "nbformat_minor": 2
}
