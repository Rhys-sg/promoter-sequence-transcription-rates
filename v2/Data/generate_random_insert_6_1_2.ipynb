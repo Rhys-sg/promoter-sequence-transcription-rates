{
 "cells": [
  {
   "cell_type": "markdown",
   "metadata": {},
   "source": [
    "# Description\n",
    "\n",
    "Augments the data by masking a random section, infilling it with a random sequence, and getting the predicted expression of the new sequence using CNN_6_1\n",
    "\n",
    "The CVAEs then receive the masked sequence and one of the new expression values and try to infill the sequence. This ensures that for each sequence, we are giving training data that shows the variety that masking can achieve."
   ]
  },
  {
   "cell_type": "code",
   "execution_count": 1,
   "metadata": {},
   "outputs": [],
   "source": [
    "import keras\n",
    "import pandas as pd\n",
    "\n",
    "from generate_random_insert_6_1_2 import *"
   ]
  },
  {
   "cell_type": "code",
   "execution_count": 2,
   "metadata": {},
   "outputs": [
    {
     "name": "stderr",
     "output_type": "stream",
     "text": [
      "c:\\Users\\rsore\\anaconda3\\envs\\TX_prediction\\Lib\\site-packages\\keras\\src\\saving\\saving_lib.py:719: UserWarning: Skipping variable loading for optimizer 'adam', because it has 34 variables whereas the saved optimizer has 2 variables. \n",
      "  saveable.load_own_variables(weights_store.get(inner_path))\n"
     ]
    }
   ],
   "source": [
    "df = pd.read_csv('../Data/Combined/LaFleur_supp.csv')\n",
    "cnn = keras.models.load_model('../Models/CNN_6_1_2.keras')"
   ]
  },
  {
   "cell_type": "code",
   "execution_count": 4,
   "metadata": {},
   "outputs": [],
   "source": [
    "new_df = mask_predict_data(df, cnn, num_masks=2, num_inserts=0, min_mask=5, max_mask=25)"
   ]
  },
  {
   "cell_type": "code",
   "execution_count": null,
   "metadata": {},
   "outputs": [
    {
     "data": {
      "text/html": [
       "<div>\n",
       "<style scoped>\n",
       "    .dataframe tbody tr th:only-of-type {\n",
       "        vertical-align: middle;\n",
       "    }\n",
       "\n",
       "    .dataframe tbody tr th {\n",
       "        vertical-align: top;\n",
       "    }\n",
       "\n",
       "    .dataframe thead th {\n",
       "        text-align: right;\n",
       "    }\n",
       "</style>\n",
       "<table border=\"1\" class=\"dataframe\">\n",
       "  <thead>\n",
       "    <tr style=\"text-align: right;\">\n",
       "      <th></th>\n",
       "      <th>Masked Promoter Sequence</th>\n",
       "      <th>Infilled Promoter Sequence</th>\n",
       "      <th>Mask Length</th>\n",
       "      <th>Mask Start</th>\n",
       "      <th>Expressions</th>\n",
       "    </tr>\n",
       "  </thead>\n",
       "  <tbody>\n",
       "    <tr>\n",
       "      <th>0</th>\n",
       "      <td>TTTNNTATCTACGTACTTGACACTATTTCCTATTTCTCTTATAATC...</td>\n",
       "      <td>TTTTCTATCTACGTACTTGACACTATTTCCTATTTCTCTTATAATC...</td>\n",
       "      <td>2</td>\n",
       "      <td>3</td>\n",
       "      <td>0.233124</td>\n",
       "    </tr>\n",
       "    <tr>\n",
       "      <th>1</th>\n",
       "      <td>TTTTCTATCTACGTACTTGACACTATTTCCTNNNNNTCTTATAATC...</td>\n",
       "      <td>TTTTCTATCTACGTACTTGACACTATTTCCTATTTCTCTTATAATC...</td>\n",
       "      <td>5</td>\n",
       "      <td>31</td>\n",
       "      <td>0.233124</td>\n",
       "    </tr>\n",
       "    <tr>\n",
       "      <th>2</th>\n",
       "      <td>TTTTCTATCTACGTACTNNNNACTATTTCCTATTTCTCTTATAATG...</td>\n",
       "      <td>TTTTCTATCTACGTACTTGACACTATTTCCTATTTCTCTTATAATG...</td>\n",
       "      <td>4</td>\n",
       "      <td>17</td>\n",
       "      <td>0.229442</td>\n",
       "    </tr>\n",
       "    <tr>\n",
       "      <th>3</th>\n",
       "      <td>TTTTCTATCTACGTACTTGACACTATTTCCTATTTCTCTTATAATG...</td>\n",
       "      <td>TTTTCTATCTACGTACTTGACACTATTTCCTATTTCTCTTATAATG...</td>\n",
       "      <td>2</td>\n",
       "      <td>69</td>\n",
       "      <td>0.229442</td>\n",
       "    </tr>\n",
       "    <tr>\n",
       "      <th>4</th>\n",
       "      <td>TTTTCTATCTACGTACTTGACACTATTTCCTATTTCTCTTATAATC...</td>\n",
       "      <td>TTTTCTATCTACGTACTTGACACTATTTCCTATTTCTCTTATAATC...</td>\n",
       "      <td>2</td>\n",
       "      <td>54</td>\n",
       "      <td>0.236724</td>\n",
       "    </tr>\n",
       "  </tbody>\n",
       "</table>\n",
       "</div>"
      ],
      "text/plain": [
       "                            Masked Promoter Sequence  \\\n",
       "0  TTTNNTATCTACGTACTTGACACTATTTCCTATTTCTCTTATAATC...   \n",
       "1  TTTTCTATCTACGTACTTGACACTATTTCCTNNNNNTCTTATAATC...   \n",
       "2  TTTTCTATCTACGTACTNNNNACTATTTCCTATTTCTCTTATAATG...   \n",
       "3  TTTTCTATCTACGTACTTGACACTATTTCCTATTTCTCTTATAATG...   \n",
       "4  TTTTCTATCTACGTACTTGACACTATTTCCTATTTCTCTTATAATC...   \n",
       "\n",
       "                          Infilled Promoter Sequence  Mask Length  Mask Start  \\\n",
       "0  TTTTCTATCTACGTACTTGACACTATTTCCTATTTCTCTTATAATC...            2           3   \n",
       "1  TTTTCTATCTACGTACTTGACACTATTTCCTATTTCTCTTATAATC...            5          31   \n",
       "2  TTTTCTATCTACGTACTTGACACTATTTCCTATTTCTCTTATAATG...            4          17   \n",
       "3  TTTTCTATCTACGTACTTGACACTATTTCCTATTTCTCTTATAATG...            2          69   \n",
       "4  TTTTCTATCTACGTACTTGACACTATTTCCTATTTCTCTTATAATC...            2          54   \n",
       "\n",
       "   Expressions  \n",
       "0     0.233124  \n",
       "1     0.233124  \n",
       "2     0.229442  \n",
       "3     0.229442  \n",
       "4     0.236724  "
      ]
     },
     "execution_count": 4,
     "metadata": {},
     "output_type": "execute_result"
    }
   ],
   "source": [
    "new_df.head()"
   ]
  },
  {
   "cell_type": "code",
   "execution_count": 5,
   "metadata": {},
   "outputs": [],
   "source": [
    "new_df.to_csv('../Data/Augmented/augmented_train_data_6_1_2.csv', index=False)"
   ]
  }
 ],
 "metadata": {
  "kernelspec": {
   "display_name": "Python 3",
   "language": "python",
   "name": "python3"
  },
  "language_info": {
   "codemirror_mode": {
    "name": "ipython",
    "version": 3
   },
   "file_extension": ".py",
   "mimetype": "text/x-python",
   "name": "python",
   "nbconvert_exporter": "python",
   "pygments_lexer": "ipython3",
   "version": "3.12.3"
  }
 },
 "nbformat": 4,
 "nbformat_minor": 2
}
