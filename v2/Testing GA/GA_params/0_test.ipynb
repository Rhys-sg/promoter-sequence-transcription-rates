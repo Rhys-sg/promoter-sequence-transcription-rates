{
 "cells": [
  {
   "cell_type": "code",
   "execution_count": 1,
   "metadata": {},
   "outputs": [],
   "source": [
    "import matplotlib.pyplot as plt\n",
    "import numpy as np\n",
    "import seaborn as sns\n",
    "import pandas as pd\n",
    "import time\n",
    "\n",
    "from GA_params_test import GeneticAlgorithm\n",
    "\n",
    "cnn_model_path = '../../Models/CNN_6_1_2.keras'\n",
    "masked_sequence = 'AATACTAGAGGTCTTCCGACNNNNNNNNNNNNNNNNNNNNNNNNNNNNNNGTGTGGGCGGGAAGACAACTAGGGG'\n",
    "target_expression = 0\n",
    "precision = 0.001\n",
    "lineages = 1\n",
    "verbose = 1"
   ]
  },
  {
   "cell_type": "code",
   "execution_count": 14,
   "metadata": {},
   "outputs": [],
   "source": [
    "def test_combination(**kwargs):\n",
    "    run_times = []\n",
    "    errors = []\n",
    "    \n",
    "    ga = GeneticAlgorithm(\n",
    "        cnn_model_path=cnn_model_path,\n",
    "        masked_sequence=masked_sequence,\n",
    "        target_expression=target_expression,\n",
    "        precision=precision,\n",
    "        verbose=verbose,\n",
    "        seed=0,\n",
    "        **kwargs\n",
    "    )\n",
    "    # Time the run\n",
    "    start_time = time.time()\n",
    "    best_sequences, best_predictions = ga.run(lineages)\n",
    "    end_time = time.time()\n",
    "\n",
    "    # Record the results\n",
    "    errors.extend(abs(prediction - target_expression) for prediction in best_predictions)\n",
    "    run_times.append((end_time - start_time) / lineages)\n",
    "\n",
    "    return errors, run_times \n",
    "\n",
    "def test_range(**kwargs):\n",
    "    errors = []\n",
    "    run_times = []\n",
    "    \n",
    "    # Loop through provided ranges\n",
    "    for key, values in kwargs.items():\n",
    "        for value in values:\n",
    "            param = {key: value}  # Create dynamic kwargs\n",
    "            error, run_time = test_combination(**param)  # Unpack dynamic kwargs\n",
    "            errors.append(error)\n",
    "            run_times.append(run_times)\n",
    "\n",
    "    return errors, run_times\n",
    "\n",
    "def scatter_plot_plr(x, y, title, x_label, y_label, degrees):\n",
    "\n",
    "    x = np.array(x, dtype=float)\n",
    "    y = np.array(y, dtype=float)\n",
    "\n",
    "    plt.scatter(x, y)\n",
    "    \n",
    "    # Polynomial regression\n",
    "    coeffs = np.polyfit(x, y, degrees)\n",
    "    poly_eqn = np.poly1d(coeffs)\n",
    "    \n",
    "    # Generate x values for the regression line\n",
    "    x_fit = np.linspace(min(x), max(x), 500)\n",
    "    y_fit = poly_eqn(x_fit)\n",
    "    \n",
    "    # Plot polynomial regression line\n",
    "    plt.plot(x_fit, y_fit, color='red', label=f\"Polynomial Fit (degree {degrees})\")\n",
    "    \n",
    "    # Adding titles and labels\n",
    "    plt.title(title)\n",
    "    plt.xlabel(x_label)\n",
    "    plt.ylabel(y_label)\n",
    "    plt.legend()\n",
    "    plt.show()"
   ]
  },
  {
   "cell_type": "code",
   "execution_count": 7,
   "metadata": {},
   "outputs": [
    {
     "name": "stdout",
     "output_type": "stream",
     "text": [
      "Lineage 1 Complete: Best TX rate: 0.1537 | Best Sequence: TCTTTGAATTGGACGCGCCTTTCGTTCTCC\n",
      "Lineage 1 Complete: Best TX rate: 0.1460 | Best Sequence: GCTTTGTCTTGGCTGCCGTGCTACAGTGCA\n",
      "Lineage 1 Complete: Best TX rate: 0.1458 | Best Sequence: CTCATGTGGCCAATCCCGCCCTTGTTGCCC\n",
      "Lineage 1 Complete: Best TX rate: 0.1296 | Best Sequence: GCCAATTCGTCATTGCCTTTCGGCGCTGAG\n",
      "Lineage 1 Complete: Best TX rate: 0.1381 | Best Sequence: CTAATCTTGCCAAAGCCCCTTTTGTTGTCG\n",
      "Lineage 1 Complete: Best TX rate: 0.1407 | Best Sequence: CATTTGCATTGCCCCCGCGTTGTGTCGGCG\n",
      "Lineage 1 Complete: Best TX rate: 0.1585 | Best Sequence: CATGCGTAACCCGTCCCCCTTTCGTTGACG\n",
      "Lineage 1 Complete: Best TX rate: 0.1234 | Best Sequence: CCCTAATGGCCATTCCCCCTATTGTTGACG\n",
      "Lineage 1 Complete: Best TX rate: 0.1429 | Best Sequence: CTTATGTGACCACTTGCCCTTGTTGGCGTT\n",
      "Lineage 1 Complete: Best TX rate: 0.1596 | Best Sequence: TCCTTTGGAACTGACCGCCTTGGCTGTTTC\n",
      "Lineage 1 Complete: Best TX rate: 0.1616 | Best Sequence: GCCAATTTGTCGGAGCCTTCCAGCGATGCC\n",
      "Lineage 1 Complete: Best TX rate: 0.1448 | Best Sequence: CTATTCGTCTTCCCGCCATTATGTTGTCGG\n",
      "Lineage 1 Complete: Best TX rate: 0.1369 | Best Sequence: CCCTAATGGCCATTCCCCCTTTCTTGCAGC\n",
      "Lineage 1 Complete: Best TX rate: 0.1418 | Best Sequence: CTAATGTGACCAGTCCGCCTTTTGTTGGCG\n",
      "Lineage 1 Complete: Best TX rate: 0.1485 | Best Sequence: CTATTGCGTCGACCGCCTCTTGCCTTGATC\n",
      "Lineage 1 Complete: Best TX rate: 0.1371 | Best Sequence: CCTCTATGGCCATTCCCCCTTTCGTTGACG\n",
      "Lineage 1 Complete: Best TX rate: 0.1476 | Best Sequence: CTATTGCGACACCCACCTTCCTCTTGTTGC\n",
      "Lineage 1 Complete: Best TX rate: 0.1624 | Best Sequence: TACGTGGGGAATCCCAATTCCGTCTCTTGG\n",
      "Lineage 1 Complete: Best TX rate: 0.1502 | Best Sequence: CTCATATGCATTCCCCGTTCCTGCTGTTGG\n",
      "Lineage 1 Complete: Best TX rate: 0.1523 | Best Sequence: CTTCGTTAAGCAATCCCCCTTTCGTTGTCG\n"
     ]
    }
   ],
   "source": [
    "# Define ranges\n",
    "range_pop_size = np.linspace(10, 50, 20, dtype=int)\n",
    "errors, run_times = test_range(pop_size=range_pop_size)"
   ]
  },
  {
   "cell_type": "code",
   "execution_count": 15,
   "metadata": {},
   "outputs": [
    {
     "ename": "ValueError",
     "evalue": "Polynomial must be 1d only.",
     "output_type": "error",
     "traceback": [
      "\u001b[1;31m---------------------------------------------------------------------------\u001b[0m",
      "\u001b[1;31mValueError\u001b[0m                                Traceback (most recent call last)",
      "Cell \u001b[1;32mIn[15], line 1\u001b[0m\n\u001b[1;32m----> 1\u001b[0m \u001b[43mscatter_plot_plr\u001b[49m\u001b[43m(\u001b[49m\u001b[43mrange_pop_size\u001b[49m\u001b[43m,\u001b[49m\u001b[43m \u001b[49m\u001b[43merrors\u001b[49m\u001b[43m,\u001b[49m\u001b[43m \u001b[49m\u001b[38;5;124;43m'\u001b[39;49m\u001b[38;5;124;43mPopulation Size vs. Error\u001b[39;49m\u001b[38;5;124;43m'\u001b[39;49m\u001b[43m,\u001b[49m\u001b[43m \u001b[49m\u001b[38;5;124;43m'\u001b[39;49m\u001b[38;5;124;43mPopulation Size\u001b[39;49m\u001b[38;5;124;43m'\u001b[39;49m\u001b[43m,\u001b[49m\u001b[43m \u001b[49m\u001b[38;5;124;43m'\u001b[39;49m\u001b[38;5;124;43mError\u001b[39;49m\u001b[38;5;124;43m'\u001b[39;49m\u001b[43m,\u001b[49m\u001b[43m \u001b[49m\u001b[38;5;241;43m2\u001b[39;49m\u001b[43m)\u001b[49m\n",
      "Cell \u001b[1;32mIn[14], line 48\u001b[0m, in \u001b[0;36mscatter_plot_plr\u001b[1;34m(x, y, title, x_label, y_label, degrees)\u001b[0m\n\u001b[0;32m     46\u001b[0m \u001b[38;5;66;03m# Polynomial regression\u001b[39;00m\n\u001b[0;32m     47\u001b[0m coeffs \u001b[38;5;241m=\u001b[39m np\u001b[38;5;241m.\u001b[39mpolyfit(x, y, degrees)\n\u001b[1;32m---> 48\u001b[0m poly_eqn \u001b[38;5;241m=\u001b[39m \u001b[43mnp\u001b[49m\u001b[38;5;241;43m.\u001b[39;49m\u001b[43mpoly1d\u001b[49m\u001b[43m(\u001b[49m\u001b[43mcoeffs\u001b[49m\u001b[43m)\u001b[49m\n\u001b[0;32m     50\u001b[0m \u001b[38;5;66;03m# Generate x values for the regression line\u001b[39;00m\n\u001b[0;32m     51\u001b[0m x_fit \u001b[38;5;241m=\u001b[39m np\u001b[38;5;241m.\u001b[39mlinspace(\u001b[38;5;28mmin\u001b[39m(x), \u001b[38;5;28mmax\u001b[39m(x), \u001b[38;5;241m500\u001b[39m)\n",
      "File \u001b[1;32mc:\\Users\\rsore\\anaconda3\\envs\\TX_prediction\\Lib\\site-packages\\numpy\\lib\\polynomial.py:1245\u001b[0m, in \u001b[0;36mpoly1d.__init__\u001b[1;34m(self, c_or_r, r, variable)\u001b[0m\n\u001b[0;32m   1243\u001b[0m c_or_r \u001b[38;5;241m=\u001b[39m atleast_1d(c_or_r)\n\u001b[0;32m   1244\u001b[0m \u001b[38;5;28;01mif\u001b[39;00m c_or_r\u001b[38;5;241m.\u001b[39mndim \u001b[38;5;241m>\u001b[39m \u001b[38;5;241m1\u001b[39m:\n\u001b[1;32m-> 1245\u001b[0m     \u001b[38;5;28;01mraise\u001b[39;00m \u001b[38;5;167;01mValueError\u001b[39;00m(\u001b[38;5;124m\"\u001b[39m\u001b[38;5;124mPolynomial must be 1d only.\u001b[39m\u001b[38;5;124m\"\u001b[39m)\n\u001b[0;32m   1246\u001b[0m c_or_r \u001b[38;5;241m=\u001b[39m trim_zeros(c_or_r, trim\u001b[38;5;241m=\u001b[39m\u001b[38;5;124m'\u001b[39m\u001b[38;5;124mf\u001b[39m\u001b[38;5;124m'\u001b[39m)\n\u001b[0;32m   1247\u001b[0m \u001b[38;5;28;01mif\u001b[39;00m \u001b[38;5;28mlen\u001b[39m(c_or_r) \u001b[38;5;241m==\u001b[39m \u001b[38;5;241m0\u001b[39m:\n",
      "\u001b[1;31mValueError\u001b[0m: Polynomial must be 1d only."
     ]
    },
    {
     "data": {
      "image/png": "[encoded data removed]",
      "text/plain": [
       "<Figure size 640x480 with 1 Axes>"
      ]
     },
     "metadata": {},
     "output_type": "display_data"
    }
   ],
   "source": [
    "scatter_plot_plr(range_pop_size, errors, 'Population Size vs. Error', 'Population Size', 'Error', 2)"
   ]
  },
  {
   "cell_type": "code",
   "execution_count": 16,
   "metadata": {},
   "outputs": [
    {
     "data": {
      "text/plain": [
       "(array([10, 12, 14, 16, 18, 20, 22, 24, 26, 28, 31, 33, 35, 37, 39, 41, 43,\n",
       "        45, 47, 50]),\n",
       " [[0.15372155606746674],\n",
       "  [0.1459701657295227],\n",
       "  [0.14582782983779907],\n",
       "  [0.12958908081054688],\n",
       "  [0.1381097137928009],\n",
       "  [0.1406811624765396],\n",
       "  [0.15853801369667053],\n",
       "  [0.12341152131557465],\n",
       "  [0.14286790788173676],\n",
       "  [0.15956801176071167],\n",
       "  [0.16163262724876404],\n",
       "  [0.14475268125534058],\n",
       "  [0.13692070543766022],\n",
       "  [0.14179560542106628],\n",
       "  [0.14854496717453003],\n",
       "  [0.13708576560020447],\n",
       "  [0.14763377606868744],\n",
       "  [0.16239464282989502],\n",
       "  [0.15020090341567993],\n",
       "  [0.15229462087154388]])"
      ]
     },
     "execution_count": 16,
     "metadata": {},
     "output_type": "execute_result"
    }
   ],
   "source": [
    "range_pop_size, errors"
   ]
  }
 ],
 "metadata": {
  "kernelspec": {
   "display_name": "Python 3",
   "language": "python",
   "name": "python3"
  },
  "language_info": {
   "codemirror_mode": {
    "name": "ipython",
    "version": 3
   },
   "file_extension": ".py",
   "mimetype": "text/x-python",
   "name": "python",
   "nbconvert_exporter": "python",
   "pygments_lexer": "ipython3",
   "version": "3.12.3"
  }
 },
 "nbformat": 4,
 "nbformat_minor": 2
}
