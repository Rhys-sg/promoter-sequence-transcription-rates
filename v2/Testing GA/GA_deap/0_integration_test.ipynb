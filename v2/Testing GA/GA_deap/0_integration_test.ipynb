{
 "cells": [
  {
   "cell_type": "code",
   "execution_count": 1,
   "metadata": {},
   "outputs": [],
   "source": [
    "from GA.TestGeneticAlgorithm import GeneticAlgorithm"
   ]
  },
  {
   "cell_type": "code",
   "execution_count": 11,
   "metadata": {},
   "outputs": [],
   "source": [
    "kwargs = {\n",
    "    'cnn_model_path': '../../Models/CNN_7_0.keras',\n",
    "    'masked_sequence': 'AATACTAGAGGTCTTCCGACNNNNNNNNNNNNNNNNNNNNNNNNNNNNNNGTGTGGGCGGGAAGACAACTAGGGG',\n",
    "    'seed': 0,\n",
    "    # 'target_expression': -1,\n",
    "}"
   ]
  },
  {
   "cell_type": "code",
   "execution_count": 13,
   "metadata": {},
   "outputs": [
    {
     "name": "stdout",
     "output_type": "stream",
     "text": [
      "['AATACTAGAGGTCTTCCGACGGTCAGACTATAGCACCATAGCACCAATAGGTGTGGGCGGGAAGACAACTAGGGG']\n",
      "[-0.5000072]\n"
     ]
    }
   ],
   "source": [
    "ga = GeneticAlgorithm(\n",
    "    **kwargs,\n",
    "    target_expression=-0.5,\n",
    ")\n",
    "ga.run()\n",
    "print(ga.best_sequences)\n",
    "print(ga.best_predictions)\n"
   ]
  }
 ],
 "metadata": {
  "kernelspec": {
   "display_name": "Python 3",
   "language": "python",
   "name": "python3"
  },
  "language_info": {
   "codemirror_mode": {
    "name": "ipython",
    "version": 3
   },
   "file_extension": ".py",
   "mimetype": "text/x-python",
   "name": "python",
   "nbconvert_exporter": "python",
   "pygments_lexer": "ipython3",
   "version": "3.12.3"
  }
 },
 "nbformat": 4,
 "nbformat_minor": 2
}
