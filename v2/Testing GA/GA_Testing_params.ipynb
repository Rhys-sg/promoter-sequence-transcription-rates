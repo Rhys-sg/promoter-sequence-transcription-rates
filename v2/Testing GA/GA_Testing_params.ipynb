{
 "cells": [
  {
   "cell_type": "markdown",
   "metadata": {},
   "source": [
    "#### Description\n",
    "\n",
    "This code finds the optimal values the following parameters to minimize error and algorithm runtime. It uses the pLac promoter with the -10, spacer, and -35 removed. This algorithm can precisely explore the sequence landscape and find pLac inserts that meet the relative expressions of 0.1 and higher. Therefore, we optimize the algorithm parameters to find pLac inserts with relative expressions of 0.\n",
    "\n",
    "Parameters:\n",
    "* pop_size\n",
    "* generations\n",
    "* base_mutation_rate\n",
    "* chromosomes\n",
    "* islands\n",
    "    * gene_flow_rate\n",
    "* surval_rate\n",
    "* num_parents\n",
    "* num_competitors\n",
    "* selection\n",
    "    * boltzmann_temperature\n",
    "\n",
    "Notes:\n",
    "* In these tests, we find which parameters have interdependance or influence each other and grid search each parameter (or combination if correlated) seperately.\n",
    "* Because there is stochasticity in the results, we run each combination of parameters multiple times.\n",
    "* More robust testing may optimize for a grid or random relative expression levels."
   ]
  },
  {
   "cell_type": "code",
   "execution_count": 1,
   "metadata": {},
   "outputs": [],
   "source": [
    "import matplotlib.pyplot as plt\n",
    "import numpy as np\n",
    "import seaborn as sns\n",
    "import pandas as pd\n",
    "import time\n",
    "\n",
    "from GA_2_2 import GeneticAlgorithm\n",
    "\n",
    "cnn_model_path = '../Models/CNN_6_1_2.keras'\n",
    "masked_sequence = 'AATACTAGAGGTCTTCCGACNNNNNNNNNNNNNNNNNNNNNNNNNNNNNNTGTGGAGCGGGAAGACAACTAGGGG'\n",
    "target_expression = 0\n",
    "precision = 0.001\n",
    "run_per_combination = 20"
   ]
  },
  {
   "cell_type": "code",
   "execution_count": 2,
   "metadata": {},
   "outputs": [],
   "source": [
    "def test_combination(**kwargs):\n",
    "    errors = []\n",
    "    run_times = []\n",
    "    for run_id in range(run_per_combination):\n",
    "        ga = GeneticAlgorithm(\n",
    "            cnn_model_path=cnn_model_path,\n",
    "            masked_sequence=masked_sequence,\n",
    "            target_expression=target_expression,\n",
    "            precision=precision,\n",
    "            print_progress=False,\n",
    "            **kwargs\n",
    "        )\n",
    "        # Time the run\n",
    "        start_time = time.time()\n",
    "        best_sequence, best_prediction = ga.run()\n",
    "        end_time = time.time()\n",
    "\n",
    "        # Record the results\n",
    "        errors.append(abs(best_prediction - target_expression))\n",
    "        run_times.append(end_time - start_time)\n",
    "\n",
    "    return np.mean(errors), np.mean(run_times)\n",
    "\n",
    "def heatmap(results_df, index, columns):\n",
    "    error_pivot_table = results_df.pivot_table(values='error', index=index, columns=columns, aggfunc='mean')\n",
    "    runtime_pivot_table = results_df.pivot_table(values='run_time', index=index, columns=columns, aggfunc='mean')\n",
    "    fig, axes = plt.subplots(1, 2, figsize=(18, 6))\n",
    "\n",
    "    # Heatmap for Mean Error\n",
    "    sns.heatmap(error_pivot_table, annot=True, fmt=\".2f\", cmap=\"viridis\", ax=axes[0])\n",
    "    axes[0].set_title(f'Mean Error for {index} and {columns}')\n",
    "    axes[0].set_xlabel(columns)\n",
    "    axes[0].set_ylabel(index)\n",
    "\n",
    "    # Heatmap for Run Time\n",
    "    sns.heatmap(runtime_pivot_table, annot=True, fmt=\".2f\", cmap=\"viridis\", ax=axes[1])\n",
    "    axes[1].set_title(f'Run Time for {index} and {columns}')\n",
    "    axes[0].set_xlabel(columns)\n",
    "    axes[0].set_ylabel(index)\n",
    "\n",
    "    # Adjust layout for better display\n",
    "    plt.tight_layout()\n",
    "    plt.show()\n",
    "\n",
    "def scatter_plot(results_df, index, polynomial_degree):\n",
    "    # Create the subplots\n",
    "    fig, axes = plt.subplots(1, 2, figsize=(14, 6))\n",
    "\n",
    "    # Error vs Number of Parents\n",
    "    axes[0].scatter(results_df[index], results_df['error'], label='Error Data', alpha=0.7)\n",
    "    z_error_parents = np.polyfit(results_df[index], results_df['error'], polynomial_degree)\n",
    "    p_error_parents = np.poly1d(z_error_parents)\n",
    "    axes[0].plot(results_df[index], p_error_parents(results_df[index]), color='red', linestyle='--', label='Quadratic Best Fit')\n",
    "    axes[0].set_xlabel(index)\n",
    "    axes[0].set_ylabel('Error')\n",
    "    axes[0].set_title(f'Error vs {index}')\n",
    "    axes[0].legend()\n",
    "\n",
    "    # Runtime vs Number of Parents\n",
    "    axes[1].scatter(results_df[index], results_df['run_time'], label='Runtime Data', alpha=0.7)\n",
    "    z_runtime_parents = np.polyfit(results_df[index], results_df['run_time'], polynomial_degree)\n",
    "    p_runtime_parents = np.poly1d(z_runtime_parents)\n",
    "    axes[1].plot(results_df[index], p_runtime_parents(results_df[index]), color='blue', linestyle='--', label='Quadratic Best Fit')\n",
    "    axes[1].set_xlabel(index)\n",
    "    axes[1].set_ylabel('Runtime (s)')\n",
    "    axes[1].set_title(f'Runtime vs {index}')\n",
    "    axes[1].legend()"
   ]
  },
  {
   "cell_type": "markdown",
   "metadata": {},
   "source": [
    "#### Initializing sub-parameters\n",
    "\n",
    "Before interaction analysis, we know gene_flow_rate is directly related to islands and boltzmann_temperature is only needed for boltzmann selection. So we find the optimal values for these two parameters first, and set them in the interaction analysis.\n",
    "\n",
    "**An error occured while testing. You need to rerun this for anything final**"
   ]
  },
  {
   "cell_type": "code",
   "execution_count": null,
   "metadata": {},
   "outputs": [
    {
     "name": "stdout",
     "output_type": "stream",
     "text": [
      "WARNING:tensorflow:From c:\\Users\\rsore\\Documents\\GitHub\\promoter-sequence-transcription-rates\\v2\\Testing GA\\GA_2_2.py:147: _EagerTensorBase.cpu (from tensorflow.python.framework.ops) is deprecated and will be removed in a future version.\n",
      "Instructions for updating:\n",
      "Use tf.identity with explicit device placement instead.\n"
     ]
    },
    {
     "name": "stderr",
     "output_type": "stream",
     "text": [
      "c:\\Users\\rsore\\anaconda3\\envs\\TX_prediction\\Lib\\site-packages\\keras\\src\\saving\\saving_lib.py:719: UserWarning: Skipping variable loading for optimizer 'adam', because it has 34 variables whereas the saved optimizer has 2 variables. \n",
      "  saveable.load_own_variables(weights_store.get(inner_path))\n"
     ]
    },
    {
     "name": "stdout",
     "output_type": "stream",
     "text": [
      "Testing Combination 97/100\r"
     ]
    }
   ],
   "source": [
    "# For each combination of islands and gene flow rate, run the GA and record the results\n",
    "\n",
    "range_islands=np.linspace(1, 10, 10, dtype=int)\n",
    "range_gene_flow_rate=np.linspace(0.1, 1, 10, dtype=float)\n",
    "\n",
    "total_combinations = len(range_islands) * len(range_gene_flow_rate)\n",
    "current_combination = 0\n",
    "gene_flow_rate_results = []\n",
    "\n",
    "for islands in range_islands:\n",
    "    for gene_flow_rate in range_gene_flow_rate:\n",
    "        current_combination += 1\n",
    "        print(f'Testing Combination {current_combination}/{total_combinations}', end='\\r')\n",
    "        error, run_time = test_combination(\n",
    "            pop_size=100, # Just an initial value\n",
    "            islands=islands,\n",
    "            gene_flow_rate=gene_flow_rate\n",
    "        )\n",
    "\n",
    "        # Record the results\n",
    "        gene_flow_rate_results.append({\n",
    "            'islands': islands,\n",
    "            'gene_flow_rate': round(gene_flow_rate, 1),\n",
    "            'error': error,\n",
    "            'run_time': run_time\n",
    "        })\n",
    "\n",
    "gene_flow_rate_results_df = pd.DataFrame(gene_flow_rate_results)\n"
   ]
  },
  {
   "cell_type": "code",
   "execution_count": null,
   "metadata": {},
   "outputs": [],
   "source": [
    "heatmap(gene_flow_rate_results_df, 'islands', 'gene_flow_rate')\n",
    "scatter_plot(gene_flow_rate_results_df, 'islands', 2)\n",
    "scatter_plot(gene_flow_rate_results_df, 'gene_flow_rate', 2)"
   ]
  },
  {
   "cell_type": "code",
   "execution_count": null,
   "metadata": {},
   "outputs": [],
   "source": [
    "# Find optimal boltzmann_temperature\n",
    "\n",
    "range_boltzmann_temperature=np.linspace(1, 10, 10, dtype=float)\n",
    "boltzmann_temperature_results = []\n",
    "\n",
    "for i, boltzmann_temperature in enumerate(range_boltzmann_temperature):\n",
    "    print(f'Testing Combination {i}/{len(range_boltzmann_temperature)}', end='\\r')\n",
    "    error, run_time = test_combination(\n",
    "        pop_size=100, # Just an initial value\n",
    "        selection='boltzmann',\n",
    "        boltzmann_temperature=boltzmann_temperature\n",
    "    )\n",
    "\n",
    "    # Record the results\n",
    "    boltzmann_temperature_results.append({\n",
    "        'boltzmann_temperature': round(boltzmann_temperature, 1),\n",
    "        'error': error,\n",
    "        'run_time': run_time\n",
    "    })\n",
    "        \n",
    "\n",
    "boltzmann_temperature_results_df = pd.DataFrame(boltzmann_temperature_results)"
   ]
  },
  {
   "cell_type": "code",
   "execution_count": null,
   "metadata": {},
   "outputs": [],
   "source": [
    "scatter_plot(boltzmann_temperature_results, 'boltzmann_temperature', 2)"
   ]
  },
  {
   "cell_type": "code",
   "execution_count": null,
   "metadata": {},
   "outputs": [],
   "source": [
    "# Hyperparameter ranges for partial dependence plots. For simplicity, each has 10 values\n",
    "# gene_flow_rate is set to 0.5 and boltzmann_temperature is set to 1\n",
    "\n",
    "range_pop_size=np.linspace(50, 500, 10, dtype=int)\n",
    "range_generations=np.linspace(50, 500, 10, dtype=int)\n",
    "range_base_mutation_rate=np.linspace(0.1, 1, 10, dtype=float)\n",
    "range_chromosomes=np.linspace(1, 30, 10, dtype=int) # The mask is 30 nucleotides long\n",
    "range_islands=np.linspace(1, 10, 10, dtype=int)\n",
    "range_surval_rate=np.linspace(0.1, 1, 10, dtype=float)\n",
    "range_num_parents=np.linspace(1, 10, 10, dtype=int)\n",
    "range_num_competitors=np.linspace(1, 10, 10, dtype=int)\n",
    "range_selection=['tournament', 'tournament_pop', 'roulette', 'rank_based', 'truncation', 'boltzmann']"
   ]
  }
 ],
 "metadata": {
  "kernelspec": {
   "display_name": "Python 3",
   "language": "python",
   "name": "python3"
  },
  "language_info": {
   "codemirror_mode": {
    "name": "ipython",
    "version": 3
   },
   "file_extension": ".py",
   "mimetype": "text/x-python",
   "name": "python",
   "nbconvert_exporter": "python",
   "pygments_lexer": "ipython3",
   "version": "3.12.3"
  }
 },
 "nbformat": 4,
 "nbformat_minor": 2
}
