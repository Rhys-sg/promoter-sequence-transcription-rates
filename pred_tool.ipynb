{
 "cells": [
  {
   "cell_type": "markdown",
   "metadata": {},
   "source": [
    "## Forward compatibility: predict the transcription rate of a novel sequence"
   ]
  },
  {
   "cell_type": "code",
   "execution_count": 1,
   "metadata": {},
   "outputs": [
    {
     "name": "stdout",
     "output_type": "stream",
     "text": [
      "\u001b[1m1/1\u001b[0m \u001b[32m━━━━━━━━━━━━━━━━━━━━\u001b[0m\u001b[37m\u001b[0m \u001b[1m0s\u001b[0m 126ms/step\n",
      "[[-3.914143]]\n"
     ]
    }
   ],
   "source": [
    "from pred_tool_calc import pred_trans\n",
    "\n",
    "seq = ['TTTTCTATCTACGTAC', 'TTGACA', 'CTATTTCCTATTTCTCT', 'TATAAT', 'CCCCGCGG', 'CTCTACCTTAGTTTGTACGTT']\n",
    "model_path = 'models/upstream_padding.keras'\n",
    "\n",
    "rate = pred_trans(seq, model_path)\n",
    "print(rate)"
   ]
  },
  {
   "cell_type": "markdown",
   "metadata": {},
   "source": [
    "## Backward compatibility: predicting the promoter sequences closest to the target"
   ]
  },
  {
   "cell_type": "code",
   "execution_count": 1,
   "metadata": {},
   "outputs": [
    {
     "name": "stdout",
     "output_type": "stream",
     "text": [
      "Simulating sequence 1/84Simulating sequence 2/84Simulating sequence 3/84Simulating sequence 4/84Simulating sequence 5/84Simulating sequence 6/84Simulating sequence 7/84Simulating sequence 8/84Simulating sequence 9/84Simulating sequence 10/84Simulating sequence 11/84Simulating sequence 12/84Simulating sequence 13/84Simulating sequence 14/84Simulating sequence 15/84Simulating sequence 16/84Simulating sequence 17/84Simulating sequence 18/84Simulating sequence 19/84Simulating sequence 20/84Simulating sequence 21/84Simulating sequence 22/84Simulating sequence 23/84Simulating sequence 24/84Simulating sequence 25/84Simulating sequence 26/84Simulating sequence 27/84Simulating sequence 28/84Simulating sequence 29/84Simulating sequence 30/84Simulating sequence 31/84Simulating sequence 32/84Simulating sequence 33/84Simulating sequence 34/84Simulating sequence 35/84Simulating sequence 36/84Simulating sequence 37/84Simulating sequence 38/84Simulating sequence 39/84Simulating sequence 40/84Simulating sequence 41/84Simulating sequence 42/84Simulating sequence 43/84Simulating sequence 44/84Simulating sequence 45/84Simulating sequence 46/84Simulating sequence 47/84Simulating sequence 48/84Simulating sequence 49/84Simulating sequence 50/84Simulating sequence 51/84Simulating sequence 52/84Simulating sequence 53/84Simulating sequence 54/84Simulating sequence 55/84Simulating sequence 56/84Simulating sequence 57/84Simulating sequence 58/84Simulating sequence 59/84Simulating sequence 60/84Simulating sequence 61/84Simulating sequence 62/84Simulating sequence 63/84Simulating sequence 64/84Simulating sequence 65/84Simulating sequence 66/84Simulating sequence 67/84Simulating sequence 68/84Simulating sequence 69/84Simulating sequence 70/84Simulating sequence 71/84Simulating sequence 72/84Simulating sequence 73/84Simulating sequence 74/84Simulating sequence 75/84Simulating sequence 76/84Simulating sequence 77/84Simulating sequence 78/84Simulating sequence 79/84Simulating sequence 80/84Simulating sequence 81/84Simulating sequence 82/84Simulating sequence 83/84Simulating sequence 84/84"
     ]
    }
   ],
   "source": [
    "from pred_tool_calc import pred_prom\n",
    "\n",
    "args = {\n",
    "        # required\n",
    "        'model_path': 'models/upstream_padding.keras',\n",
    "        'target' : -2.5,\n",
    "\n",
    "        # optional\n",
    "        'tolerance': 0.1,\n",
    "        'max_results' : 5,\n",
    "        'max_iter': 100,\n",
    "        'UP': 'TTTTCTATCTACGTAC', \n",
    "        'h35': None,\n",
    "        'spacs': 'CTATTTCCTATTTCTCT',\n",
    "        'h10': 'TATAAT',\n",
    "        'disc': 'CCCCGCGG', \n",
    "        'ITR': 'CTCTACCTTAGTTTGTACGTT'        \n",
    "}\n",
    "\n",
    "seq = pred_prom(*args.values())"
   ]
  },
  {
   "cell_type": "code",
   "execution_count": 2,
   "metadata": {},
   "outputs": [
    {
     "data": {
      "text/html": [
       "<div>\n",
       "<style scoped>\n",
       "    .dataframe tbody tr th:only-of-type {\n",
       "        vertical-align: middle;\n",
       "    }\n",
       "\n",
       "    .dataframe tbody tr th {\n",
       "        vertical-align: top;\n",
       "    }\n",
       "\n",
       "    .dataframe thead th {\n",
       "        text-align: right;\n",
       "    }\n",
       "</style>\n",
       "<table border=\"1\" class=\"dataframe\">\n",
       "  <thead>\n",
       "    <tr style=\"text-align: right;\">\n",
       "      <th></th>\n",
       "      <th>Predicted log(TX/Txref)</th>\n",
       "      <th>Difference</th>\n",
       "      <th>UP</th>\n",
       "      <th>h35</th>\n",
       "      <th>spacs</th>\n",
       "      <th>h10</th>\n",
       "      <th>disc</th>\n",
       "      <th>ITR</th>\n",
       "    </tr>\n",
       "  </thead>\n",
       "  <tbody>\n",
       "    <tr>\n",
       "      <th>0</th>\n",
       "      <td>-2.135221</td>\n",
       "      <td>-0.364779</td>\n",
       "      <td>TTTTCTATCTACGTAC</td>\n",
       "      <td>AAACCC</td>\n",
       "      <td>CTATTTCCTATTTCTCT</td>\n",
       "      <td>TATAAT</td>\n",
       "      <td>CCCCGCGG</td>\n",
       "      <td>CTCTACCTTAGTTTGTACGTT</td>\n",
       "    </tr>\n",
       "    <tr>\n",
       "      <th>1</th>\n",
       "      <td>-2.136330</td>\n",
       "      <td>-0.363670</td>\n",
       "      <td>TTTTCTATCTACGTAC</td>\n",
       "      <td>AACCCC</td>\n",
       "      <td>CTATTTCCTATTTCTCT</td>\n",
       "      <td>TATAAT</td>\n",
       "      <td>CCCCGCGG</td>\n",
       "      <td>CTCTACCTTAGTTTGTACGTT</td>\n",
       "    </tr>\n",
       "    <tr>\n",
       "      <th>2</th>\n",
       "      <td>-2.140429</td>\n",
       "      <td>-0.359571</td>\n",
       "      <td>TTTTCTATCTACGTAC</td>\n",
       "      <td>AAAACC</td>\n",
       "      <td>CTATTTCCTATTTCTCT</td>\n",
       "      <td>TATAAT</td>\n",
       "      <td>CCCCGCGG</td>\n",
       "      <td>CTCTACCTTAGTTTGTACGTT</td>\n",
       "    </tr>\n",
       "    <tr>\n",
       "      <th>3</th>\n",
       "      <td>-2.142052</td>\n",
       "      <td>-0.357948</td>\n",
       "      <td>TTTTCTATCTACGTAC</td>\n",
       "      <td>ACCCCC</td>\n",
       "      <td>CTATTTCCTATTTCTCT</td>\n",
       "      <td>TATAAT</td>\n",
       "      <td>CCCCGCGG</td>\n",
       "      <td>CTCTACCTTAGTTTGTACGTT</td>\n",
       "    </tr>\n",
       "    <tr>\n",
       "      <th>4</th>\n",
       "      <td>-2.144808</td>\n",
       "      <td>-0.355192</td>\n",
       "      <td>TTTTCTATCTACGTAC</td>\n",
       "      <td>AAACCG</td>\n",
       "      <td>CTATTTCCTATTTCTCT</td>\n",
       "      <td>TATAAT</td>\n",
       "      <td>CCCCGCGG</td>\n",
       "      <td>CTCTACCTTAGTTTGTACGTT</td>\n",
       "    </tr>\n",
       "  </tbody>\n",
       "</table>\n",
       "</div>"
      ],
      "text/plain": [
       "   Predicted log(TX/Txref)  Difference                UP     h35  \\\n",
       "0                -2.135221   -0.364779  TTTTCTATCTACGTAC  AAACCC   \n",
       "1                -2.136330   -0.363670  TTTTCTATCTACGTAC  AACCCC   \n",
       "2                -2.140429   -0.359571  TTTTCTATCTACGTAC  AAAACC   \n",
       "3                -2.142052   -0.357948  TTTTCTATCTACGTAC  ACCCCC   \n",
       "4                -2.144808   -0.355192  TTTTCTATCTACGTAC  AAACCG   \n",
       "\n",
       "               spacs     h10      disc                    ITR  \n",
       "0  CTATTTCCTATTTCTCT  TATAAT  CCCCGCGG  CTCTACCTTAGTTTGTACGTT  \n",
       "1  CTATTTCCTATTTCTCT  TATAAT  CCCCGCGG  CTCTACCTTAGTTTGTACGTT  \n",
       "2  CTATTTCCTATTTCTCT  TATAAT  CCCCGCGG  CTCTACCTTAGTTTGTACGTT  \n",
       "3  CTATTTCCTATTTCTCT  TATAAT  CCCCGCGG  CTCTACCTTAGTTTGTACGTT  \n",
       "4  CTATTTCCTATTTCTCT  TATAAT  CCCCGCGG  CTCTACCTTAGTTTGTACGTT  "
      ]
     },
     "execution_count": 2,
     "metadata": {},
     "output_type": "execute_result"
    }
   ],
   "source": [
    "import pandas as pd\n",
    "\n",
    "seq = pd.DataFrame(seq)\n",
    "seq.head()"
   ]
  }
 ],
 "metadata": {
  "kernelspec": {
   "display_name": "base",
   "language": "python",
   "name": "python3"
  },
  "language_info": {
   "codemirror_mode": {
    "name": "ipython",
    "version": 3
   },
   "file_extension": ".py",
   "mimetype": "text/x-python",
   "name": "python",
   "nbconvert_exporter": "python",
   "pygments_lexer": "ipython3",
   "version": "3.11.5"
  }
 },
 "nbformat": 4,
 "nbformat_minor": 2
}
