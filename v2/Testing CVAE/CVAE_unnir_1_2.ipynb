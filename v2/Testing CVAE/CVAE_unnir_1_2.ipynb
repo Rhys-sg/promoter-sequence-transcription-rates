{
 "cells": [
  {
   "cell_type": "markdown",
   "metadata": {},
   "source": [
    "### Description\n",
    "\n",
    "This implements a CVAE based on https://github.com/unnir/cVAE adapted for promoter sequences and expressions. This does include CNN auxiliary loss, \"re-masking\" the generated sequence before giving it to the CNN."
   ]
  },
  {
   "cell_type": "code",
   "execution_count": 1,
   "metadata": {},
   "outputs": [],
   "source": [
    "from CVAE_unnir_1_2 import *"
   ]
  },
  {
   "cell_type": "code",
   "execution_count": 2,
   "metadata": {},
   "outputs": [],
   "source": [
    "# Defining hyperparameters\n",
    "batch_size = 64\n",
    "epochs = 100\n",
    "early_stopping_patience = 10\n",
    "early_stopping_min_delta = 0.01\n",
    "latent_size = 20\n",
    "num_masks = 4\n",
    "min_mask_len = 5\n",
    "max_mask_len = 20"
   ]
  },
  {
   "cell_type": "code",
   "execution_count": 3,
   "metadata": {},
   "outputs": [
    {
     "name": "stderr",
     "output_type": "stream",
     "text": [
      "c:\\Users\\rsore\\anaconda3\\envs\\TX_prediction\\Lib\\site-packages\\keras\\src\\saving\\saving_lib.py:719: UserWarning: Skipping variable loading for optimizer 'adam', because it has 34 variables whereas the saved optimizer has 2 variables. \n",
      "  saveable.load_own_variables(weights_store.get(inner_path))\n"
     ]
    }
   ],
   "source": [
    "# Set seed for reproducibility\n",
    "seed = 42\n",
    "random.seed(seed)\n",
    "np.random.seed(seed)\n",
    "torch.manual_seed(seed)\n",
    "if torch.cuda.is_available():\n",
    "    torch.cuda.manual_seed(seed)\n",
    "\n",
    "# Paths to Data and Pre-trained CNN\n",
    "path_to_data = '../Data/Combined/LaFleur_supp.csv'\n",
    "path_to_cvae = '../Models/CVAE_6_1_2.pt'\n",
    "path_to_cnn = '../Models/CNN_6_1_2.keras'\n",
    "path_to_summary = '../Testing CVAE/runs/CNN_6_2_summary'\n",
    "\n",
    "# Set up device\n",
    "device = get_device()\n",
    "\n",
    "# Initialize model, optimizer\n",
    "cnn = KerasModelWrapper(path_to_cnn)\n",
    "model = CVAE(150, latent_size, 1).to(device)\n",
    "optimizer = optim.Adam(model.parameters(), lr=1e-3)\n",
    "\n",
    "# Load data, one-hot encode, mask sequences\n",
    "onehot_masked, expressions = load_features(path_to_data, num_masks, min_mask_len, max_mask_len)\n",
    "\n",
    "# Split data into training and testing sets\n",
    "onehot_masked_train, onehot_masked_test, expressions_train, expressions_test = train_test_split(\n",
    "    onehot_masked, expressions, test_size=0.2, random_state=seed\n",
    ")\n",
    "\n",
    "# Preprocess sequences and expressions into tensors\n",
    "masked_tensor_train = torch.tensor(np.stack(onehot_masked_train), dtype=torch.float32)\n",
    "expressions_tensor_train = torch.tensor(expressions_train.values, dtype=torch.float32)\n",
    "masked_tensor_test = torch.tensor(np.stack(onehot_masked_test), dtype=torch.float32)\n",
    "expressions_tensor_test = torch.tensor(expressions_test.values, dtype=torch.float32)\n",
    "\n",
    "# Create DataLoader\n",
    "train_loader = torch.utils.data.DataLoader(\n",
    "    torch.utils.data.TensorDataset(masked_tensor_train, expressions_tensor_train),\n",
    "    batch_size=batch_size, shuffle=True, num_workers=4, pin_memory=True\n",
    ")\n",
    "test_loader = torch.utils.data.DataLoader(\n",
    "    torch.utils.data.TensorDataset(masked_tensor_test, expressions_tensor_test),\n",
    "    batch_size=batch_size, shuffle=False, num_workers=4, pin_memory=True\n",
    ")\n"
   ]
  },
  {
   "cell_type": "code",
   "execution_count": 4,
   "metadata": {},
   "outputs": [],
   "source": [
    "# # Train and test the model\n",
    "# train_losses, test_losses = fit_model(epochs,\n",
    "#                                         model,\n",
    "#                                         cnn,\n",
    "#                                         path_to_summary,\n",
    "#                                         train_loader,\n",
    "#                                         test_loader,\n",
    "#                                         optimizer,\n",
    "#                                         device,\n",
    "#                                         early_stopping_patience,\n",
    "#                                         early_stopping_min_delta\n",
    "# )\n",
    "\n",
    "# # Plot the training and testing losses\n",
    "# plot_losses(train_losses, test_losses)\n",
    "\n",
    "# # Save the model\n",
    "# save_model(model, path_to_cvae)"
   ]
  },
  {
   "cell_type": "code",
   "execution_count": 5,
   "metadata": {},
   "outputs": [
    {
     "data": {
      "text/plain": [
       "RecursiveScriptModule(\n",
       "  original_name=CVAE\n",
       "  (fc1): RecursiveScriptModule(original_name=Linear)\n",
       "  (fc21): RecursiveScriptModule(original_name=Linear)\n",
       "  (fc22): RecursiveScriptModule(original_name=Linear)\n",
       "  (fc3): RecursiveScriptModule(original_name=Linear)\n",
       "  (fc4): RecursiveScriptModule(original_name=Linear)\n",
       "  (elu): RecursiveScriptModule(original_name=ELU)\n",
       "  (sigmoid): RecursiveScriptModule(original_name=Sigmoid)\n",
       ")"
      ]
     },
     "execution_count": 5,
     "metadata": {},
     "output_type": "execute_result"
    }
   ],
   "source": [
    "# Load the model\n",
    "load_model(path_to_cvae)"
   ]
  },
  {
   "cell_type": "code",
   "execution_count": 6,
   "metadata": {},
   "outputs": [
    {
     "name": "stdout",
     "output_type": "stream",
     "text": [
      "P5 expression [0.47127414]\n",
      "Plac expression [0.33783603]\n"
     ]
    }
   ],
   "source": [
    "P5 = 'AATACTAGAGGTCTTCCGACTTGACAATTAATCATCCGGCTCGTAATTTATGTGGAGCGGGAAGACAACTAGGGG'\n",
    "plac = 'AATACTAGAGGTCTTCCGACTTTACACTTTATGCTTCCGGCTCGTATGTTGTGTGGGCGGGAAGACAACTAGGGG'\n",
    "\n",
    "print(f'P5 expression {predict_with_cnn(cnn, [P5])}')\n",
    "print(f'Plac expression {predict_with_cnn(cnn, [plac])}')"
   ]
  },
  {
   "cell_type": "code",
   "execution_count": 12,
   "metadata": {},
   "outputs": [
    {
     "name": "stdout",
     "output_type": "stream",
     "text": [
      "Masked:   AATACTAGAGGTCTTCCGACNNNNNNATTAATCATCCGGCTCGTAATTTATGTGGAGCGGGAAGACAACTAGGGG\n",
      "Infilled: AATACTAGAGGTCTTCCGACCACGCCATTAATCATCCGGCTCGTAATTTATGTGGAGCGGGAAGACAACTAGGGG\n",
      "Predicted Expression: 0.36388665\n",
      "\n",
      "Masked:   AATACTAGAGGTCTTCCGACTTGACAATTAATCATCCGGCTCGNNNNNNNTGTGGAGCGGGAAGACAACTAGGGG\n",
      "Infilled: AATACTAGAGGTCTTCCGACTTGACAATTAATCATCCGGCTCGCTGCCCTTGTGGAGCGGGAAGACAACTAGGGG\n",
      "Predicted Expression: 0.44591618\n",
      "\n",
      "Masked:   AATACTAGAGGTCTTCCGACNNNNNNATTAATCATCCGGCTCGNNNNNNNTGTGGAGCGGGAAGACAACTAGGGG\n",
      "Infilled: AATACTAGAGGTCTTCCGACACGGTGATTAATCATCCGGCTCGTTGTGGGTGTGGAGCGGGAAGACAACTAGGGG\n",
      "Predicted Expression: 0.28270924\n",
      "\n",
      "Masked:   AATACTAGAGGTCTTCCGACNNNNNNNNNNNNNNNNNNNNNNNNNNNNNNTGTGGAGCGGGAAGACAACTAGGGG\n",
      "Infilled: AATACTAGAGGTCTTCCGACGCCCGCACGTTAATGCCGATTGCAGTCTCTTGTGGAGCGGGAAGACAACTAGGGG\n",
      "Predicted Expression: 0.24780282\n",
      "\n",
      "Masked:   AATACTAGAGGTCTTCCGACNNNNNNCTTTATGCTTCCGGCTCGTATGTTGTGTGGGCGGGAAGACAACTAGGGG\n",
      "Infilled: AATACTAGAGGTCTTCCGACAGATAACTTTATGCTTCCGGCTCGTATGTTGTGTGGGCGGGAAGACAACTAGGGG\n",
      "Predicted Expression: 0.3322008\n",
      "\n",
      "Masked:   AATACTAGAGGTCTTCCGACTTTACACTTTATGCTTCCGGCTCGNNNNNNNTGTGGGCGGGAAGACAACTAGGGG\n",
      "Infilled: AATACTAGAGGTCTTCCGACTTTACACTTTATGCTTCCGGCTCGAACACAGTGTGGGCGGGAAGACAACTAGGGG\n",
      "Predicted Expression: 0.38324153\n",
      "\n",
      "Masked:   AATACTAGAGGTCTTCCGACNNNNNNCTTTATGCTTCCGGCTCGNNNNNNNTGTGGGCGGGAAGACAACTAGGGG\n",
      "Infilled: AATACTAGAGGTCTTCCGACAGGACGCTTTATGCTTCCGGCTCGACCGGAATGTGGGCGGGAAGACAACTAGGGG\n",
      "Predicted Expression: 0.34486932\n",
      "\n",
      "Masked:   AATACTAGAGGTCTTCCGACNNNNNNNNNNNNNNNNNNNNNNNNNNNNNNNTGTGGGCGGGAAGACAACTAGGGG\n",
      "Infilled: AATACTAGAGGTCTTCCGACTCTGAGGGATATACGATCCGACTGAGGGGTTTGTGGGCGGGAAGACAACTAGGGG\n",
      "Predicted Expression: 0.37778813\n",
      "\n"
     ]
    }
   ],
   "source": [
    "# P5 and Plac promoters with Ns for -10 and -35 regions, pClone plasmid up/disc\n",
    "masked_sequences = [\n",
    "    'AATACTAGAGGTCTTCCGACNNNNNNATTAATCATCCGGCTCGTAATTTATGTGGAGCGGGAAGACAACTAGGGG', # P5\n",
    "    'AATACTAGAGGTCTTCCGACTTGACAATTAATCATCCGGCTCGNNNNNNNTGTGGAGCGGGAAGACAACTAGGGG',\n",
    "    'AATACTAGAGGTCTTCCGACNNNNNNATTAATCATCCGGCTCGNNNNNNNTGTGGAGCGGGAAGACAACTAGGGG',\n",
    "    'AATACTAGAGGTCTTCCGACNNNNNNNNNNNNNNNNNNNNNNNNNNNNNNTGTGGAGCGGGAAGACAACTAGGGG',\n",
    "    \n",
    "    'AATACTAGAGGTCTTCCGACNNNNNNCTTTATGCTTCCGGCTCGTATGTTGTGTGGGCGGGAAGACAACTAGGGG', # pLac\n",
    "    'AATACTAGAGGTCTTCCGACTTTACACTTTATGCTTCCGGCTCGNNNNNNNTGTGGGCGGGAAGACAACTAGGGG',\n",
    "    'AATACTAGAGGTCTTCCGACNNNNNNCTTTATGCTTCCGGCTCGNNNNNNNTGTGGGCGGGAAGACAACTAGGGG',\n",
    "    'AATACTAGAGGTCTTCCGACNNNNNNNNNNNNNNNNNNNNNNNNNNNNNNNTGTGGGCGGGAAGACAACTAGGGG',\n",
    "]\n",
    "expressions = [0.5 for _ in range(len(masked_sequences))]\n",
    "\n",
    "# Generate infills\n",
    "infilled_sequences, predicted_expressions = generate_infills(model, cnn, masked_sequences, expressions)\n",
    "for masked, infilled, expressions in zip(masked_sequences, infilled_sequences, predicted_expressions):\n",
    "    print(\"Masked:  \", masked)\n",
    "    print(\"Infilled:\", infilled)\n",
    "    print(\"Predicted Expression:\", expressions)\n",
    "    print()"
   ]
  },
  {
   "cell_type": "code",
   "execution_count": 16,
   "metadata": {},
   "outputs": [
    {
     "data": {
      "image/png": "[encoded data removed]",
      "text/plain": [
       "<Figure size 1000x600 with 1 Axes>"
      ]
     },
     "metadata": {},
     "output_type": "display_data"
    }
   ],
   "source": [
    "import numpy as np\n",
    "import matplotlib.pyplot as plt\n",
    "from scipy.stats import gaussian_kde\n",
    "\n",
    "num_runs = 100\n",
    "masked_sequences = ['AATACTAGAGGTCTTCCGACNNNNNNNNNNNNNNNNNNNNNNNNNNNNNNNTGTGGGCGGGAAGACAACTAGGGG'] * num_runs\n",
    "expressions = [0.5] * num_runs\n",
    "\n",
    "infilled_sequences, predicted_expressions = generate_infills(model, cnn, masked_sequences, expressions)\n",
    "\n",
    "errors = np.array(predicted_expressions) - np.array(expressions)\n",
    "\n",
    "kde = gaussian_kde(errors, bw_method='scott')\n",
    "x_range = np.linspace(min(errors), max(errors), 1000)\n",
    "\n",
    "plt.figure(figsize=(10, 6))\n",
    "plt.plot(x_range, kde(x_range), label=\"Error Density\", color=\"blue\")\n",
    "plt.fill_between(x_range, kde(x_range), alpha=0.3)\n",
    "plt.legend()\n",
    "plt.show()\n"
   ]
  }
 ],
 "metadata": {
  "kernelspec": {
   "display_name": "Python 3",
   "language": "python",
   "name": "python3"
  },
  "language_info": {
   "codemirror_mode": {
    "name": "ipython",
    "version": 3
   },
   "file_extension": ".py",
   "mimetype": "text/x-python",
   "name": "python",
   "nbconvert_exporter": "python",
   "pygments_lexer": "ipython3",
   "version": "3.12.3"
  }
 },
 "nbformat": 4,
 "nbformat_minor": 2
}
