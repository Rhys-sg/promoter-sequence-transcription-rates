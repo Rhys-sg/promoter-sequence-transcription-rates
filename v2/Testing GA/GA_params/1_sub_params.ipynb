{
 "cells": [
  {
   "cell_type": "markdown",
   "metadata": {},
   "source": [
    "#### Initializing sub-parameters\n",
    "\n",
    "Before interaction analysis, we know gene_flow_rate is directly related to islands and boltzmann_temperature is only needed for boltzmann selection. So we find the optimal values for these two parameters first, and set them in the interaction analysis.\n",
    "\n",
    "**An error occured while testing. You need to rerun this for anything final**"
   ]
  },
  {
   "cell_type": "code",
   "execution_count": null,
   "metadata": {},
   "outputs": [],
   "source": [
    "import matplotlib.pyplot as plt\n",
    "import numpy as np\n",
    "import seaborn as sns\n",
    "import pandas as pd\n",
    "import time\n",
    "\n",
    "from GA_param_function_module import *\n",
    "\n",
    "cnn_model_path = '../../Models/CNN_6_1_2.keras'\n",
    "masked_sequence = 'AATACTAGAGGTCTTCCGACNNNNNNNNNNNNNNNNNNNNNNNNNNNNNNTGTGGAGCGGGAAGACAACTAGGGG'\n",
    "target_expression = 0\n",
    "precision = 0.001\n",
    "run_per_combination = 20"
   ]
  },
  {
   "cell_type": "code",
   "execution_count": null,
   "metadata": {},
   "outputs": [
    {
     "name": "stdout",
     "output_type": "stream",
     "text": [
      "WARNING:tensorflow:From c:\\Users\\rsore\\Documents\\GitHub\\promoter-sequence-transcription-rates\\v2\\Testing GA\\GA_2_2.py:147: _EagerTensorBase.cpu (from tensorflow.python.framework.ops) is deprecated and will be removed in a future version.\n",
      "Instructions for updating:\n",
      "Use tf.identity with explicit device placement instead.\n"
     ]
    },
    {
     "name": "stderr",
     "output_type": "stream",
     "text": [
      "c:\\Users\\rsore\\anaconda3\\envs\\TX_prediction\\Lib\\site-packages\\keras\\src\\saving\\saving_lib.py:719: UserWarning: Skipping variable loading for optimizer 'adam', because it has 34 variables whereas the saved optimizer has 2 variables. \n",
      "  saveable.load_own_variables(weights_store.get(inner_path))\n"
     ]
    },
    {
     "name": "stdout",
     "output_type": "stream",
     "text": [
      "Testing Combination 85/100\r"
     ]
    }
   ],
   "source": [
    "# For each combination of islands and gene flow rate, run the GA and record the results\n",
    "\n",
    "range_islands=np.linspace(1, 10, 10, dtype=int)\n",
    "range_gene_flow_rate=np.linspace(0.1, 1, 10, dtype=float)\n",
    "\n",
    "total_combinations = len(range_islands) * len(range_gene_flow_rate)\n",
    "current_combination = 0\n",
    "gene_flow_rate_results = []\n",
    "\n",
    "for islands in range_islands:\n",
    "    for gene_flow_rate in range_gene_flow_rate:\n",
    "        current_combination += 1\n",
    "        print(f'Testing Combination {current_combination}/{total_combinations}', end='\\r')\n",
    "        error, run_time = test_combination(\n",
    "            cnn_model_path,\n",
    "            masked_sequence,\n",
    "            target_expression,\n",
    "            precision,\n",
    "            run_per_combination,\n",
    "            pop_size=100, # Just an initial value\n",
    "            islands=islands,\n",
    "            gene_flow_rate=gene_flow_rate\n",
    "        )\n",
    "\n",
    "        # Record the results\n",
    "        gene_flow_rate_results.append({\n",
    "            'islands': islands,\n",
    "            'gene_flow_rate': round(gene_flow_rate, 1),\n",
    "            'error': error,\n",
    "            'run_time': run_time\n",
    "        })\n",
    "\n",
    "gene_flow_rate_results_df = pd.DataFrame(gene_flow_rate_results)\n"
   ]
  },
  {
   "cell_type": "code",
   "execution_count": null,
   "metadata": {},
   "outputs": [],
   "source": [
    "heatmap(gene_flow_rate_results_df, 'islands', 'gene_flow_rate')\n",
    "scatter_plot(gene_flow_rate_results_df, 'islands', 2)\n",
    "scatter_plot(gene_flow_rate_results_df, 'gene_flow_rate', 2)"
   ]
  },
  {
   "cell_type": "code",
   "execution_count": null,
   "metadata": {},
   "outputs": [],
   "source": [
    "# Find optimal boltzmann_temperature\n",
    "\n",
    "range_boltzmann_temperature=np.linspace(0.1, 1, 10, dtype=float)\n",
    "boltzmann_temperature_results = []\n",
    "\n",
    "for i, boltzmann_temperature in enumerate(range_boltzmann_temperature):\n",
    "    print(f'Testing Combination {i}/{len(range_boltzmann_temperature)}', end='\\r')\n",
    "    error, run_time = test_combination(\n",
    "        cnn_model_path,\n",
    "        masked_sequence,\n",
    "        target_expression,\n",
    "        precision,\n",
    "        run_per_combination,\n",
    "        pop_size=100, # Just an initial value\n",
    "        selection='boltzmann',\n",
    "        boltzmann_temperature=boltzmann_temperature\n",
    "    )\n",
    "\n",
    "    # Record the results\n",
    "    boltzmann_temperature_results.append({\n",
    "        'boltzmann_temperature': round(boltzmann_temperature, 1),\n",
    "        'error': error,\n",
    "        'run_time': run_time\n",
    "    })\n",
    "        \n",
    "\n",
    "boltzmann_temperature_results_df = pd.DataFrame(boltzmann_temperature_results)"
   ]
  },
  {
   "cell_type": "code",
   "execution_count": null,
   "metadata": {},
   "outputs": [],
   "source": [
    "scatter_plot(boltzmann_temperature_results, 'boltzmann_temperature', 2)"
   ]
  },
  {
   "cell_type": "code",
   "execution_count": null,
   "metadata": {},
   "outputs": [],
   "source": [
    "# Hyperparameter ranges for partial dependence plots. For simplicity, each has 10 values\n",
    "# gene_flow_rate is set to 0.5 and boltzmann_temperature is set to 1\n",
    "\n",
    "range_pop_size=np.linspace(50, 500, 10, dtype=int)\n",
    "range_generations=np.linspace(50, 500, 10, dtype=int)\n",
    "range_base_mutation_rate=np.linspace(0.1, 1, 10, dtype=float)\n",
    "range_chromosomes=np.linspace(1, 30, 10, dtype=int) # The mask is 30 nucleotides long\n",
    "range_islands=np.linspace(1, 10, 10, dtype=int)\n",
    "range_surval_rate=np.linspace(0.1, 1, 10, dtype=float)\n",
    "range_num_parents=np.linspace(1, 10, 10, dtype=int)\n",
    "range_num_competitors=np.linspace(1, 10, 10, dtype=int)\n",
    "range_selection=['tournament', 'tournament_pop', 'roulette', 'rank_based', 'truncation', 'boltzmann']"
   ]
  }
 ],
 "metadata": {
  "kernelspec": {
   "display_name": "Python 3",
   "language": "python",
   "name": "python3"
  },
  "language_info": {
   "codemirror_mode": {
    "name": "ipython",
    "version": 3
   },
   "file_extension": ".py",
   "mimetype": "text/x-python",
   "name": "python",
   "nbconvert_exporter": "python",
   "pygments_lexer": "ipython3",
   "version": "3.12.3"
  }
 },
 "nbformat": 4,
 "nbformat_minor": 2
}
