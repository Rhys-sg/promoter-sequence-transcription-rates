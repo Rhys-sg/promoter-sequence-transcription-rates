{
 "cells": [
  {
   "cell_type": "markdown",
   "metadata": {},
   "source": [
    "# Description\n",
    "\n",
    "Finds the distribution of lengths of each for each element, promoter, and full sequence.\n",
    "\n",
    "### Resulst:\n",
    "\n",
    "The most common promoter length is 52 (84%)\n",
    "The most common full sequence length is 73 (79%)\n",
    "\n",
    "This is despite the sum of the most common individual element lengths being 56:\n",
    "1. UP element (20bp)\n",
    "2. -35 (6bp)\n",
    "3. Spacer (17bp)\n",
    "4. -10 (6bp)\n",
    "5. discriminator (7)"
   ]
  },
  {
   "cell_type": "code",
   "execution_count": 2,
   "metadata": {},
   "outputs": [],
   "source": [
    "import pandas as pd\n",
    "import numpy as np\n",
    "import matplotlib.pyplot as plt"
   ]
  },
  {
   "cell_type": "code",
   "execution_count": 3,
   "metadata": {},
   "outputs": [
    {
     "data": {
      "text/html": [
       "<div>\n",
       "<style scoped>\n",
       "    .dataframe tbody tr th:only-of-type {\n",
       "        vertical-align: middle;\n",
       "    }\n",
       "\n",
       "    .dataframe tbody tr th {\n",
       "        vertical-align: top;\n",
       "    }\n",
       "\n",
       "    .dataframe thead th {\n",
       "        text-align: right;\n",
       "    }\n",
       "</style>\n",
       "<table border=\"1\" class=\"dataframe\">\n",
       "  <thead>\n",
       "    <tr style=\"text-align: right;\">\n",
       "      <th></th>\n",
       "      <th>UP</th>\n",
       "      <th>h35</th>\n",
       "      <th>spacs</th>\n",
       "      <th>h10</th>\n",
       "      <th>disc</th>\n",
       "      <th>ITR</th>\n",
       "      <th>combined_promoter</th>\n",
       "      <th>combined_promoter_ITR</th>\n",
       "    </tr>\n",
       "  </thead>\n",
       "  <tbody>\n",
       "    <tr>\n",
       "      <th>0</th>\n",
       "      <td>TTTTCTATCTACGTAC</td>\n",
       "      <td>TTGACA</td>\n",
       "      <td>CTATTTCCTATTTCTCT</td>\n",
       "      <td>TATAAT</td>\n",
       "      <td>CCCCGCGG</td>\n",
       "      <td>CTCTACCTTAGTTTGTACGTT</td>\n",
       "      <td>TTTTCTATCTACGTACTTGACACTATTTCCTATTTCTCTTATAATC...</td>\n",
       "      <td>TTTTCTATCTACGTACTTGACACTATTTCCTATTTCTCTTATAATC...</td>\n",
       "    </tr>\n",
       "    <tr>\n",
       "      <th>1</th>\n",
       "      <td>TTTTCTATCTACGTAC</td>\n",
       "      <td>TTGACA</td>\n",
       "      <td>CTATTTCCTATTTCTCT</td>\n",
       "      <td>TATAAT</td>\n",
       "      <td>CGCGGCGG</td>\n",
       "      <td>CTCTACCTTAGTTTGTACGTT</td>\n",
       "      <td>TTTTCTATCTACGTACTTGACACTATTTCCTATTTCTCTTATAATC...</td>\n",
       "      <td>TTTTCTATCTACGTACTTGACACTATTTCCTATTTCTCTTATAATC...</td>\n",
       "    </tr>\n",
       "    <tr>\n",
       "      <th>2</th>\n",
       "      <td>TTTTCTATCTACGTAC</td>\n",
       "      <td>TTGACA</td>\n",
       "      <td>CTATTTCCTATTTCTCT</td>\n",
       "      <td>TATAAT</td>\n",
       "      <td>CGCGCCCG</td>\n",
       "      <td>CTCTACCTTAGTTTGTACGTT</td>\n",
       "      <td>TTTTCTATCTACGTACTTGACACTATTTCCTATTTCTCTTATAATC...</td>\n",
       "      <td>TTTTCTATCTACGTACTTGACACTATTTCCTATTTCTCTTATAATC...</td>\n",
       "    </tr>\n",
       "    <tr>\n",
       "      <th>3</th>\n",
       "      <td>TTTTCTATCTACGTAC</td>\n",
       "      <td>TTGACA</td>\n",
       "      <td>CTATTTCCTATTTCTCT</td>\n",
       "      <td>TATAAT</td>\n",
       "      <td>GCGGCGGC</td>\n",
       "      <td>CTCTACCTTAGTTTGTACGTT</td>\n",
       "      <td>TTTTCTATCTACGTACTTGACACTATTTCCTATTTCTCTTATAATG...</td>\n",
       "      <td>TTTTCTATCTACGTACTTGACACTATTTCCTATTTCTCTTATAATG...</td>\n",
       "    </tr>\n",
       "    <tr>\n",
       "      <th>4</th>\n",
       "      <td>TTTTCTATCTACGTAC</td>\n",
       "      <td>TTGACA</td>\n",
       "      <td>CTATTTCCTATTTCTCT</td>\n",
       "      <td>TATAAT</td>\n",
       "      <td>CGGGGGGC</td>\n",
       "      <td>CTCTACCTTAGTTTGTACGTT</td>\n",
       "      <td>TTTTCTATCTACGTACTTGACACTATTTCCTATTTCTCTTATAATC...</td>\n",
       "      <td>TTTTCTATCTACGTACTTGACACTATTTCCTATTTCTCTTATAATC...</td>\n",
       "    </tr>\n",
       "  </tbody>\n",
       "</table>\n",
       "</div>"
      ],
      "text/plain": [
       "                 UP     h35              spacs     h10      disc  \\\n",
       "0  TTTTCTATCTACGTAC  TTGACA  CTATTTCCTATTTCTCT  TATAAT  CCCCGCGG   \n",
       "1  TTTTCTATCTACGTAC  TTGACA  CTATTTCCTATTTCTCT  TATAAT  CGCGGCGG   \n",
       "2  TTTTCTATCTACGTAC  TTGACA  CTATTTCCTATTTCTCT  TATAAT  CGCGCCCG   \n",
       "3  TTTTCTATCTACGTAC  TTGACA  CTATTTCCTATTTCTCT  TATAAT  GCGGCGGC   \n",
       "4  TTTTCTATCTACGTAC  TTGACA  CTATTTCCTATTTCTCT  TATAAT  CGGGGGGC   \n",
       "\n",
       "                     ITR                                  combined_promoter  \\\n",
       "0  CTCTACCTTAGTTTGTACGTT  TTTTCTATCTACGTACTTGACACTATTTCCTATTTCTCTTATAATC...   \n",
       "1  CTCTACCTTAGTTTGTACGTT  TTTTCTATCTACGTACTTGACACTATTTCCTATTTCTCTTATAATC...   \n",
       "2  CTCTACCTTAGTTTGTACGTT  TTTTCTATCTACGTACTTGACACTATTTCCTATTTCTCTTATAATC...   \n",
       "3  CTCTACCTTAGTTTGTACGTT  TTTTCTATCTACGTACTTGACACTATTTCCTATTTCTCTTATAATG...   \n",
       "4  CTCTACCTTAGTTTGTACGTT  TTTTCTATCTACGTACTTGACACTATTTCCTATTTCTCTTATAATC...   \n",
       "\n",
       "                               combined_promoter_ITR  \n",
       "0  TTTTCTATCTACGTACTTGACACTATTTCCTATTTCTCTTATAATC...  \n",
       "1  TTTTCTATCTACGTACTTGACACTATTTCCTATTTCTCTTATAATC...  \n",
       "2  TTTTCTATCTACGTACTTGACACTATTTCCTATTTCTCTTATAATC...  \n",
       "3  TTTTCTATCTACGTACTTGACACTATTTCCTATTTCTCTTATAATG...  \n",
       "4  TTTTCTATCTACGTACTTGACACTATTTCCTATTTCTCTTATAATC...  "
      ]
     },
     "execution_count": 3,
     "metadata": {},
     "output_type": "execute_result"
    }
   ],
   "source": [
    "# import dataset into a pandas data frame\n",
    "\n",
    "df = pd.read_csv('../../Data/LaFleur/41467_2022_32829_MOESM5_ESM.csv')[['UP', 'h35', 'spacs', 'h10', 'disc', 'ITR']]\n",
    "df['combined_promoter'] = df['UP'] + df['h35'] + df['spacs'] + df['h10'] + df['disc']\n",
    "df['combined_promoter_ITR'] = df['UP'] + df['h35'] + df['spacs'] + df['h10'] + df['disc'] + df['ITR']\n",
    "df.head()"
   ]
  },
  {
   "cell_type": "markdown",
   "metadata": {},
   "source": [
    "### Combined promoter and full sequence lengths"
   ]
  },
  {
   "cell_type": "code",
   "execution_count": 4,
   "metadata": {},
   "outputs": [
    {
     "name": "stdout",
     "output_type": "stream",
     "text": [
      "combined_promoter\n",
      "52    11331\n",
      "58      999\n",
      "56      410\n",
      "50      287\n",
      "51      129\n",
      "53      116\n",
      "54       81\n",
      "Name: count, dtype: int64\n",
      "0.8405162821749128\n"
     ]
    }
   ],
   "source": [
    "print(df['combined_promoter'].str.len().value_counts()[:7])\n",
    "print(df['combined_promoter'].str.len().value_counts().iloc[0]/len(df))"
   ]
  },
  {
   "cell_type": "code",
   "execution_count": 5,
   "metadata": {},
   "outputs": [
    {
     "name": "stdout",
     "output_type": "stream",
     "text": [
      "combined_promoter_ITR\n",
      "73    10761\n",
      "79      999\n",
      "72      699\n",
      "77      410\n",
      "71      287\n",
      "74      116\n",
      "75       81\n",
      "Name: count, dtype: int64\n",
      "0.798234552332913\n"
     ]
    }
   ],
   "source": [
    "print(df['combined_promoter_ITR'].str.len().value_counts()[:7])\n",
    "print(df['combined_promoter_ITR'].str.len().value_counts().iloc[0]/len(df))"
   ]
  },
  {
   "cell_type": "markdown",
   "metadata": {},
   "source": [
    "### Individual element lengths"
   ]
  },
  {
   "cell_type": "code",
   "execution_count": 6,
   "metadata": {},
   "outputs": [
    {
     "name": "stdout",
     "output_type": "stream",
     "text": [
      "UP\n",
      "16    12084\n",
      "22      993\n",
      "20      404\n",
      "Name: count, dtype: int64\n",
      "0.8963726726503969\n"
     ]
    }
   ],
   "source": [
    "print(df['UP'].str.len().value_counts()[:7])\n",
    "print(df['UP'].str.len().value_counts().iloc[0]/len(df))"
   ]
  },
  {
   "cell_type": "code",
   "execution_count": 7,
   "metadata": {},
   "outputs": [
    {
     "name": "stdout",
     "output_type": "stream",
     "text": [
      "h35\n",
      "6    13481\n",
      "Name: count, dtype: int64\n",
      "1.0\n"
     ]
    }
   ],
   "source": [
    "print(df['h35'].str.len().value_counts()[:7])\n",
    "print(df['h35'].str.len().value_counts().iloc[0]/len(df))"
   ]
  },
  {
   "cell_type": "code",
   "execution_count": 8,
   "metadata": {},
   "outputs": [
    {
     "name": "stdout",
     "output_type": "stream",
     "text": [
      "spacs\n",
      "17    12793\n",
      "15      287\n",
      "16      109\n",
      "19       81\n",
      "18       71\n",
      "9         8\n",
      "13        8\n",
      "Name: count, dtype: int64\n",
      "0.9489652102959721\n"
     ]
    }
   ],
   "source": [
    "print(df['spacs'].str.len().value_counts()[:7])\n",
    "print(df['spacs'].str.len().value_counts().iloc[0]/len(df))"
   ]
  },
  {
   "cell_type": "code",
   "execution_count": 9,
   "metadata": {},
   "outputs": [
    {
     "name": "stdout",
     "output_type": "stream",
     "text": [
      "h10\n",
      "6    13481\n",
      "Name: count, dtype: int64\n",
      "1.0\n"
     ]
    }
   ],
   "source": [
    "print(df['h10'].str.len().value_counts()[:7])\n",
    "print(df['h10'].str.len().value_counts().iloc[0]/len(df))"
   ]
  },
  {
   "cell_type": "code",
   "execution_count": 10,
   "metadata": {},
   "outputs": [
    {
     "name": "stdout",
     "output_type": "stream",
     "text": [
      "disc\n",
      "7    13416\n",
      "8       45\n",
      "6       20\n",
      "Name: count, dtype: int64\n",
      "0.9951783992285439\n"
     ]
    }
   ],
   "source": [
    "print(df['disc'].str.len().value_counts()[:7])\n",
    "print(df['disc'].str.len().value_counts().iloc[0]/len(df))"
   ]
  },
  {
   "cell_type": "code",
   "execution_count": 11,
   "metadata": {},
   "outputs": [
    {
     "name": "stdout",
     "output_type": "stream",
     "text": [
      "ITR\n",
      "21    12911\n",
      "20      570\n",
      "Name: count, dtype: int64\n",
      "0.9577182701580002\n"
     ]
    }
   ],
   "source": [
    "print(df['ITR'].str.len().value_counts()[:7])\n",
    "print(df['ITR'].str.len().value_counts().iloc[0]/len(df))"
   ]
  }
 ],
 "metadata": {
  "kernelspec": {
   "display_name": "Python 3",
   "language": "python",
   "name": "python3"
  },
  "language_info": {
   "codemirror_mode": {
    "name": "ipython",
    "version": 3
   },
   "file_extension": ".py",
   "mimetype": "text/x-python",
   "name": "python",
   "nbconvert_exporter": "python",
   "pygments_lexer": "ipython3",
   "version": "3.12.3"
  }
 },
 "nbformat": 4,
 "nbformat_minor": 2
}
