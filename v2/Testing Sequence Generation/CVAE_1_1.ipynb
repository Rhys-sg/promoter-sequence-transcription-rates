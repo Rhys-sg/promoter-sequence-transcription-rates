{
 "cells": [
  {
   "cell_type": "markdown",
   "metadata": {},
   "source": [
    "### Description\n",
    "\n",
    "This implements a CVAE to infill the promoter based on the latent variation and the expression condition. It now includes CNN Auxiliary Loss.\n",
    "\n",
    "Other changes format to be similar to CTGAN:\n",
    "* Uses dataloader\n",
    "* Masks sequence before onehot encoding"
   ]
  },
  {
   "cell_type": "code",
   "execution_count": 1,
   "metadata": {},
   "outputs": [],
   "source": [
    "from CVAE_1_1 import *"
   ]
  },
  {
   "cell_type": "code",
   "execution_count": 2,
   "metadata": {},
   "outputs": [
    {
     "name": "stdout",
     "output_type": "stream",
     "text": [
      "Epoch 1/10 completed. Avg Loss: 0.4566Recon Loss: 0.1304, KL Loss: 0.0000, Aux Loss: 0.3028\n",
      "Epoch 2/10 completed. Avg Loss: 0.4449Recon Loss: 0.1264, KL Loss: 0.0001, Aux Loss: 0.2987\n",
      "Epoch 3/10 completed. Avg Loss: 0.4392Recon Loss: 0.1256, KL Loss: 0.0001, Aux Loss: 0.3021\n",
      "Epoch 4/10 completed. Avg Loss: 0.4385Recon Loss: 0.1156, KL Loss: 0.0001, Aux Loss: 0.3229\n",
      "Epoch 5/10 completed. Avg Loss: 0.4384Recon Loss: 0.1098, KL Loss: 0.0001, Aux Loss: 0.3219\n",
      "Epoch 6/10 completed. Avg Loss: 0.4384Recon Loss: 0.1130, KL Loss: 0.0001, Aux Loss: 0.2964\n",
      "Epoch 7/10 completed. Avg Loss: 0.4385Recon Loss: 0.1184, KL Loss: 0.0001, Aux Loss: 0.3098\n",
      "Epoch 8/10 completed. Avg Loss: 0.4381Recon Loss: 0.1121, KL Loss: 0.0001, Aux Loss: 0.3596\n",
      "Epoch 9/10 completed. Avg Loss: 0.4383Recon Loss: 0.1179, KL Loss: 0.0001, Aux Loss: 0.2733\n",
      "Epoch 10/10 completed. Avg Loss: 0.4381Recon Loss: 0.1136, KL Loss: 0.0001, Aux Loss: 0.3049\n"
     ]
    }
   ],
   "source": [
    "# Hyperparameters\n",
    "batch_size = 64\n",
    "epochs = 10\n",
    "latent_dim = 16\n",
    "\n",
    "# Paths to Data and Pre-trained CNN\n",
    "path_to_train_data = '../Data/Train Test/train_data.csv'\n",
    "path_to_test_data = '../Data/Train Test/train_data.csv'\n",
    "path_to_cnn = '../Models/CNN_5_0.keras'\n",
    "\n",
    "# Load Data and Prepare Dataloaders\n",
    "train_df = load_data(path_to_train_data)\n",
    "test_df = load_data(path_to_test_data)\n",
    "\n",
    "train_loader = prepare_dataloader(train_df, batch_size)\n",
    "test_loader = prepare_dataloader(test_df, batch_size)\n",
    "\n",
    "# Initialize the models and optimizers\n",
    "cnn = KerasModelWrapper(path_to_cnn)\n",
    "generator = CVAE(latent_dim)\n",
    "optimizer = torch.optim.Adam(generator.parameters(), lr=1e-3)\n",
    "\n",
    "# Train the generator\n",
    "train_generator(generator, cnn, optimizer, train_loader, epochs)"
   ]
  },
  {
   "cell_type": "code",
   "execution_count": null,
   "metadata": {},
   "outputs": [],
   "source": [
    "# Evaluate the generator\n",
    "test_loss = evaluate_generator(generator, test_loader, cnn)"
   ]
  },
  {
   "cell_type": "code",
   "execution_count": 5,
   "metadata": {},
   "outputs": [
    {
     "name": "stdout",
     "output_type": "stream",
     "text": [
      "Average Test Loss: 0.4381\n"
     ]
    }
   ],
   "source": [
    "print(f'Average Test Loss: {test_loss:.4f}')"
   ]
  },
  {
   "cell_type": "code",
   "execution_count": 4,
   "metadata": {},
   "outputs": [
    {
     "name": "stdout",
     "output_type": "stream",
     "text": [
      "Masked:   TTTTCTATCTACGTACTTGACACTATTTCNNNNNNNNNNATTACCTTAGTTTGTACGTT\n",
      "Infilled: TTTTCTATCTACGTACTTGACACTATTTCATCTAACACCATTACCTTAGTTTGTACGTT\n"
     ]
    }
   ],
   "source": [
    "# Test Example\n",
    "masked_seq = ['TTTTCTATCTACGTACTTGACACTATTTCNNNNNNNNNNATTACCTTAGTTTGTACGTT']\n",
    "expressions = [0.5]\n",
    "\n",
    "# Generate infills\n",
    "infilled_seq = generate_infills(generator, masked_seq, expressions)\n",
    "for masked, infilled in zip(masked_seq, infilled_seq):\n",
    "    print(\"Masked:  \", masked)\n",
    "    print(\"Infilled:\", infilled)"
   ]
  }
 ],
 "metadata": {
  "kernelspec": {
   "display_name": "Python 3",
   "language": "python",
   "name": "python3"
  },
  "language_info": {
   "codemirror_mode": {
    "name": "ipython",
    "version": 3
   },
   "file_extension": ".py",
   "mimetype": "text/x-python",
   "name": "python",
   "nbconvert_exporter": "python",
   "pygments_lexer": "ipython3",
   "version": "3.12.3"
  }
 },
 "nbformat": 4,
 "nbformat_minor": 2
}
