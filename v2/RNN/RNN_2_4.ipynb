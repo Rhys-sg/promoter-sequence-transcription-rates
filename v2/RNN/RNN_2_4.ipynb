{
 "cells": [
  {
   "cell_type": "markdown",
   "metadata": {},
   "source": [
    "### Description\n",
    "\n",
    "DOES NOT PROPERLY ONEHOT-ENCODE OUTPUT\n",
    "\n",
    "This changes the loss to incentivize boolean outputs, including options to\n",
    "1. Use temperature-scaled softmax function to onehot encode outputs.\n",
    "\n",
    "TODO:\n",
    "1. Try either categorical cross-entropy at the output layer.\n",
    "2. Use custom loss function to penalize deviating from 1 or 0."
   ]
  },
  {
   "cell_type": "code",
   "execution_count": 1,
   "metadata": {},
   "outputs": [],
   "source": [
    "import RNN_2_4 as parent"
   ]
  },
  {
   "cell_type": "code",
   "execution_count": 2,
   "metadata": {},
   "outputs": [],
   "source": [
    "name = 'RNN_2_4'"
   ]
  },
  {
   "cell_type": "code",
   "execution_count": 3,
   "metadata": {},
   "outputs": [],
   "source": [
    "file_path = '../Data/combined/LaFleur_supp.csv'\n",
    "\n",
    "df, scaler = parent.load_and_preprocess_data(file_path)"
   ]
  },
  {
   "cell_type": "code",
   "execution_count": 4,
   "metadata": {},
   "outputs": [],
   "source": [
    "X_sequence, X_expressions, y = parent.preprocess_X_y(df)"
   ]
  },
  {
   "cell_type": "code",
   "execution_count": 5,
   "metadata": {},
   "outputs": [],
   "source": [
    "X_sequence_train, X_sequence_test, X_expressions_train, X_expressions_test, y_train, y_test = parent.train_test_split(\n",
    "        X_sequence, X_expressions, y, test_size=0.2, random_state=42)"
   ]
  },
  {
   "cell_type": "code",
   "execution_count": 6,
   "metadata": {},
   "outputs": [
    {
     "name": "stdout",
     "output_type": "stream",
     "text": [
      "WARNING:tensorflow:From c:\\Users\\rsore\\anaconda3\\envs\\TX_prediction\\Lib\\site-packages\\keras\\src\\backend\\tensorflow\\core.py:184: The name tf.placeholder is deprecated. Please use tf.compat.v1.placeholder instead.\n",
      "\n"
     ]
    }
   ],
   "source": [
    "cnn_model = parent.load_model('../Models/CNN_5_0.keras')\n",
    "lstm_model = parent.build_lstm_model(sequence_length=150, input_nucleotide_dim=5, output_nucleotide_dim=4, expression_dim=1)"
   ]
  },
  {
   "cell_type": "code",
   "execution_count": null,
   "metadata": {},
   "outputs": [],
   "source": [
    "# loss_history = parent.train_model(lstm_model, cnn_model, X_sequence_train, X_expressions_train, y_train, batch_size=512, epochs=1, learning_rate=0.01)\n",
    "# lstm_model.save(f'../Models/{name}.keras')"
   ]
  },
  {
   "cell_type": "code",
   "execution_count": 8,
   "metadata": {},
   "outputs": [
    {
     "name": "stderr",
     "output_type": "stream",
     "text": [
      "c:\\Users\\rsore\\anaconda3\\envs\\TX_prediction\\Lib\\site-packages\\keras\\src\\saving\\saving_lib.py:415: UserWarning: Skipping variable loading for optimizer 'adam', because it has 12 variables whereas the saved optimizer has 2 variables. \n",
      "  saveable.load_own_variables(weights_store.get(inner_path))\n"
     ]
    }
   ],
   "source": [
    "lstm_model = parent.load_model(f'../Models/{name}.keras')"
   ]
  },
  {
   "cell_type": "code",
   "execution_count": 9,
   "metadata": {},
   "outputs": [
    {
     "name": "stdout",
     "output_type": "stream",
     "text": [
      "\u001b[1m305/305\u001b[0m \u001b[32m━━━━━━━━━━━━━━━━━━━━\u001b[0m\u001b[37m\u001b[0m \u001b[1m4s\u001b[0m 14ms/step\n",
      "\u001b[1m305/305\u001b[0m \u001b[32m━━━━━━━━━━━━━━━━━━━━\u001b[0m\u001b[37m\u001b[0m \u001b[1m0s\u001b[0m 1ms/step\n",
      "Mean Squared Error on Test Data: 0.0170\n"
     ]
    }
   ],
   "source": [
    "mse, predicted_expression = parent.evaluate_model(lstm_model, cnn_model, X_sequence_test, X_expressions_test)\n",
    "print(f'Mean Squared Error on Test Data: {mse:.4f}')"
   ]
  },
  {
   "cell_type": "code",
   "execution_count": 10,
   "metadata": {},
   "outputs": [
    {
     "name": "stdout",
     "output_type": "stream",
     "text": [
      "\u001b[1m1/1\u001b[0m \u001b[32m━━━━━━━━━━━━━━━━━━━━\u001b[0m\u001b[37m\u001b[0m \u001b[1m0s\u001b[0m 17ms/step\n"
     ]
    },
    {
     "name": "stderr",
     "output_type": "stream",
     "text": [
      "c:\\Users\\rsore\\anaconda3\\envs\\TX_prediction\\Lib\\site-packages\\sklearn\\base.py:493: UserWarning: X does not have valid feature names, but MinMaxScaler was fitted with feature names\n",
      "  warnings.warn(\n"
     ]
    },
    {
     "data": {
      "text/plain": [
       "'00000000000000000000000000000000000000000000000000000000000000000000000000000TTTTCTATCTACGTACTTGACACTATTTCCTATTTCTCTTATAATT0000000000ACCTTAGTTTGTACGTT'"
      ]
     },
     "execution_count": 10,
     "metadata": {},
     "output_type": "execute_result"
    }
   ],
   "source": [
    "parent.predict_with_lstm(lstm_model, 'TTTTCTATCTACGTACTTGACACTATTTCCTATTTCTCTTATAATT__________ACCTTAGTTTGTACGTT', 0.5, scaler, 150)"
   ]
  },
  {
   "cell_type": "code",
   "execution_count": 11,
   "metadata": {},
   "outputs": [
    {
     "name": "stdout",
     "output_type": "stream",
     "text": [
      "\u001b[1m1/1\u001b[0m \u001b[32m━━━━━━━━━━━━━━━━━━━━\u001b[0m\u001b[37m\u001b[0m \u001b[1m0s\u001b[0m 22ms/step\n"
     ]
    },
    {
     "name": "stderr",
     "output_type": "stream",
     "text": [
      "c:\\Users\\rsore\\anaconda3\\envs\\TX_prediction\\Lib\\site-packages\\sklearn\\base.py:493: UserWarning: X does not have valid feature names, but MinMaxScaler was fitted with feature names\n",
      "  warnings.warn(\n"
     ]
    },
    {
     "data": {
      "text/plain": [
       "array([[[0.        , 0.        , 0.        , 0.        ],\n",
       "        [0.        , 0.        , 0.        , 0.        ],\n",
       "        [0.        , 0.        , 0.        , 0.        ],\n",
       "        [0.        , 0.        , 0.        , 0.        ],\n",
       "        [0.        , 0.        , 0.        , 0.        ],\n",
       "        [0.        , 0.        , 0.        , 0.        ],\n",
       "        [0.        , 0.        , 0.        , 0.        ],\n",
       "        [0.        , 0.        , 0.        , 0.        ],\n",
       "        [0.        , 0.        , 0.        , 0.        ],\n",
       "        [0.        , 0.        , 0.        , 0.        ],\n",
       "        [0.        , 0.        , 0.        , 0.        ],\n",
       "        [0.        , 0.        , 0.        , 0.        ],\n",
       "        [0.        , 0.        , 0.        , 0.        ],\n",
       "        [0.        , 0.        , 0.        , 0.        ],\n",
       "        [0.        , 0.        , 0.        , 0.        ],\n",
       "        [0.        , 0.        , 0.        , 0.        ],\n",
       "        [0.        , 0.        , 0.        , 0.        ],\n",
       "        [0.        , 0.        , 0.        , 0.        ],\n",
       "        [0.        , 0.        , 0.        , 0.        ],\n",
       "        [0.        , 0.        , 0.        , 0.        ],\n",
       "        [0.        , 0.        , 0.        , 0.        ],\n",
       "        [0.        , 0.        , 0.        , 0.        ],\n",
       "        [0.        , 0.        , 0.        , 0.        ],\n",
       "        [0.        , 0.        , 0.        , 0.        ],\n",
       "        [0.        , 0.        , 0.        , 0.        ],\n",
       "        [0.        , 0.        , 0.        , 0.        ],\n",
       "        [0.        , 0.        , 0.        , 0.        ],\n",
       "        [0.        , 0.        , 0.        , 0.        ],\n",
       "        [0.        , 0.        , 0.        , 0.        ],\n",
       "        [0.        , 0.        , 0.        , 0.        ],\n",
       "        [0.        , 0.        , 0.        , 0.        ],\n",
       "        [0.        , 0.        , 0.        , 0.        ],\n",
       "        [0.        , 0.        , 0.        , 0.        ],\n",
       "        [0.        , 0.        , 0.        , 0.        ],\n",
       "        [0.        , 0.        , 0.        , 0.        ],\n",
       "        [0.        , 0.        , 0.        , 0.        ],\n",
       "        [0.        , 0.        , 0.        , 0.        ],\n",
       "        [0.        , 0.        , 0.        , 0.        ],\n",
       "        [0.        , 0.        , 0.        , 0.        ],\n",
       "        [0.        , 0.        , 0.        , 0.        ],\n",
       "        [0.        , 0.        , 0.        , 0.        ],\n",
       "        [0.        , 0.        , 0.        , 0.        ],\n",
       "        [0.        , 0.        , 0.        , 0.        ],\n",
       "        [0.        , 0.        , 0.        , 0.        ],\n",
       "        [0.        , 0.        , 0.        , 0.        ],\n",
       "        [0.        , 0.        , 0.        , 0.        ],\n",
       "        [0.        , 0.        , 0.        , 0.        ],\n",
       "        [0.        , 0.        , 0.        , 0.        ],\n",
       "        [0.        , 0.        , 0.        , 0.        ],\n",
       "        [0.        , 0.        , 0.        , 0.        ],\n",
       "        [0.        , 0.        , 0.        , 0.        ],\n",
       "        [0.        , 0.        , 0.        , 0.        ],\n",
       "        [0.        , 0.        , 0.        , 0.        ],\n",
       "        [0.        , 0.        , 0.        , 0.        ],\n",
       "        [0.        , 0.        , 0.        , 0.        ],\n",
       "        [0.        , 0.        , 0.        , 0.        ],\n",
       "        [0.        , 0.        , 0.        , 0.        ],\n",
       "        [0.        , 0.        , 0.        , 0.        ],\n",
       "        [0.        , 0.        , 0.        , 0.        ],\n",
       "        [0.        , 0.        , 0.        , 0.        ],\n",
       "        [0.        , 0.        , 0.        , 0.        ],\n",
       "        [0.        , 0.        , 0.        , 0.        ],\n",
       "        [0.        , 0.        , 0.        , 0.        ],\n",
       "        [0.        , 0.        , 0.        , 0.        ],\n",
       "        [0.        , 0.        , 0.        , 0.        ],\n",
       "        [0.        , 0.        , 0.        , 0.        ],\n",
       "        [0.        , 0.        , 0.        , 0.        ],\n",
       "        [0.        , 0.        , 0.        , 0.        ],\n",
       "        [0.        , 0.        , 0.        , 0.        ],\n",
       "        [0.        , 0.        , 0.        , 0.        ],\n",
       "        [0.        , 0.        , 0.        , 0.        ],\n",
       "        [0.        , 0.        , 0.        , 0.        ],\n",
       "        [0.        , 0.        , 0.        , 0.        ],\n",
       "        [0.        , 0.        , 0.        , 0.        ],\n",
       "        [0.        , 0.        , 0.        , 0.        ],\n",
       "        [0.        , 0.        , 0.        , 0.        ],\n",
       "        [0.        , 0.        , 0.        , 0.        ],\n",
       "        [0.        , 1.        , 0.        , 0.        ],\n",
       "        [0.        , 1.        , 0.        , 0.        ],\n",
       "        [0.        , 1.        , 0.        , 0.        ],\n",
       "        [0.        , 1.        , 0.        , 0.        ],\n",
       "        [0.        , 0.        , 1.        , 0.        ],\n",
       "        [0.        , 1.        , 0.        , 0.        ],\n",
       "        [1.        , 0.        , 0.        , 0.        ],\n",
       "        [0.        , 1.        , 0.        , 0.        ],\n",
       "        [0.        , 0.        , 1.        , 0.        ],\n",
       "        [0.        , 1.        , 0.        , 0.        ],\n",
       "        [1.        , 0.        , 0.        , 0.        ],\n",
       "        [0.        , 0.        , 1.        , 0.        ],\n",
       "        [0.        , 0.        , 0.        , 1.        ],\n",
       "        [0.        , 1.        , 0.        , 0.        ],\n",
       "        [1.        , 0.        , 0.        , 0.        ],\n",
       "        [0.        , 0.        , 1.        , 0.        ],\n",
       "        [0.        , 1.        , 0.        , 0.        ],\n",
       "        [0.        , 1.        , 0.        , 0.        ],\n",
       "        [0.        , 0.        , 0.        , 1.        ],\n",
       "        [1.        , 0.        , 0.        , 0.        ],\n",
       "        [0.        , 0.        , 1.        , 0.        ],\n",
       "        [1.        , 0.        , 0.        , 0.        ],\n",
       "        [0.        , 0.        , 1.        , 0.        ],\n",
       "        [0.        , 1.        , 0.        , 0.        ],\n",
       "        [1.        , 0.        , 0.        , 0.        ],\n",
       "        [0.        , 1.        , 0.        , 0.        ],\n",
       "        [0.        , 1.        , 0.        , 0.        ],\n",
       "        [0.        , 1.        , 0.        , 0.        ],\n",
       "        [0.        , 0.        , 1.        , 0.        ],\n",
       "        [0.        , 0.        , 1.        , 0.        ],\n",
       "        [0.        , 1.        , 0.        , 0.        ],\n",
       "        [1.        , 0.        , 0.        , 0.        ],\n",
       "        [0.        , 1.        , 0.        , 0.        ],\n",
       "        [0.        , 1.        , 0.        , 0.        ],\n",
       "        [0.        , 1.        , 0.        , 0.        ],\n",
       "        [0.        , 0.        , 1.        , 0.        ],\n",
       "        [0.        , 1.        , 0.        , 0.        ],\n",
       "        [0.        , 0.        , 1.        , 0.        ],\n",
       "        [0.        , 1.        , 0.        , 0.        ],\n",
       "        [0.        , 1.        , 0.        , 0.        ],\n",
       "        [1.        , 0.        , 0.        , 0.        ],\n",
       "        [0.        , 1.        , 0.        , 0.        ],\n",
       "        [1.        , 0.        , 0.        , 0.        ],\n",
       "        [1.        , 0.        , 0.        , 0.        ],\n",
       "        [0.        , 1.        , 0.        , 0.        ],\n",
       "        [0.        , 1.        , 0.        , 0.        ],\n",
       "        [0.23136553, 0.23653385, 0.2355973 , 0.29650334],\n",
       "        [0.23399389, 0.23753291, 0.23587754, 0.29259562],\n",
       "        [0.2367923 , 0.23793274, 0.23570858, 0.28956646],\n",
       "        [0.2395136 , 0.23776278, 0.2352943 , 0.2874294 ],\n",
       "        [0.24201171, 0.2371369 , 0.23476554, 0.2860858 ],\n",
       "        [0.24421865, 0.23619056, 0.2341998 , 0.285391  ],\n",
       "        [0.24611475, 0.2350506 , 0.2336421 , 0.28519252],\n",
       "        [0.24770938, 0.23382185, 0.2331181 , 0.2853506 ],\n",
       "        [0.24902779, 0.23258337, 0.2326418 , 0.28574702],\n",
       "        [0.25010285, 0.23139009, 0.2322197 , 0.28628734],\n",
       "        [1.        , 0.        , 0.        , 0.        ],\n",
       "        [0.        , 0.        , 1.        , 0.        ],\n",
       "        [0.        , 0.        , 1.        , 0.        ],\n",
       "        [0.        , 1.        , 0.        , 0.        ],\n",
       "        [0.        , 1.        , 0.        , 0.        ],\n",
       "        [1.        , 0.        , 0.        , 0.        ],\n",
       "        [0.        , 0.        , 0.        , 1.        ],\n",
       "        [0.        , 1.        , 0.        , 0.        ],\n",
       "        [0.        , 1.        , 0.        , 0.        ],\n",
       "        [0.        , 1.        , 0.        , 0.        ],\n",
       "        [0.        , 0.        , 0.        , 1.        ],\n",
       "        [0.        , 1.        , 0.        , 0.        ],\n",
       "        [1.        , 0.        , 0.        , 0.        ],\n",
       "        [0.        , 0.        , 1.        , 0.        ],\n",
       "        [0.        , 0.        , 0.        , 1.        ],\n",
       "        [0.        , 1.        , 0.        , 0.        ],\n",
       "        [0.        , 1.        , 0.        , 0.        ]]], dtype=float32)"
      ]
     },
     "execution_count": 11,
     "metadata": {},
     "output_type": "execute_result"
    }
   ],
   "source": [
    "parent.predict_with_lstm(lstm_model, 'TTTTCTATCTACGTACTTGACACTATTTCCTATTTCTCTTATAATT__________ACCTTAGTTTGTACGTT', 0.5, scaler, 150, decode_output=False)"
   ]
  }
 ],
 "metadata": {
  "kernelspec": {
   "display_name": "Python 3",
   "language": "python",
   "name": "python3"
  },
  "language_info": {
   "codemirror_mode": {
    "name": "ipython",
    "version": 3
   },
   "file_extension": ".py",
   "mimetype": "text/x-python",
   "name": "python",
   "nbconvert_exporter": "python",
   "pygments_lexer": "ipython3",
   "version": "3.12.3"
  }
 },
 "nbformat": 4,
 "nbformat_minor": 2
}
