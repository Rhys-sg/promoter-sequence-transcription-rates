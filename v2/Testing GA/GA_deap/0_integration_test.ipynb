{
 "cells": [
  {
   "cell_type": "code",
   "execution_count": 1,
   "metadata": {},
   "outputs": [],
   "source": [
    "from GA.MogaGeneticAlgorithm import MogaGeneticAlgorithm\n",
    "from GA.Operators.EvaluationMethod import *\n",
    "\n",
    "from GA.CNN import CNN"
   ]
  },
  {
   "cell_type": "code",
   "execution_count": 10,
   "metadata": {},
   "outputs": [],
   "source": [
    "pLac = 'AATACTAGAGGTCTTCCGACTTTACACTTTATGCTTCCGGCTCGTATGTTGTGTGGGCGGGAAGACAACTAGGGG'\n",
    "\n",
    "evalPredTX = evalPredict(CNN('../../Models/CNN_6_1_2.keras'), target=0)\n",
    "evalPredIsForward = evalPredict(CNN('../../Models/IsForward_1_0.keras'), target=1)\n",
    "evalDiversity = evalMaxDiversity()"
   ]
  },
  {
   "cell_type": "code",
   "execution_count": 11,
   "metadata": {},
   "outputs": [
    {
     "name": "stdout",
     "output_type": "stream",
     "text": [
      "['AATACTAGAGGTCTTCCGACCTTGTCTGGCCATTTGCCCCTATTTGCGTCGTGTGGGCGGGAAGACAACTAGGGG']\n",
      "[(0.8305999040603638, 0.07388931512832642, 1.0)]\n"
     ]
    }
   ],
   "source": [
    "kwargs = {\n",
    "    'masked_sequence': 'AATACTAGAGGTCTTCCGACNNNNNNNNNNNNNNNNNNNNNNNNNNNNNNGTGTGGGCGGGAAGACAACTAGGGG',\n",
    "    'seed': 0,\n",
    "    'evaluation_methods': [evalPredTX, evalPredIsForward, evalDiversity],\n",
    "    'evaluation_weights': (1, 1, 0.3),\n",
    "}\n",
    "moga = MogaGeneticAlgorithm(\n",
    "    **kwargs\n",
    ")\n",
    "moga.run()\n",
    "print(moga.best_sequences)\n",
    "print(moga.best_fitnesses)"
   ]
  }
 ],
 "metadata": {
  "kernelspec": {
   "display_name": "TX_prediction",
   "language": "python",
   "name": "python3"
  },
  "language_info": {
   "codemirror_mode": {
    "name": "ipython",
    "version": 3
   },
   "file_extension": ".py",
   "mimetype": "text/x-python",
   "name": "python",
   "nbconvert_exporter": "python",
   "pygments_lexer": "ipython3",
   "version": "3.12.3"
  }
 },
 "nbformat": 4,
 "nbformat_minor": 2
}
