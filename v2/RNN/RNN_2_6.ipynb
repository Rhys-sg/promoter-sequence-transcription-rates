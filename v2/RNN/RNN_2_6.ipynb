{
 "cells": [
  {
   "cell_type": "markdown",
   "metadata": {},
   "source": [
    "### Description\n",
    "\n",
    "This changes the loss to incentivize boolean outputs:\n",
    "1. Implement loss calculation based on deviation from Argmax with a Straight-Through Estimator (STE)\n",
    "\n",
    "TODO:\n",
    "1. Change Loss to compare CNN(predicted_sequence) to CNN(actual_sequence) instead of CNN(predicted_sequence) to actual_expression."
   ]
  },
  {
   "cell_type": "code",
   "execution_count": 1,
   "metadata": {},
   "outputs": [],
   "source": [
    "import RNN_2_6 as parent"
   ]
  },
  {
   "cell_type": "code",
   "execution_count": 2,
   "metadata": {},
   "outputs": [],
   "source": [
    "name = 'RNN_2_6'"
   ]
  },
  {
   "cell_type": "code",
   "execution_count": 3,
   "metadata": {},
   "outputs": [],
   "source": [
    "file_path = '../Data/combined/LaFleur_supp.csv'\n",
    "\n",
    "df, scaler = parent.load_and_preprocess_data(file_path)"
   ]
  },
  {
   "cell_type": "code",
   "execution_count": 4,
   "metadata": {},
   "outputs": [],
   "source": [
    "X_sequence, X_expressions, y = parent.preprocess_X_y(df)"
   ]
  },
  {
   "cell_type": "code",
   "execution_count": 5,
   "metadata": {},
   "outputs": [],
   "source": [
    "X_sequence_train, X_sequence_test, X_expressions_train, X_expressions_test, y_train, y_test = parent.train_test_split(\n",
    "        X_sequence, X_expressions, y, test_size=0.2, random_state=42)"
   ]
  },
  {
   "cell_type": "code",
   "execution_count": 6,
   "metadata": {},
   "outputs": [
    {
     "name": "stdout",
     "output_type": "stream",
     "text": [
      "WARNING:tensorflow:From c:\\Users\\rsore\\anaconda3\\envs\\TX_prediction\\Lib\\site-packages\\keras\\src\\backend\\tensorflow\\core.py:184: The name tf.placeholder is deprecated. Please use tf.compat.v1.placeholder instead.\n",
      "\n"
     ]
    }
   ],
   "source": [
    "cnn_model = parent.load_model('../Models/CNN_5_0.keras')\n",
    "lstm_model = parent.build_lstm_model()"
   ]
  },
  {
   "cell_type": "code",
   "execution_count": 7,
   "metadata": {},
   "outputs": [],
   "source": [
    "# loss_history = parent.train_model(lstm_model, cnn_model, X_sequence_train, X_expressions_train, y_train, batch_size=512, epochs=1, learning_rate=0.01)\n",
    "# lstm_model.save(f'../Models/{name}.keras')"
   ]
  },
  {
   "cell_type": "code",
   "execution_count": 8,
   "metadata": {},
   "outputs": [
    {
     "name": "stderr",
     "output_type": "stream",
     "text": [
      "c:\\Users\\rsore\\anaconda3\\envs\\TX_prediction\\Lib\\site-packages\\keras\\src\\saving\\saving_lib.py:415: UserWarning: Skipping variable loading for optimizer 'adam', because it has 12 variables whereas the saved optimizer has 2 variables. \n",
      "  saveable.load_own_variables(weights_store.get(inner_path))\n"
     ]
    }
   ],
   "source": [
    "lstm_model = parent.load_model(f'../Models/{name}.keras')"
   ]
  },
  {
   "cell_type": "code",
   "execution_count": 9,
   "metadata": {},
   "outputs": [
    {
     "name": "stdout",
     "output_type": "stream",
     "text": [
      "\u001b[1m305/305\u001b[0m \u001b[32m━━━━━━━━━━━━━━━━━━━━\u001b[0m\u001b[37m\u001b[0m \u001b[1m4s\u001b[0m 13ms/step\n",
      "\u001b[1m305/305\u001b[0m \u001b[32m━━━━━━━━━━━━━━━━━━━━\u001b[0m\u001b[37m\u001b[0m \u001b[1m0s\u001b[0m 1ms/step\n",
      "Mean Squared Error on Test Data: 0.0170\n"
     ]
    }
   ],
   "source": [
    "mse, predicted_expression = parent.evaluate_model(lstm_model, cnn_model, X_sequence_test, X_expressions_test)\n",
    "print(f'Mean Squared Error on Test Data: {mse:.4f}')"
   ]
  },
  {
   "cell_type": "code",
   "execution_count": 13,
   "metadata": {},
   "outputs": [
    {
     "name": "stdout",
     "output_type": "stream",
     "text": [
      "\u001b[1m1/1\u001b[0m \u001b[32m━━━━━━━━━━━━━━━━━━━━\u001b[0m\u001b[37m\u001b[0m \u001b[1m0s\u001b[0m 24ms/step\n",
      "[[[0.         0.         0.         0.         1.        ]\n",
      "  [0.         0.         0.         0.         1.        ]\n",
      "  [0.         0.         0.         0.         1.        ]\n",
      "  [0.         0.         0.         0.         1.        ]\n",
      "  [0.         0.         0.         0.         1.        ]\n",
      "  [0.         0.         0.         0.         1.        ]\n",
      "  [0.         0.         0.         0.         1.        ]\n",
      "  [0.         0.         0.         0.         1.        ]\n",
      "  [0.         0.         0.         0.         1.        ]\n",
      "  [0.         0.         0.         0.         1.        ]\n",
      "  [0.         0.         0.         0.         1.        ]\n",
      "  [0.         0.         0.         0.         1.        ]\n",
      "  [0.         0.         0.         0.         1.        ]\n",
      "  [0.         0.         0.         0.         1.        ]\n",
      "  [0.         0.         0.         0.         1.        ]\n",
      "  [0.         0.         0.         0.         1.        ]\n",
      "  [0.         0.         0.         0.         1.        ]\n",
      "  [0.         0.         0.         0.         1.        ]\n",
      "  [0.         0.         0.         0.         1.        ]\n",
      "  [0.         0.         0.         0.         1.        ]\n",
      "  [0.         0.         0.         0.         1.        ]\n",
      "  [0.         0.         0.         0.         1.        ]\n",
      "  [0.         0.         0.         0.         1.        ]\n",
      "  [0.         0.         0.         0.         1.        ]\n",
      "  [0.         0.         0.         0.         1.        ]\n",
      "  [0.         0.         0.         0.         1.        ]\n",
      "  [0.         0.         0.         0.         1.        ]\n",
      "  [0.         0.         0.         0.         1.        ]\n",
      "  [0.         0.         0.         0.         1.        ]\n",
      "  [0.         0.         0.         0.         1.        ]\n",
      "  [0.         0.         0.         0.         1.        ]\n",
      "  [0.         0.         0.         0.         1.        ]\n",
      "  [0.         0.         0.         0.         1.        ]\n",
      "  [0.         0.         0.         0.         1.        ]\n",
      "  [0.         0.         0.         0.         1.        ]\n",
      "  [0.         0.         0.         0.         1.        ]\n",
      "  [0.         0.         0.         0.         1.        ]\n",
      "  [0.         0.         0.         0.         1.        ]\n",
      "  [0.         0.         0.         0.         1.        ]\n",
      "  [0.         0.         0.         0.         1.        ]\n",
      "  [0.         0.         0.         0.         1.        ]\n",
      "  [0.         0.         0.         0.         1.        ]\n",
      "  [0.         0.         0.         0.         1.        ]\n",
      "  [0.         0.         0.         0.         1.        ]\n",
      "  [0.         0.         0.         0.         1.        ]\n",
      "  [0.         0.         0.         0.         1.        ]\n",
      "  [0.         0.         0.         0.         1.        ]\n",
      "  [0.         0.         0.         0.         1.        ]\n",
      "  [0.         0.         0.         0.         1.        ]\n",
      "  [0.         0.         0.         0.         1.        ]\n",
      "  [0.         0.         0.         0.         1.        ]\n",
      "  [0.         0.         0.         0.         1.        ]\n",
      "  [0.         0.         0.         0.         1.        ]\n",
      "  [0.         0.         0.         0.         1.        ]\n",
      "  [0.         0.         0.         0.         1.        ]\n",
      "  [0.         0.         0.         0.         1.        ]\n",
      "  [0.         0.         0.         0.         1.        ]\n",
      "  [0.         0.         0.         0.         1.        ]\n",
      "  [0.         0.         0.         0.         1.        ]\n",
      "  [0.         0.         0.         0.         1.        ]\n",
      "  [0.         0.         0.         0.         1.        ]\n",
      "  [0.         0.         0.         0.         1.        ]\n",
      "  [0.         0.         0.         0.         1.        ]\n",
      "  [0.         0.         0.         0.         1.        ]\n",
      "  [0.         0.         0.         0.         1.        ]\n",
      "  [0.         0.         0.         0.         1.        ]\n",
      "  [0.         0.         0.         0.         1.        ]\n",
      "  [0.         0.         0.         0.         1.        ]\n",
      "  [0.         0.         0.         0.         1.        ]\n",
      "  [0.         0.         0.         0.         1.        ]\n",
      "  [0.         0.         0.         0.         1.        ]\n",
      "  [0.         0.         0.         0.         1.        ]\n",
      "  [0.         0.         0.         0.         1.        ]\n",
      "  [0.         0.         0.         0.         1.        ]\n",
      "  [0.         0.         0.         0.         1.        ]\n",
      "  [0.         0.         0.         0.         1.        ]\n",
      "  [0.         0.         0.         0.         1.        ]\n",
      "  [0.         1.         0.         0.         0.        ]\n",
      "  [0.         1.         0.         0.         0.        ]\n",
      "  [0.         1.         0.         0.         0.        ]\n",
      "  [0.         1.         0.         0.         0.        ]\n",
      "  [0.         0.         1.         0.         0.        ]\n",
      "  [0.         1.         0.         0.         0.        ]\n",
      "  [1.         0.         0.         0.         0.        ]\n",
      "  [0.         1.         0.         0.         0.        ]\n",
      "  [0.         0.         1.         0.         0.        ]\n",
      "  [0.         1.         0.         0.         0.        ]\n",
      "  [1.         0.         0.         0.         0.        ]\n",
      "  [0.         0.         1.         0.         0.        ]\n",
      "  [0.         0.         0.         1.         0.        ]\n",
      "  [0.         1.         0.         0.         0.        ]\n",
      "  [1.         0.         0.         0.         0.        ]\n",
      "  [0.         0.         1.         0.         0.        ]\n",
      "  [0.         1.         0.         0.         0.        ]\n",
      "  [0.         1.         0.         0.         0.        ]\n",
      "  [0.         0.         0.         1.         0.        ]\n",
      "  [1.         0.         0.         0.         0.        ]\n",
      "  [0.         0.         1.         0.         0.        ]\n",
      "  [1.         0.         0.         0.         0.        ]\n",
      "  [0.         0.         1.         0.         0.        ]\n",
      "  [0.         1.         0.         0.         0.        ]\n",
      "  [1.         0.         0.         0.         0.        ]\n",
      "  [0.         1.         0.         0.         0.        ]\n",
      "  [0.         1.         0.         0.         0.        ]\n",
      "  [0.         1.         0.         0.         0.        ]\n",
      "  [0.         0.         1.         0.         0.        ]\n",
      "  [0.         0.         1.         0.         0.        ]\n",
      "  [0.         1.         0.         0.         0.        ]\n",
      "  [0.14543693 0.15719275 0.3646836  0.15475515 0.17793156]\n",
      "  [0.14640439 0.15527186 0.36068633 0.1585912  0.17904624]\n",
      "  [0.1472003  0.15389454 0.35771754 0.16146435 0.17972326]\n",
      "  [0.14785852 0.15285616 0.35547486 0.1636164  0.18019405]\n",
      "  [0.14840743 0.15205048 0.35373646 0.16522479 0.18058084]\n",
      "  [0.14886713 0.15141043 0.3523545  0.16642283 0.18094502]\n",
      "  [0.14925298 0.15089297 0.35123083 0.16731122 0.18131205]\n",
      "  [0.14957723 0.15046963 0.35029966 0.16796617 0.18168724]\n",
      "  [0.14985023 0.150121   0.3495168  0.16844578 0.18206623]\n",
      "  [0.15008044 0.14983316 0.3488517  0.168794   0.18244067]\n",
      "  [0.15027519 0.14959566 0.34828284 0.1690443  0.18280205]\n",
      "  [0.15044037 0.14940028 0.34779435 0.16922197 0.18314297]\n",
      "  [1.         0.         0.         0.         0.        ]\n",
      "  [0.         1.         0.         0.         0.        ]\n",
      "  [0.         1.         0.         0.         0.        ]\n",
      "  [0.15218557 0.15451808 0.35259497 0.15666763 0.18403375]\n",
      "  [0.15195242 0.15278362 0.35147414 0.15969703 0.18409282]\n",
      "  [0.15179428 0.15160608 0.3504647  0.16198772 0.18414727]\n",
      "  [0.1516799  0.15078022 0.34959298 0.16373338 0.18421356]\n",
      "  [0.15159866 0.15019132 0.34884807 0.1650693  0.18429264]\n",
      "  [0.15154222 0.14976403 0.34821662 0.16609429 0.18438283]\n",
      "  [0.15150402 0.1494488  0.34768468 0.16688167 0.18448077]\n",
      "  [0.15147914 0.14921287 0.34723872 0.16748673 0.1845826 ]\n",
      "  [0.15146369 0.14903435 0.34686607 0.16795151 0.18468432]\n",
      "  [0.15145488 0.14889854 0.34655553 0.16830838 0.18478274]\n",
      "  [1.         0.         0.         0.         0.        ]\n",
      "  [0.         0.         1.         0.         0.        ]\n",
      "  [0.         0.         1.         0.         0.        ]\n",
      "  [0.         1.         0.         0.         0.        ]\n",
      "  [0.         1.         0.         0.         0.        ]\n",
      "  [1.         0.         0.         0.         0.        ]\n",
      "  [0.         0.         0.         1.         0.        ]\n",
      "  [0.         1.         0.         0.         0.        ]\n",
      "  [0.         1.         0.         0.         0.        ]\n",
      "  [0.         1.         0.         0.         0.        ]\n",
      "  [0.         0.         0.         1.         0.        ]\n",
      "  [0.         1.         0.         0.         0.        ]\n",
      "  [1.         0.         0.         0.         0.        ]\n",
      "  [0.         0.         1.         0.         0.        ]\n",
      "  [0.         0.         0.         1.         0.        ]\n",
      "  [0.         1.         0.         0.         0.        ]\n",
      "  [0.         1.         0.         0.         0.        ]]]\n"
     ]
    },
    {
     "name": "stderr",
     "output_type": "stream",
     "text": [
      "c:\\Users\\rsore\\anaconda3\\envs\\TX_prediction\\Lib\\site-packages\\sklearn\\base.py:493: UserWarning: X does not have valid feature names, but MinMaxScaler was fitted with feature names\n",
      "  warnings.warn(\n"
     ]
    }
   ],
   "source": [
    "sequence = 'TTTTCTATCTACGTACTTGACACTATTTCCT____________ATT__________ACCTTAGTTTGTACGTT'\n",
    "generated_sequence = parent.predict_with_lstm(lstm_model, sequence, 0.5, scaler, 150, decode_output=False)\n",
    "\n",
    "# print(sequence)\n",
    "print(generated_sequence)"
   ]
  }
 ],
 "metadata": {
  "kernelspec": {
   "display_name": "Python 3",
   "language": "python",
   "name": "python3"
  },
  "language_info": {
   "codemirror_mode": {
    "name": "ipython",
    "version": 3
   },
   "file_extension": ".py",
   "mimetype": "text/x-python",
   "name": "python",
   "nbconvert_exporter": "python",
   "pygments_lexer": "ipython3",
   "version": "3.12.3"
  }
 },
 "nbformat": 4,
 "nbformat_minor": 2
}
