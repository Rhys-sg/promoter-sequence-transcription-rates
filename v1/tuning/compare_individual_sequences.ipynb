{
 "cells": [
  {
   "cell_type": "code",
   "execution_count": 1,
   "metadata": {},
   "outputs": [],
   "source": [
    "import pandas as pd\n",
    "import numpy as np"
   ]
  },
  {
   "cell_type": "code",
   "execution_count": 2,
   "metadata": {},
   "outputs": [
    {
     "data": {
      "text/html": [
       "<div>\n",
       "<style scoped>\n",
       "    .dataframe tbody tr th:only-of-type {\n",
       "        vertical-align: middle;\n",
       "    }\n",
       "\n",
       "    .dataframe tbody tr th {\n",
       "        vertical-align: top;\n",
       "    }\n",
       "\n",
       "    .dataframe thead th {\n",
       "        text-align: right;\n",
       "    }\n",
       "</style>\n",
       "<table border=\"1\" class=\"dataframe\">\n",
       "  <thead>\n",
       "    <tr style=\"text-align: right;\">\n",
       "      <th></th>\n",
       "      <th>ID</th>\n",
       "      <th>DNA1 [counts]</th>\n",
       "      <th>DNA2 [counts]</th>\n",
       "      <th>DNA3 [counts]</th>\n",
       "      <th>RNA1 [counts]</th>\n",
       "      <th>RNA2 [counts]</th>\n",
       "      <th>RNA3 [counts]</th>\n",
       "      <th>TX1 [au]</th>\n",
       "      <th>TX2 [au]</th>\n",
       "      <th>TX3 [au]</th>\n",
       "      <th>...</th>\n",
       "      <th>high quality</th>\n",
       "      <th>Observed log(TX/Txref)</th>\n",
       "      <th>Predicted log(TX/Txref)</th>\n",
       "      <th>dG10</th>\n",
       "      <th>dG35</th>\n",
       "      <th>dGDisc</th>\n",
       "      <th>dGITR</th>\n",
       "      <th>dGEXT10</th>\n",
       "      <th>dGSPAC</th>\n",
       "      <th>dGUP</th>\n",
       "    </tr>\n",
       "  </thead>\n",
       "  <tbody>\n",
       "    <tr>\n",
       "      <th>0</th>\n",
       "      <td>0</td>\n",
       "      <td>8263</td>\n",
       "      <td>7261</td>\n",
       "      <td>5173</td>\n",
       "      <td>16341</td>\n",
       "      <td>10320</td>\n",
       "      <td>13506</td>\n",
       "      <td>2.258071</td>\n",
       "      <td>1.523795</td>\n",
       "      <td>1.545541</td>\n",
       "      <td>...</td>\n",
       "      <td>Yes</td>\n",
       "      <td>-3.386326</td>\n",
       "      <td>-3.844827</td>\n",
       "      <td>-1.781524</td>\n",
       "      <td>-1.477218</td>\n",
       "      <td>-0.106428</td>\n",
       "      <td>-0.021112</td>\n",
       "      <td>0.191352</td>\n",
       "      <td>-0.0924</td>\n",
       "      <td>0.400862</td>\n",
       "    </tr>\n",
       "    <tr>\n",
       "      <th>1</th>\n",
       "      <td>1</td>\n",
       "      <td>5600</td>\n",
       "      <td>4886</td>\n",
       "      <td>3264</td>\n",
       "      <td>10986</td>\n",
       "      <td>7250</td>\n",
       "      <td>10800</td>\n",
       "      <td>2.240001</td>\n",
       "      <td>1.590845</td>\n",
       "      <td>1.958709</td>\n",
       "      <td>...</td>\n",
       "      <td>Yes</td>\n",
       "      <td>-3.503140</td>\n",
       "      <td>-3.905283</td>\n",
       "      <td>-1.781524</td>\n",
       "      <td>-1.477218</td>\n",
       "      <td>-0.166884</td>\n",
       "      <td>-0.021112</td>\n",
       "      <td>0.191352</td>\n",
       "      <td>-0.0924</td>\n",
       "      <td>0.400862</td>\n",
       "    </tr>\n",
       "    <tr>\n",
       "      <th>2</th>\n",
       "      <td>2</td>\n",
       "      <td>7898</td>\n",
       "      <td>6790</td>\n",
       "      <td>4752</td>\n",
       "      <td>19572</td>\n",
       "      <td>32204</td>\n",
       "      <td>30585</td>\n",
       "      <td>2.829533</td>\n",
       "      <td>5.084911</td>\n",
       "      <td>3.810029</td>\n",
       "      <td>...</td>\n",
       "      <td>Yes</td>\n",
       "      <td>-4.207206</td>\n",
       "      <td>-3.905283</td>\n",
       "      <td>-1.781524</td>\n",
       "      <td>-1.477218</td>\n",
       "      <td>-0.166884</td>\n",
       "      <td>-0.021112</td>\n",
       "      <td>0.191352</td>\n",
       "      <td>-0.0924</td>\n",
       "      <td>0.400862</td>\n",
       "    </tr>\n",
       "    <tr>\n",
       "      <th>3</th>\n",
       "      <td>3</td>\n",
       "      <td>10651</td>\n",
       "      <td>9875</td>\n",
       "      <td>6466</td>\n",
       "      <td>15734</td>\n",
       "      <td>16246</td>\n",
       "      <td>18908</td>\n",
       "      <td>1.686729</td>\n",
       "      <td>1.763814</td>\n",
       "      <td>1.731036</td>\n",
       "      <td>...</td>\n",
       "      <td>Yes</td>\n",
       "      <td>-3.392439</td>\n",
       "      <td>-3.877808</td>\n",
       "      <td>-1.781524</td>\n",
       "      <td>-1.477218</td>\n",
       "      <td>-0.139409</td>\n",
       "      <td>-0.021112</td>\n",
       "      <td>0.191352</td>\n",
       "      <td>-0.0924</td>\n",
       "      <td>0.400862</td>\n",
       "    </tr>\n",
       "    <tr>\n",
       "      <th>4</th>\n",
       "      <td>4</td>\n",
       "      <td>12188</td>\n",
       "      <td>10793</td>\n",
       "      <td>6965</td>\n",
       "      <td>28609</td>\n",
       "      <td>21796</td>\n",
       "      <td>26803</td>\n",
       "      <td>2.680198</td>\n",
       "      <td>2.165100</td>\n",
       "      <td>2.278025</td>\n",
       "      <td>...</td>\n",
       "      <td>Yes</td>\n",
       "      <td>-3.698903</td>\n",
       "      <td>-3.672384</td>\n",
       "      <td>-1.781524</td>\n",
       "      <td>-1.477218</td>\n",
       "      <td>0.066015</td>\n",
       "      <td>-0.021112</td>\n",
       "      <td>0.191352</td>\n",
       "      <td>-0.0924</td>\n",
       "      <td>0.400862</td>\n",
       "    </tr>\n",
       "  </tbody>\n",
       "</table>\n",
       "<p>5 rows × 28 columns</p>\n",
       "</div>"
      ],
      "text/plain": [
       "   ID  DNA1 [counts]  DNA2 [counts]  DNA3 [counts]  RNA1 [counts]  \\\n",
       "0   0           8263           7261           5173          16341   \n",
       "1   1           5600           4886           3264          10986   \n",
       "2   2           7898           6790           4752          19572   \n",
       "3   3          10651           9875           6466          15734   \n",
       "4   4          12188          10793           6965          28609   \n",
       "\n",
       "   RNA2 [counts]  RNA3 [counts]  TX1 [au]  TX2 [au]  TX3 [au]  ...  \\\n",
       "0          10320          13506  2.258071  1.523795  1.545541  ...   \n",
       "1           7250          10800  2.240001  1.590845  1.958709  ...   \n",
       "2          32204          30585  2.829533  5.084911  3.810029  ...   \n",
       "3          16246          18908  1.686729  1.763814  1.731036  ...   \n",
       "4          21796          26803  2.680198  2.165100  2.278025  ...   \n",
       "\n",
       "   high quality  Observed log(TX/Txref) Predicted log(TX/Txref)      dG10  \\\n",
       "0           Yes               -3.386326               -3.844827 -1.781524   \n",
       "1           Yes               -3.503140               -3.905283 -1.781524   \n",
       "2           Yes               -4.207206               -3.905283 -1.781524   \n",
       "3           Yes               -3.392439               -3.877808 -1.781524   \n",
       "4           Yes               -3.698903               -3.672384 -1.781524   \n",
       "\n",
       "       dG35    dGDisc     dGITR   dGEXT10  dGSPAC      dGUP  \n",
       "0 -1.477218 -0.106428 -0.021112  0.191352 -0.0924  0.400862  \n",
       "1 -1.477218 -0.166884 -0.021112  0.191352 -0.0924  0.400862  \n",
       "2 -1.477218 -0.166884 -0.021112  0.191352 -0.0924  0.400862  \n",
       "3 -1.477218 -0.139409 -0.021112  0.191352 -0.0924  0.400862  \n",
       "4 -1.477218  0.066015 -0.021112  0.191352 -0.0924  0.400862  \n",
       "\n",
       "[5 rows x 28 columns]"
      ]
     },
     "execution_count": 2,
     "metadata": {},
     "output_type": "execute_result"
    }
   ],
   "source": [
    "# import dataset into a pandas data frame\n",
    "\n",
    "df = pd.read_csv('../41467_2022_32829_MOESM5_ESM.csv')\n",
    "df.head()"
   ]
  },
  {
   "cell_type": "code",
   "execution_count": 3,
   "metadata": {},
   "outputs": [
    {
     "data": {
      "text/html": [
       "<div>\n",
       "<style scoped>\n",
       "    .dataframe tbody tr th:only-of-type {\n",
       "        vertical-align: middle;\n",
       "    }\n",
       "\n",
       "    .dataframe tbody tr th {\n",
       "        vertical-align: top;\n",
       "    }\n",
       "\n",
       "    .dataframe thead th {\n",
       "        text-align: right;\n",
       "    }\n",
       "</style>\n",
       "<table border=\"1\" class=\"dataframe\">\n",
       "  <thead>\n",
       "    <tr style=\"text-align: right;\">\n",
       "      <th></th>\n",
       "      <th>UP</th>\n",
       "      <th>h35</th>\n",
       "      <th>spacs</th>\n",
       "      <th>h10</th>\n",
       "      <th>disc</th>\n",
       "      <th>ITR</th>\n",
       "    </tr>\n",
       "  </thead>\n",
       "  <tbody>\n",
       "    <tr>\n",
       "      <th>0</th>\n",
       "      <td>TTTTCTATCTACGTAC</td>\n",
       "      <td>TTGACA</td>\n",
       "      <td>CTATTTCCTATTTCTCT</td>\n",
       "      <td>TATAAT</td>\n",
       "      <td>CCCCGCGG</td>\n",
       "      <td>CTCTACCTTAGTTTGTACGTT</td>\n",
       "    </tr>\n",
       "    <tr>\n",
       "      <th>1</th>\n",
       "      <td>TTTTCTATCTACGTAC</td>\n",
       "      <td>TTGACA</td>\n",
       "      <td>CTATTTCCTATTTCTCT</td>\n",
       "      <td>TATAAT</td>\n",
       "      <td>CGCGGCGG</td>\n",
       "      <td>CTCTACCTTAGTTTGTACGTT</td>\n",
       "    </tr>\n",
       "    <tr>\n",
       "      <th>2</th>\n",
       "      <td>TTTTCTATCTACGTAC</td>\n",
       "      <td>TTGACA</td>\n",
       "      <td>CTATTTCCTATTTCTCT</td>\n",
       "      <td>TATAAT</td>\n",
       "      <td>CGCGCCCG</td>\n",
       "      <td>CTCTACCTTAGTTTGTACGTT</td>\n",
       "    </tr>\n",
       "    <tr>\n",
       "      <th>3</th>\n",
       "      <td>TTTTCTATCTACGTAC</td>\n",
       "      <td>TTGACA</td>\n",
       "      <td>CTATTTCCTATTTCTCT</td>\n",
       "      <td>TATAAT</td>\n",
       "      <td>GCGGCGGC</td>\n",
       "      <td>CTCTACCTTAGTTTGTACGTT</td>\n",
       "    </tr>\n",
       "    <tr>\n",
       "      <th>4</th>\n",
       "      <td>TTTTCTATCTACGTAC</td>\n",
       "      <td>TTGACA</td>\n",
       "      <td>CTATTTCCTATTTCTCT</td>\n",
       "      <td>TATAAT</td>\n",
       "      <td>CGGGGGGC</td>\n",
       "      <td>CTCTACCTTAGTTTGTACGTT</td>\n",
       "    </tr>\n",
       "  </tbody>\n",
       "</table>\n",
       "</div>"
      ],
      "text/plain": [
       "                 UP     h35              spacs     h10      disc  \\\n",
       "0  TTTTCTATCTACGTAC  TTGACA  CTATTTCCTATTTCTCT  TATAAT  CCCCGCGG   \n",
       "1  TTTTCTATCTACGTAC  TTGACA  CTATTTCCTATTTCTCT  TATAAT  CGCGGCGG   \n",
       "2  TTTTCTATCTACGTAC  TTGACA  CTATTTCCTATTTCTCT  TATAAT  CGCGCCCG   \n",
       "3  TTTTCTATCTACGTAC  TTGACA  CTATTTCCTATTTCTCT  TATAAT  GCGGCGGC   \n",
       "4  TTTTCTATCTACGTAC  TTGACA  CTATTTCCTATTTCTCT  TATAAT  CGGGGGGC   \n",
       "\n",
       "                     ITR  \n",
       "0  CTCTACCTTAGTTTGTACGTT  \n",
       "1  CTCTACCTTAGTTTGTACGTT  \n",
       "2  CTCTACCTTAGTTTGTACGTT  \n",
       "3  CTCTACCTTAGTTTGTACGTT  \n",
       "4  CTCTACCTTAGTTTGTACGTT  "
      ]
     },
     "execution_count": 3,
     "metadata": {},
     "output_type": "execute_result"
    }
   ],
   "source": [
    "# All input and output data\n",
    "\n",
    "X = df[['UP', 'h35', 'spacs', 'h10', 'disc', 'ITR']]\n",
    "y = df['Observed log(TX/Txref)']\n",
    "\n",
    "X.head()"
   ]
  },
  {
   "cell_type": "code",
   "execution_count": 37,
   "metadata": {},
   "outputs": [
    {
     "name": "stdout",
     "output_type": "stream",
     "text": [
      "Removed 140 rows\n"
     ]
    }
   ],
   "source": [
    "# remove all rows with spacer sequences that are not 16-18 nucleotides long\n",
    "\n",
    "\n",
    "_df = df[(df['spacs'].str.len() >= 15) & (df['spacs'].str.len() <= 19)]\n",
    "\n",
    "_df = _df[['UP', 'h35', 'spacs', 'h10', 'disc', 'ITR', 'Observed log(TX/Txref)', 'Predicted log(TX/Txref)']]\n",
    "\n",
    "\n",
    "X = _df[['UP', 'h35', 'spacs', 'h10', 'disc', 'ITR']]\n",
    "y = _df['Observed log(TX/Txref)']\n",
    "\n",
    "print(f'Removed {df.shape[0] - _df.shape[0]} rows')\n"
   ]
  },
  {
   "cell_type": "code",
   "execution_count": 5,
   "metadata": {},
   "outputs": [],
   "source": [
    "# Function to one-hot encode DNA sequences, including padding 0's\n",
    "\n",
    "def padded_one_hot_encode(sequence):\n",
    "    mapping = {'A': [1,0,0,0], 'C': [0,1,0,0], 'G': [0,0,1,0], 'T': [0,0,0,1], '0': [0,0,0,0]}\n",
    "    encoding = []\n",
    "    for nucleotide in sequence:\n",
    "         encoding += [mapping[nucleotide]]\n",
    "    return encoding"
   ]
  },
  {
   "cell_type": "code",
   "execution_count": 6,
   "metadata": {},
   "outputs": [],
   "source": [
    "upstream_padding = {}\n",
    "\n",
    "for col in X.columns:\n",
    "    max_len = X[col].apply(len).max()\n",
    "    upstream_padding[col] = np.array([padded_one_hot_encode('0' * (max_len - len(seq)) + seq) for seq in X[col]])\n",
    "\n",
    "# Concatenate the one-hot encoded, upstream-padded sequences\n",
    "X = np.concatenate([upstream_padding[col] for col in X.columns], axis=1)"
   ]
  },
  {
   "cell_type": "code",
   "execution_count": 7,
   "metadata": {},
   "outputs": [
    {
     "data": {
      "text/plain": [
       "array([[0, 0, 0, 0],\n",
       "       [0, 0, 0, 0],\n",
       "       [0, 0, 0, 0],\n",
       "       [0, 0, 0, 0],\n",
       "       [0, 0, 0, 0],\n",
       "       [0, 0, 0, 0],\n",
       "       [0, 0, 0, 1],\n",
       "       [0, 0, 0, 1],\n",
       "       [0, 0, 0, 1],\n",
       "       [0, 0, 0, 1],\n",
       "       [0, 1, 0, 0],\n",
       "       [0, 0, 0, 1],\n",
       "       [1, 0, 0, 0],\n",
       "       [0, 0, 0, 1],\n",
       "       [0, 1, 0, 0],\n",
       "       [0, 0, 0, 1],\n",
       "       [1, 0, 0, 0],\n",
       "       [0, 1, 0, 0],\n",
       "       [0, 0, 1, 0],\n",
       "       [0, 0, 0, 1],\n",
       "       [1, 0, 0, 0],\n",
       "       [0, 1, 0, 0],\n",
       "       [0, 0, 0, 1],\n",
       "       [0, 0, 0, 1],\n",
       "       [0, 0, 1, 0],\n",
       "       [1, 0, 0, 0],\n",
       "       [0, 1, 0, 0],\n",
       "       [1, 0, 0, 0],\n",
       "       [0, 0, 0, 0],\n",
       "       [0, 0, 0, 0],\n",
       "       [0, 1, 0, 0],\n",
       "       [0, 0, 0, 1],\n",
       "       [1, 0, 0, 0],\n",
       "       [0, 0, 0, 1],\n",
       "       [0, 0, 0, 1],\n",
       "       [0, 0, 0, 1],\n",
       "       [0, 1, 0, 0],\n",
       "       [0, 1, 0, 0],\n",
       "       [0, 0, 0, 1],\n",
       "       [1, 0, 0, 0],\n",
       "       [0, 0, 0, 1],\n",
       "       [0, 0, 0, 1],\n",
       "       [0, 0, 0, 1],\n",
       "       [0, 1, 0, 0],\n",
       "       [0, 0, 0, 1],\n",
       "       [0, 1, 0, 0],\n",
       "       [0, 0, 0, 1],\n",
       "       [0, 0, 0, 1],\n",
       "       [1, 0, 0, 0],\n",
       "       [0, 0, 0, 1],\n",
       "       [1, 0, 0, 0],\n",
       "       [1, 0, 0, 0],\n",
       "       [0, 0, 0, 1],\n",
       "       [0, 1, 0, 0],\n",
       "       [0, 1, 0, 0],\n",
       "       [0, 1, 0, 0],\n",
       "       [0, 1, 0, 0],\n",
       "       [0, 0, 1, 0],\n",
       "       [0, 1, 0, 0],\n",
       "       [0, 0, 1, 0],\n",
       "       [0, 0, 1, 0],\n",
       "       [0, 1, 0, 0],\n",
       "       [0, 0, 0, 1],\n",
       "       [0, 1, 0, 0],\n",
       "       [0, 0, 0, 1],\n",
       "       [1, 0, 0, 0],\n",
       "       [0, 1, 0, 0],\n",
       "       [0, 1, 0, 0],\n",
       "       [0, 0, 0, 1],\n",
       "       [0, 0, 0, 1],\n",
       "       [1, 0, 0, 0],\n",
       "       [0, 0, 1, 0],\n",
       "       [0, 0, 0, 1],\n",
       "       [0, 0, 0, 1],\n",
       "       [0, 0, 0, 1],\n",
       "       [0, 0, 1, 0],\n",
       "       [0, 0, 0, 1],\n",
       "       [1, 0, 0, 0],\n",
       "       [0, 1, 0, 0],\n",
       "       [0, 0, 1, 0],\n",
       "       [0, 0, 0, 1],\n",
       "       [0, 0, 0, 1]])"
      ]
     },
     "execution_count": 7,
     "metadata": {},
     "output_type": "execute_result"
    }
   ],
   "source": [
    "X[0]"
   ]
  },
  {
   "cell_type": "code",
   "execution_count": 8,
   "metadata": {},
   "outputs": [],
   "source": [
    "from keras.saving import load_model\n",
    "\n",
    "model = load_model('Hyperparameter_tuned.keras')"
   ]
  },
  {
   "cell_type": "code",
   "execution_count": 9,
   "metadata": {},
   "outputs": [
    {
     "data": {
      "text/html": [
       "<pre style=\"white-space:pre;overflow-x:auto;line-height:normal;font-family:Menlo,'DejaVu Sans Mono',consolas,'Courier New',monospace\"><span style=\"font-weight: bold\">Model: \"sequential\"</span>\n",
       "</pre>\n"
      ],
      "text/plain": [
       "\u001b[1mModel: \"sequential\"\u001b[0m\n"
      ]
     },
     "metadata": {},
     "output_type": "display_data"
    },
    {
     "data": {
      "text/html": [
       "<pre style=\"white-space:pre;overflow-x:auto;line-height:normal;font-family:Menlo,'DejaVu Sans Mono',consolas,'Courier New',monospace\">┏━━━━━━━━━━━━━━━━━━━━━━━━━━━━━━━━━┳━━━━━━━━━━━━━━━━━━━━━━━━┳━━━━━━━━━━━━━━━┓\n",
       "┃<span style=\"font-weight: bold\"> Layer (type)                    </span>┃<span style=\"font-weight: bold\"> Output Shape           </span>┃<span style=\"font-weight: bold\">       Param # </span>┃\n",
       "┡━━━━━━━━━━━━━━━━━━━━━━━━━━━━━━━━━╇━━━━━━━━━━━━━━━━━━━━━━━━╇━━━━━━━━━━━━━━━┩\n",
       "│ lstm (<span style=\"color: #0087ff; text-decoration-color: #0087ff\">LSTM</span>)                     │ (<span style=\"color: #00d7ff; text-decoration-color: #00d7ff\">None</span>, <span style=\"color: #00af00; text-decoration-color: #00af00\">80</span>)             │        <span style=\"color: #00af00; text-decoration-color: #00af00\">27,200</span> │\n",
       "├─────────────────────────────────┼────────────────────────┼───────────────┤\n",
       "│ dense (<span style=\"color: #0087ff; text-decoration-color: #0087ff\">Dense</span>)                   │ (<span style=\"color: #00d7ff; text-decoration-color: #00d7ff\">None</span>, <span style=\"color: #00af00; text-decoration-color: #00af00\">1</span>)              │            <span style=\"color: #00af00; text-decoration-color: #00af00\">81</span> │\n",
       "└─────────────────────────────────┴────────────────────────┴───────────────┘\n",
       "</pre>\n"
      ],
      "text/plain": [
       "┏━━━━━━━━━━━━━━━━━━━━━━━━━━━━━━━━━┳━━━━━━━━━━━━━━━━━━━━━━━━┳━━━━━━━━━━━━━━━┓\n",
       "┃\u001b[1m \u001b[0m\u001b[1mLayer (type)                   \u001b[0m\u001b[1m \u001b[0m┃\u001b[1m \u001b[0m\u001b[1mOutput Shape          \u001b[0m\u001b[1m \u001b[0m┃\u001b[1m \u001b[0m\u001b[1m      Param #\u001b[0m\u001b[1m \u001b[0m┃\n",
       "┡━━━━━━━━━━━━━━━━━━━━━━━━━━━━━━━━━╇━━━━━━━━━━━━━━━━━━━━━━━━╇━━━━━━━━━━━━━━━┩\n",
       "│ lstm (\u001b[38;5;33mLSTM\u001b[0m)                     │ (\u001b[38;5;45mNone\u001b[0m, \u001b[38;5;34m80\u001b[0m)             │        \u001b[38;5;34m27,200\u001b[0m │\n",
       "├─────────────────────────────────┼────────────────────────┼───────────────┤\n",
       "│ dense (\u001b[38;5;33mDense\u001b[0m)                   │ (\u001b[38;5;45mNone\u001b[0m, \u001b[38;5;34m1\u001b[0m)              │            \u001b[38;5;34m81\u001b[0m │\n",
       "└─────────────────────────────────┴────────────────────────┴───────────────┘\n"
      ]
     },
     "metadata": {},
     "output_type": "display_data"
    },
    {
     "data": {
      "text/html": [
       "<pre style=\"white-space:pre;overflow-x:auto;line-height:normal;font-family:Menlo,'DejaVu Sans Mono',consolas,'Courier New',monospace\"><span style=\"font-weight: bold\"> Total params: </span><span style=\"color: #00af00; text-decoration-color: #00af00\">81,845</span> (319.71 KB)\n",
       "</pre>\n"
      ],
      "text/plain": [
       "\u001b[1m Total params: \u001b[0m\u001b[38;5;34m81,845\u001b[0m (319.71 KB)\n"
      ]
     },
     "metadata": {},
     "output_type": "display_data"
    },
    {
     "data": {
      "text/html": [
       "<pre style=\"white-space:pre;overflow-x:auto;line-height:normal;font-family:Menlo,'DejaVu Sans Mono',consolas,'Courier New',monospace\"><span style=\"font-weight: bold\"> Trainable params: </span><span style=\"color: #00af00; text-decoration-color: #00af00\">27,281</span> (106.57 KB)\n",
       "</pre>\n"
      ],
      "text/plain": [
       "\u001b[1m Trainable params: \u001b[0m\u001b[38;5;34m27,281\u001b[0m (106.57 KB)\n"
      ]
     },
     "metadata": {},
     "output_type": "display_data"
    },
    {
     "data": {
      "text/html": [
       "<pre style=\"white-space:pre;overflow-x:auto;line-height:normal;font-family:Menlo,'DejaVu Sans Mono',consolas,'Courier New',monospace\"><span style=\"font-weight: bold\"> Non-trainable params: </span><span style=\"color: #00af00; text-decoration-color: #00af00\">0</span> (0.00 B)\n",
       "</pre>\n"
      ],
      "text/plain": [
       "\u001b[1m Non-trainable params: \u001b[0m\u001b[38;5;34m0\u001b[0m (0.00 B)\n"
      ]
     },
     "metadata": {},
     "output_type": "display_data"
    },
    {
     "data": {
      "text/html": [
       "<pre style=\"white-space:pre;overflow-x:auto;line-height:normal;font-family:Menlo,'DejaVu Sans Mono',consolas,'Courier New',monospace\"><span style=\"font-weight: bold\"> Optimizer params: </span><span style=\"color: #00af00; text-decoration-color: #00af00\">54,564</span> (213.14 KB)\n",
       "</pre>\n"
      ],
      "text/plain": [
       "\u001b[1m Optimizer params: \u001b[0m\u001b[38;5;34m54,564\u001b[0m (213.14 KB)\n"
      ]
     },
     "metadata": {},
     "output_type": "display_data"
    },
    {
     "name": "stdout",
     "output_type": "stream",
     "text": [
      "None\n"
     ]
    }
   ],
   "source": [
    "print(model.summary())"
   ]
  },
  {
   "cell_type": "code",
   "execution_count": 10,
   "metadata": {},
   "outputs": [],
   "source": [
    "def format(str):\n",
    "    return str.replace(\" \", \"\").upper()"
   ]
  },
  {
   "cell_type": "code",
   "execution_count": 11,
   "metadata": {},
   "outputs": [
    {
     "name": "stdout",
     "output_type": "stream",
     "text": [
      "AGAGACCAGCGGCATGCATTTACGTTGACACCATCGAATGGTGCAAAACCTTTCGCGGTAT\n"
     ]
    }
   ],
   "source": [
    "print(format(\"A G A G A C C A G C G G C A T G C A T T T A C G T T G A C A C C A T C G A A T G G T G C A A A A C C T T T C G C G G T A T\"))"
   ]
  },
  {
   "cell_type": "code",
   "execution_count": 12,
   "metadata": {},
   "outputs": [],
   "source": [
    "def encode_sequence(dataframe):\n",
    "    encoded_seq = []\n",
    "\n",
    "    lengths = {\n",
    "        'UP': 22,\n",
    "        'h35': 6,\n",
    "        'spacs': 19,\n",
    "        'h10': 6,\n",
    "        'disc': 8,\n",
    "        'ITR': 21\n",
    "    }\n",
    "\n",
    "    for col in dataframe.columns:\n",
    "        max_len = lengths[col]\n",
    "        encoded_seq += [padded_one_hot_encode('0' * (max_len - len(seq)) + seq) for seq in dataframe[col]]\n",
    "\n",
    "    encoded_dataframe = np.array([np.concatenate([each for each in encoded_seq])])\n",
    "\n",
    "    return encoded_dataframe"
   ]
  },
  {
   "cell_type": "markdown",
   "metadata": {},
   "source": [
    "## Making Predictions"
   ]
  },
  {
   "cell_type": "markdown",
   "metadata": {},
   "source": [
    "#### Prediction for promoter lac"
   ]
  },
  {
   "cell_type": "code",
   "execution_count": 13,
   "metadata": {},
   "outputs": [
    {
     "data": {
      "text/html": [
       "<div>\n",
       "<style scoped>\n",
       "    .dataframe tbody tr th:only-of-type {\n",
       "        vertical-align: middle;\n",
       "    }\n",
       "\n",
       "    .dataframe tbody tr th {\n",
       "        vertical-align: top;\n",
       "    }\n",
       "\n",
       "    .dataframe thead th {\n",
       "        text-align: right;\n",
       "    }\n",
       "</style>\n",
       "<table border=\"1\" class=\"dataframe\">\n",
       "  <thead>\n",
       "    <tr style=\"text-align: right;\">\n",
       "      <th></th>\n",
       "      <th>UP</th>\n",
       "      <th>h35</th>\n",
       "      <th>spacs</th>\n",
       "      <th>h10</th>\n",
       "      <th>disc</th>\n",
       "      <th>ITR</th>\n",
       "    </tr>\n",
       "  </thead>\n",
       "  <tbody>\n",
       "    <tr>\n",
       "      <th>0</th>\n",
       "      <td>AATACTAGAGGTCTTCCGAC</td>\n",
       "      <td>TTTACA</td>\n",
       "      <td>CTTTATGCTTCCGGCTCG</td>\n",
       "      <td>TATGTT</td>\n",
       "      <td>GTGTGG</td>\n",
       "      <td>GCGGGAAGACAACTAGGGGC</td>\n",
       "    </tr>\n",
       "  </tbody>\n",
       "</table>\n",
       "</div>"
      ],
      "text/plain": [
       "                     UP     h35               spacs     h10    disc  \\\n",
       "0  AATACTAGAGGTCTTCCGAC  TTTACA  CTTTATGCTTCCGGCTCG  TATGTT  GTGTGG   \n",
       "\n",
       "                    ITR  \n",
       "0  GCGGGAAGACAACTAGGGGC  "
      ]
     },
     "execution_count": 13,
     "metadata": {},
     "output_type": "execute_result"
    }
   ],
   "source": [
    "UP = 'AATACTAGAGGTCTTCCGAC'\n",
    "h35 = 'TTTACA'\n",
    "spacs = 'CTTTATGCTTCCGGCTCG'\n",
    "h10 = 'TATGTT'\n",
    "disc = 'GTGTGG'\n",
    "ITR = 'GCGGGAAGACAACTAGGGGC'\n",
    "\n",
    "pClone_promoter_lac = pd.DataFrame({'UP': [format(UP)], 'h35': [format(h35)], 'spacs': [format(spacs)], 'h10': [format(h10)], 'disc': [format(disc)], 'ITR': [format(ITR)]})\n",
    "pClone_promoter_lac.head()"
   ]
  },
  {
   "cell_type": "code",
   "execution_count": 14,
   "metadata": {},
   "outputs": [],
   "source": [
    "encoded_pClone_promoter_lac = encode_sequence(pClone_promoter_lac)"
   ]
  },
  {
   "cell_type": "code",
   "execution_count": 15,
   "metadata": {},
   "outputs": [
    {
     "name": "stdout",
     "output_type": "stream",
     "text": [
      "[[[0 0 0 0]\n",
      "  [0 0 0 0]\n",
      "  [1 0 0 0]\n",
      "  [1 0 0 0]\n",
      "  [0 0 0 1]\n",
      "  [1 0 0 0]\n",
      "  [0 1 0 0]\n",
      "  [0 0 0 1]\n",
      "  [1 0 0 0]\n",
      "  [0 0 1 0]\n",
      "  [1 0 0 0]\n",
      "  [0 0 1 0]\n",
      "  [0 0 1 0]\n",
      "  [0 0 0 1]\n",
      "  [0 1 0 0]\n",
      "  [0 0 0 1]\n",
      "  [0 0 0 1]\n",
      "  [0 1 0 0]\n",
      "  [0 1 0 0]\n",
      "  [0 0 1 0]\n",
      "  [1 0 0 0]\n",
      "  [0 1 0 0]\n",
      "  [0 0 0 1]\n",
      "  [0 0 0 1]\n",
      "  [0 0 0 1]\n",
      "  [1 0 0 0]\n",
      "  [0 1 0 0]\n",
      "  [1 0 0 0]\n",
      "  [0 0 0 0]\n",
      "  [0 1 0 0]\n",
      "  [0 0 0 1]\n",
      "  [0 0 0 1]\n",
      "  [0 0 0 1]\n",
      "  [1 0 0 0]\n",
      "  [0 0 0 1]\n",
      "  [0 0 1 0]\n",
      "  [0 1 0 0]\n",
      "  [0 0 0 1]\n",
      "  [0 0 0 1]\n",
      "  [0 1 0 0]\n",
      "  [0 1 0 0]\n",
      "  [0 0 1 0]\n",
      "  [0 0 1 0]\n",
      "  [0 1 0 0]\n",
      "  [0 0 0 1]\n",
      "  [0 1 0 0]\n",
      "  [0 0 1 0]\n",
      "  [0 0 0 1]\n",
      "  [1 0 0 0]\n",
      "  [0 0 0 1]\n",
      "  [0 0 1 0]\n",
      "  [0 0 0 1]\n",
      "  [0 0 0 1]\n",
      "  [0 0 0 0]\n",
      "  [0 0 0 0]\n",
      "  [0 0 1 0]\n",
      "  [0 0 0 1]\n",
      "  [0 0 1 0]\n",
      "  [0 0 0 1]\n",
      "  [0 0 1 0]\n",
      "  [0 0 1 0]\n",
      "  [0 0 0 0]\n",
      "  [0 0 1 0]\n",
      "  [0 1 0 0]\n",
      "  [0 0 1 0]\n",
      "  [0 0 1 0]\n",
      "  [0 0 1 0]\n",
      "  [1 0 0 0]\n",
      "  [1 0 0 0]\n",
      "  [0 0 1 0]\n",
      "  [1 0 0 0]\n",
      "  [0 1 0 0]\n",
      "  [1 0 0 0]\n",
      "  [1 0 0 0]\n",
      "  [0 1 0 0]\n",
      "  [0 0 0 1]\n",
      "  [1 0 0 0]\n",
      "  [0 0 1 0]\n",
      "  [0 0 1 0]\n",
      "  [0 0 1 0]\n",
      "  [0 0 1 0]\n",
      "  [0 1 0 0]]]\n"
     ]
    }
   ],
   "source": [
    "print(encoded_pClone_promoter_lac)"
   ]
  },
  {
   "cell_type": "code",
   "execution_count": 16,
   "metadata": {},
   "outputs": [
    {
     "name": "stdout",
     "output_type": "stream",
     "text": [
      "\u001b[1m1/1\u001b[0m \u001b[32m━━━━━━━━━━━━━━━━━━━━\u001b[0m\u001b[37m\u001b[0m \u001b[1m0s\u001b[0m 398ms/step\n",
      "Prediction: -3.702486515045166\n"
     ]
    }
   ],
   "source": [
    "prediction = model.predict(encoded_pClone_promoter_lac)\n",
    "\n",
    "print(f'Prediction: {prediction[0][0]}') "
   ]
  },
  {
   "cell_type": "markdown",
   "metadata": {},
   "source": [
    "#### Prediction for P5"
   ]
  },
  {
   "cell_type": "code",
   "execution_count": 17,
   "metadata": {},
   "outputs": [
    {
     "data": {
      "text/html": [
       "<div>\n",
       "<style scoped>\n",
       "    .dataframe tbody tr th:only-of-type {\n",
       "        vertical-align: middle;\n",
       "    }\n",
       "\n",
       "    .dataframe tbody tr th {\n",
       "        vertical-align: top;\n",
       "    }\n",
       "\n",
       "    .dataframe thead th {\n",
       "        text-align: right;\n",
       "    }\n",
       "</style>\n",
       "<table border=\"1\" class=\"dataframe\">\n",
       "  <thead>\n",
       "    <tr style=\"text-align: right;\">\n",
       "      <th></th>\n",
       "      <th>UP</th>\n",
       "      <th>h35</th>\n",
       "      <th>spacs</th>\n",
       "      <th>h10</th>\n",
       "      <th>disc</th>\n",
       "      <th>ITR</th>\n",
       "    </tr>\n",
       "  </thead>\n",
       "  <tbody>\n",
       "    <tr>\n",
       "      <th>0</th>\n",
       "      <td>AATACTAGAGGTCTTCCGAC</td>\n",
       "      <td>TTGACA</td>\n",
       "      <td>ATTAATCATCCGGCTCG</td>\n",
       "      <td>TAATTT</td>\n",
       "      <td>ATGTGG</td>\n",
       "      <td>GCGGGAAGACAACTAGGGGC</td>\n",
       "    </tr>\n",
       "  </tbody>\n",
       "</table>\n",
       "</div>"
      ],
      "text/plain": [
       "                     UP     h35              spacs     h10    disc  \\\n",
       "0  AATACTAGAGGTCTTCCGAC  TTGACA  ATTAATCATCCGGCTCG  TAATTT  ATGTGG   \n",
       "\n",
       "                    ITR  \n",
       "0  GCGGGAAGACAACTAGGGGC  "
      ]
     },
     "execution_count": 17,
     "metadata": {},
     "output_type": "execute_result"
    }
   ],
   "source": [
    "UP = 'AATACTAGAGGTCTTCCGAC'\n",
    "h35 = 'TTGACA'\n",
    "spacs = 'ATTAATCATCCGGCTCG'\n",
    "h10 = 'TAATTT'\n",
    "disc = 'ATGTGG'\n",
    "ITR = 'GCGGGAAGACAACTAGGGGC'\n",
    "\n",
    "pClone_red_p5 = pd.DataFrame({'UP': [format(UP)], 'h35': [format(h35)], 'spacs': [format(spacs)], 'h10': [format(h10)], 'disc': [format(disc)], 'ITR': [format(ITR)]})\n",
    "pClone_red_p5.head()"
   ]
  },
  {
   "cell_type": "code",
   "execution_count": 18,
   "metadata": {},
   "outputs": [],
   "source": [
    "encoded_pClone_red_p5 = encode_sequence(pClone_red_p5)"
   ]
  },
  {
   "cell_type": "code",
   "execution_count": 19,
   "metadata": {},
   "outputs": [
    {
     "name": "stdout",
     "output_type": "stream",
     "text": [
      "\u001b[1m1/1\u001b[0m \u001b[32m━━━━━━━━━━━━━━━━━━━━\u001b[0m\u001b[37m\u001b[0m \u001b[1m0s\u001b[0m 31ms/step\n",
      "Prediction: -3.9654335975646973\n"
     ]
    }
   ],
   "source": [
    "prediction = model.predict(encoded_pClone_red_p5)\n",
    "\n",
    "print(f'Prediction: {prediction[0][0]}')"
   ]
  },
  {
   "cell_type": "markdown",
   "metadata": {},
   "source": [
    "#### Prediction for combination: promoter lac h10, h35; P5 for the rest"
   ]
  },
  {
   "cell_type": "code",
   "execution_count": 20,
   "metadata": {},
   "outputs": [
    {
     "data": {
      "text/html": [
       "<div>\n",
       "<style scoped>\n",
       "    .dataframe tbody tr th:only-of-type {\n",
       "        vertical-align: middle;\n",
       "    }\n",
       "\n",
       "    .dataframe tbody tr th {\n",
       "        vertical-align: top;\n",
       "    }\n",
       "\n",
       "    .dataframe thead th {\n",
       "        text-align: right;\n",
       "    }\n",
       "</style>\n",
       "<table border=\"1\" class=\"dataframe\">\n",
       "  <thead>\n",
       "    <tr style=\"text-align: right;\">\n",
       "      <th></th>\n",
       "      <th>UP</th>\n",
       "      <th>h35</th>\n",
       "      <th>spacs</th>\n",
       "      <th>h10</th>\n",
       "      <th>disc</th>\n",
       "      <th>ITR</th>\n",
       "    </tr>\n",
       "  </thead>\n",
       "  <tbody>\n",
       "    <tr>\n",
       "      <th>0</th>\n",
       "      <td>AATACTAGAGGTCTTCCGAC</td>\n",
       "      <td>TTTACA</td>\n",
       "      <td>ATTAATCATCCGGCTCG</td>\n",
       "      <td>TATGTT</td>\n",
       "      <td>ATGTGG</td>\n",
       "      <td>GCGGGAAGACAACTAGGGGC</td>\n",
       "    </tr>\n",
       "  </tbody>\n",
       "</table>\n",
       "</div>"
      ],
      "text/plain": [
       "                     UP     h35              spacs     h10    disc  \\\n",
       "0  AATACTAGAGGTCTTCCGAC  TTTACA  ATTAATCATCCGGCTCG  TATGTT  ATGTGG   \n",
       "\n",
       "                    ITR  \n",
       "0  GCGGGAAGACAACTAGGGGC  "
      ]
     },
     "execution_count": 20,
     "metadata": {},
     "output_type": "execute_result"
    }
   ],
   "source": [
    "UP = 'AATACTAGAGGTCTTCCGAC'\n",
    "h35 = 'TTTACA'\n",
    "spacs = 'ATTAATCATCCGGCTCG'\n",
    "h10 = 'TATGTT'\n",
    "disc = 'ATGTGG'\n",
    "ITR = 'GCGGGAAGACAACTAGGGGC'\n",
    "\n",
    "combination = pd.DataFrame({'UP': [format(UP)], 'h35': [format(h35)], 'spacs': [format(spacs)], 'h10': [format(h10)], 'disc': [format(disc)], 'ITR': [format(ITR)]})\n",
    "combination.head()"
   ]
  },
  {
   "cell_type": "code",
   "execution_count": 21,
   "metadata": {},
   "outputs": [],
   "source": [
    "encoded_combination = encode_sequence(combination)"
   ]
  },
  {
   "cell_type": "code",
   "execution_count": 22,
   "metadata": {},
   "outputs": [
    {
     "name": "stdout",
     "output_type": "stream",
     "text": [
      "\u001b[1m1/1\u001b[0m \u001b[32m━━━━━━━━━━━━━━━━━━━━\u001b[0m\u001b[37m\u001b[0m \u001b[1m0s\u001b[0m 24ms/step\n",
      "Prediction: -3.996711492538452\n"
     ]
    }
   ],
   "source": [
    "prediction = model.predict(encoded_combination)\n",
    "\n",
    "print(f'Prediction: {prediction[0][0]}')"
   ]
  },
  {
   "cell_type": "markdown",
   "metadata": {},
   "source": [
    "## LaFleurs Data "
   ]
  },
  {
   "cell_type": "markdown",
   "metadata": {},
   "source": [
    "#### This is the sequence closest to the promoter lac in the Lafleur Data. We are testing what the value is in our ANN."
   ]
  },
  {
   "cell_type": "code",
   "execution_count": 23,
   "metadata": {},
   "outputs": [
    {
     "data": {
      "text/html": [
       "<div>\n",
       "<style scoped>\n",
       "    .dataframe tbody tr th:only-of-type {\n",
       "        vertical-align: middle;\n",
       "    }\n",
       "\n",
       "    .dataframe tbody tr th {\n",
       "        vertical-align: top;\n",
       "    }\n",
       "\n",
       "    .dataframe thead th {\n",
       "        text-align: right;\n",
       "    }\n",
       "</style>\n",
       "<table border=\"1\" class=\"dataframe\">\n",
       "  <thead>\n",
       "    <tr style=\"text-align: right;\">\n",
       "      <th></th>\n",
       "      <th>UP</th>\n",
       "      <th>h35</th>\n",
       "      <th>spacs</th>\n",
       "      <th>h10</th>\n",
       "      <th>disc</th>\n",
       "      <th>ITR</th>\n",
       "    </tr>\n",
       "  </thead>\n",
       "  <tbody>\n",
       "    <tr>\n",
       "      <th>0</th>\n",
       "      <td>TTTTCTATCTACGTAC</td>\n",
       "      <td>TTGACA</td>\n",
       "      <td>CTATTTCCTATTTCTCT</td>\n",
       "      <td>TATGTT</td>\n",
       "      <td>TTGTGTT</td>\n",
       "      <td>CTCTACCTTAGTTTGTACGTT</td>\n",
       "    </tr>\n",
       "  </tbody>\n",
       "</table>\n",
       "</div>"
      ],
      "text/plain": [
       "                 UP     h35              spacs     h10     disc  \\\n",
       "0  TTTTCTATCTACGTAC  TTGACA  CTATTTCCTATTTCTCT  TATGTT  TTGTGTT   \n",
       "\n",
       "                     ITR  \n",
       "0  CTCTACCTTAGTTTGTACGTT  "
      ]
     },
     "execution_count": 23,
     "metadata": {},
     "output_type": "execute_result"
    }
   ],
   "source": [
    "UP = 'TTTTCTATCTACGTAC'\n",
    "h35 = 'TTGACA'\n",
    "spacs = 'CTATTTCCTATTTCTCT'\n",
    "h10 = 'TATGTT'\n",
    "disc = 'TTGTGTT'\n",
    "ITR = 'CTCTACCTTAGTTTGTACGTT'\n",
    "\n",
    "pClone_red_p5 = pd.DataFrame({'UP': [format(UP)], 'h35': [format(h35)], 'spacs': [format(spacs)], 'h10': [format(h10)], 'disc': [format(disc)], 'ITR': [format(ITR)]})\n",
    "pClone_red_p5.head()"
   ]
  },
  {
   "cell_type": "code",
   "execution_count": 24,
   "metadata": {},
   "outputs": [],
   "source": [
    "encoded_pClone_red_p5 = encode_sequence(pClone_red_p5)"
   ]
  },
  {
   "cell_type": "code",
   "execution_count": 25,
   "metadata": {},
   "outputs": [
    {
     "name": "stdout",
     "output_type": "stream",
     "text": [
      "\u001b[1m1/1\u001b[0m \u001b[32m━━━━━━━━━━━━━━━━━━━━\u001b[0m\u001b[37m\u001b[0m \u001b[1m0s\u001b[0m 32ms/step\n",
      "Prediction: -3.5791800022125244\n"
     ]
    }
   ],
   "source": [
    "prediction = model.predict(encoded_pClone_red_p5)\n",
    "\n",
    "print(f'Prediction: {prediction[0][0]}')"
   ]
  },
  {
   "cell_type": "markdown",
   "metadata": {},
   "source": [
    "#### This is the sequence closest to p5 in the Lafleur Data. We are testing what the value is in our ANN."
   ]
  },
  {
   "cell_type": "code",
   "execution_count": 26,
   "metadata": {},
   "outputs": [
    {
     "data": {
      "text/html": [
       "<div>\n",
       "<style scoped>\n",
       "    .dataframe tbody tr th:only-of-type {\n",
       "        vertical-align: middle;\n",
       "    }\n",
       "\n",
       "    .dataframe tbody tr th {\n",
       "        vertical-align: top;\n",
       "    }\n",
       "\n",
       "    .dataframe thead th {\n",
       "        text-align: right;\n",
       "    }\n",
       "</style>\n",
       "<table border=\"1\" class=\"dataframe\">\n",
       "  <thead>\n",
       "    <tr style=\"text-align: right;\">\n",
       "      <th></th>\n",
       "      <th>UP</th>\n",
       "      <th>h35</th>\n",
       "      <th>spacs</th>\n",
       "      <th>h10</th>\n",
       "      <th>disc</th>\n",
       "      <th>ITR</th>\n",
       "    </tr>\n",
       "  </thead>\n",
       "  <tbody>\n",
       "    <tr>\n",
       "      <th>0</th>\n",
       "      <td>TTTTCTATCTACGTAC</td>\n",
       "      <td>TTGACA</td>\n",
       "      <td>CTATTTCCTATTTCTCT</td>\n",
       "      <td>TAATTT</td>\n",
       "      <td>TTGTGTT</td>\n",
       "      <td>CTCTACCTTAGTTTGTACGTT</td>\n",
       "    </tr>\n",
       "  </tbody>\n",
       "</table>\n",
       "</div>"
      ],
      "text/plain": [
       "                 UP     h35              spacs     h10     disc  \\\n",
       "0  TTTTCTATCTACGTAC  TTGACA  CTATTTCCTATTTCTCT  TAATTT  TTGTGTT   \n",
       "\n",
       "                     ITR  \n",
       "0  CTCTACCTTAGTTTGTACGTT  "
      ]
     },
     "execution_count": 26,
     "metadata": {},
     "output_type": "execute_result"
    }
   ],
   "source": [
    "UP = 'TTTTCTATCTACGTAC'\n",
    "h35 = 'TTGACA'\n",
    "spacs = 'CTATTTCCTATTTCTCT'\n",
    "h10 = 'TAATTT'\n",
    "disc = 'TTGTGTT'\n",
    "ITR = 'CTCTACCTTAGTTTGTACGTT'\n",
    "\n",
    "pClone_red_p5 = pd.DataFrame({'UP': [format(UP)], 'h35': [format(h35)], 'spacs': [format(spacs)], 'h10': [format(h10)], 'disc': [format(disc)], 'ITR': [format(ITR)]})\n",
    "pClone_red_p5.head()"
   ]
  },
  {
   "cell_type": "code",
   "execution_count": 27,
   "metadata": {},
   "outputs": [],
   "source": [
    "encoded_pClone_red_p5 = encode_sequence(pClone_red_p5)"
   ]
  },
  {
   "cell_type": "code",
   "execution_count": 28,
   "metadata": {},
   "outputs": [
    {
     "name": "stdout",
     "output_type": "stream",
     "text": [
      "\u001b[1m1/1\u001b[0m \u001b[32m━━━━━━━━━━━━━━━━━━━━\u001b[0m\u001b[37m\u001b[0m \u001b[1m0s\u001b[0m 37ms/step\n",
      "Prediction: -3.2705254554748535\n"
     ]
    }
   ],
   "source": [
    "prediction = model.predict(encoded_pClone_red_p5)\n",
    "\n",
    "print(f'Prediction: {prediction[0][0]}')"
   ]
  },
  {
   "cell_type": "markdown",
   "metadata": {},
   "source": [
    "## Finding Goldilocks sequences\n",
    "Using the same UP and ITR elements; 36 bp promoter sequence; where TX is less than -4.0, around -3.3, and greater than -2.9 for Observed_LaFleur, Prediction_RSG, and Prediction_LaFleur."
   ]
  },
  {
   "cell_type": "code",
   "execution_count": 233,
   "metadata": {},
   "outputs": [],
   "source": [
    "goldilocks_df = pd.DataFrame(columns=['Name', 'Sequence', 'Length', 'Observed_LaFleur', 'Prediction_RSG', 'Prediction_LaFleur'])"
   ]
  },
  {
   "cell_type": "code",
   "execution_count": 234,
   "metadata": {},
   "outputs": [
    {
     "data": {
      "text/html": [
       "<div>\n",
       "<style scoped>\n",
       "    .dataframe tbody tr th:only-of-type {\n",
       "        vertical-align: middle;\n",
       "    }\n",
       "\n",
       "    .dataframe tbody tr th {\n",
       "        vertical-align: top;\n",
       "    }\n",
       "\n",
       "    .dataframe thead th {\n",
       "        text-align: right;\n",
       "    }\n",
       "</style>\n",
       "<table border=\"1\" class=\"dataframe\">\n",
       "  <thead>\n",
       "    <tr style=\"text-align: right;\">\n",
       "      <th></th>\n",
       "      <th>Name</th>\n",
       "      <th>Sequence</th>\n",
       "      <th>Length</th>\n",
       "      <th>Observed_LaFleur</th>\n",
       "      <th>Prediction_RSG</th>\n",
       "      <th>Prediction_LaFleur</th>\n",
       "    </tr>\n",
       "  </thead>\n",
       "  <tbody>\n",
       "    <tr>\n",
       "      <th>0</th>\n",
       "      <td>P5</td>\n",
       "      <td>TTGACAATTAATCATCCGGCTCGTAATTTATGTGGA</td>\n",
       "      <td>36</td>\n",
       "      <td>-2.859671</td>\n",
       "      <td>-4.20</td>\n",
       "      <td>-2.966256</td>\n",
       "    </tr>\n",
       "    <tr>\n",
       "      <th>1</th>\n",
       "      <td>plac</td>\n",
       "      <td>TTTACACTTTATGCTTCCGGCTCGTATGTTGTGTGG</td>\n",
       "      <td>36</td>\n",
       "      <td>-3.809935</td>\n",
       "      <td>-3.89</td>\n",
       "      <td>-3.147286</td>\n",
       "    </tr>\n",
       "  </tbody>\n",
       "</table>\n",
       "</div>"
      ],
      "text/plain": [
       "   Name                              Sequence  Length  Observed_LaFleur  \\\n",
       "0    P5  TTGACAATTAATCATCCGGCTCGTAATTTATGTGGA      36         -2.859671   \n",
       "1  plac  TTTACACTTTATGCTTCCGGCTCGTATGTTGTGTGG      36         -3.809935   \n",
       "\n",
       "   Prediction_RSG  Prediction_LaFleur  \n",
       "0           -4.20           -2.966256  \n",
       "1           -3.89           -3.147286  "
      ]
     },
     "execution_count": 234,
     "metadata": {},
     "output_type": "execute_result"
    }
   ],
   "source": [
    "goldilocks_df.loc[0] = ['P5', 'TTGACAATTAATCATCCGGCTCGTAATTTATGTGGA', 36, -2.859671, -4.20, -2.966256]\n",
    "goldilocks_df.loc[1] = ['plac', 'TTTACACTTTATGCTTCCGGCTCGTATGTTGTGTGG', 36, -3.809935, -3.89, -3.147286]\n",
    "\n",
    "goldilocks_df.head()"
   ]
  },
  {
   "cell_type": "markdown",
   "metadata": {},
   "source": [
    "### Lower end < -4.0"
   ]
  },
  {
   "cell_type": "code",
   "execution_count": 235,
   "metadata": {},
   "outputs": [
    {
     "data": {
      "text/html": [
       "<div>\n",
       "<style scoped>\n",
       "    .dataframe tbody tr th:only-of-type {\n",
       "        vertical-align: middle;\n",
       "    }\n",
       "\n",
       "    .dataframe tbody tr th {\n",
       "        vertical-align: top;\n",
       "    }\n",
       "\n",
       "    .dataframe thead th {\n",
       "        text-align: right;\n",
       "    }\n",
       "</style>\n",
       "<table border=\"1\" class=\"dataframe\">\n",
       "  <thead>\n",
       "    <tr style=\"text-align: right;\">\n",
       "      <th></th>\n",
       "      <th>UP</th>\n",
       "      <th>h35</th>\n",
       "      <th>spacs</th>\n",
       "      <th>h10</th>\n",
       "      <th>disc</th>\n",
       "      <th>ITR</th>\n",
       "      <th>Observed log(TX/Txref)</th>\n",
       "      <th>Predicted log(TX/Txref)</th>\n",
       "    </tr>\n",
       "  </thead>\n",
       "  <tbody>\n",
       "    <tr>\n",
       "      <th>10881</th>\n",
       "      <td>TTTTCTATCTACGTAC</td>\n",
       "      <td>TTGACA</td>\n",
       "      <td>TTTTTTTTTTTTTTTTT</td>\n",
       "      <td>TATAAT</td>\n",
       "      <td>TTGTGTT</td>\n",
       "      <td>CTCTACCTTAGTTTGTACGTT</td>\n",
       "      <td>-4.440532</td>\n",
       "      <td>-4.091806</td>\n",
       "    </tr>\n",
       "    <tr>\n",
       "      <th>11087</th>\n",
       "      <td>TATACTTTTTAATAATAATA</td>\n",
       "      <td>TTGACA</td>\n",
       "      <td>CTATTTCCTATTTCTCT</td>\n",
       "      <td>TATAAT</td>\n",
       "      <td>TTGTGTT</td>\n",
       "      <td>CTCTACCTTAGTTTGTACGTT</td>\n",
       "      <td>-4.439033</td>\n",
       "      <td>-4.037517</td>\n",
       "    </tr>\n",
       "    <tr>\n",
       "      <th>11091</th>\n",
       "      <td>ATTTAATATATTTAATTATA</td>\n",
       "      <td>TTGACA</td>\n",
       "      <td>CTATTTCCTATTTCTCT</td>\n",
       "      <td>TATAAT</td>\n",
       "      <td>TTGTGTT</td>\n",
       "      <td>CTCTACCTTAGTTTGTACGTT</td>\n",
       "      <td>-4.405560</td>\n",
       "      <td>-4.068421</td>\n",
       "    </tr>\n",
       "  </tbody>\n",
       "</table>\n",
       "</div>"
      ],
      "text/plain": [
       "                         UP     h35              spacs     h10     disc  \\\n",
       "10881      TTTTCTATCTACGTAC  TTGACA  TTTTTTTTTTTTTTTTT  TATAAT  TTGTGTT   \n",
       "11087  TATACTTTTTAATAATAATA  TTGACA  CTATTTCCTATTTCTCT  TATAAT  TTGTGTT   \n",
       "11091  ATTTAATATATTTAATTATA  TTGACA  CTATTTCCTATTTCTCT  TATAAT  TTGTGTT   \n",
       "\n",
       "                         ITR  Observed log(TX/Txref)  Predicted log(TX/Txref)  \n",
       "10881  CTCTACCTTAGTTTGTACGTT               -4.440532                -4.091806  \n",
       "11087  CTCTACCTTAGTTTGTACGTT               -4.439033                -4.037517  \n",
       "11091  CTCTACCTTAGTTTGTACGTT               -4.405560                -4.068421  "
      ]
     },
     "execution_count": 235,
     "metadata": {},
     "output_type": "execute_result"
    }
   ],
   "source": [
    "lower_end_df = _df[(_df['Observed log(TX/Txref)'] < -4.4) & (_df['Predicted log(TX/Txref)'] < -4)]\n",
    "\n",
    "\n",
    "lower_end_df.head(None)"
   ]
  },
  {
   "cell_type": "code",
   "execution_count": 236,
   "metadata": {},
   "outputs": [
    {
     "name": "stdout",
     "output_type": "stream",
     "text": [
      "\u001b[1m1/1\u001b[0m \u001b[32m━━━━━━━━━━━━━━━━━━━━\u001b[0m\u001b[37m\u001b[0m \u001b[1m0s\u001b[0m 23ms/step\n",
      "Prediction: -3.820117950439453\n"
     ]
    }
   ],
   "source": [
    "# Lower end of TX, row 10881\n",
    "\n",
    "UP = 'TATACTTTTTAATAATAATA'\n",
    "h35 = 'TTGACA'\n",
    "spacs = 'CTATTTCCTATTTCTCT'\n",
    "h10 = 'TATAAT'\n",
    "disc = 'TTGTGTT'\n",
    "ITR = 'CTCTACCTTAGTTTGTACGTT'\n",
    "\n",
    "prediction = model.predict(encode_sequence(pd.DataFrame({'UP': [format(UP)],\n",
    "                                                         'h35': [format(h35)],\n",
    "                                                         'spacs': [format(spacs)],\n",
    "                                                         'h10': [format(h10)],\n",
    "                                                         'disc': [format(disc)],\n",
    "                                                         'ITR': [format(ITR)]})))\n",
    "print(f'Prediction: {prediction[0][0]}')"
   ]
  },
  {
   "cell_type": "code",
   "execution_count": 237,
   "metadata": {},
   "outputs": [
    {
     "name": "stdout",
     "output_type": "stream",
     "text": [
      "\u001b[1m1/1\u001b[0m \u001b[32m━━━━━━━━━━━━━━━━━━━━\u001b[0m\u001b[37m\u001b[0m \u001b[1m0s\u001b[0m 17ms/step\n",
      "Prediction: -4.111618995666504\n"
     ]
    }
   ],
   "source": [
    "# Lower end of TX, row 10881 (h35, spacs, h10, disc), ligated (UP, ITR)\n",
    "\n",
    "UP = 'AATACTAGAGGTCTTCCGAC'\n",
    "h35 = 'TTGACA'\n",
    "spacs = 'CTATTTCCTATTTCTCT'\n",
    "h10 = 'TATAAT'\n",
    "disc = 'TTGTGTT'\n",
    "ITR = 'GCGGGAAGACAACTAGGGGC'\n",
    "\n",
    "prediction = model.predict(encode_sequence(pd.DataFrame({'UP': [format(UP)],\n",
    "                                                         'h35': [format(h35)],\n",
    "                                                         'spacs': [format(spacs)],\n",
    "                                                         'h10': [format(h10)],\n",
    "                                                         'disc': [format(disc)],\n",
    "                                                         'ITR': [format(ITR)]})))\n",
    "print(f'Prediction: {prediction[0][0]}')"
   ]
  },
  {
   "cell_type": "code",
   "execution_count": 238,
   "metadata": {},
   "outputs": [
    {
     "data": {
      "text/html": [
       "<div>\n",
       "<style scoped>\n",
       "    .dataframe tbody tr th:only-of-type {\n",
       "        vertical-align: middle;\n",
       "    }\n",
       "\n",
       "    .dataframe tbody tr th {\n",
       "        vertical-align: top;\n",
       "    }\n",
       "\n",
       "    .dataframe thead th {\n",
       "        text-align: right;\n",
       "    }\n",
       "</style>\n",
       "<table border=\"1\" class=\"dataframe\">\n",
       "  <thead>\n",
       "    <tr style=\"text-align: right;\">\n",
       "      <th></th>\n",
       "      <th>Name</th>\n",
       "      <th>Sequence</th>\n",
       "      <th>Length</th>\n",
       "      <th>Observed_LaFleur</th>\n",
       "      <th>Prediction_RSG</th>\n",
       "      <th>Prediction_LaFleur</th>\n",
       "    </tr>\n",
       "  </thead>\n",
       "  <tbody>\n",
       "    <tr>\n",
       "      <th>0</th>\n",
       "      <td>P5</td>\n",
       "      <td>TTGACAATTAATCATCCGGCTCGTAATTTATGTGGA</td>\n",
       "      <td>36</td>\n",
       "      <td>-2.859671</td>\n",
       "      <td>-4.200000</td>\n",
       "      <td>-2.966256</td>\n",
       "    </tr>\n",
       "    <tr>\n",
       "      <th>1</th>\n",
       "      <td>plac</td>\n",
       "      <td>TTTACACTTTATGCTTCCGGCTCGTATGTTGTGTGG</td>\n",
       "      <td>36</td>\n",
       "      <td>-3.809935</td>\n",
       "      <td>-3.890000</td>\n",
       "      <td>-3.147286</td>\n",
       "    </tr>\n",
       "    <tr>\n",
       "      <th>3</th>\n",
       "      <td>Lowest TX</td>\n",
       "      <td>TTGACACTATTTCCTATTTCTCTTATAATTTGTGTT</td>\n",
       "      <td>36</td>\n",
       "      <td>-4.440532</td>\n",
       "      <td>-4.111619</td>\n",
       "      <td>-4.091806</td>\n",
       "    </tr>\n",
       "  </tbody>\n",
       "</table>\n",
       "</div>"
      ],
      "text/plain": [
       "        Name                              Sequence  Length  Observed_LaFleur  \\\n",
       "0         P5  TTGACAATTAATCATCCGGCTCGTAATTTATGTGGA      36         -2.859671   \n",
       "1       plac  TTTACACTTTATGCTTCCGGCTCGTATGTTGTGTGG      36         -3.809935   \n",
       "3  Lowest TX  TTGACACTATTTCCTATTTCTCTTATAATTTGTGTT      36         -4.440532   \n",
       "\n",
       "   Prediction_RSG  Prediction_LaFleur  \n",
       "0       -4.200000           -2.966256  \n",
       "1       -3.890000           -3.147286  \n",
       "3       -4.111619           -4.091806  "
      ]
     },
     "execution_count": 238,
     "metadata": {},
     "output_type": "execute_result"
    }
   ],
   "source": [
    "goldilocks_df.loc[3] = ['Lowest TX',\n",
    "                        'TTGACACTATTTCCTATTTCTCTTATAATTTGTGTT',\n",
    "                        len('TTGACACTATTTCCTATTTCTCTTATAATTTGTGTT'),\n",
    "                        _df.loc[10881, 'Observed log(TX/Txref)'],\n",
    "                        prediction[0][0],\n",
    "                        _df.loc[10881, 'Predicted log(TX/Txref)']]\n",
    "\n",
    "goldilocks_df.head()"
   ]
  },
  {
   "cell_type": "markdown",
   "metadata": {},
   "source": [
    "### Middle Value ~ -2.3"
   ]
  },
  {
   "cell_type": "code",
   "execution_count": 239,
   "metadata": {},
   "outputs": [
    {
     "data": {
      "text/html": [
       "<div>\n",
       "<style scoped>\n",
       "    .dataframe tbody tr th:only-of-type {\n",
       "        vertical-align: middle;\n",
       "    }\n",
       "\n",
       "    .dataframe tbody tr th {\n",
       "        vertical-align: top;\n",
       "    }\n",
       "\n",
       "    .dataframe thead th {\n",
       "        text-align: right;\n",
       "    }\n",
       "</style>\n",
       "<table border=\"1\" class=\"dataframe\">\n",
       "  <thead>\n",
       "    <tr style=\"text-align: right;\">\n",
       "      <th></th>\n",
       "      <th>UP</th>\n",
       "      <th>h35</th>\n",
       "      <th>spacs</th>\n",
       "      <th>h10</th>\n",
       "      <th>disc</th>\n",
       "      <th>ITR</th>\n",
       "      <th>Observed log(TX/Txref)</th>\n",
       "      <th>Predicted log(TX/Txref)</th>\n",
       "      <th>Our Prediction</th>\n",
       "    </tr>\n",
       "  </thead>\n",
       "  <tbody>\n",
       "    <tr>\n",
       "      <th>0</th>\n",
       "      <td>TTTTCTATCTACGTAC</td>\n",
       "      <td>TTGACA</td>\n",
       "      <td>CTATTTCCTATTTCTCT</td>\n",
       "      <td>TATAAT</td>\n",
       "      <td>CCCCGCGG</td>\n",
       "      <td>CTCTACCTTAGTTTGTACGTT</td>\n",
       "      <td>-3.386326</td>\n",
       "      <td>-3.844827</td>\n",
       "      <td>-4.049288</td>\n",
       "    </tr>\n",
       "    <tr>\n",
       "      <th>1</th>\n",
       "      <td>TTTTCTATCTACGTAC</td>\n",
       "      <td>TTGACA</td>\n",
       "      <td>CTATTTCCTATTTCTCT</td>\n",
       "      <td>TATAAT</td>\n",
       "      <td>CGCGGCGG</td>\n",
       "      <td>CTCTACCTTAGTTTGTACGTT</td>\n",
       "      <td>-3.503140</td>\n",
       "      <td>-3.905283</td>\n",
       "      <td>-4.041058</td>\n",
       "    </tr>\n",
       "    <tr>\n",
       "      <th>2</th>\n",
       "      <td>TTTTCTATCTACGTAC</td>\n",
       "      <td>TTGACA</td>\n",
       "      <td>CTATTTCCTATTTCTCT</td>\n",
       "      <td>TATAAT</td>\n",
       "      <td>CGCGCCCG</td>\n",
       "      <td>CTCTACCTTAGTTTGTACGTT</td>\n",
       "      <td>-4.207206</td>\n",
       "      <td>-3.905283</td>\n",
       "      <td>-4.135313</td>\n",
       "    </tr>\n",
       "    <tr>\n",
       "      <th>3</th>\n",
       "      <td>TTTTCTATCTACGTAC</td>\n",
       "      <td>TTGACA</td>\n",
       "      <td>CTATTTCCTATTTCTCT</td>\n",
       "      <td>TATAAT</td>\n",
       "      <td>GCGGCGGC</td>\n",
       "      <td>CTCTACCTTAGTTTGTACGTT</td>\n",
       "      <td>-3.392439</td>\n",
       "      <td>-3.877808</td>\n",
       "      <td>-4.030675</td>\n",
       "    </tr>\n",
       "    <tr>\n",
       "      <th>4</th>\n",
       "      <td>TTTTCTATCTACGTAC</td>\n",
       "      <td>TTGACA</td>\n",
       "      <td>CTATTTCCTATTTCTCT</td>\n",
       "      <td>TATAAT</td>\n",
       "      <td>CGGGGGGC</td>\n",
       "      <td>CTCTACCTTAGTTTGTACGTT</td>\n",
       "      <td>-3.698903</td>\n",
       "      <td>-3.672384</td>\n",
       "      <td>-3.941935</td>\n",
       "    </tr>\n",
       "  </tbody>\n",
       "</table>\n",
       "</div>"
      ],
      "text/plain": [
       "                 UP     h35              spacs     h10      disc  \\\n",
       "0  TTTTCTATCTACGTAC  TTGACA  CTATTTCCTATTTCTCT  TATAAT  CCCCGCGG   \n",
       "1  TTTTCTATCTACGTAC  TTGACA  CTATTTCCTATTTCTCT  TATAAT  CGCGGCGG   \n",
       "2  TTTTCTATCTACGTAC  TTGACA  CTATTTCCTATTTCTCT  TATAAT  CGCGCCCG   \n",
       "3  TTTTCTATCTACGTAC  TTGACA  CTATTTCCTATTTCTCT  TATAAT  GCGGCGGC   \n",
       "4  TTTTCTATCTACGTAC  TTGACA  CTATTTCCTATTTCTCT  TATAAT  CGGGGGGC   \n",
       "\n",
       "                     ITR  Observed log(TX/Txref)  Predicted log(TX/Txref)  \\\n",
       "0  CTCTACCTTAGTTTGTACGTT               -3.386326                -3.844827   \n",
       "1  CTCTACCTTAGTTTGTACGTT               -3.503140                -3.905283   \n",
       "2  CTCTACCTTAGTTTGTACGTT               -4.207206                -3.905283   \n",
       "3  CTCTACCTTAGTTTGTACGTT               -3.392439                -3.877808   \n",
       "4  CTCTACCTTAGTTTGTACGTT               -3.698903                -3.672384   \n",
       "\n",
       "   Our Prediction  \n",
       "0       -4.049288  \n",
       "1       -4.041058  \n",
       "2       -4.135313  \n",
       "3       -4.030675  \n",
       "4       -3.941935  "
      ]
     },
     "execution_count": 239,
     "metadata": {},
     "output_type": "execute_result"
    }
   ],
   "source": [
    "# import dataset into a pandas data frame\n",
    "\n",
    "predictions_df = pd.read_csv('../predictions.csv')\n",
    "predictions_df.head()"
   ]
  },
  {
   "cell_type": "code",
   "execution_count": 252,
   "metadata": {},
   "outputs": [
    {
     "data": {
      "text/html": [
       "<div>\n",
       "<style scoped>\n",
       "    .dataframe tbody tr th:only-of-type {\n",
       "        vertical-align: middle;\n",
       "    }\n",
       "\n",
       "    .dataframe tbody tr th {\n",
       "        vertical-align: top;\n",
       "    }\n",
       "\n",
       "    .dataframe thead th {\n",
       "        text-align: right;\n",
       "    }\n",
       "</style>\n",
       "<table border=\"1\" class=\"dataframe\">\n",
       "  <thead>\n",
       "    <tr style=\"text-align: right;\">\n",
       "      <th></th>\n",
       "      <th>UP</th>\n",
       "      <th>h35</th>\n",
       "      <th>spacs</th>\n",
       "      <th>h10</th>\n",
       "      <th>disc</th>\n",
       "      <th>ITR</th>\n",
       "      <th>Observed log(TX/Txref)</th>\n",
       "      <th>Predicted log(TX/Txref)</th>\n",
       "      <th>Our Prediction</th>\n",
       "    </tr>\n",
       "  </thead>\n",
       "  <tbody>\n",
       "    <tr>\n",
       "      <th>6830</th>\n",
       "      <td>TTTTCTATCTACGTAC</td>\n",
       "      <td>AATAGT</td>\n",
       "      <td>CTATTTCCTATTTCTCT</td>\n",
       "      <td>TATAAT</td>\n",
       "      <td>TTGTGTT</td>\n",
       "      <td>CTCTACCTTAGTTTGTACGTT</td>\n",
       "      <td>-2.311855</td>\n",
       "      <td>-2.291479</td>\n",
       "      <td>-2.289752</td>\n",
       "    </tr>\n",
       "    <tr>\n",
       "      <th>6905</th>\n",
       "      <td>TTTTCTATCTACGTAC</td>\n",
       "      <td>AAGTTA</td>\n",
       "      <td>CTATTTCCTATTTCTCT</td>\n",
       "      <td>TATAAT</td>\n",
       "      <td>TTGTGTT</td>\n",
       "      <td>CTCTACCTTAGTTTGTACGTT</td>\n",
       "      <td>-2.283030</td>\n",
       "      <td>-2.291479</td>\n",
       "      <td>-2.284124</td>\n",
       "    </tr>\n",
       "    <tr>\n",
       "      <th>6910</th>\n",
       "      <td>TTTTCTATCTACGTAC</td>\n",
       "      <td>AAGTGT</td>\n",
       "      <td>CTATTTCCTATTTCTCT</td>\n",
       "      <td>TATAAT</td>\n",
       "      <td>TTGTGTT</td>\n",
       "      <td>CTCTACCTTAGTTTGTACGTT</td>\n",
       "      <td>-2.309459</td>\n",
       "      <td>-2.316903</td>\n",
       "      <td>-2.287786</td>\n",
       "    </tr>\n",
       "    <tr>\n",
       "      <th>6968</th>\n",
       "      <td>TTTTCTATCTACGTAC</td>\n",
       "      <td>AACTTA</td>\n",
       "      <td>CTATTTCCTATTTCTCT</td>\n",
       "      <td>TATAAT</td>\n",
       "      <td>TTGTGTT</td>\n",
       "      <td>CTCTACCTTAGTTTGTACGTT</td>\n",
       "      <td>-2.293051</td>\n",
       "      <td>-2.311727</td>\n",
       "      <td>-2.280465</td>\n",
       "    </tr>\n",
       "  </tbody>\n",
       "</table>\n",
       "</div>"
      ],
      "text/plain": [
       "                    UP     h35              spacs     h10     disc  \\\n",
       "6830  TTTTCTATCTACGTAC  AATAGT  CTATTTCCTATTTCTCT  TATAAT  TTGTGTT   \n",
       "6905  TTTTCTATCTACGTAC  AAGTTA  CTATTTCCTATTTCTCT  TATAAT  TTGTGTT   \n",
       "6910  TTTTCTATCTACGTAC  AAGTGT  CTATTTCCTATTTCTCT  TATAAT  TTGTGTT   \n",
       "6968  TTTTCTATCTACGTAC  AACTTA  CTATTTCCTATTTCTCT  TATAAT  TTGTGTT   \n",
       "\n",
       "                        ITR  Observed log(TX/Txref)  Predicted log(TX/Txref)  \\\n",
       "6830  CTCTACCTTAGTTTGTACGTT               -2.311855                -2.291479   \n",
       "6905  CTCTACCTTAGTTTGTACGTT               -2.283030                -2.291479   \n",
       "6910  CTCTACCTTAGTTTGTACGTT               -2.309459                -2.316903   \n",
       "6968  CTCTACCTTAGTTTGTACGTT               -2.293051                -2.311727   \n",
       "\n",
       "      Our Prediction  \n",
       "6830       -2.289752  \n",
       "6905       -2.284124  \n",
       "6910       -2.287786  \n",
       "6968       -2.280465  "
      ]
     },
     "execution_count": 252,
     "metadata": {},
     "output_type": "execute_result"
    }
   ],
   "source": [
    "goal = -2.3\n",
    "tol = 0.02\n",
    "\n",
    "mid_end_df = predictions_df[(predictions_df['Observed log(TX/Txref)'] < goal+tol) &\n",
    "                         (predictions_df['Observed log(TX/Txref)'] > goal-tol) &\n",
    "                         (predictions_df['Predicted log(TX/Txref)'] < goal+tol) &\n",
    "                         (predictions_df['Predicted log(TX/Txref)'] > goal-tol) &\n",
    "                         (predictions_df['Our Prediction'] < goal+tol) &\n",
    "                         (predictions_df['Our Prediction'] > goal-tol)]\n",
    "\n",
    "\n",
    "mid_end_df.head(None)"
   ]
  },
  {
   "cell_type": "code",
   "execution_count": 241,
   "metadata": {},
   "outputs": [
    {
     "name": "stdout",
     "output_type": "stream",
     "text": [
      "\u001b[1m1/1\u001b[0m \u001b[32m━━━━━━━━━━━━━━━━━━━━\u001b[0m\u001b[37m\u001b[0m \u001b[1m0s\u001b[0m 18ms/step\n",
      "Prediction: -4.165507793426514\n"
     ]
    }
   ],
   "source": [
    "# Middle value for TX, row 13344 (h35, spacs, h10, disc), ligated (UP, ITR)\n",
    "\n",
    "UP = 'AATACTAGAGGTCTTCCGAC'\n",
    "h35 = 'CGGCTA'\n",
    "spacs = 'TTTCCTATTTCTGTAA'\n",
    "h10 = 'GAGCGC'\n",
    "disc = 'TCGTGTT'\n",
    "ITR = 'GCGGGAAGACAACTAGGGGC'\n",
    "\n",
    "prediction = model.predict(encode_sequence(pd.DataFrame({'UP': ['AATACTAGAGGTCTTCCGAC'],\n",
    "                                                         'h35':  predictions_df.loc[6830, 'h35'],\n",
    "                                                         'spacs': predictions_df.loc[6830, 'spacs'],\n",
    "                                                         'h10':predictions_df.loc[6830, 'h10'],\n",
    "                                                         'disc': predictions_df.loc[6830, 'disc'],\n",
    "                                                         'ITR': ['GCGGGAAGACAACTAGGGGC']\n",
    "                                                         })))\n",
    "print(f'Prediction: {prediction[0][0]}')"
   ]
  },
  {
   "cell_type": "code",
   "execution_count": 242,
   "metadata": {},
   "outputs": [
    {
     "data": {
      "text/plain": [
       "36"
      ]
     },
     "execution_count": 242,
     "metadata": {},
     "output_type": "execute_result"
    }
   ],
   "source": [
    "len('AATAGTCTATTTCCTATTTCTCTTATAATTTGTGTT')"
   ]
  },
  {
   "cell_type": "code",
   "execution_count": 243,
   "metadata": {},
   "outputs": [
    {
     "data": {
      "text/html": [
       "<div>\n",
       "<style scoped>\n",
       "    .dataframe tbody tr th:only-of-type {\n",
       "        vertical-align: middle;\n",
       "    }\n",
       "\n",
       "    .dataframe tbody tr th {\n",
       "        vertical-align: top;\n",
       "    }\n",
       "\n",
       "    .dataframe thead th {\n",
       "        text-align: right;\n",
       "    }\n",
       "</style>\n",
       "<table border=\"1\" class=\"dataframe\">\n",
       "  <thead>\n",
       "    <tr style=\"text-align: right;\">\n",
       "      <th></th>\n",
       "      <th>Name</th>\n",
       "      <th>Sequence</th>\n",
       "      <th>Length</th>\n",
       "      <th>Observed_LaFleur</th>\n",
       "      <th>Prediction_RSG</th>\n",
       "      <th>Prediction_LaFleur</th>\n",
       "    </tr>\n",
       "  </thead>\n",
       "  <tbody>\n",
       "    <tr>\n",
       "      <th>0</th>\n",
       "      <td>P5</td>\n",
       "      <td>TTGACAATTAATCATCCGGCTCGTAATTTATGTGGA</td>\n",
       "      <td>36</td>\n",
       "      <td>-2.859671</td>\n",
       "      <td>-4.200000</td>\n",
       "      <td>-2.966256</td>\n",
       "    </tr>\n",
       "    <tr>\n",
       "      <th>1</th>\n",
       "      <td>plac</td>\n",
       "      <td>TTTACACTTTATGCTTCCGGCTCGTATGTTGTGTGG</td>\n",
       "      <td>36</td>\n",
       "      <td>-3.809935</td>\n",
       "      <td>-3.890000</td>\n",
       "      <td>-3.147286</td>\n",
       "    </tr>\n",
       "    <tr>\n",
       "      <th>3</th>\n",
       "      <td>Lowest TX</td>\n",
       "      <td>TTGACACTATTTCCTATTTCTCTTATAATTTGTGTT</td>\n",
       "      <td>36</td>\n",
       "      <td>-4.440532</td>\n",
       "      <td>-4.111619</td>\n",
       "      <td>-4.091806</td>\n",
       "    </tr>\n",
       "    <tr>\n",
       "      <th>4</th>\n",
       "      <td>Middle TX</td>\n",
       "      <td>CGGCTATTTCCTATTTCTGTAAGAGCGCTCGTGTT</td>\n",
       "      <td>35</td>\n",
       "      <td>-2.311855</td>\n",
       "      <td>-4.165508</td>\n",
       "      <td>-2.291479</td>\n",
       "    </tr>\n",
       "  </tbody>\n",
       "</table>\n",
       "</div>"
      ],
      "text/plain": [
       "        Name                              Sequence  Length  Observed_LaFleur  \\\n",
       "0         P5  TTGACAATTAATCATCCGGCTCGTAATTTATGTGGA      36         -2.859671   \n",
       "1       plac  TTTACACTTTATGCTTCCGGCTCGTATGTTGTGTGG      36         -3.809935   \n",
       "3  Lowest TX  TTGACACTATTTCCTATTTCTCTTATAATTTGTGTT      36         -4.440532   \n",
       "4  Middle TX   CGGCTATTTCCTATTTCTGTAAGAGCGCTCGTGTT      35         -2.311855   \n",
       "\n",
       "   Prediction_RSG  Prediction_LaFleur  \n",
       "0       -4.200000           -2.966256  \n",
       "1       -3.890000           -3.147286  \n",
       "3       -4.111619           -4.091806  \n",
       "4       -4.165508           -2.291479  "
      ]
     },
     "execution_count": 243,
     "metadata": {},
     "output_type": "execute_result"
    }
   ],
   "source": [
    "goldilocks_df.loc[4] = ['Middle TX',\n",
    "                        'CGGCTATTTCCTATTTCTGTAAGAGCGCTCGTGTT',\n",
    "                        len('CGGCTATTTCCTATTTCTGTAAGAGCGCTCGTGTT'),\n",
    "                        predictions_df.loc[6830, 'Observed log(TX/Txref)'],\n",
    "                        prediction[0][0],\n",
    "                        predictions_df.loc[6830, 'Predicted log(TX/Txref)']]\n",
    "\n",
    "goldilocks_df.head()"
   ]
  },
  {
   "cell_type": "markdown",
   "metadata": {},
   "source": [
    "### Upper end > -2.9"
   ]
  },
  {
   "cell_type": "code",
   "execution_count": 244,
   "metadata": {},
   "outputs": [
    {
     "data": {
      "text/html": [
       "<div>\n",
       "<style scoped>\n",
       "    .dataframe tbody tr th:only-of-type {\n",
       "        vertical-align: middle;\n",
       "    }\n",
       "\n",
       "    .dataframe tbody tr th {\n",
       "        vertical-align: top;\n",
       "    }\n",
       "\n",
       "    .dataframe thead th {\n",
       "        text-align: right;\n",
       "    }\n",
       "</style>\n",
       "<table border=\"1\" class=\"dataframe\">\n",
       "  <thead>\n",
       "    <tr style=\"text-align: right;\">\n",
       "      <th></th>\n",
       "      <th>UP</th>\n",
       "      <th>h35</th>\n",
       "      <th>spacs</th>\n",
       "      <th>h10</th>\n",
       "      <th>disc</th>\n",
       "      <th>ITR</th>\n",
       "      <th>Observed log(TX/Txref)</th>\n",
       "      <th>Predicted log(TX/Txref)</th>\n",
       "    </tr>\n",
       "  </thead>\n",
       "  <tbody>\n",
       "    <tr>\n",
       "      <th>13344</th>\n",
       "      <td>TTTTCTATCTACGTAC</td>\n",
       "      <td>CGGCTA</td>\n",
       "      <td>TTTCCTATTTCTGTAA</td>\n",
       "      <td>GAGCGC</td>\n",
       "      <td>TCGTGTT</td>\n",
       "      <td>CTCTACCTTAGTTTGTACGTT</td>\n",
       "      <td>-1.327835</td>\n",
       "      <td>-1.405075</td>\n",
       "    </tr>\n",
       "  </tbody>\n",
       "</table>\n",
       "</div>"
      ],
      "text/plain": [
       "                     UP     h35             spacs     h10     disc  \\\n",
       "13344  TTTTCTATCTACGTAC  CGGCTA  TTTCCTATTTCTGTAA  GAGCGC  TCGTGTT   \n",
       "\n",
       "                         ITR  Observed log(TX/Txref)  Predicted log(TX/Txref)  \n",
       "13344  CTCTACCTTAGTTTGTACGTT               -1.327835                -1.405075  "
      ]
     },
     "execution_count": 244,
     "metadata": {},
     "output_type": "execute_result"
    }
   ],
   "source": [
    "upper_end_df = _df[(_df['Observed log(TX/Txref)'] > -1.5) & (_df['Predicted log(TX/Txref)'] > -1.5)]\n",
    "\n",
    "\n",
    "upper_end_df.head(None)"
   ]
  },
  {
   "cell_type": "code",
   "execution_count": 245,
   "metadata": {},
   "outputs": [
    {
     "name": "stdout",
     "output_type": "stream",
     "text": [
      "\u001b[1m1/1\u001b[0m \u001b[32m━━━━━━━━━━━━━━━━━━━━\u001b[0m\u001b[37m\u001b[0m \u001b[1m0s\u001b[0m 18ms/step\n",
      "Prediction: -1.9923683404922485\n"
     ]
    }
   ],
   "source": [
    "# upper end of TX, row 13344\n",
    "\n",
    "UP = 'TTTTCTATCTACGTAC'\n",
    "h35 = 'CGGCTA'\n",
    "spacs = 'TTTCCTATTTCTGTAA'\n",
    "h10 = 'GAGCGC'\n",
    "disc = 'TCGTGTT'\n",
    "ITR = 'CTCTACCTTAGTTTGTACGTT'\n",
    "\n",
    "prediction = model.predict(encode_sequence(pd.DataFrame({'UP': [format(UP)],\n",
    "                                                         'h35': [format(h35)],\n",
    "                                                         'spacs': [format(spacs)],\n",
    "                                                         'h10': [format(h10)],\n",
    "                                                         'disc': [format(disc)],\n",
    "                                                         'ITR': [format(ITR)]})))\n",
    "print(f'Prediction: {prediction[0][0]}')"
   ]
  },
  {
   "cell_type": "code",
   "execution_count": 246,
   "metadata": {},
   "outputs": [
    {
     "name": "stdout",
     "output_type": "stream",
     "text": [
      "\u001b[1m1/1\u001b[0m \u001b[32m━━━━━━━━━━━━━━━━━━━━\u001b[0m\u001b[37m\u001b[0m \u001b[1m0s\u001b[0m 22ms/step\n",
      "Prediction: -3.086618423461914\n"
     ]
    }
   ],
   "source": [
    "# Lower end of TX, row 13344 (h35, spacs, h10, disc), ligated (UP, ITR)\n",
    "\n",
    "UP = 'AATACTAGAGGTCTTCCGAC'\n",
    "h35 = 'CGGCTA'\n",
    "spacs = 'TTTCCTATTTCTGTAA'\n",
    "h10 = 'GAGCGC'\n",
    "disc = 'TCGTGTT'\n",
    "ITR = 'GCGGGAAGACAACTAGGGGC'\n",
    "\n",
    "prediction = model.predict(encode_sequence(pd.DataFrame({'UP': [format(UP)],\n",
    "                                                         'h35': [format(h35)],\n",
    "                                                         'spacs': [format(spacs)],\n",
    "                                                         'h10': [format(h10)],\n",
    "                                                         'disc': [format(disc)],\n",
    "                                                         'ITR': [format(ITR)]})))\n",
    "print(f'Prediction: {prediction[0][0]}')"
   ]
  },
  {
   "cell_type": "code",
   "execution_count": 247,
   "metadata": {},
   "outputs": [
    {
     "data": {
      "text/plain": [
       "35"
      ]
     },
     "execution_count": 247,
     "metadata": {},
     "output_type": "execute_result"
    }
   ],
   "source": [
    "len('CGGCTATTTCCTATTTCTGTAAGAGCGCTCGTGTT')"
   ]
  },
  {
   "cell_type": "code",
   "execution_count": 248,
   "metadata": {},
   "outputs": [
    {
     "data": {
      "text/html": [
       "<div>\n",
       "<style scoped>\n",
       "    .dataframe tbody tr th:only-of-type {\n",
       "        vertical-align: middle;\n",
       "    }\n",
       "\n",
       "    .dataframe tbody tr th {\n",
       "        vertical-align: top;\n",
       "    }\n",
       "\n",
       "    .dataframe thead th {\n",
       "        text-align: right;\n",
       "    }\n",
       "</style>\n",
       "<table border=\"1\" class=\"dataframe\">\n",
       "  <thead>\n",
       "    <tr style=\"text-align: right;\">\n",
       "      <th></th>\n",
       "      <th>Name</th>\n",
       "      <th>Sequence</th>\n",
       "      <th>Length</th>\n",
       "      <th>Observed_LaFleur</th>\n",
       "      <th>Prediction_RSG</th>\n",
       "      <th>Prediction_LaFleur</th>\n",
       "    </tr>\n",
       "  </thead>\n",
       "  <tbody>\n",
       "    <tr>\n",
       "      <th>0</th>\n",
       "      <td>P5</td>\n",
       "      <td>TTGACAATTAATCATCCGGCTCGTAATTTATGTGGA</td>\n",
       "      <td>36</td>\n",
       "      <td>-2.859671</td>\n",
       "      <td>-4.200000</td>\n",
       "      <td>-2.966256</td>\n",
       "    </tr>\n",
       "    <tr>\n",
       "      <th>1</th>\n",
       "      <td>plac</td>\n",
       "      <td>TTTACACTTTATGCTTCCGGCTCGTATGTTGTGTGG</td>\n",
       "      <td>36</td>\n",
       "      <td>-3.809935</td>\n",
       "      <td>-3.890000</td>\n",
       "      <td>-3.147286</td>\n",
       "    </tr>\n",
       "    <tr>\n",
       "      <th>3</th>\n",
       "      <td>Lowest TX</td>\n",
       "      <td>TTGACACTATTTCCTATTTCTCTTATAATTTGTGTT</td>\n",
       "      <td>36</td>\n",
       "      <td>-4.440532</td>\n",
       "      <td>-4.111619</td>\n",
       "      <td>-4.091806</td>\n",
       "    </tr>\n",
       "    <tr>\n",
       "      <th>4</th>\n",
       "      <td>Middle TX</td>\n",
       "      <td>CGGCTATTTCCTATTTCTGTAAGAGCGCTCGTGTT</td>\n",
       "      <td>35</td>\n",
       "      <td>-2.311855</td>\n",
       "      <td>-4.165508</td>\n",
       "      <td>-2.291479</td>\n",
       "    </tr>\n",
       "    <tr>\n",
       "      <th>5</th>\n",
       "      <td>Upper TX</td>\n",
       "      <td>CGGCTATTTCCTATTTCTGTAAGAGCGCTCGTGTT</td>\n",
       "      <td>35</td>\n",
       "      <td>-1.327835</td>\n",
       "      <td>-3.086618</td>\n",
       "      <td>-1.405075</td>\n",
       "    </tr>\n",
       "  </tbody>\n",
       "</table>\n",
       "</div>"
      ],
      "text/plain": [
       "        Name                              Sequence  Length  Observed_LaFleur  \\\n",
       "0         P5  TTGACAATTAATCATCCGGCTCGTAATTTATGTGGA      36         -2.859671   \n",
       "1       plac  TTTACACTTTATGCTTCCGGCTCGTATGTTGTGTGG      36         -3.809935   \n",
       "3  Lowest TX  TTGACACTATTTCCTATTTCTCTTATAATTTGTGTT      36         -4.440532   \n",
       "4  Middle TX   CGGCTATTTCCTATTTCTGTAAGAGCGCTCGTGTT      35         -2.311855   \n",
       "5   Upper TX   CGGCTATTTCCTATTTCTGTAAGAGCGCTCGTGTT      35         -1.327835   \n",
       "\n",
       "   Prediction_RSG  Prediction_LaFleur  \n",
       "0       -4.200000           -2.966256  \n",
       "1       -3.890000           -3.147286  \n",
       "3       -4.111619           -4.091806  \n",
       "4       -4.165508           -2.291479  \n",
       "5       -3.086618           -1.405075  "
      ]
     },
     "execution_count": 248,
     "metadata": {},
     "output_type": "execute_result"
    }
   ],
   "source": [
    "goldilocks_df.loc[5] = ['Upper TX',\n",
    "                        'CGGCTATTTCCTATTTCTGTAAGAGCGCTCGTGTT',\n",
    "                        len('CGGCTATTTCCTATTTCTGTAAGAGCGCTCGTGTT'),\n",
    "                        _df.loc[13344, 'Observed log(TX/Txref)'],\n",
    "                        prediction[0][0],\n",
    "                        _df.loc[13344, 'Predicted log(TX/Txref)']]\n",
    "\n",
    "goldilocks_df.head()"
   ]
  },
  {
   "cell_type": "code",
   "execution_count": 249,
   "metadata": {},
   "outputs": [
    {
     "name": "stdout",
     "output_type": "stream",
     "text": [
      "['CGACTTGACAATTAATCATCCGGCTCGTAATTTATGTGGA', 'CGACTTTACACTTTATGCTTCCGGCTCGTATGTTGTGTGG', 'CGACTTGACACTATTTCCTATTTCTCTTATAATTTGTGTT', 'CGACCGGCTATTTCCTATTTCTGTAAGAGCGCTCGTGTT', 'CGACCGGCTATTTCCTATTTCTGTAAGAGCGCTCGTGTT']\n"
     ]
    }
   ],
   "source": [
    "coding = []\n",
    "\n",
    "for row in goldilocks_df.iterrows():\n",
    "    coding.append('CGAC' + row[1]['Sequence'])\n",
    "\n",
    "print(coding)"
   ]
  },
  {
   "cell_type": "code",
   "execution_count": 250,
   "metadata": {},
   "outputs": [],
   "source": [
    "def get_complement(str):\n",
    "    toReturn = ''\n",
    "    mapping = {'A': 'T', 'C': 'G', 'G': 'C', 'T': 'A'}\n",
    "    for char in str:\n",
    "        toReturn += mapping[char]\n",
    "    return toReturn"
   ]
  },
  {
   "cell_type": "code",
   "execution_count": 251,
   "metadata": {},
   "outputs": [
    {
     "name": "stdout",
     "output_type": "stream",
     "text": [
      "['CCGCTCCACATAAATTACGAGCCGGATGATTAATTGTCAA', 'CCGCCCACACAACATACGAGCCGGAAGCATAAAGTGTAAA', 'CCGCAACACAAATTATAAGAGAAATAGGAAATAGTGTCAA', 'CCGCAACACGAGCGCTCTTACAGAAATAGGAAATAGCCG', 'CCGCAACACGAGCGCTCTTACAGAAATAGGAAATAGCCG']\n"
     ]
    }
   ],
   "source": [
    "complements = []\n",
    "\n",
    "for row in goldilocks_df.iterrows():\n",
    "    complements.append('CCGC' + get_complement(row[1]['Sequence'][::-1]))\n",
    "\n",
    "print(complements)"
   ]
  },
  {
   "cell_type": "markdown",
   "metadata": {},
   "source": [
    "## Automate"
   ]
  },
  {
   "cell_type": "code",
   "execution_count": 287,
   "metadata": {},
   "outputs": [],
   "source": [
    "def find_sequences(goal, tol):\n",
    "    temp_df = predictions_df[(predictions_df['Observed log(TX/Txref)'] < goal+tol) &\n",
    "                             (predictions_df['Observed log(TX/Txref)'] > goal-tol) &\n",
    "                             (predictions_df['Predicted log(TX/Txref)'] < goal+tol) &\n",
    "                             (predictions_df['Predicted log(TX/Txref)'] > goal-tol)]\n",
    "    return temp_df"
   ]
  },
  {
   "cell_type": "code",
   "execution_count": 288,
   "metadata": {},
   "outputs": [],
   "source": [
    "def add_to_df(name, index, df):\n",
    "    template = predictions_df.loc[index, 'h35'] + predictions_df.loc[index, 'spacs'] + predictions_df.loc[index, 'h10'] + predictions_df.loc[index, 'disc']\n",
    "    df.loc[len(df)] = [name + '_template', 'CGAC' + template]\n",
    "    df.loc[len(df)] = [name + '_template', 'CCGC' + template[::-1]]"
   ]
  },
  {
   "cell_type": "code",
   "execution_count": 312,
   "metadata": {},
   "outputs": [
    {
     "data": {
      "text/html": [
       "<div>\n",
       "<style scoped>\n",
       "    .dataframe tbody tr th:only-of-type {\n",
       "        vertical-align: middle;\n",
       "    }\n",
       "\n",
       "    .dataframe tbody tr th {\n",
       "        vertical-align: top;\n",
       "    }\n",
       "\n",
       "    .dataframe thead th {\n",
       "        text-align: right;\n",
       "    }\n",
       "</style>\n",
       "<table border=\"1\" class=\"dataframe\">\n",
       "  <thead>\n",
       "    <tr style=\"text-align: right;\">\n",
       "      <th></th>\n",
       "      <th>UP</th>\n",
       "      <th>h35</th>\n",
       "      <th>spacs</th>\n",
       "      <th>h10</th>\n",
       "      <th>disc</th>\n",
       "      <th>ITR</th>\n",
       "      <th>Observed log(TX/Txref)</th>\n",
       "      <th>Predicted log(TX/Txref)</th>\n",
       "      <th>Our Prediction</th>\n",
       "    </tr>\n",
       "  </thead>\n",
       "  <tbody>\n",
       "    <tr>\n",
       "      <th>10945</th>\n",
       "      <td>TTTAAAATATAATAGATTTT</td>\n",
       "      <td>TTGACA</td>\n",
       "      <td>CTATTTCCTATTTCTCT</td>\n",
       "      <td>TATAAT</td>\n",
       "      <td>TTGTGTT</td>\n",
       "      <td>CTCTACCTTAGTTTGTACGTT</td>\n",
       "      <td>-4.001459</td>\n",
       "      <td>-4.021300</td>\n",
       "      <td>-3.044030</td>\n",
       "    </tr>\n",
       "    <tr>\n",
       "      <th>11064</th>\n",
       "      <td>CTTTCCTATAAATAAAACTAGC</td>\n",
       "      <td>TTGACA</td>\n",
       "      <td>CTATTTCCTATTTCTCT</td>\n",
       "      <td>TATAAT</td>\n",
       "      <td>TTGTGTT</td>\n",
       "      <td>CTCTACCTTAGTTTGTACGTT</td>\n",
       "      <td>-3.978866</td>\n",
       "      <td>-4.011386</td>\n",
       "      <td>-2.258561</td>\n",
       "    </tr>\n",
       "  </tbody>\n",
       "</table>\n",
       "</div>"
      ],
      "text/plain": [
       "                           UP     h35              spacs     h10     disc  \\\n",
       "10945    TTTAAAATATAATAGATTTT  TTGACA  CTATTTCCTATTTCTCT  TATAAT  TTGTGTT   \n",
       "11064  CTTTCCTATAAATAAAACTAGC  TTGACA  CTATTTCCTATTTCTCT  TATAAT  TTGTGTT   \n",
       "\n",
       "                         ITR  Observed log(TX/Txref)  Predicted log(TX/Txref)  \\\n",
       "10945  CTCTACCTTAGTTTGTACGTT               -4.001459                -4.021300   \n",
       "11064  CTCTACCTTAGTTTGTACGTT               -3.978866                -4.011386   \n",
       "\n",
       "       Our Prediction  \n",
       "10945       -3.044030  \n",
       "11064       -2.258561  "
      ]
     },
     "execution_count": 312,
     "metadata": {},
     "output_type": "execute_result"
    }
   ],
   "source": [
    "# Low TX\n",
    "\n",
    "find_sequences(-4, 0.03).head(None)"
   ]
  },
  {
   "cell_type": "code",
   "execution_count": 313,
   "metadata": {},
   "outputs": [
    {
     "data": {
      "text/html": [
       "<div>\n",
       "<style scoped>\n",
       "    .dataframe tbody tr th:only-of-type {\n",
       "        vertical-align: middle;\n",
       "    }\n",
       "\n",
       "    .dataframe tbody tr th {\n",
       "        vertical-align: top;\n",
       "    }\n",
       "\n",
       "    .dataframe thead th {\n",
       "        text-align: right;\n",
       "    }\n",
       "</style>\n",
       "<table border=\"1\" class=\"dataframe\">\n",
       "  <thead>\n",
       "    <tr style=\"text-align: right;\">\n",
       "      <th></th>\n",
       "      <th>UP</th>\n",
       "      <th>h35</th>\n",
       "      <th>spacs</th>\n",
       "      <th>h10</th>\n",
       "      <th>disc</th>\n",
       "      <th>ITR</th>\n",
       "      <th>Observed log(TX/Txref)</th>\n",
       "      <th>Predicted log(TX/Txref)</th>\n",
       "      <th>Our Prediction</th>\n",
       "    </tr>\n",
       "  </thead>\n",
       "  <tbody>\n",
       "    <tr>\n",
       "      <th>6899</th>\n",
       "      <td>TTTTCTATCTACGTAC</td>\n",
       "      <td>AAGACG</td>\n",
       "      <td>CTATTTCCTATTTCTCT</td>\n",
       "      <td>TATAAT</td>\n",
       "      <td>TTGTGTT</td>\n",
       "      <td>CTCTACCTTAGTTTGTACGTT</td>\n",
       "      <td>-2.300707</td>\n",
       "      <td>-2.290499</td>\n",
       "      <td>-2.247130</td>\n",
       "    </tr>\n",
       "    <tr>\n",
       "      <th>9034</th>\n",
       "      <td>TTTTCTATCTACGTAC</td>\n",
       "      <td>GACCCG</td>\n",
       "      <td>CTATTTCCTATTTCTCT</td>\n",
       "      <td>TATAAT</td>\n",
       "      <td>TTGTGTT</td>\n",
       "      <td>CTCTACCTTAGTTTGTACGTT</td>\n",
       "      <td>-2.304443</td>\n",
       "      <td>-2.290576</td>\n",
       "      <td>-2.211866</td>\n",
       "    </tr>\n",
       "    <tr>\n",
       "      <th>9538</th>\n",
       "      <td>TTTTCTATCTACGTAC</td>\n",
       "      <td>GGCCGT</td>\n",
       "      <td>CTATTTCCTATTTCTCT</td>\n",
       "      <td>TATAAT</td>\n",
       "      <td>TTGTGTT</td>\n",
       "      <td>CTCTACCTTAGTTTGTACGTT</td>\n",
       "      <td>-2.309971</td>\n",
       "      <td>-2.309973</td>\n",
       "      <td>-2.241688</td>\n",
       "    </tr>\n",
       "    <tr>\n",
       "      <th>9651</th>\n",
       "      <td>TTTTCTATCTACGTAC</td>\n",
       "      <td>GCTGGG</td>\n",
       "      <td>CTATTTCCTATTTCTCT</td>\n",
       "      <td>TATAAT</td>\n",
       "      <td>TTGTGTT</td>\n",
       "      <td>CTCTACCTTAGTTTGTACGTT</td>\n",
       "      <td>-2.304958</td>\n",
       "      <td>-2.306101</td>\n",
       "      <td>-2.239044</td>\n",
       "    </tr>\n",
       "    <tr>\n",
       "      <th>10337</th>\n",
       "      <td>TTTTCTATCTACGTAC</td>\n",
       "      <td>CGATGT</td>\n",
       "      <td>CTATTTCCTATTTCTCT</td>\n",
       "      <td>TATAAT</td>\n",
       "      <td>TTGTGTT</td>\n",
       "      <td>CTCTACCTTAGTTTGTACGTT</td>\n",
       "      <td>-2.290339</td>\n",
       "      <td>-2.303591</td>\n",
       "      <td>-2.239111</td>\n",
       "    </tr>\n",
       "    <tr>\n",
       "      <th>10386</th>\n",
       "      <td>TTTTCTATCTACGTAC</td>\n",
       "      <td>CGTAGG</td>\n",
       "      <td>CTATTTCCTATTTCTCT</td>\n",
       "      <td>TATAAT</td>\n",
       "      <td>TTGTGTT</td>\n",
       "      <td>CTCTACCTTAGTTTGTACGTT</td>\n",
       "      <td>-2.291985</td>\n",
       "      <td>-2.306241</td>\n",
       "      <td>-2.253165</td>\n",
       "    </tr>\n",
       "  </tbody>\n",
       "</table>\n",
       "</div>"
      ],
      "text/plain": [
       "                     UP     h35              spacs     h10     disc  \\\n",
       "6899   TTTTCTATCTACGTAC  AAGACG  CTATTTCCTATTTCTCT  TATAAT  TTGTGTT   \n",
       "9034   TTTTCTATCTACGTAC  GACCCG  CTATTTCCTATTTCTCT  TATAAT  TTGTGTT   \n",
       "9538   TTTTCTATCTACGTAC  GGCCGT  CTATTTCCTATTTCTCT  TATAAT  TTGTGTT   \n",
       "9651   TTTTCTATCTACGTAC  GCTGGG  CTATTTCCTATTTCTCT  TATAAT  TTGTGTT   \n",
       "10337  TTTTCTATCTACGTAC  CGATGT  CTATTTCCTATTTCTCT  TATAAT  TTGTGTT   \n",
       "10386  TTTTCTATCTACGTAC  CGTAGG  CTATTTCCTATTTCTCT  TATAAT  TTGTGTT   \n",
       "\n",
       "                         ITR  Observed log(TX/Txref)  Predicted log(TX/Txref)  \\\n",
       "6899   CTCTACCTTAGTTTGTACGTT               -2.300707                -2.290499   \n",
       "9034   CTCTACCTTAGTTTGTACGTT               -2.304443                -2.290576   \n",
       "9538   CTCTACCTTAGTTTGTACGTT               -2.309971                -2.309973   \n",
       "9651   CTCTACCTTAGTTTGTACGTT               -2.304958                -2.306101   \n",
       "10337  CTCTACCTTAGTTTGTACGTT               -2.290339                -2.303591   \n",
       "10386  CTCTACCTTAGTTTGTACGTT               -2.291985                -2.306241   \n",
       "\n",
       "       Our Prediction  \n",
       "6899        -2.247130  \n",
       "9034        -2.211866  \n",
       "9538        -2.241688  \n",
       "9651        -2.239044  \n",
       "10337       -2.239111  \n",
       "10386       -2.253165  "
      ]
     },
     "execution_count": 313,
     "metadata": {},
     "output_type": "execute_result"
    }
   ],
   "source": [
    "# Medium TX\n",
    "\n",
    "find_sequences(-2.3, 0.01).head(None)"
   ]
  },
  {
   "cell_type": "code",
   "execution_count": 314,
   "metadata": {},
   "outputs": [
    {
     "data": {
      "text/html": [
       "<div>\n",
       "<style scoped>\n",
       "    .dataframe tbody tr th:only-of-type {\n",
       "        vertical-align: middle;\n",
       "    }\n",
       "\n",
       "    .dataframe tbody tr th {\n",
       "        vertical-align: top;\n",
       "    }\n",
       "\n",
       "    .dataframe thead th {\n",
       "        text-align: right;\n",
       "    }\n",
       "</style>\n",
       "<table border=\"1\" class=\"dataframe\">\n",
       "  <thead>\n",
       "    <tr style=\"text-align: right;\">\n",
       "      <th></th>\n",
       "      <th>UP</th>\n",
       "      <th>h35</th>\n",
       "      <th>spacs</th>\n",
       "      <th>h10</th>\n",
       "      <th>disc</th>\n",
       "      <th>ITR</th>\n",
       "      <th>Observed log(TX/Txref)</th>\n",
       "      <th>Predicted log(TX/Txref)</th>\n",
       "      <th>Our Prediction</th>\n",
       "    </tr>\n",
       "  </thead>\n",
       "  <tbody>\n",
       "    <tr>\n",
       "      <th>12954</th>\n",
       "      <td>TTTTCTATCTACGTAC</td>\n",
       "      <td>CCCCTA</td>\n",
       "      <td>TTTCCTATTTCTGTA</td>\n",
       "      <td>GTCATA</td>\n",
       "      <td>GGGTGTT</td>\n",
       "      <td>CTCTACCTTAGTTTGTACGTT</td>\n",
       "      <td>-1.676955</td>\n",
       "      <td>-1.634668</td>\n",
       "      <td>-2.287028</td>\n",
       "    </tr>\n",
       "    <tr>\n",
       "      <th>13305</th>\n",
       "      <td>TTTTCTATCTACGTAC</td>\n",
       "      <td>TGAACC</td>\n",
       "      <td>TATTTCCTATTTCTG</td>\n",
       "      <td>TAAAGA</td>\n",
       "      <td>ACGTGTT</td>\n",
       "      <td>CTCTACCTTAGTTTGTACGTT</td>\n",
       "      <td>-1.643107</td>\n",
       "      <td>-1.766673</td>\n",
       "      <td>-3.857825</td>\n",
       "    </tr>\n",
       "  </tbody>\n",
       "</table>\n",
       "</div>"
      ],
      "text/plain": [
       "                     UP     h35            spacs     h10     disc  \\\n",
       "12954  TTTTCTATCTACGTAC  CCCCTA  TTTCCTATTTCTGTA  GTCATA  GGGTGTT   \n",
       "13305  TTTTCTATCTACGTAC  TGAACC  TATTTCCTATTTCTG  TAAAGA  ACGTGTT   \n",
       "\n",
       "                         ITR  Observed log(TX/Txref)  Predicted log(TX/Txref)  \\\n",
       "12954  CTCTACCTTAGTTTGTACGTT               -1.676955                -1.634668   \n",
       "13305  CTCTACCTTAGTTTGTACGTT               -1.643107                -1.766673   \n",
       "\n",
       "       Our Prediction  \n",
       "12954       -2.287028  \n",
       "13305       -3.857825  "
      ]
     },
     "execution_count": 314,
     "metadata": {},
     "output_type": "execute_result"
    }
   ],
   "source": [
    "# High TX\n",
    "\n",
    "find_sequences(-1.7, 0.07).head(None)"
   ]
  },
  {
   "cell_type": "code",
   "execution_count": 321,
   "metadata": {},
   "outputs": [],
   "source": [
    "to_order_df = pd.DataFrame({'Name' : ['p5_coding', 'p5_template', 'plac_coding', 'plac_template'],\n",
    "                           'Sequence' : ['CGACTTGACAATTAATCATCCGGCTCGTAATTTATGTGGA', 'CCGCTCCACATAAATTACGAGCCGGATGATTAATTGTCAA', 'CGACTTTACACTTTATGCTTCCGGCTCGTATGTTGTGTGG', 'CCGCCCACACAACATACGAGCCGGAAGCATAAAGTGTAAA']})"
   ]
  },
  {
   "cell_type": "code",
   "execution_count": 322,
   "metadata": {},
   "outputs": [
    {
     "data": {
      "text/html": [
       "<div>\n",
       "<style scoped>\n",
       "    .dataframe tbody tr th:only-of-type {\n",
       "        vertical-align: middle;\n",
       "    }\n",
       "\n",
       "    .dataframe tbody tr th {\n",
       "        vertical-align: top;\n",
       "    }\n",
       "\n",
       "    .dataframe thead th {\n",
       "        text-align: right;\n",
       "    }\n",
       "</style>\n",
       "<table border=\"1\" class=\"dataframe\">\n",
       "  <thead>\n",
       "    <tr style=\"text-align: right;\">\n",
       "      <th></th>\n",
       "      <th>Name</th>\n",
       "      <th>Sequence</th>\n",
       "    </tr>\n",
       "  </thead>\n",
       "  <tbody>\n",
       "    <tr>\n",
       "      <th>0</th>\n",
       "      <td>p5_coding</td>\n",
       "      <td>CGACTTGACAATTAATCATCCGGCTCGTAATTTATGTGGA</td>\n",
       "    </tr>\n",
       "    <tr>\n",
       "      <th>1</th>\n",
       "      <td>p5_template</td>\n",
       "      <td>CCGCTCCACATAAATTACGAGCCGGATGATTAATTGTCAA</td>\n",
       "    </tr>\n",
       "    <tr>\n",
       "      <th>2</th>\n",
       "      <td>plac_coding</td>\n",
       "      <td>CGACTTTACACTTTATGCTTCCGGCTCGTATGTTGTGTGG</td>\n",
       "    </tr>\n",
       "    <tr>\n",
       "      <th>3</th>\n",
       "      <td>plac_template</td>\n",
       "      <td>CCGCCCACACAACATACGAGCCGGAAGCATAAAGTGTAAA</td>\n",
       "    </tr>\n",
       "    <tr>\n",
       "      <th>4</th>\n",
       "      <td>low_template</td>\n",
       "      <td>CGACTTGACACTATTTCCTATTTCTCTTATAATTTGTGTT</td>\n",
       "    </tr>\n",
       "  </tbody>\n",
       "</table>\n",
       "</div>"
      ],
      "text/plain": [
       "            Name                                  Sequence\n",
       "0      p5_coding  CGACTTGACAATTAATCATCCGGCTCGTAATTTATGTGGA\n",
       "1    p5_template  CCGCTCCACATAAATTACGAGCCGGATGATTAATTGTCAA\n",
       "2    plac_coding  CGACTTTACACTTTATGCTTCCGGCTCGTATGTTGTGTGG\n",
       "3  plac_template  CCGCCCACACAACATACGAGCCGGAAGCATAAAGTGTAAA\n",
       "4   low_template  CGACTTGACACTATTTCCTATTTCTCTTATAATTTGTGTT"
      ]
     },
     "execution_count": 322,
     "metadata": {},
     "output_type": "execute_result"
    }
   ],
   "source": [
    "add_to_df('low', 10945, to_order_df)\n",
    "to_order_df.head(None)"
   ]
  },
  {
   "cell_type": "code",
   "execution_count": 323,
   "metadata": {},
   "outputs": [
    {
     "data": {
      "text/html": [
       "<div>\n",
       "<style scoped>\n",
       "    .dataframe tbody tr th:only-of-type {\n",
       "        vertical-align: middle;\n",
       "    }\n",
       "\n",
       "    .dataframe tbody tr th {\n",
       "        vertical-align: top;\n",
       "    }\n",
       "\n",
       "    .dataframe thead th {\n",
       "        text-align: right;\n",
       "    }\n",
       "</style>\n",
       "<table border=\"1\" class=\"dataframe\">\n",
       "  <thead>\n",
       "    <tr style=\"text-align: right;\">\n",
       "      <th></th>\n",
       "      <th>Name</th>\n",
       "      <th>Sequence</th>\n",
       "    </tr>\n",
       "  </thead>\n",
       "  <tbody>\n",
       "    <tr>\n",
       "      <th>0</th>\n",
       "      <td>p5_coding</td>\n",
       "      <td>CGACTTGACAATTAATCATCCGGCTCGTAATTTATGTGGA</td>\n",
       "    </tr>\n",
       "    <tr>\n",
       "      <th>1</th>\n",
       "      <td>p5_template</td>\n",
       "      <td>CCGCTCCACATAAATTACGAGCCGGATGATTAATTGTCAA</td>\n",
       "    </tr>\n",
       "    <tr>\n",
       "      <th>2</th>\n",
       "      <td>plac_coding</td>\n",
       "      <td>CGACTTTACACTTTATGCTTCCGGCTCGTATGTTGTGTGG</td>\n",
       "    </tr>\n",
       "    <tr>\n",
       "      <th>3</th>\n",
       "      <td>plac_template</td>\n",
       "      <td>CCGCCCACACAACATACGAGCCGGAAGCATAAAGTGTAAA</td>\n",
       "    </tr>\n",
       "    <tr>\n",
       "      <th>4</th>\n",
       "      <td>low_template</td>\n",
       "      <td>CGACTTGACACTATTTCCTATTTCTCTTATAATTTGTGTT</td>\n",
       "    </tr>\n",
       "    <tr>\n",
       "      <th>5</th>\n",
       "      <td>low_template</td>\n",
       "      <td>CCGCTTGTGTTTAATATTCTCTTTATCCTTTATCACAGTT</td>\n",
       "    </tr>\n",
       "    <tr>\n",
       "      <th>6</th>\n",
       "      <td>medium_template</td>\n",
       "      <td>CGACAAGACGCTATTTCCTATTTCTCTTATAATTTGTGTT</td>\n",
       "    </tr>\n",
       "    <tr>\n",
       "      <th>7</th>\n",
       "      <td>medium_template</td>\n",
       "      <td>CCGCTTGTGTTTAATATTCTCTTTATCCTTTATCGCAGAA</td>\n",
       "    </tr>\n",
       "  </tbody>\n",
       "</table>\n",
       "</div>"
      ],
      "text/plain": [
       "              Name                                  Sequence\n",
       "0        p5_coding  CGACTTGACAATTAATCATCCGGCTCGTAATTTATGTGGA\n",
       "1      p5_template  CCGCTCCACATAAATTACGAGCCGGATGATTAATTGTCAA\n",
       "2      plac_coding  CGACTTTACACTTTATGCTTCCGGCTCGTATGTTGTGTGG\n",
       "3    plac_template  CCGCCCACACAACATACGAGCCGGAAGCATAAAGTGTAAA\n",
       "4     low_template  CGACTTGACACTATTTCCTATTTCTCTTATAATTTGTGTT\n",
       "5     low_template  CCGCTTGTGTTTAATATTCTCTTTATCCTTTATCACAGTT\n",
       "6  medium_template  CGACAAGACGCTATTTCCTATTTCTCTTATAATTTGTGTT\n",
       "7  medium_template  CCGCTTGTGTTTAATATTCTCTTTATCCTTTATCGCAGAA"
      ]
     },
     "execution_count": 323,
     "metadata": {},
     "output_type": "execute_result"
    }
   ],
   "source": [
    "add_to_df('medium', 6899, to_order_df)\n",
    "to_order_df.head(None)"
   ]
  },
  {
   "cell_type": "code",
   "execution_count": 324,
   "metadata": {},
   "outputs": [
    {
     "data": {
      "text/html": [
       "<div>\n",
       "<style scoped>\n",
       "    .dataframe tbody tr th:only-of-type {\n",
       "        vertical-align: middle;\n",
       "    }\n",
       "\n",
       "    .dataframe tbody tr th {\n",
       "        vertical-align: top;\n",
       "    }\n",
       "\n",
       "    .dataframe thead th {\n",
       "        text-align: right;\n",
       "    }\n",
       "</style>\n",
       "<table border=\"1\" class=\"dataframe\">\n",
       "  <thead>\n",
       "    <tr style=\"text-align: right;\">\n",
       "      <th></th>\n",
       "      <th>Name</th>\n",
       "      <th>Sequence</th>\n",
       "    </tr>\n",
       "  </thead>\n",
       "  <tbody>\n",
       "    <tr>\n",
       "      <th>0</th>\n",
       "      <td>p5_coding</td>\n",
       "      <td>CGACTTGACAATTAATCATCCGGCTCGTAATTTATGTGGA</td>\n",
       "    </tr>\n",
       "    <tr>\n",
       "      <th>1</th>\n",
       "      <td>p5_template</td>\n",
       "      <td>CCGCTCCACATAAATTACGAGCCGGATGATTAATTGTCAA</td>\n",
       "    </tr>\n",
       "    <tr>\n",
       "      <th>2</th>\n",
       "      <td>plac_coding</td>\n",
       "      <td>CGACTTTACACTTTATGCTTCCGGCTCGTATGTTGTGTGG</td>\n",
       "    </tr>\n",
       "    <tr>\n",
       "      <th>3</th>\n",
       "      <td>plac_template</td>\n",
       "      <td>CCGCCCACACAACATACGAGCCGGAAGCATAAAGTGTAAA</td>\n",
       "    </tr>\n",
       "    <tr>\n",
       "      <th>4</th>\n",
       "      <td>low_template</td>\n",
       "      <td>CGACTTGACACTATTTCCTATTTCTCTTATAATTTGTGTT</td>\n",
       "    </tr>\n",
       "    <tr>\n",
       "      <th>5</th>\n",
       "      <td>low_template</td>\n",
       "      <td>CCGCTTGTGTTTAATATTCTCTTTATCCTTTATCACAGTT</td>\n",
       "    </tr>\n",
       "    <tr>\n",
       "      <th>6</th>\n",
       "      <td>medium_template</td>\n",
       "      <td>CGACAAGACGCTATTTCCTATTTCTCTTATAATTTGTGTT</td>\n",
       "    </tr>\n",
       "    <tr>\n",
       "      <th>7</th>\n",
       "      <td>medium_template</td>\n",
       "      <td>CCGCTTGTGTTTAATATTCTCTTTATCCTTTATCGCAGAA</td>\n",
       "    </tr>\n",
       "    <tr>\n",
       "      <th>8</th>\n",
       "      <td>high_template</td>\n",
       "      <td>CGACCCCCTATTTCCTATTTCTGTAGTCATAGGGTGTT</td>\n",
       "    </tr>\n",
       "    <tr>\n",
       "      <th>9</th>\n",
       "      <td>high_template</td>\n",
       "      <td>CCGCTTGTGGGATACTGATGTCTTTATCCTTTATCCCC</td>\n",
       "    </tr>\n",
       "  </tbody>\n",
       "</table>\n",
       "</div>"
      ],
      "text/plain": [
       "              Name                                  Sequence\n",
       "0        p5_coding  CGACTTGACAATTAATCATCCGGCTCGTAATTTATGTGGA\n",
       "1      p5_template  CCGCTCCACATAAATTACGAGCCGGATGATTAATTGTCAA\n",
       "2      plac_coding  CGACTTTACACTTTATGCTTCCGGCTCGTATGTTGTGTGG\n",
       "3    plac_template  CCGCCCACACAACATACGAGCCGGAAGCATAAAGTGTAAA\n",
       "4     low_template  CGACTTGACACTATTTCCTATTTCTCTTATAATTTGTGTT\n",
       "5     low_template  CCGCTTGTGTTTAATATTCTCTTTATCCTTTATCACAGTT\n",
       "6  medium_template  CGACAAGACGCTATTTCCTATTTCTCTTATAATTTGTGTT\n",
       "7  medium_template  CCGCTTGTGTTTAATATTCTCTTTATCCTTTATCGCAGAA\n",
       "8    high_template    CGACCCCCTATTTCCTATTTCTGTAGTCATAGGGTGTT\n",
       "9    high_template    CCGCTTGTGGGATACTGATGTCTTTATCCTTTATCCCC"
      ]
     },
     "execution_count": 324,
     "metadata": {},
     "output_type": "execute_result"
    }
   ],
   "source": [
    "add_to_df('high', 12954, to_order_df)\n",
    "to_order_df.head(None)"
   ]
  },
  {
   "cell_type": "code",
   "execution_count": 325,
   "metadata": {},
   "outputs": [],
   "source": [
    "to_order_df.to_csv('sequence_order_06-17-2024')"
   ]
  }
 ],
 "metadata": {
  "kernelspec": {
   "display_name": "Python 3",
   "language": "python",
   "name": "python3"
  },
  "language_info": {
   "codemirror_mode": {
    "name": "ipython",
    "version": 3
   },
   "file_extension": ".py",
   "mimetype": "text/x-python",
   "name": "python",
   "nbconvert_exporter": "python",
   "pygments_lexer": "ipython3",
   "version": "3.12.3"
  }
 },
 "nbformat": 4,
 "nbformat_minor": 2
}
