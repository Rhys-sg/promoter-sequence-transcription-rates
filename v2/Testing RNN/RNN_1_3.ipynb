{
 "cells": [
  {
   "cell_type": "markdown",
   "metadata": {},
   "source": [
    "### Description\n",
    "\n",
    "Similar to RNN_1_2, this trains an LSTM RNN that takes a 150x5 array (4 nucleotides, 1 placeholder for missing section, and 1 placeholder for padding) and the gene expression (seperate) as inputs.\n",
    "\n",
    "Changes:\n",
    "1. Remove masked_input inside model architecture. \n",
    "2. Placeholder for missing section and Placeholder for padding are onehot encoded differently, changing the input shape to be (150x5)\n",
    "\n",
    "Preveviously:\n",
    "* '_': [0, 0, 0, 0],\n",
    "* '0': [0, 0, 0, 0]\n",
    "\n",
    "Now:\n",
    "* '_': [0, 0, 0, 0, 0],\n",
    "* '0': [0, 0, 0, 0, 1]\n",
    "\n",
    "Next: change masking function"
   ]
  },
  {
   "cell_type": "code",
   "execution_count": 1,
   "metadata": {},
   "outputs": [],
   "source": [
    "import RNN_1_3 as parent"
   ]
  },
  {
   "cell_type": "code",
   "execution_count": 2,
   "metadata": {},
   "outputs": [],
   "source": [
    "name = 'RNN_1_3'"
   ]
  },
  {
   "cell_type": "code",
   "execution_count": 3,
   "metadata": {},
   "outputs": [],
   "source": [
    "file_path = '../Data/combined/LaFleur_supp.csv'\n",
    "\n",
    "df = parent.load_and_preprocess_data(file_path)"
   ]
  },
  {
   "cell_type": "code",
   "execution_count": 4,
   "metadata": {},
   "outputs": [],
   "source": [
    "X_sequence, X_expressions, y = parent.preprocess_X_y(df)"
   ]
  },
  {
   "cell_type": "code",
   "execution_count": 5,
   "metadata": {},
   "outputs": [],
   "source": [
    "X_sequence_train, X_sequence_test, X_expressions_train, X_expressions_test, y_train, y_test = parent.train_test_split(\n",
    "        X_sequence, X_expressions, y, test_size=0.2, random_state=42)"
   ]
  },
  {
   "cell_type": "code",
   "execution_count": 6,
   "metadata": {},
   "outputs": [],
   "source": [
    "model = parent.build_model(sequence_length=150, input_nucleotide_dim=5, output_nucleotide_dim=4, expression_dim=1)"
   ]
  },
  {
   "cell_type": "code",
   "execution_count": 7,
   "metadata": {},
   "outputs": [
    {
     "name": "stdout",
     "output_type": "stream",
     "text": [
      "Epoch 1/10\n",
      "\u001b[1m976/976\u001b[0m \u001b[32m━━━━━━━━━━━━━━━━━━━━\u001b[0m\u001b[37m\u001b[0m \u001b[1m45s\u001b[0m 45ms/step - accuracy: 0.8358 - loss: 0.6541 - val_accuracy: 0.9655 - val_loss: 0.1604\n",
      "Epoch 2/10\n",
      "\u001b[1m976/976\u001b[0m \u001b[32m━━━━━━━━━━━━━━━━━━━━\u001b[0m\u001b[37m\u001b[0m \u001b[1m122s\u001b[0m 125ms/step - accuracy: 0.9674 - loss: 0.1498 - val_accuracy: 0.9706 - val_loss: 0.1301\n",
      "Epoch 3/10\n",
      "\u001b[1m976/976\u001b[0m \u001b[32m━━━━━━━━━━━━━━━━━━━━\u001b[0m\u001b[37m\u001b[0m \u001b[1m77s\u001b[0m 58ms/step - accuracy: 0.9707 - loss: 0.1267 - val_accuracy: 0.9703 - val_loss: 0.1162\n",
      "Epoch 4/10\n",
      "\u001b[1m976/976\u001b[0m \u001b[32m━━━━━━━━━━━━━━━━━━━━\u001b[0m\u001b[37m\u001b[0m \u001b[1m64s\u001b[0m 40ms/step - accuracy: 0.9707 - loss: 0.1125 - val_accuracy: 0.9699 - val_loss: 0.1071\n",
      "Epoch 5/10\n",
      "\u001b[1m976/976\u001b[0m \u001b[32m━━━━━━━━━━━━━━━━━━━━\u001b[0m\u001b[37m\u001b[0m \u001b[1m54s\u001b[0m 55ms/step - accuracy: 0.9711 - loss: 0.1051 - val_accuracy: 0.9714 - val_loss: 0.1022\n",
      "Epoch 6/10\n",
      "\u001b[1m976/976\u001b[0m \u001b[32m━━━━━━━━━━━━━━━━━━━━\u001b[0m\u001b[37m\u001b[0m \u001b[1m72s\u001b[0m 74ms/step - accuracy: 0.9716 - loss: 0.1005 - val_accuracy: 0.9716 - val_loss: 0.0975\n",
      "Epoch 7/10\n",
      "\u001b[1m976/976\u001b[0m \u001b[32m━━━━━━━━━━━━━━━━━━━━\u001b[0m\u001b[37m\u001b[0m \u001b[1m72s\u001b[0m 74ms/step - accuracy: 0.9717 - loss: 0.0964 - val_accuracy: 0.9720 - val_loss: 0.0940\n",
      "Epoch 8/10\n",
      "\u001b[1m976/976\u001b[0m \u001b[32m━━━━━━━━━━━━━━━━━━━━\u001b[0m\u001b[37m\u001b[0m \u001b[1m73s\u001b[0m 75ms/step - accuracy: 0.9719 - loss: 0.0931 - val_accuracy: 0.9710 - val_loss: 0.0917\n",
      "Epoch 9/10\n",
      "\u001b[1m976/976\u001b[0m \u001b[32m━━━━━━━━━━━━━━━━━━━━\u001b[0m\u001b[37m\u001b[0m \u001b[1m70s\u001b[0m 72ms/step - accuracy: 0.9718 - loss: 0.0911 - val_accuracy: 0.9719 - val_loss: 0.0897\n",
      "Epoch 10/10\n",
      "\u001b[1m976/976\u001b[0m \u001b[32m━━━━━━━━━━━━━━━━━━━━\u001b[0m\u001b[37m\u001b[0m \u001b[1m73s\u001b[0m 75ms/step - accuracy: 0.9720 - loss: 0.0892 - val_accuracy: 0.9719 - val_loss: 0.0877\n"
     ]
    },
    {
     "data": {
      "text/plain": [
       "<keras.src.callbacks.history.History at 0x222571c52b0>"
      ]
     },
     "execution_count": 7,
     "metadata": {},
     "output_type": "execute_result"
    }
   ],
   "source": [
    "parent.train_model(model, X_sequence_train, X_expressions_train, y_train, batch_size=32, epochs=10)"
   ]
  },
  {
   "cell_type": "code",
   "execution_count": 8,
   "metadata": {},
   "outputs": [
    {
     "name": "stdout",
     "output_type": "stream",
     "text": [
      "\u001b[1m305/305\u001b[0m \u001b[32m━━━━━━━━━━━━━━━━━━━━\u001b[0m\u001b[37m\u001b[0m \u001b[1m10s\u001b[0m 31ms/step - accuracy: 0.9719 - loss: 0.0877\n",
      "Loss: 0.08784956485033035, Accuracy: 0.9717919230461121\n"
     ]
    }
   ],
   "source": [
    "loss, accuracy = parent.evaluate_model(model, X_sequence_test, X_expressions_test, y_test)\n",
    "print(f'Loss: {loss}, Accuracy: {accuracy}')"
   ]
  },
  {
   "cell_type": "code",
   "execution_count": 9,
   "metadata": {},
   "outputs": [],
   "source": [
    "model.save(f'../Models/{name}.keras')"
   ]
  },
  {
   "cell_type": "markdown",
   "metadata": {},
   "source": [
    "#### From previous modeling:\n",
    "Test Loss: 0.08784956485033035\n",
    "\n",
    "Test Accuracy: 0.9717919230461121"
   ]
  }
 ],
 "metadata": {
  "kernelspec": {
   "display_name": "Python 3",
   "language": "python",
   "name": "python3"
  },
  "language_info": {
   "codemirror_mode": {
    "name": "ipython",
    "version": 3
   },
   "file_extension": ".py",
   "mimetype": "text/x-python",
   "name": "python",
   "nbconvert_exporter": "python",
   "pygments_lexer": "ipython3",
   "version": "3.12.3"
  }
 },
 "nbformat": 4,
 "nbformat_minor": 2
}
