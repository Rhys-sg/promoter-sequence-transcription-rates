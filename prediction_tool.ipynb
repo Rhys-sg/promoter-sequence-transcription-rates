{
 "cells": [
  {
   "cell_type": "markdown",
   "metadata": {},
   "source": [
    "## Forward compatibility: predict the transcription rate of a novel sequence"
   ]
  },
  {
   "cell_type": "code",
   "execution_count": 2,
   "metadata": {},
   "outputs": [
    {
     "ename": "ModuleNotFoundError",
     "evalue": "No module named 'keras'",
     "output_type": "error",
     "traceback": [
      "\u001b[1;31m---------------------------------------------------------------------------\u001b[0m",
      "\u001b[1;31mModuleNotFoundError\u001b[0m                       Traceback (most recent call last)",
      "Cell \u001b[1;32mIn[2], line 1\u001b[0m\n\u001b[1;32m----> 1\u001b[0m \u001b[38;5;28;01mfrom\u001b[39;00m \u001b[38;5;21;01mtool_backend\u001b[39;00m\u001b[38;5;21;01m.\u001b[39;00m\u001b[38;5;21;01mpred_tool_calc\u001b[39;00m \u001b[38;5;28;01mimport\u001b[39;00m pred_trans\n\u001b[0;32m      3\u001b[0m seq \u001b[38;5;241m=\u001b[39m [\u001b[38;5;124m'\u001b[39m\u001b[38;5;124mTTTTCTATCTACGTAC\u001b[39m\u001b[38;5;124m'\u001b[39m, \u001b[38;5;124m'\u001b[39m\u001b[38;5;124mTTGACA\u001b[39m\u001b[38;5;124m'\u001b[39m, \u001b[38;5;124m'\u001b[39m\u001b[38;5;124mCTATTTCCTATTTCTCT\u001b[39m\u001b[38;5;124m'\u001b[39m, \u001b[38;5;124m'\u001b[39m\u001b[38;5;124mTATAAT\u001b[39m\u001b[38;5;124m'\u001b[39m, \u001b[38;5;124m'\u001b[39m\u001b[38;5;124mCCCCGCGG\u001b[39m\u001b[38;5;124m'\u001b[39m, \u001b[38;5;124m'\u001b[39m\u001b[38;5;124mCTCTACCTTAGTTTGTACGTT\u001b[39m\u001b[38;5;124m'\u001b[39m]\n\u001b[0;32m      4\u001b[0m model_path \u001b[38;5;241m=\u001b[39m \u001b[38;5;124m'\u001b[39m\u001b[38;5;124mmodels/80_neurons_1_layers_64_Batch_Size.keras\u001b[39m\u001b[38;5;124m'\u001b[39m\n",
      "File \u001b[1;32mc:\\Users\\rsore\\Documents\\GitHub\\promoter-sequence-transcription-rates\\tool_backend\\pred_tool_calc.py:1\u001b[0m\n\u001b[1;32m----> 1\u001b[0m \u001b[38;5;28;01mfrom\u001b[39;00m \u001b[38;5;21;01mkeras\u001b[39;00m\u001b[38;5;21;01m.\u001b[39;00m\u001b[38;5;21;01msaving\u001b[39;00m \u001b[38;5;28;01mimport\u001b[39;00m load_model\n\u001b[0;32m      2\u001b[0m \u001b[38;5;28;01mimport\u001b[39;00m \u001b[38;5;21;01mnumpy\u001b[39;00m \u001b[38;5;28;01mas\u001b[39;00m \u001b[38;5;21;01mnp\u001b[39;00m\n\u001b[0;32m      3\u001b[0m \u001b[38;5;28;01mfrom\u001b[39;00m \u001b[38;5;21;01mitertools\u001b[39;00m \u001b[38;5;28;01mimport\u001b[39;00m combinations_with_replacement\n",
      "\u001b[1;31mModuleNotFoundError\u001b[0m: No module named 'keras'"
     ]
    }
   ],
   "source": [
    "from tool_backend.pred_tool_calc import pred_trans\n",
    "\n",
    "seq = ['TTTTCTATCTACGTAC', 'TTGACA', 'CTATTTCCTATTTCTCT', 'TATAAT', 'CCCCGCGG', 'CTCTACCTTAGTTTGTACGTT']\n",
    "model_path = 'models/80_neurons_1_layers_64_Batch_Size.keras'\n",
    "\n",
    "rate = pred_trans(seq, model_path)\n",
    "print(f'Predicted transcrition rate (log(TX/Txref)): {rate}')"
   ]
  },
  {
   "cell_type": "markdown",
   "metadata": {},
   "source": [
    "## Backward compatibility: predicting the promoter sequences closest to the target"
   ]
  },
  {
   "cell_type": "code",
   "execution_count": 27,
   "metadata": {},
   "outputs": [
    {
     "name": "stdout",
     "output_type": "stream",
     "text": [
      "Simulation complete: 84/84\r"
     ]
    }
   ],
   "source": [
    "from tool_backend.pred_tool_calc import pred_prom\n",
    "\n",
    "args = {\n",
    "        # required\n",
    "        'model_path': 'models/upstream_padding.keras',\n",
    "        'target' : -2.5,\n",
    "\n",
    "        # optional\n",
    "        'tolerance': 0.1,\n",
    "        'max_results' : 5,\n",
    "        'max_iter': 100,\n",
    "        'UP': 'TTTTCTATCTACGTAC', \n",
    "        'h35': None,\n",
    "        'spacs': 'CTATTTCCTATTTCTCT',\n",
    "        'h10': 'TATAAT',\n",
    "        'disc': 'CCCCGCGG', \n",
    "        'ITR': 'CTCTACCTTAGTTTGTACGTT'        \n",
    "}\n",
    "\n",
    "# returns a list of dictionaries containing the results of each predictions.\n",
    "seq = pred_prom(*args.values())"
   ]
  },
  {
   "cell_type": "code",
   "execution_count": 28,
   "metadata": {},
   "outputs": [
    {
     "data": {
      "text/html": [
       "<div>\n",
       "<style scoped>\n",
       "    .dataframe tbody tr th:only-of-type {\n",
       "        vertical-align: middle;\n",
       "    }\n",
       "\n",
       "    .dataframe tbody tr th {\n",
       "        vertical-align: top;\n",
       "    }\n",
       "\n",
       "    .dataframe thead th {\n",
       "        text-align: right;\n",
       "    }\n",
       "</style>\n",
       "<table border=\"1\" class=\"dataframe\">\n",
       "  <thead>\n",
       "    <tr style=\"text-align: right;\">\n",
       "      <th></th>\n",
       "      <th>Predicted log(TX/Txref)</th>\n",
       "      <th>Difference</th>\n",
       "      <th>UP</th>\n",
       "      <th>h35</th>\n",
       "      <th>spacs</th>\n",
       "      <th>h10</th>\n",
       "      <th>disc</th>\n",
       "      <th>ITR</th>\n",
       "    </tr>\n",
       "  </thead>\n",
       "  <tbody>\n",
       "    <tr>\n",
       "      <th>0</th>\n",
       "      <td>-2.135221</td>\n",
       "      <td>-0.364779</td>\n",
       "      <td>TTTTCTATCTACGTAC</td>\n",
       "      <td>AAACCC</td>\n",
       "      <td>CTATTTCCTATTTCTCT</td>\n",
       "      <td>TATAAT</td>\n",
       "      <td>CCCCGCGG</td>\n",
       "      <td>CTCTACCTTAGTTTGTACGTT</td>\n",
       "    </tr>\n",
       "    <tr>\n",
       "      <th>1</th>\n",
       "      <td>-2.136330</td>\n",
       "      <td>-0.363670</td>\n",
       "      <td>TTTTCTATCTACGTAC</td>\n",
       "      <td>AACCCC</td>\n",
       "      <td>CTATTTCCTATTTCTCT</td>\n",
       "      <td>TATAAT</td>\n",
       "      <td>CCCCGCGG</td>\n",
       "      <td>CTCTACCTTAGTTTGTACGTT</td>\n",
       "    </tr>\n",
       "    <tr>\n",
       "      <th>2</th>\n",
       "      <td>-2.140429</td>\n",
       "      <td>-0.359571</td>\n",
       "      <td>TTTTCTATCTACGTAC</td>\n",
       "      <td>AAAACC</td>\n",
       "      <td>CTATTTCCTATTTCTCT</td>\n",
       "      <td>TATAAT</td>\n",
       "      <td>CCCCGCGG</td>\n",
       "      <td>CTCTACCTTAGTTTGTACGTT</td>\n",
       "    </tr>\n",
       "    <tr>\n",
       "      <th>3</th>\n",
       "      <td>-2.142052</td>\n",
       "      <td>-0.357948</td>\n",
       "      <td>TTTTCTATCTACGTAC</td>\n",
       "      <td>ACCCCC</td>\n",
       "      <td>CTATTTCCTATTTCTCT</td>\n",
       "      <td>TATAAT</td>\n",
       "      <td>CCCCGCGG</td>\n",
       "      <td>CTCTACCTTAGTTTGTACGTT</td>\n",
       "    </tr>\n",
       "    <tr>\n",
       "      <th>4</th>\n",
       "      <td>-2.144808</td>\n",
       "      <td>-0.355192</td>\n",
       "      <td>TTTTCTATCTACGTAC</td>\n",
       "      <td>AAACCG</td>\n",
       "      <td>CTATTTCCTATTTCTCT</td>\n",
       "      <td>TATAAT</td>\n",
       "      <td>CCCCGCGG</td>\n",
       "      <td>CTCTACCTTAGTTTGTACGTT</td>\n",
       "    </tr>\n",
       "  </tbody>\n",
       "</table>\n",
       "</div>"
      ],
      "text/plain": [
       "   Predicted log(TX/Txref)  Difference                UP     h35  \\\n",
       "0                -2.135221   -0.364779  TTTTCTATCTACGTAC  AAACCC   \n",
       "1                -2.136330   -0.363670  TTTTCTATCTACGTAC  AACCCC   \n",
       "2                -2.140429   -0.359571  TTTTCTATCTACGTAC  AAAACC   \n",
       "3                -2.142052   -0.357948  TTTTCTATCTACGTAC  ACCCCC   \n",
       "4                -2.144808   -0.355192  TTTTCTATCTACGTAC  AAACCG   \n",
       "\n",
       "               spacs     h10      disc                    ITR  \n",
       "0  CTATTTCCTATTTCTCT  TATAAT  CCCCGCGG  CTCTACCTTAGTTTGTACGTT  \n",
       "1  CTATTTCCTATTTCTCT  TATAAT  CCCCGCGG  CTCTACCTTAGTTTGTACGTT  \n",
       "2  CTATTTCCTATTTCTCT  TATAAT  CCCCGCGG  CTCTACCTTAGTTTGTACGTT  \n",
       "3  CTATTTCCTATTTCTCT  TATAAT  CCCCGCGG  CTCTACCTTAGTTTGTACGTT  \n",
       "4  CTATTTCCTATTTCTCT  TATAAT  CCCCGCGG  CTCTACCTTAGTTTGTACGTT  "
      ]
     },
     "execution_count": 28,
     "metadata": {},
     "output_type": "execute_result"
    }
   ],
   "source": [
    "import pandas as pd\n",
    "\n",
    "seq_df = pd.DataFrame(seq)\n",
    "seq_df.head()"
   ]
  }
 ],
 "metadata": {
  "kernelspec": {
   "display_name": "base",
   "language": "python",
   "name": "python3"
  },
  "language_info": {
   "codemirror_mode": {
    "name": "ipython",
    "version": 3
   },
   "file_extension": ".py",
   "mimetype": "text/x-python",
   "name": "python",
   "nbconvert_exporter": "python",
   "pygments_lexer": "ipython3",
   "version": "3.11.5"
  }
 },
 "nbformat": 4,
 "nbformat_minor": 2
}
