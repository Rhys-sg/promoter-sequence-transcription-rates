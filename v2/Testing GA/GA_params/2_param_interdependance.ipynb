{
 "cells": [
  {
   "cell_type": "markdown",
   "metadata": {},
   "source": [
    "#### Parameter Interdependance\n",
    "\n",
    "This code tests all combinations of high and low levels of parameters (full factorial design) to explicitly test for interactions, interdependance, or influence on each other. We define a ranges for each hyperparameter (each with 5 values), XXXX, then analyze results using ANOVA to identify significant interaction effects.\n",
    "\n",
    "From 1_sub_params.ipynb, we see that the optimal gene_flow_rate is 0, so we set them for all tests. Initially, we also see that optimal islands is 1. However, we do not know if islands error minimum is dependant on other parameters. We also found that the optimal boltzmann_temperature is 0. When boltzmann_temperature is 0, the boltzmann selection method is equivalent to truncation selection: always selecting the fittest individuals without considering diversity. Therefore, we do not test boltzmann."
   ]
  },
  {
   "cell_type": "code",
   "execution_count": 1,
   "metadata": {},
   "outputs": [],
   "source": [
    "import matplotlib.pyplot as plt\n",
    "import numpy as np\n",
    "import seaborn as sns\n",
    "import pandas as pd\n",
    "import time\n",
    "\n",
    "from GA_param_function_module import *\n",
    "\n",
    "cnn_model_path = '../../Models/CNN_6_1_2.keras'\n",
    "masked_sequence = 'AATACTAGAGGTCTTCCGACNNNNNNNNNNNNNNNNNNNNNNNNNNNNNNTGTGGAGCGGGAAGACAACTAGGGG'\n",
    "target_expression = 0\n",
    "precision = 0.001\n",
    "run_per_combination = 20"
   ]
  },
  {
   "cell_type": "code",
   "execution_count": null,
   "metadata": {},
   "outputs": [],
   "source": [
    "# Optimization subparameters (see 1_sub_params.ipynb)\n",
    "gene_flow_rate = 0.5\n",
    "boltzmann_temperature = 1\n",
    "\n",
    "# Parameters for full factorial design testing\n",
    "range_pop_size=np.linspace(50, 500, 5, dtype=int)\n",
    "range_generations=np.linspace(50, 500, 5, dtype=int)\n",
    "range_base_mutation_rate=np.linspace(0.1, 1, 5, dtype=float)\n",
    "range_chromosomes=np.linspace(1, 30, 5, dtype=int) # The masked region is 30 nucleotides long. When chromosomes=30, each nucleotide is a chromosome\n",
    "range_elitist_rate=np.linspace(0.1, 1, 5, dtype=float)\n",
    "range_islands=np.linspace(1, 10, 10, dtype=int)\n",
    "range_surval_rate=np.linspace(0.1, 1, 5, dtype=float)\n",
    "range_num_parents=np.linspace(1, 10, 5, dtype=int)\n",
    "range_num_competitors=np.linspace(1, 10, 5, dtype=int)\n",
    "range_selection=['tournament', 'tournament_pop', 'roulette', 'linear_scaling', 'rank_based', 'sus', 'truncation'] # does not include 'boltzmann'\n"
   ]
  }
 ],
 "metadata": {
  "kernelspec": {
   "display_name": "Python 3",
   "language": "python",
   "name": "python3"
  },
  "language_info": {
   "codemirror_mode": {
    "name": "ipython",
    "version": 3
   },
   "file_extension": ".py",
   "mimetype": "text/x-python",
   "name": "python",
   "nbconvert_exporter": "python",
   "pygments_lexer": "ipython3",
   "version": "3.12.3"
  }
 },
 "nbformat": 4,
 "nbformat_minor": 2
}
