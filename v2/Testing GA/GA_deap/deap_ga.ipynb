{
 "cells": [
  {
   "cell_type": "code",
   "execution_count": 1,
   "metadata": {},
   "outputs": [],
   "source": [
    "from GA.GeneticAlgorithm import GeneticAlgorithm"
   ]
  },
  {
   "cell_type": "code",
   "execution_count": 8,
   "metadata": {},
   "outputs": [
    {
     "name": "stdout",
     "output_type": "stream",
     "text": [
      "Best Sequence: AATACTAGAGGTCTTCCGACCAACCGTAGGAGTTATAATTTATAATATCTGTGTGGGCGGGAAGACAACTAGGGG\n",
      "Best Fitness: (0.7496324777603149,)\n",
      "Prediction: [0.7496325]\n"
     ]
    }
   ],
   "source": [
    "cnn_model_path = '../../Models/CNN_6_1_2.keras'\n",
    "masked_sequence = 'AATACTAGAGGTCTTCCGACNNNNNNNNNNNNNNNNNNNNNNNNNNNNNNGTGTGGGCGGGAAGACAACTAGGGG'\n",
    "precision = None\n",
    "\n",
    "ga = GeneticAlgorithm(\n",
    "    cnn_model_path=cnn_model_path,\n",
    "    use_cache=True,\n",
    "    masked_sequence=masked_sequence,\n",
    "    target_expression=1,\n",
    "    population_size=100,\n",
    "    generations=40,\n",
    "    crossover_prob=0.5,\n",
    "    mutation_prob=0.2\n",
    ")\n",
    "\n",
    "sequence, fitness, prediction = ga.run()\n",
    "print(\"Best Sequence:\", sequence)\n",
    "print(\"Best Fitness:\", fitness)\n",
    "print(\"Prediction:\", prediction)"
   ]
  },
  {
   "cell_type": "code",
   "execution_count": 3,
   "metadata": {},
   "outputs": [
    {
     "name": "stderr",
     "output_type": "stream",
     "text": [
      "c:\\Users\\rsore\\anaconda3\\envs\\TX_prediction\\Lib\\site-packages\\deap\\creator.py:185: RuntimeWarning: A class named 'FitnessMax' has already been created and it will be overwritten. Consider deleting previous creation of that class or rename it.\n",
      "  warnings.warn(\"A class named '{0}' has already been created and it \"\n",
      "c:\\Users\\rsore\\anaconda3\\envs\\TX_prediction\\Lib\\site-packages\\deap\\creator.py:185: RuntimeWarning: A class named 'Individual' has already been created and it will be overwritten. Consider deleting previous creation of that class or rename it.\n",
      "  warnings.warn(\"A class named '{0}' has already been created and it \"\n"
     ]
    },
    {
     "name": "stdout",
     "output_type": "stream",
     "text": [
      "Best Sequence: AATACTAGAGGTCTTCCGACCCTGGCCTTTGCACGCCCCTGCTGTTGTCGGTGTGGGCGGGAAGACAACTAGGGG\n",
      "Best Fitness: (0.862046480178833,)\n",
      "Prediction: [0.13795355]\n"
     ]
    }
   ],
   "source": [
    "ga = GeneticAlgorithm(\n",
    "    cnn_model_path=cnn_model_path,\n",
    "    use_cache=True,\n",
    "    masked_sequence=masked_sequence,\n",
    "    target_expression=0,\n",
    "    population_size=100,\n",
    "    generations=40,\n",
    "    crossover_prob=0.5,\n",
    "    mutation_prob=0.2\n",
    ")\n",
    "\n",
    "sequence, fitness, prediction = ga.run()\n",
    "print(\"Best Sequence:\", sequence)\n",
    "print(\"Best Fitness:\", fitness)\n",
    "print(\"Prediction:\", prediction)"
   ]
  }
 ],
 "metadata": {
  "kernelspec": {
   "display_name": "Python 3",
   "language": "python",
   "name": "python3"
  },
  "language_info": {
   "codemirror_mode": {
    "name": "ipython",
    "version": 3
   },
   "file_extension": ".py",
   "mimetype": "text/x-python",
   "name": "python",
   "nbconvert_exporter": "python",
   "pygments_lexer": "ipython3",
   "version": "3.12.3"
  }
 },
 "nbformat": 4,
 "nbformat_minor": 2
}
