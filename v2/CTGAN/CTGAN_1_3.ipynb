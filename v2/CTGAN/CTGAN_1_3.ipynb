{
 "cells": [
  {
   "cell_type": "markdown",
   "metadata": {},
   "source": [
    "### Description\n",
    "\n",
    "This implements a CTGAN with the same structure as 1_0 (with minor changes), which takes a DNA sequence with sections masked and a desired expression, and then generates a full sequence.\n",
    "\n",
    "This CTGAN's loss is evaluated in part by the CNN_5_0 model."
   ]
  },
  {
   "cell_type": "code",
   "execution_count": 1,
   "metadata": {},
   "outputs": [],
   "source": [
    "import CTGAN_1_1 as parent"
   ]
  },
  {
   "cell_type": "code",
   "execution_count": 2,
   "metadata": {},
   "outputs": [],
   "source": [
    "version = '1_1'\n",
    "model_dir = '../Models/'"
   ]
  },
  {
   "cell_type": "code",
   "execution_count": 3,
   "metadata": {},
   "outputs": [],
   "source": [
    "# Hyperparameters\n",
    "sequence_length = 150\n",
    "latent_dim = 100\n",
    "expression_dim = 1\n",
    "batch_size = 64\n",
    "num_epochs = 100\n",
    "lr = 0.0002"
   ]
  },
  {
   "cell_type": "code",
   "execution_count": 4,
   "metadata": {},
   "outputs": [],
   "source": [
    "# Load and preprocess data\n",
    "file_path = '../Data/combined/LaFleur_supp.csv'\n",
    "dataloader = parent.load_and_preprocess_data(file_path, batch_size)\n",
    "\n",
    "# Initialize models\n",
    "device = parent.initialize_device()\n",
    "generator, discriminator, cnn = parent.initialize_models(sequence_length, latent_dim, expression_dim, device, '../Models/CNN_5_0.keras')"
   ]
  },
  {
   "cell_type": "code",
   "execution_count": null,
   "metadata": {},
   "outputs": [
    {
     "name": "stdout",
     "output_type": "stream",
     "text": [
      "Epoch [1/100] | D Loss: 0.0134 | G Loss: 11.2821 | CNN Loss: 0.0178\n",
      "Epoch [2/100] | D Loss: 0.0203 | G Loss: 28.4162 | CNN Loss: 0.0234\n",
      "Epoch [3/100] | D Loss: 0.0065 | G Loss: 20.0688 | CNN Loss: 0.0209\n",
      "Epoch [4/100] | D Loss: 0.0238 | G Loss: 14.8785 | CNN Loss: 0.0150\n",
      "Epoch [5/100] | D Loss: 0.0082 | G Loss: 11.4259 | CNN Loss: 0.0166\n",
      "Epoch [6/100] | D Loss: 0.0016 | G Loss: 11.7582 | CNN Loss: 0.0133\n",
      "Epoch [7/100] | D Loss: 0.0614 | G Loss: 21.9116 | CNN Loss: 0.0294\n",
      "Epoch [8/100] | D Loss: 0.0174 | G Loss: 12.6500 | CNN Loss: 0.0175\n",
      "Epoch [9/100] | D Loss: 0.0468 | G Loss: 13.2993 | CNN Loss: 0.0216\n",
      "Epoch [10/100] | D Loss: 0.0272 | G Loss: 8.0825 | CNN Loss: 0.0198\n",
      "Epoch [11/100] | D Loss: 0.0158 | G Loss: 8.8686 | CNN Loss: 0.0177\n",
      "Epoch [12/100] | D Loss: 0.0087 | G Loss: 13.6790 | CNN Loss: 0.0135\n",
      "Epoch [13/100] | D Loss: 0.0417 | G Loss: 11.5808 | CNN Loss: 0.0189\n",
      "Epoch [14/100] | D Loss: 0.0090 | G Loss: 10.8836 | CNN Loss: 0.0274\n",
      "Epoch [15/100] | D Loss: 0.0003 | G Loss: 11.0012 | CNN Loss: 0.0281\n",
      "Epoch [16/100] | D Loss: 0.0123 | G Loss: 15.4174 | CNN Loss: 0.0193\n",
      "Epoch [17/100] | D Loss: 0.0060 | G Loss: 10.0724 | CNN Loss: 0.0325\n",
      "Epoch [18/100] | D Loss: 0.0109 | G Loss: 11.5141 | CNN Loss: 0.0340\n",
      "Epoch [19/100] | D Loss: 0.0039 | G Loss: 14.7503 | CNN Loss: 0.0190\n",
      "Epoch [20/100] | D Loss: 0.0044 | G Loss: 9.5902 | CNN Loss: 0.0235\n",
      "Epoch [21/100] | D Loss: 0.0020 | G Loss: 10.9967 | CNN Loss: 0.0260\n",
      "Epoch [22/100] | D Loss: 0.0027 | G Loss: 12.4672 | CNN Loss: 0.0252\n",
      "Epoch [23/100] | D Loss: 0.0000 | G Loss: 19.0851 | CNN Loss: 0.0194\n",
      "Epoch [24/100] | D Loss: 0.0084 | G Loss: 12.7700 | CNN Loss: 0.0236\n",
      "Epoch [25/100] | D Loss: 0.0008 | G Loss: 12.9117 | CNN Loss: 0.0156\n",
      "Epoch [26/100] | D Loss: 0.0003 | G Loss: 15.7923 | CNN Loss: 0.0249\n",
      "Epoch [27/100] | D Loss: 0.0007 | G Loss: 15.9316 | CNN Loss: 0.0312\n",
      "Epoch [28/100] | D Loss: 0.0008 | G Loss: 11.0562 | CNN Loss: 0.0330\n",
      "Epoch [29/100] | D Loss: 0.0034 | G Loss: 12.1834 | CNN Loss: 0.0168\n",
      "Epoch [30/100] | D Loss: 0.0036 | G Loss: 11.6906 | CNN Loss: 0.0107\n",
      "Epoch [31/100] | D Loss: 0.0147 | G Loss: 12.0216 | CNN Loss: 0.0181\n",
      "Epoch [32/100] | D Loss: 0.0033 | G Loss: 6.9724 | CNN Loss: 0.0224\n",
      "Epoch [33/100] | D Loss: 0.0023 | G Loss: 20.6393 | CNN Loss: 0.0208\n",
      "Epoch [34/100] | D Loss: 0.0001 | G Loss: 11.9930 | CNN Loss: 0.0194\n",
      "Epoch [35/100] | D Loss: 0.0119 | G Loss: 7.1979 | CNN Loss: 0.0219\n",
      "Epoch [36/100] | D Loss: 0.0446 | G Loss: 12.4437 | CNN Loss: 0.0219\n",
      "Epoch [37/100] | D Loss: 0.0070 | G Loss: 7.1905 | CNN Loss: 0.0220\n",
      "Epoch [38/100] | D Loss: 0.0198 | G Loss: 7.7916 | CNN Loss: 0.0191\n",
      "Epoch [39/100] | D Loss: 0.0033 | G Loss: 19.5038 | CNN Loss: 0.0132\n",
      "Epoch [40/100] | D Loss: 0.0004 | G Loss: 11.0777 | CNN Loss: 0.0227\n",
      "Epoch [41/100] | D Loss: 0.0125 | G Loss: 6.9383 | CNN Loss: 0.0235\n",
      "Epoch [42/100] | D Loss: 0.0013 | G Loss: 9.3300 | CNN Loss: 0.0152\n",
      "Epoch [43/100] | D Loss: 0.0008 | G Loss: 8.3594 | CNN Loss: 0.0275\n",
      "Epoch [44/100] | D Loss: 0.0446 | G Loss: 10.2954 | CNN Loss: 0.0206\n",
      "Epoch [45/100] | D Loss: 0.0112 | G Loss: 7.9911 | CNN Loss: 0.0183\n",
      "Epoch [46/100] | D Loss: 0.0004 | G Loss: 10.3545 | CNN Loss: 0.0409\n",
      "Epoch [47/100] | D Loss: 0.0005 | G Loss: 7.9756 | CNN Loss: 0.0220\n",
      "Epoch [48/100] | D Loss: 0.0067 | G Loss: 9.9440 | CNN Loss: 0.0144\n",
      "Epoch [49/100] | D Loss: 0.0005 | G Loss: 9.2757 | CNN Loss: 0.0246\n",
      "Epoch [50/100] | D Loss: 0.0795 | G Loss: 6.6869 | CNN Loss: 0.0118\n",
      "Epoch [51/100] | D Loss: 0.0317 | G Loss: 6.9088 | CNN Loss: 0.0199\n",
      "Epoch [52/100] | D Loss: 0.0286 | G Loss: 5.4737 | CNN Loss: 0.0200\n",
      "Epoch [53/100] | D Loss: 0.0204 | G Loss: 5.9925 | CNN Loss: 0.0199\n",
      "Epoch [54/100] | D Loss: 0.0610 | G Loss: 8.7666 | CNN Loss: 0.0264\n",
      "Epoch [55/100] | D Loss: 0.0009 | G Loss: 8.2295 | CNN Loss: 0.0246\n",
      "Epoch [56/100] | D Loss: 0.0155 | G Loss: 8.7985 | CNN Loss: 0.0178\n",
      "Epoch [57/100] | D Loss: 0.0418 | G Loss: 6.4914 | CNN Loss: 0.0284\n",
      "Epoch [58/100] | D Loss: 0.0032 | G Loss: 6.8183 | CNN Loss: 0.0302\n",
      "Epoch [59/100] | D Loss: 0.0153 | G Loss: 6.4981 | CNN Loss: 0.0273\n",
      "Epoch [60/100] | D Loss: 0.1313 | G Loss: 13.7621 | CNN Loss: 0.0302\n",
      "Epoch [61/100] | D Loss: 0.1022 | G Loss: 4.2797 | CNN Loss: 0.0388\n",
      "Epoch [62/100] | D Loss: 0.1321 | G Loss: 6.3052 | CNN Loss: 0.0268\n",
      "Epoch [63/100] | D Loss: 0.0596 | G Loss: 7.7566 | CNN Loss: 0.0306\n",
      "Epoch [64/100] | D Loss: 0.0624 | G Loss: 5.7452 | CNN Loss: 0.0327\n",
      "Epoch [65/100] | D Loss: 0.0955 | G Loss: 4.0489 | CNN Loss: 0.0425\n",
      "Epoch [66/100] | D Loss: 0.1851 | G Loss: 6.2561 | CNN Loss: 0.0304\n",
      "Epoch [67/100] | D Loss: 0.1034 | G Loss: 3.8212 | CNN Loss: 0.0387\n",
      "Epoch [68/100] | D Loss: 0.0368 | G Loss: 14.2061 | CNN Loss: 0.0428\n",
      "Epoch [69/100] | D Loss: 0.1232 | G Loss: 3.0649 | CNN Loss: 0.0363\n",
      "Epoch [70/100] | D Loss: 0.2022 | G Loss: 11.6533 | CNN Loss: 0.0660\n",
      "Epoch [71/100] | D Loss: 0.0452 | G Loss: 7.8179 | CNN Loss: 0.0379\n",
      "Epoch [72/100] | D Loss: 0.1211 | G Loss: 7.7286 | CNN Loss: 0.0391\n"
     ]
    }
   ],
   "source": [
    "# Train the CTGAN\n",
    "parent.train_ctgan(generator, discriminator, cnn, dataloader, num_epochs=num_epochs, latent_dim=latent_dim, expression_dim=expression_dim, lr=lr, device=device)"
   ]
  },
  {
   "cell_type": "code",
   "execution_count": null,
   "metadata": {},
   "outputs": [],
   "source": [
    "# Save the trained models\n",
    "parent.save_model(generator, f'{model_dir}generator_{version}.pth')\n",
    "parent.save_model(discriminator, f'{model_dir}discriminator_{version}.pth')"
   ]
  },
  {
   "cell_type": "code",
   "execution_count": null,
   "metadata": {},
   "outputs": [],
   "source": [
    "# Load the models\n",
    "parent.load_model(generator, f'{model_dir}generator_{version}.pth')\n",
    "parent.load_model(discriminator, f'{model_dir}discriminator_{version}.pth')"
   ]
  },
  {
   "cell_type": "code",
   "execution_count": null,
   "metadata": {},
   "outputs": [],
   "source": [
    "# Values to evaluate the Generator\n",
    "sequences = ['TTTTCTATCTACGTACTTGACACTATTTC______________ATT__________ACCTTAGTTTGTACGTT']\n",
    "expressions = [0.5]\n",
    "\n",
    "# Evaluate the Generator\n",
    "generated_sequences = parent.evaluate_generator(generator, expressions, latent_dim=latent_dim, device=device)\n",
    "print(\"Original Sequences: \", sequences[0])\n",
    "print(\" Decoded Sequences: \", parent.decode_one_hot_sequences(generated_sequences)[0])"
   ]
  }
 ],
 "metadata": {
  "kernelspec": {
   "display_name": "Python 3",
   "language": "python",
   "name": "python3"
  },
  "language_info": {
   "codemirror_mode": {
    "name": "ipython",
    "version": 3
   },
   "file_extension": ".py",
   "mimetype": "text/x-python",
   "name": "python",
   "nbconvert_exporter": "python",
   "pygments_lexer": "ipython3",
   "version": "3.12.3"
  }
 },
 "nbformat": 4,
 "nbformat_minor": 2
}
