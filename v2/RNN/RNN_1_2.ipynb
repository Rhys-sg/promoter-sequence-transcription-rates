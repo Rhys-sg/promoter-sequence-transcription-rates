{
 "cells": [
  {
   "cell_type": "markdown",
   "metadata": {},
   "source": [
    "### Description\n",
    "\n",
    "This trains an LSTM RNN that takes a 150x5 array (4 nucleotides, 1 placeholder for missing section, and 1 placeholder for padding) and the gene expression (seperate) as inputs.\n",
    "\n",
    "Changes:\n",
    "1. The concatenation of sequence and expression data is handled efficiently, and masking is applied to the combined input."
   ]
  },
  {
   "cell_type": "code",
   "execution_count": 1,
   "metadata": {},
   "outputs": [],
   "source": [
    "import RNN_1_2 as parent"
   ]
  },
  {
   "cell_type": "code",
   "execution_count": 2,
   "metadata": {},
   "outputs": [],
   "source": [
    "name = 'RNN_1_2'"
   ]
  },
  {
   "cell_type": "code",
   "execution_count": 3,
   "metadata": {},
   "outputs": [],
   "source": [
    "file_path = '../Data/combined/LaFleur_supp.csv'\n",
    "\n",
    "df = parent.load_and_preprocess_data(file_path)"
   ]
  },
  {
   "cell_type": "code",
   "execution_count": 4,
   "metadata": {},
   "outputs": [],
   "source": [
    "X_sequence, X_expressions, y = parent.preprocess_X_y(df)"
   ]
  },
  {
   "cell_type": "code",
   "execution_count": 5,
   "metadata": {},
   "outputs": [],
   "source": [
    "X_sequence_train, X_sequence_test, X_expressions_train, X_expressions_test, y_train, y_test = parent.train_test_split(\n",
    "        X_sequence, X_expressions, y, test_size=0.2, random_state=42)"
   ]
  },
  {
   "cell_type": "code",
   "execution_count": 6,
   "metadata": {},
   "outputs": [],
   "source": [
    "model = parent.build_model(sequence_length=150, nucleotide_dim=4, expression_dim=1)"
   ]
  },
  {
   "cell_type": "code",
   "execution_count": 7,
   "metadata": {},
   "outputs": [
    {
     "name": "stdout",
     "output_type": "stream",
     "text": [
      "Epoch 1/10\n",
      "\u001b[1m976/976\u001b[0m \u001b[32m━━━━━━━━━━━━━━━━━━━━\u001b[0m\u001b[37m\u001b[0m \u001b[1m65s\u001b[0m 65ms/step - accuracy: 0.9351 - loss: 0.0509 - val_accuracy: 0.9734 - val_loss: 0.0512\n",
      "Epoch 2/10\n",
      "\u001b[1m976/976\u001b[0m \u001b[32m━━━━━━━━━━━━━━━━━━━━\u001b[0m\u001b[37m\u001b[0m \u001b[1m115s\u001b[0m 99ms/step - accuracy: 0.9735 - loss: 0.0510 - val_accuracy: 0.9734 - val_loss: 0.0512\n",
      "Epoch 3/10\n",
      "\u001b[1m976/976\u001b[0m \u001b[32m━━━━━━━━━━━━━━━━━━━━\u001b[0m\u001b[37m\u001b[0m \u001b[1m69s\u001b[0m 71ms/step - accuracy: 0.9736 - loss: 0.0509 - val_accuracy: 0.9734 - val_loss: 0.0512\n",
      "Epoch 4/10\n",
      "\u001b[1m976/976\u001b[0m \u001b[32m━━━━━━━━━━━━━━━━━━━━\u001b[0m\u001b[37m\u001b[0m \u001b[1m55s\u001b[0m 57ms/step - accuracy: 0.9736 - loss: 0.0508 - val_accuracy: 0.9734 - val_loss: 0.0512\n",
      "Epoch 5/10\n",
      "\u001b[1m976/976\u001b[0m \u001b[32m━━━━━━━━━━━━━━━━━━━━\u001b[0m\u001b[37m\u001b[0m \u001b[1m51s\u001b[0m 53ms/step - accuracy: 0.9736 - loss: 0.0508 - val_accuracy: 0.9734 - val_loss: 0.0512\n",
      "Epoch 6/10\n",
      "\u001b[1m976/976\u001b[0m \u001b[32m━━━━━━━━━━━━━━━━━━━━\u001b[0m\u001b[37m\u001b[0m \u001b[1m51s\u001b[0m 53ms/step - accuracy: 0.9736 - loss: 0.0509 - val_accuracy: 0.9734 - val_loss: 0.0512\n",
      "Epoch 7/10\n",
      "\u001b[1m976/976\u001b[0m \u001b[32m━━━━━━━━━━━━━━━━━━━━\u001b[0m\u001b[37m\u001b[0m \u001b[1m52s\u001b[0m 53ms/step - accuracy: 0.9736 - loss: 0.0507 - val_accuracy: 0.9734 - val_loss: 0.0512\n",
      "Epoch 8/10\n",
      "\u001b[1m976/976\u001b[0m \u001b[32m━━━━━━━━━━━━━━━━━━━━\u001b[0m\u001b[37m\u001b[0m \u001b[1m52s\u001b[0m 53ms/step - accuracy: 0.9734 - loss: 0.0511 - val_accuracy: 0.9734 - val_loss: 0.0512\n",
      "Epoch 9/10\n",
      "\u001b[1m976/976\u001b[0m \u001b[32m━━━━━━━━━━━━━━━━━━━━\u001b[0m\u001b[37m\u001b[0m \u001b[1m53s\u001b[0m 54ms/step - accuracy: 0.9735 - loss: 0.0511 - val_accuracy: 0.9734 - val_loss: 0.0512\n",
      "Epoch 10/10\n",
      "\u001b[1m976/976\u001b[0m \u001b[32m━━━━━━━━━━━━━━━━━━━━\u001b[0m\u001b[37m\u001b[0m \u001b[1m54s\u001b[0m 56ms/step - accuracy: 0.9734 - loss: 0.0511 - val_accuracy: 0.9734 - val_loss: 0.0512\n"
     ]
    },
    {
     "data": {
      "text/plain": [
       "<keras.src.callbacks.history.History at 0x17844629bb0>"
      ]
     },
     "execution_count": 7,
     "metadata": {},
     "output_type": "execute_result"
    }
   ],
   "source": [
    "parent.train_model(model, X_sequence_train, X_expressions_train, y_train, batch_size=32, epochs=10)"
   ]
  },
  {
   "cell_type": "code",
   "execution_count": 8,
   "metadata": {},
   "outputs": [
    {
     "name": "stdout",
     "output_type": "stream",
     "text": [
      "\u001b[1m305/305\u001b[0m \u001b[32m━━━━━━━━━━━━━━━━━━━━\u001b[0m\u001b[37m\u001b[0m \u001b[1m6s\u001b[0m 20ms/step - accuracy: 0.9732 - loss: 0.0514\n",
      "Loss: 0.051319096237421036, Accuracy: 0.9732710719108582\n"
     ]
    }
   ],
   "source": [
    "loss, accuracy = parent.evaluate_model(model, X_sequence_test, X_expressions_test, y_test)\n",
    "print(f'Loss: {loss}, Accuracy: {accuracy}')"
   ]
  },
  {
   "cell_type": "code",
   "execution_count": 9,
   "metadata": {},
   "outputs": [],
   "source": [
    "model.save(f'../Models/{name}.keras')"
   ]
  },
  {
   "cell_type": "markdown",
   "metadata": {},
   "source": [
    "#### From previous modeling:\n",
    "Test Loss: 0.05334583297371864\n",
    "\n",
    "Test Accuracy: 0.9736703634262085"
   ]
  }
 ],
 "metadata": {
  "kernelspec": {
   "display_name": "Python 3",
   "language": "python",
   "name": "python3"
  },
  "language_info": {
   "codemirror_mode": {
    "name": "ipython",
    "version": 3
   },
   "file_extension": ".py",
   "mimetype": "text/x-python",
   "name": "python",
   "nbconvert_exporter": "python",
   "pygments_lexer": "ipython3",
   "version": "3.12.3"
  }
 },
 "nbformat": 4,
 "nbformat_minor": 2
}
