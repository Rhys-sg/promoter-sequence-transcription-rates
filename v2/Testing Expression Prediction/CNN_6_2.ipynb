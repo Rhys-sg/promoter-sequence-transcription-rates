{
 "cells": [
  {
   "cell_type": "markdown",
   "metadata": {},
   "source": [
    "## Description\n",
    "\n",
    "### PyTorch Hyperparameter Tuning (Bayesian Optimization)\n",
    "\n",
    "A hyperparameter is a parameter that can be set in order to define any configurable part of a model's learning process. For this CNN, the architecture hyperparameters we optimize are:\n",
    "- The number and structure of Conv1D layers.\n",
    "- Filter sizes, kernel sizes, and strides.\n",
    "- Max-pooling sizes and activation functions for each layer.\n",
    "- The size of the dense layer.\n",
    "- The learning rate for optimization.\n",
    "\n",
    "This approach uses PyTorch to make the sequence generation/infill easier.\n",
    "\n",
    "### Architecture\n",
    "\n",
    "Model chnages: higher TX/expression is now higher prediction.\n",
    "\n",
    "This version optimizes the process of training/testing and uses hyperparameter tuning. It uses a similar architecture to CNN_5_0. It does not include augmented data, just takes the data from La Fleur's supplemental materials including:\n",
    "- La Fleur et al (and De Novo Designs)\n",
    "- Urtecho et al\n",
    "- Hossain et al\n",
    "- Yu et al\n",
    "- Lagator (36N, Pl, and Pr)\n",
    "- Anderson Series\n",
    "\n",
    "We onehot encode each basepair and pad the whole sequence. Because we use a CNN which is designed to identify \"features,\" the input promoter can be any length (with padding) and the model will be able to accurately predict the expression."
   ]
  },
  {
   "cell_type": "code",
   "execution_count": 1,
   "metadata": {},
   "outputs": [],
   "source": [
    "from CNN_6_1 import *"
   ]
  },
  {
   "cell_type": "code",
   "execution_count": 2,
   "metadata": {},
   "outputs": [],
   "source": [
    "# Documentation variables\n",
    "name = 'CNN_6_1'\n",
    "model_path = f'../Models/{name}.keras'\n",
    "data_dir = '../Data/Train Test/'\n",
    "search_dir = '../Testing Expression Prediction/Hyperparameter Search'\n",
    "\n",
    "# Hyperparameter tuning variables\n",
    "max_trials = 30\n",
    "\n",
    "# Unoptimized training Hyperparameters\n",
    "loss = 'mean_squared_error'\n",
    "epochs = 100\n",
    "batch_size = 32\n",
    "\n",
    "# Hyperparameter ranges dictionary\n",
    "hyperparam_ranges = {\n",
    "    'num_layers': (1, 3),\n",
    "    'filters': [32, 64, 128],\n",
    "    'kernel_size': [3, 4, 5],\n",
    "    'strides': [1, 2],\n",
    "    'pool_size': [2, 3],\n",
    "    'activation': ['relu', 'tanh'],\n",
    "    'dense_units': (32, 128, 32),\n",
    "    'learning_rate': (1e-4, 1e-2)\n",
    "}\n",
    "\n",
    "# Load train and test data\n",
    "X_train, y_train = load_features(f'{data_dir}train_data.csv')\n",
    "X_test, y_test = load_features(f'{data_dir}test_data.csv')"
   ]
  },
  {
   "cell_type": "code",
   "execution_count": 3,
   "metadata": {},
   "outputs": [
    {
     "name": "stdout",
     "output_type": "stream",
     "text": [
      "Trial 30 Complete [00h 30m 14s]\n",
      "val_loss: 0.0023858302738517523\n",
      "\n",
      "Best val_loss So Far: 0.00236002029851079\n",
      "Total elapsed time: 05h 19m 09s\n"
     ]
    },
    {
     "name": "stderr",
     "output_type": "stream",
     "text": [
      "c:\\Users\\rsore\\anaconda3\\envs\\TX_prediction\\Lib\\site-packages\\keras\\src\\saving\\saving_lib.py:415: UserWarning: Skipping variable loading for optimizer 'adam', because it has 2 variables whereas the saved optimizer has 34 variables. \n",
      "  saveable.load_own_variables(weights_store.get(inner_path))\n"
     ]
    }
   ],
   "source": [
    "# Perform Bayesian Optimization\n",
    "best_model = train_best_model(name, search_dir, X_train, y_train, X_test, y_test,\n",
    "                                X_train.shape[1:], loss, max_trials, epochs, batch_size, hyperparam_ranges)\n",
    "\n",
    "# Save the best model\n",
    "best_model.save(model_path)"
   ]
  },
  {
   "cell_type": "code",
   "execution_count": 4,
   "metadata": {},
   "outputs": [
    {
     "name": "stderr",
     "output_type": "stream",
     "text": [
      "c:\\Users\\rsore\\anaconda3\\envs\\TX_prediction\\Lib\\site-packages\\keras\\src\\saving\\saving_lib.py:415: UserWarning: Skipping variable loading for optimizer 'adam', because it has 34 variables whereas the saved optimizer has 2 variables. \n",
      "  saveable.load_own_variables(weights_store.get(inner_path))\n"
     ]
    },
    {
     "name": "stdout",
     "output_type": "stream",
     "text": [
      "\u001b[1m305/305\u001b[0m \u001b[32m━━━━━━━━━━━━━━━━━━━━\u001b[0m\u001b[37m\u001b[0m \u001b[1m4s\u001b[0m 11ms/step\n",
      "MSE:  0.0023600202099052204\n",
      "RMSE:  0.04858003921267685\n",
      "MAE:  0.03134098037150068\n",
      "R2:  0.8782429640892964\n"
     ]
    }
   ],
   "source": [
    "# Load, predict, and evaluate the best model\n",
    "y_pred = load_and_predict(model_path, X_test)\n",
    "mse, rmse, mae, r2 = calc_metrics(y_test, y_pred)\n",
    "\n",
    "print('MSE: ', mse)\n",
    "print('RMSE: ', rmse)\n",
    "print('MAE: ', mae)\n",
    "print('R2: ', r2)"
   ]
  }
 ],
 "metadata": {
  "kernelspec": {
   "display_name": "Python 3",
   "language": "python",
   "name": "python3"
  },
  "language_info": {
   "codemirror_mode": {
    "name": "ipython",
    "version": 3
   },
   "file_extension": ".py",
   "mimetype": "text/x-python",
   "name": "python",
   "nbconvert_exporter": "python",
   "pygments_lexer": "ipython3",
   "version": "3.12.3"
  }
 },
 "nbformat": 4,
 "nbformat_minor": 2
}
