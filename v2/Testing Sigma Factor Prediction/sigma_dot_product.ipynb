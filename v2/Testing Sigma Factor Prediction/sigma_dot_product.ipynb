{
 "cells": [
  {
   "cell_type": "markdown",
   "metadata": {},
   "source": [
    "# Description\n",
    "\n",
    "Takes the dot product between sequence and sigma-factor consensus regions:\n",
    "\n",
    "* σ32 -- 5' -- CCCTTTGAA -- 13-15bp CCCGATNT -- 3'\n",
    "* σ28 -- 5' -- CTAAA -- 15bp GCCGATAA -- 3'\n",
    "* σ70 -- 5' -- TTGACA -- 16-18bp TATAAT -- 3'\n",
    "* σ54 -- 5' -- CTGGNA -- 6bp TTGCA -- 3'"
   ]
  },
  {
   "cell_type": "code",
   "execution_count": 1,
   "metadata": {},
   "outputs": [],
   "source": [
    "import pandas as pd\n",
    "import numpy as np\n",
    "import matplotlib.pyplot as plt\n",
    "import keras"
   ]
  },
  {
   "cell_type": "code",
   "execution_count": 9,
   "metadata": {},
   "outputs": [
    {
     "data": {
      "text/html": [
       "<div>\n",
       "<style scoped>\n",
       "    .dataframe tbody tr th:only-of-type {\n",
       "        vertical-align: middle;\n",
       "    }\n",
       "\n",
       "    .dataframe tbody tr th {\n",
       "        vertical-align: top;\n",
       "    }\n",
       "\n",
       "    .dataframe thead th {\n",
       "        text-align: right;\n",
       "    }\n",
       "</style>\n",
       "<table border=\"1\" class=\"dataframe\">\n",
       "  <thead>\n",
       "    <tr style=\"text-align: right;\">\n",
       "      <th></th>\n",
       "      <th>Promoter Sequence</th>\n",
       "    </tr>\n",
       "  </thead>\n",
       "  <tbody>\n",
       "    <tr>\n",
       "      <th>0</th>\n",
       "      <td>TTTTCTATCTACGTACTTGACACTATTTCCTATTTCTCTTATAATC...</td>\n",
       "    </tr>\n",
       "    <tr>\n",
       "      <th>1</th>\n",
       "      <td>TTTTCTATCTACGTACTTGACACTATTTCCTATTTCTCTTATAATG...</td>\n",
       "    </tr>\n",
       "    <tr>\n",
       "      <th>2</th>\n",
       "      <td>TTTTCTATCTACGTACTTGACACTATTTCCTATTTCTCTTATAATC...</td>\n",
       "    </tr>\n",
       "    <tr>\n",
       "      <th>3</th>\n",
       "      <td>TTTTCTATCTACGTACTTGACACTATTTCCTATTTCTCTTATAATA...</td>\n",
       "    </tr>\n",
       "    <tr>\n",
       "      <th>4</th>\n",
       "      <td>TTTTCTATCTACGTACTTGACACTATTTCCTATTTCTCTTATAATA...</td>\n",
       "    </tr>\n",
       "  </tbody>\n",
       "</table>\n",
       "</div>"
      ],
      "text/plain": [
       "                                   Promoter Sequence\n",
       "0  TTTTCTATCTACGTACTTGACACTATTTCCTATTTCTCTTATAATC...\n",
       "1  TTTTCTATCTACGTACTTGACACTATTTCCTATTTCTCTTATAATG...\n",
       "2  TTTTCTATCTACGTACTTGACACTATTTCCTATTTCTCTTATAATC...\n",
       "3  TTTTCTATCTACGTACTTGACACTATTTCCTATTTCTCTTATAATA...\n",
       "4  TTTTCTATCTACGTACTTGACACTATTTCCTATTTCTCTTATAATA..."
      ]
     },
     "execution_count": 9,
     "metadata": {},
     "output_type": "execute_result"
    }
   ],
   "source": [
    "df = pd.read_csv('../Data/Combined/LaFleur_supp.csv')[['Promoter Sequence']]\n",
    "df.head()"
   ]
  },
  {
   "cell_type": "code",
   "execution_count": null,
   "metadata": {},
   "outputs": [
    {
     "data": {
      "text/html": [
       "<div>\n",
       "<style scoped>\n",
       "    .dataframe tbody tr th:only-of-type {\n",
       "        vertical-align: middle;\n",
       "    }\n",
       "\n",
       "    .dataframe tbody tr th {\n",
       "        vertical-align: top;\n",
       "    }\n",
       "\n",
       "    .dataframe thead th {\n",
       "        text-align: right;\n",
       "    }\n",
       "</style>\n",
       "<table border=\"1\" class=\"dataframe\">\n",
       "  <thead>\n",
       "    <tr style=\"text-align: right;\">\n",
       "      <th></th>\n",
       "      <th>Promoter Sequence</th>\n",
       "    </tr>\n",
       "  </thead>\n",
       "  <tbody>\n",
       "    <tr>\n",
       "      <th>0</th>\n",
       "      <td>[[0, 0, 0, 0], [0, 0, 0, 0], [0, 0, 0, 0], [0,...</td>\n",
       "    </tr>\n",
       "    <tr>\n",
       "      <th>1</th>\n",
       "      <td>[[0, 0, 0, 0], [0, 0, 0, 0], [0, 0, 0, 0], [0,...</td>\n",
       "    </tr>\n",
       "    <tr>\n",
       "      <th>2</th>\n",
       "      <td>[[0, 0, 0, 0], [0, 0, 0, 0], [0, 0, 0, 0], [0,...</td>\n",
       "    </tr>\n",
       "    <tr>\n",
       "      <th>3</th>\n",
       "      <td>[[0, 0, 0, 0], [0, 0, 0, 0], [0, 0, 0, 0], [0,...</td>\n",
       "    </tr>\n",
       "    <tr>\n",
       "      <th>4</th>\n",
       "      <td>[[0, 0, 0, 0], [0, 0, 0, 0], [0, 0, 0, 0], [0,...</td>\n",
       "    </tr>\n",
       "  </tbody>\n",
       "</table>\n",
       "</div>"
      ],
      "text/plain": [
       "                                   Promoter Sequence\n",
       "0  [[0, 0, 0, 0], [0, 0, 0, 0], [0, 0, 0, 0], [0,...\n",
       "1  [[0, 0, 0, 0], [0, 0, 0, 0], [0, 0, 0, 0], [0,...\n",
       "2  [[0, 0, 0, 0], [0, 0, 0, 0], [0, 0, 0, 0], [0,...\n",
       "3  [[0, 0, 0, 0], [0, 0, 0, 0], [0, 0, 0, 0], [0,...\n",
       "4  [[0, 0, 0, 0], [0, 0, 0, 0], [0, 0, 0, 0], [0,..."
      ]
     },
     "execution_count": 10,
     "metadata": {},
     "output_type": "execute_result"
    }
   ],
   "source": [
    "def one_hot_sequence(sequence):\n",
    "    mapping = {\n",
    "        'A': np.array([1, 0, 0, 0]),\n",
    "        'C': np.array([0, 1, 0, 0]),\n",
    "        'G': np.array([0, 0, 1, 0]),\n",
    "        'T': np.array([0, 0, 0, 1]),\n",
    "        '0': np.array([0, 0, 0, 0]),\n",
    "        'N': np.array([0.25, 0.25, 0.25, 0.25])\n",
    "    }\n",
    "    return np.array([mapping[nucleotide.upper()] for nucleotide in sequence.zfill(150)])\n",
    "\n",
    "df['Promoter Sequence'] = df['Promoter Sequence'].apply(one_hot_sequence)\n",
    "df.head()"
   ]
  },
  {
   "cell_type": "code",
   "execution_count": null,
   "metadata": {},
   "outputs": [
    {
     "name": "stdout",
     "output_type": "stream",
     "text": [
      "Best matching sigma factor: σ28, Position: 1, Sequence match: ('CCTTT', 'CCCGATNT'), Score: 6\n"
     ]
    }
   ],
   "source": [
    "import numpy as np\n",
    "\n",
    "def score_match(seq, consensus):\n",
    "    \"\"\"\n",
    "    Computes a similarity score between the input sequence and consensus binding site.\n",
    "    Uses a simple dot product approach where matches contribute positively.\n",
    "    \"\"\"\n",
    "    score = sum(1 for a, b in zip(seq, consensus) if a == b)\n",
    "    return score\n",
    "\n",
    "def find_best_binding_site(promoter):\n",
    "    \"\"\"\n",
    "    Identifies the best matching sigma factor binding site in the given promoter sequence.\n",
    "    \"\"\"\n",
    "    sigma_factors = {\n",
    "        'σ32': [(\"CCCTTTGAA\", 13, 15, \"CCCGATNT\")],\n",
    "        'σ28': [(\"CTAAA\", 15, 15, \"GCCGATAA\")],\n",
    "        'σ70': [(\"TTGACA\", 16, 18, \"TATAAT\")],\n",
    "        'σ54': [(\"CTGGNA\", 6, 6, \"TTGCA\")]\n",
    "    }\n",
    "    \n",
    "    best_match = None\n",
    "    best_score = -1\n",
    "    best_position = -1\n",
    "    best_sigma = None\n",
    "    \n",
    "    for sigma, sites in sigma_factors.items():\n",
    "        for site1, spacer_min, spacer_max, site2 in sites:\n",
    "            for i in range(len(promoter) - len(site1) - spacer_min - len(site2) + 1):\n",
    "                for spacer in range(spacer_min, spacer_max + 1):\n",
    "                    j = i + len(site1) + spacer\n",
    "                    if j + len(site2) > len(promoter):\n",
    "                        break  # Ensures the spacer remains within defined bounds\n",
    "                    seq1 = promoter[i:i+len(site1)]\n",
    "                    seq2 = promoter[j:j+len(site2)]\n",
    "                    \n",
    "                    score1 = score_match(seq1, site1)\n",
    "                    score2 = score_match(seq2, site2)\n",
    "                    total_score = score1 + score2\n",
    "                    \n",
    "                    if total_score > best_score:\n",
    "                        best_score = total_score\n",
    "                        best_match = (seq1, seq2)\n",
    "                        best_position = i\n",
    "                        best_sigma = sigma\n",
    "    \n",
    "    return best_sigma, best_position, best_match, best_score\n",
    "\n",
    "# Example usage:\n",
    "promoter_seq = \"AAACCCCTTTGAATTTGCCGATNTTAAA\"\n",
    "result = find_best_binding_site(promoter_seq)\n",
    "print(f\"Best matching sigma factor: {result[0]}, Position: {result[1]}, Sequence match: {result[2]}, Score: {result[3]}\")\n"
   ]
  },
  {
   "cell_type": "code",
   "execution_count": 41,
   "metadata": {},
   "outputs": [
    {
     "name": "stdout",
     "output_type": "stream",
     "text": [
      "Scores: {'motif_1': 1, 'motif_2': 0, 'motif_3': 2}\n",
      "Best Match: ('motif_2', 0, (11, 16))\n"
     ]
    }
   ],
   "source": [
    "import re\n",
    "\n",
    "def motif_to_regex(motif):\n",
    "    \"\"\"Converts a motif substring with 'N' into a regex pattern where 'N' matches any character.\"\"\"\n",
    "    return re.compile(re.escape(motif).replace('N', '.'))\n",
    "\n",
    "def find_closest_motif(s, motifs):\n",
    "    scores = {}\n",
    "    best_motif_name = None\n",
    "    best_score = float('inf')\n",
    "    best_positions = None\n",
    "\n",
    "    for name, motif in motifs.items():\n",
    "        sub1, spacer, sub2 = motif\n",
    "        sub1_regex = motif_to_regex(sub1)\n",
    "        sub2_regex = motif_to_regex(sub2)\n",
    "\n",
    "        sub1_matches = [m.start() for m in sub1_regex.finditer(s)]\n",
    "        min_motif_score = float('inf')\n",
    "        best_motif_positions = None\n",
    "\n",
    "        for sub1_pos in sub1_matches:\n",
    "            expected_sub2_pos = sub1_pos + len(sub1) + spacer\n",
    "            closest_sub2_pos = None\n",
    "            min_spacing_error = float('inf')\n",
    "\n",
    "            sub2_matches = [m.start() for m in sub2_regex.finditer(s)]\n",
    "            for sub2_pos in sub2_matches:\n",
    "                spacing_error = abs(sub2_pos - expected_sub2_pos)\n",
    "                if spacing_error < min_spacing_error:\n",
    "                    min_spacing_error = spacing_error\n",
    "                    closest_sub2_pos = sub2_pos\n",
    "            \n",
    "            if closest_sub2_pos is not None:\n",
    "                penalty_score = min_spacing_error\n",
    "\n",
    "                if penalty_score < min_motif_score:\n",
    "                    min_motif_score = penalty_score\n",
    "                    best_motif_positions = (sub1_pos, closest_sub2_pos)\n",
    "\n",
    "        scores[name] = min_motif_score if min_motif_score != float('inf') else None\n",
    "\n",
    "        if min_motif_score < best_score:\n",
    "            best_score = min_motif_score\n",
    "            best_motif_name = name\n",
    "            best_positions = best_motif_positions\n",
    "\n",
    "    return scores, (best_motif_name, best_score, best_positions)\n",
    "\n",
    "# Example usage\n",
    "s = \"abcde---xyzabc--xyzabcde\"\n",
    "motifs = {\n",
    "    'motif_1': (\"aNc\", 3, \"xyz\"),  # 'N' allows any character\n",
    "    'motif_2': (\"abc\", 2, \"xNz\"),  # 'N' allows any character in 'xNz'\n",
    "    'motif_3': (\"abcde\", 5, \"xyz\")\n",
    "}\n",
    "\n",
    "scores, best_match = find_closest_motif(s, motifs)\n",
    "print(\"Scores:\", scores)\n",
    "print(\"Best Match:\", best_match)\n"
   ]
  },
  {
   "cell_type": "markdown",
   "metadata": {},
   "source": [
    "This doesnt quite work: the spacer cannot be outside of spacer_min-spacer_max"
   ]
  }
 ],
 "metadata": {
  "kernelspec": {
   "display_name": "Python 3",
   "language": "python",
   "name": "python3"
  },
  "language_info": {
   "codemirror_mode": {
    "name": "ipython",
    "version": 3
   },
   "file_extension": ".py",
   "mimetype": "text/x-python",
   "name": "python",
   "nbconvert_exporter": "python",
   "pygments_lexer": "ipython3",
   "version": "3.12.3"
  }
 },
 "nbformat": 4,
 "nbformat_minor": 2
}
