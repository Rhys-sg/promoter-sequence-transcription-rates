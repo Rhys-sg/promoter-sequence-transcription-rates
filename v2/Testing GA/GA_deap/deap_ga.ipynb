{
 "cells": [
  {
   "cell_type": "code",
   "execution_count": 1,
   "metadata": {},
   "outputs": [],
   "source": [
    "from deap_ga import GeneticAlgorithm"
   ]
  },
  {
   "cell_type": "code",
   "execution_count": 2,
   "metadata": {},
   "outputs": [
    {
     "name": "stdout",
     "output_type": "stream",
     "text": [
      "WARNING:tensorflow:From c:\\Users\\rsore\\Documents\\GitHub\\promoter-sequence-transcription-rates\\v2\\Testing GA\\GA_deap\\deap_ga.py:158: _EagerTensorBase.cpu (from tensorflow.python.framework.ops) is deprecated and will be removed in a future version.\n",
      "Instructions for updating:\n",
      "Use tf.identity with explicit device placement instead.\n"
     ]
    },
    {
     "name": "stderr",
     "output_type": "stream",
     "text": [
      "c:\\Users\\rsore\\anaconda3\\envs\\TX_prediction\\Lib\\site-packages\\keras\\src\\saving\\saving_lib.py:719: UserWarning: Skipping variable loading for optimizer 'adam', because it has 34 variables whereas the saved optimizer has 2 variables. \n",
      "  saveable.load_own_variables(weights_store.get(inner_path))\n"
     ]
    },
    {
     "name": "stdout",
     "output_type": "stream",
     "text": [
      "Best Sequence: AATACTAGAGGTCTTCCGACTTGACAAAGTAGTTATATTATACTTAAAATGTGTGGGCGGGAAGACAACTAGGGG\n",
      "Best Fitness: 0.8077194690704346\n",
      "Prediction: 0.8077195\n"
     ]
    }
   ],
   "source": [
    "cnn_model_path = '../../Models/CNN_6_1_2.keras'\n",
    "cnn_input_length = 150\n",
    "masked_sequence = 'AATACTAGAGGTCTTCCGACNNNNNNNNNNNNNNNNNNNNNNNNNNNNNNGTGTGGGCGGGAAGACAACTAGGGG'\n",
    "precision = None\n",
    "\n",
    "ga = GeneticAlgorithm(\n",
    "    cnn_model_path=cnn_model_path,\n",
    "    cnn_input_length=cnn_input_length,\n",
    "    masked_sequence=masked_sequence,\n",
    "    target_expression=1,\n",
    "    population_size=100,\n",
    "    generations=40,\n",
    "    crossover_prob=0.5,\n",
    "    mutation_prob=0.2\n",
    ")\n",
    "\n",
    "sequence, fitness, prediction = ga.run()\n",
    "print(\"Best Sequence:\", sequence)\n",
    "print(\"Best Fitness:\", fitness)\n",
    "print(\"Prediction:\", prediction)"
   ]
  },
  {
   "cell_type": "code",
   "execution_count": 3,
   "metadata": {},
   "outputs": [
    {
     "name": "stderr",
     "output_type": "stream",
     "text": [
      "c:\\Users\\rsore\\anaconda3\\envs\\TX_prediction\\Lib\\site-packages\\deap\\creator.py:185: RuntimeWarning: A class named 'FitnessMax' has already been created and it will be overwritten. Consider deleting previous creation of that class or rename it.\n",
      "  warnings.warn(\"A class named '{0}' has already been created and it \"\n",
      "c:\\Users\\rsore\\anaconda3\\envs\\TX_prediction\\Lib\\site-packages\\deap\\creator.py:185: RuntimeWarning: A class named 'Individual' has already been created and it will be overwritten. Consider deleting previous creation of that class or rename it.\n",
      "  warnings.warn(\"A class named '{0}' has already been created and it \"\n"
     ]
    },
    {
     "name": "stdout",
     "output_type": "stream",
     "text": [
      "Best Sequence: AATACTAGAGGTCTTCCGACCTATTTTGCTGTTGCCCCCTTGCTGCCACGGTGTGGGCGGGAAGACAACTAGGGG\n",
      "Best Fitness: 0.8586989641189575\n",
      "Prediction: 0.1413011\n"
     ]
    }
   ],
   "source": [
    "cnn_model_path = '../../Models/CNN_6_1_2.keras'\n",
    "cnn_input_length = 150\n",
    "masked_sequence = 'AATACTAGAGGTCTTCCGACNNNNNNNNNNNNNNNNNNNNNNNNNNNNNNGTGTGGGCGGGAAGACAACTAGGGG'\n",
    "precision = None\n",
    "\n",
    "ga = GeneticAlgorithm(\n",
    "    cnn_model_path=cnn_model_path,\n",
    "    cnn_input_length=cnn_input_length,\n",
    "    masked_sequence=masked_sequence,\n",
    "    target_expression=0,\n",
    "    population_size=100,\n",
    "    generations=40,\n",
    "    crossover_prob=0.5,\n",
    "    mutation_prob=0.2\n",
    ")\n",
    "\n",
    "sequence, fitness, prediction = ga.run()\n",
    "print(\"Best Sequence:\", sequence)\n",
    "print(\"Best Fitness:\", fitness)\n",
    "print(\"Prediction:\", prediction)"
   ]
  }
 ],
 "metadata": {
  "kernelspec": {
   "display_name": "Python 3",
   "language": "python",
   "name": "python3"
  },
  "language_info": {
   "codemirror_mode": {
    "name": "ipython",
    "version": 3
   },
   "file_extension": ".py",
   "mimetype": "text/x-python",
   "name": "python",
   "nbconvert_exporter": "python",
   "pygments_lexer": "ipython3",
   "version": "3.12.3"
  }
 },
 "nbformat": 4,
 "nbformat_minor": 2
}
