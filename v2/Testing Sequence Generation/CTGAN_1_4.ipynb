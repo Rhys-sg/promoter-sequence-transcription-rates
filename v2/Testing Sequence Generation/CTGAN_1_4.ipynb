{
 "cells": [
  {
   "cell_type": "markdown",
   "metadata": {},
   "source": [
    "### Description\n",
    "\n",
    "This implements a CTGAN that uses infill properly with applied CNN-based loss."
   ]
  },
  {
   "cell_type": "code",
   "execution_count": 1,
   "metadata": {},
   "outputs": [],
   "source": [
    "import CTGAN_1_4 as parent"
   ]
  },
  {
   "cell_type": "code",
   "execution_count": 2,
   "metadata": {},
   "outputs": [],
   "source": [
    "version = '1_4'"
   ]
  },
  {
   "cell_type": "code",
   "execution_count": 3,
   "metadata": {},
   "outputs": [],
   "source": [
    "# Hyperparameters\n",
    "batch_size = 64\n",
    "epochs = 7\n",
    "learning_rate = 0.0002\n",
    "adversarial_lambda = 1\n",
    "cnn_lambda = 10\n",
    "path_to_cnn = '../Models/CNN_5_0.keras'\n",
    "path_to_data = '../Data/combined/LaFleur_supp.csv'\n",
    "\n",
    "# Load Data and Prepare Dataloaders\n",
    "df = parent.load_data(path_to_data)\n",
    "train_loader, test_loader = parent.prepare_dataloader(df, batch_size)\n",
    " \n",
    "# Initialize Models\n",
    "generator = parent.Generator()\n",
    "discriminator = parent.Discriminator()\n",
    "cnn = parent.KerasModelWrapper(path_to_cnn)"
   ]
  },
  {
   "cell_type": "code",
   "execution_count": 4,
   "metadata": {},
   "outputs": [
    {
     "name": "stdout",
     "output_type": "stream",
     "text": [
      "Epoch [1/7]  Loss aD: 0.6248, Loss cD: 0.0200, Loss G: 0.8248\n",
      "Epoch [2/7]  Loss aD: 0.6305, Loss cD: 0.0204, Loss G: 0.8343\n",
      "Epoch [3/7]  Loss aD: 0.5030, Loss cD: 0.0140, Loss G: 0.6426\n",
      "Epoch [4/7]  Loss aD: 0.6257, Loss cD: 0.0271, Loss G: 0.8967\n",
      "Epoch [5/7]  Loss aD: 0.7728, Loss cD: 0.0229, Loss G: 1.0022\n",
      "Epoch [6/7]  Loss aD: 0.7160, Loss cD: 0.0195, Loss G: 0.9106\n",
      "Epoch [7/7]  Loss aD: 0.7734, Loss cD: 0.0154, Loss G: 0.9278\n",
      "Model saved to generator.pth\n",
      "Model saved to discriminator.pth\n"
     ]
    }
   ],
   "source": [
    "# # Train Models with Training DataLoader\n",
    "# parent.train_ctgan(generator, discriminator, train_loader, cnn, epochs, learning_rate, adversarial_lambda, cnn_lambda)\n",
    "\n",
    "# # Save the trained models\n",
    "# parent.save_model(generator, f'../Models/generator_{version}.pth')\n",
    "# parent.save_model(discriminator, f'../Models/generator_{version}.pth')"
   ]
  },
  {
   "cell_type": "code",
   "execution_count": 5,
   "metadata": {},
   "outputs": [
    {
     "name": "stdout",
     "output_type": "stream",
     "text": [
      "Model loaded from generator.pth\n",
      "Model loaded from discriminator.pth\n"
     ]
    },
    {
     "name": "stderr",
     "output_type": "stream",
     "text": [
      "c:\\Users\\rsore\\Documents\\GitHub\\promoter-sequence-transcription-rates\\v2\\CTGAN\\CTGAN_1_4.py:217: FutureWarning: You are using `torch.load` with `weights_only=False` (the current default value), which uses the default pickle module implicitly. It is possible to construct malicious pickle data which will execute arbitrary code during unpickling (See https://github.com/pytorch/pytorch/blob/main/SECURITY.md#untrusted-models for more details). In a future release, the default value for `weights_only` will be flipped to `True`. This limits the functions that could be executed during unpickling. Arbitrary objects will no longer be allowed to be loaded via this mode unless they are explicitly allowlisted by the user via `torch.serialization.add_safe_globals`. We recommend you start setting `weights_only=True` for any use case where you don't have full control of the loaded file. Please open an issue on GitHub for any issues related to this experimental feature.\n",
      "  model.load_state_dict(torch.load(file_path))\n"
     ]
    },
    {
     "name": "stdout",
     "output_type": "stream",
     "text": [
      "Average MSE on Test Set: 0.0202\n"
     ]
    }
   ],
   "source": [
    "# Load the models\n",
    "parent.load_model(generator, f'../Models/generator_{version}.pth')\n",
    "parent.load_model(discriminator, f'../Models/generator_{version}.pth')\n",
    "\n",
    "# Evaluate the generator on the test set\n",
    "parent.evaluate_generator(generator, cnn, test_loader)"
   ]
  },
  {
   "cell_type": "markdown",
   "metadata": {},
   "source": [
    "Average MSE on Test Set: 0.0202"
   ]
  },
  {
   "cell_type": "code",
   "execution_count": null,
   "metadata": {},
   "outputs": [],
   "source": [
    "# Test Example\n",
    "sequences = ['TTTTCTATCTACGTACTTGACACTATTTCNNNNNNNNNNATTACCTTAGTTTGTACGTT']\n",
    "expressions = [0.5]\n",
    "\n",
    "# Generate infills\n",
    "infilled = parent.generate_infills(generator, sequences, expressions)\n",
    "for original, infilled in zip(sequences, infilled):\n",
    "    print(\"Original Sequences:\", original)\n",
    "    print(\"Infilled Sequences:\", infilled)"
   ]
  }
 ],
 "metadata": {
  "kernelspec": {
   "display_name": "Python 3",
   "language": "python",
   "name": "python3"
  },
  "language_info": {
   "codemirror_mode": {
    "name": "ipython",
    "version": 3
   },
   "file_extension": ".py",
   "mimetype": "text/x-python",
   "name": "python",
   "nbconvert_exporter": "python",
   "pygments_lexer": "ipython3",
   "version": "3.12.3"
  }
 },
 "nbformat": 4,
 "nbformat_minor": 2
}
