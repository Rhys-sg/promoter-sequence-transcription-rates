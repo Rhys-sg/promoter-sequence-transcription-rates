{
 "cells": [
  {
   "cell_type": "code",
   "execution_count": 1,
   "metadata": {},
   "outputs": [],
   "source": [
    "import pandas as pd\n",
    "import numpy as np\n",
    "import matplotlib.pyplot as plt\n",
    "import keras"
   ]
  },
  {
   "cell_type": "markdown",
   "metadata": {},
   "source": [
    "## Making Predictions for pLac, Low, Med, High, Neg, P5, P533A, OsmY, and OsmY_C13A\n",
    "\n",
    "Notes:\n",
    "* Descriminator overlaps with ITR\n",
    "* Need ITR\n",
    "\n",
    "Lengths:\n",
    "* UP = 16bp\n",
    "* -35 = 6bp\n",
    "* spacer = 17bp (or as noted in pdf)\n",
    "* -10 = 6bp\n",
    "* Disc = 8bp\n",
    "* ITR = 20bp"
   ]
  },
  {
   "cell_type": "code",
   "execution_count": 2,
   "metadata": {},
   "outputs": [],
   "source": [
    "def format(seq):\n",
    "    return seq.upper().replace(' ', '')"
   ]
  },
  {
   "cell_type": "code",
   "execution_count": 3,
   "metadata": {},
   "outputs": [],
   "source": [
    "# GCGGGAAGACAACTAGGGG is the last 19 bp, 20 bp is ITR, first bp of ITR is depends on the promoter (it is before the sticky end)\n",
    "# 20bp up sequence\n",
    "\n",
    "seqs = {\n",
    "         'pLac' : '' + '' + 'GCGGGAAGACAACTAGGGG',\n",
    "          'Low' : 'AATACTAGAGGTCTTCCGACTTGACACTATTTCCTATTTCTCTTATAATTTGTGTT' + 'GCGGGAAGACAACTAGGGG',\n",
    "          'Med' : 'AATACTAGAGGTCTTCCGACAAGACGCTATTTCCTATTTCTCTTATAATTTGTGTT' + 'GCGGGAAGACAACTAGGGG',\n",
    "         'High' : 'AATACTAGAGGTCTTCCGACCCCCTATTTCCTATTTCTGTAGTCATAGGGTGTT' + 'GCGGGAAGACAACTAGGGG',\n",
    "        #   'Neg' : '' + '' + 'GCGGGAAGACAACTAGGGG',\n",
    "           'P5' : 'AATACTAGAGGTCTTCCGACTTGACAATTAATCATCCGGCTCGTAATTTATGTGGA' + 'GCGGGAAGACAACTAGGGG',\n",
    "        'P533A' : 'AATACTAGAGGTCTTCCGACTTGACAATTAATCATCCGGCTCGTAATTTATGTGGA' + 'GCGGGAAGACAACTAGGGG',\n",
    "         'OsmY' : 'ATACTAGAGGTCTTCCGACCCCGAGCGGTTTCAAAATTGTGATCTATATTTAACAAA' + 'GCGGGAAGACAACTAGGGG',\n",
    "    'OsmY_C13A' : 'TACTAGAGGTCTTCCGACCCCGAGCGGTTTCAAAATTGTGATATATATTTAACAAA' + 'GCGGGAAGACAACTAGGGG',\n",
    "}"
   ]
  },
  {
   "cell_type": "code",
   "execution_count": 4,
   "metadata": {},
   "outputs": [],
   "source": [
    "seqs = {\n",
    "         'pLac' : ['CTAGAGGTCTTCCGAC', 'TTTACA', 'CTTTATGCTTCCGGCTCG', 'TATGTT', 'GTGTGGGC', 'GGGAAGACAACTAGGGGCCC'],\n",
    "          'Low' : ['CTAGAGGTCTTCCGAC', 'TTGACA', 'CTATTTCCTATTTCTCT', 'TATAAT', 'TTGTGTTG', 'CGGGAAGACAACTAGGGGCC'],\n",
    "          'Med' : ['CTAGAGGTCTTCCGAC', 'AAGACG', 'CTATTTCCTATTTCTCT', 'TATAAT', 'TTGTGTTG', 'CGGGAAGACAACTAGGGGCC'],\n",
    "         'High' : ['CTAGAGGTCTTCCGAC', 'CCCCTA', 'TTTCCTATTTCTGTA', 'GTCATA', 'GGGTGTTG', 'CGGGAAGACAACTAGGGGCC'],\n",
    "        #   'Neg' : ['', '', '', '', '', ''],\n",
    "           'P5' : ['CTAGAGGTCTTCCGAC', 'TTGACA', 'ATTAATCATCCGGCTCG', 'TAATTT', 'ATGTGGAG', 'CGGGAAGACAACTAGGGGCC'],\n",
    "        'P533A' : ['CTAGAGGTCTTCCGAC', 'TTAACA', 'ATTAATCATCCGGCTCG', 'TAATTT', 'ATGTGGAG', 'CGGGAAGACAACTAGGGGCC'],\n",
    "         'OsmY' : ['AGAGGTCTTCCGACCC', 'CGAGCG', 'GTTTCAAAATTGTGATC', 'TATATT', 'TAACAAAG', 'CGGGAAGACAACTAGGGGCC'],\n",
    "    'OsmY_C13A' : ['AGAGGTCTTCCGACCC', 'CGAGCG', 'GTTTCAAAATTGTGATA', 'TATATT', 'TAACAAAG', 'CGGGAAGACAACTAGGGGCC'],\n",
    "}"
   ]
  },
  {
   "cell_type": "code",
   "execution_count": 5,
   "metadata": {},
   "outputs": [
    {
     "data": {
      "text/html": [
       "<div>\n",
       "<style scoped>\n",
       "    .dataframe tbody tr th:only-of-type {\n",
       "        vertical-align: middle;\n",
       "    }\n",
       "\n",
       "    .dataframe tbody tr th {\n",
       "        vertical-align: top;\n",
       "    }\n",
       "\n",
       "    .dataframe thead th {\n",
       "        text-align: right;\n",
       "    }\n",
       "</style>\n",
       "<table border=\"1\" class=\"dataframe\">\n",
       "  <thead>\n",
       "    <tr style=\"text-align: right;\">\n",
       "      <th></th>\n",
       "      <th>0</th>\n",
       "      <th>1</th>\n",
       "      <th>2</th>\n",
       "      <th>3</th>\n",
       "      <th>4</th>\n",
       "      <th>5</th>\n",
       "    </tr>\n",
       "  </thead>\n",
       "  <tbody>\n",
       "    <tr>\n",
       "      <th>pLac</th>\n",
       "      <td>CTAGAGGTCTTCCGAC</td>\n",
       "      <td>TTTACA</td>\n",
       "      <td>CTTTATGCTTCCGGCTCG</td>\n",
       "      <td>TATGTT</td>\n",
       "      <td>GTGTGGGC</td>\n",
       "      <td>GGGAAGACAACTAGGGGCCC</td>\n",
       "    </tr>\n",
       "    <tr>\n",
       "      <th>Low</th>\n",
       "      <td>CTAGAGGTCTTCCGAC</td>\n",
       "      <td>TTGACA</td>\n",
       "      <td>CTATTTCCTATTTCTCT</td>\n",
       "      <td>TATAAT</td>\n",
       "      <td>TTGTGTTG</td>\n",
       "      <td>CGGGAAGACAACTAGGGGCC</td>\n",
       "    </tr>\n",
       "    <tr>\n",
       "      <th>Med</th>\n",
       "      <td>CTAGAGGTCTTCCGAC</td>\n",
       "      <td>AAGACG</td>\n",
       "      <td>CTATTTCCTATTTCTCT</td>\n",
       "      <td>TATAAT</td>\n",
       "      <td>TTGTGTTG</td>\n",
       "      <td>CGGGAAGACAACTAGGGGCC</td>\n",
       "    </tr>\n",
       "    <tr>\n",
       "      <th>High</th>\n",
       "      <td>CTAGAGGTCTTCCGAC</td>\n",
       "      <td>CCCCTA</td>\n",
       "      <td>TTTCCTATTTCTGTA</td>\n",
       "      <td>GTCATA</td>\n",
       "      <td>GGGTGTTG</td>\n",
       "      <td>CGGGAAGACAACTAGGGGCC</td>\n",
       "    </tr>\n",
       "    <tr>\n",
       "      <th>P5</th>\n",
       "      <td>CTAGAGGTCTTCCGAC</td>\n",
       "      <td>TTGACA</td>\n",
       "      <td>ATTAATCATCCGGCTCG</td>\n",
       "      <td>TAATTT</td>\n",
       "      <td>ATGTGGAG</td>\n",
       "      <td>CGGGAAGACAACTAGGGGCC</td>\n",
       "    </tr>\n",
       "    <tr>\n",
       "      <th>P533A</th>\n",
       "      <td>CTAGAGGTCTTCCGAC</td>\n",
       "      <td>TTAACA</td>\n",
       "      <td>ATTAATCATCCGGCTCG</td>\n",
       "      <td>TAATTT</td>\n",
       "      <td>ATGTGGAG</td>\n",
       "      <td>CGGGAAGACAACTAGGGGCC</td>\n",
       "    </tr>\n",
       "    <tr>\n",
       "      <th>OsmY</th>\n",
       "      <td>AGAGGTCTTCCGACCC</td>\n",
       "      <td>CGAGCG</td>\n",
       "      <td>GTTTCAAAATTGTGATC</td>\n",
       "      <td>TATATT</td>\n",
       "      <td>TAACAAAG</td>\n",
       "      <td>CGGGAAGACAACTAGGGGCC</td>\n",
       "    </tr>\n",
       "    <tr>\n",
       "      <th>OsmY_C13A</th>\n",
       "      <td>AGAGGTCTTCCGACCC</td>\n",
       "      <td>CGAGCG</td>\n",
       "      <td>GTTTCAAAATTGTGATA</td>\n",
       "      <td>TATATT</td>\n",
       "      <td>TAACAAAG</td>\n",
       "      <td>CGGGAAGACAACTAGGGGCC</td>\n",
       "    </tr>\n",
       "  </tbody>\n",
       "</table>\n",
       "</div>"
      ],
      "text/plain": [
       "                          0       1                   2       3         4  \\\n",
       "pLac       CTAGAGGTCTTCCGAC  TTTACA  CTTTATGCTTCCGGCTCG  TATGTT  GTGTGGGC   \n",
       "Low        CTAGAGGTCTTCCGAC  TTGACA   CTATTTCCTATTTCTCT  TATAAT  TTGTGTTG   \n",
       "Med        CTAGAGGTCTTCCGAC  AAGACG   CTATTTCCTATTTCTCT  TATAAT  TTGTGTTG   \n",
       "High       CTAGAGGTCTTCCGAC  CCCCTA     TTTCCTATTTCTGTA  GTCATA  GGGTGTTG   \n",
       "P5         CTAGAGGTCTTCCGAC  TTGACA   ATTAATCATCCGGCTCG  TAATTT  ATGTGGAG   \n",
       "P533A      CTAGAGGTCTTCCGAC  TTAACA   ATTAATCATCCGGCTCG  TAATTT  ATGTGGAG   \n",
       "OsmY       AGAGGTCTTCCGACCC  CGAGCG   GTTTCAAAATTGTGATC  TATATT  TAACAAAG   \n",
       "OsmY_C13A  AGAGGTCTTCCGACCC  CGAGCG   GTTTCAAAATTGTGATA  TATATT  TAACAAAG   \n",
       "\n",
       "                              5  \n",
       "pLac       GGGAAGACAACTAGGGGCCC  \n",
       "Low        CGGGAAGACAACTAGGGGCC  \n",
       "Med        CGGGAAGACAACTAGGGGCC  \n",
       "High       CGGGAAGACAACTAGGGGCC  \n",
       "P5         CGGGAAGACAACTAGGGGCC  \n",
       "P533A      CGGGAAGACAACTAGGGGCC  \n",
       "OsmY       CGGGAAGACAACTAGGGGCC  \n",
       "OsmY_C13A  CGGGAAGACAACTAGGGGCC  "
      ]
     },
     "execution_count": 5,
     "metadata": {},
     "output_type": "execute_result"
    }
   ],
   "source": [
    "X = pd.DataFrame(seqs).T\n",
    "X.head(None)"
   ]
  },
  {
   "cell_type": "code",
   "execution_count": null,
   "metadata": {},
   "outputs": [],
   "source": [
    "def padded_one_hot_encode(sequence):\n",
    "    mapping = {'A': [1,0,0,0], 'C': [0,1,0,0], 'G': [0,0,1,0], 'T': [0,0,0,1], '0': [0,0,0,0]}\n",
    "    encoding = []\n",
    "    for nucleotide in sequence:\n",
    "         encoding += [mapping[nucleotide]]\n",
    "    return encoding\n",
    "\n",
    "\n",
    "upstream_padding = {}\n",
    "for col in X.columns:\n",
    "    lengths = [22, 6, 19, 6, 8, 21]\n",
    "    upstream_padding[col] = np.array([padded_one_hot_encode('0' * (lengths[col] - len(seq)) + seq) for seq in X[col]])\n",
    "\n",
    "X = np.concatenate([upstream_padding[col] for col in X.columns], axis=1)"
   ]
  },
  {
   "cell_type": "code",
   "execution_count": null,
   "metadata": {},
   "outputs": [],
   "source": [
    "X.shape"
   ]
  },
  {
   "cell_type": "code",
   "execution_count": null,
   "metadata": {},
   "outputs": [],
   "source": [
    "# # Old model (should be worse, but isn't)\n",
    "\n",
    "# model = keras.saving.load_model('../../v1/models/Hyperparameter_tuned.keras')"
   ]
  },
  {
   "cell_type": "code",
   "execution_count": null,
   "metadata": {},
   "outputs": [],
   "source": [
    "# New model (should be better, but isn't)\n",
    "\n",
    "model = keras.saving.load_model('../Testing/CNN_kernal_4.keras')"
   ]
  },
  {
   "cell_type": "code",
   "execution_count": null,
   "metadata": {},
   "outputs": [],
   "source": [
    "promoters = ['pLac', 'Low', 'Medium', 'High', 'P5', 'P533A', 'OsmY', 'OsmY_C13A']\n",
    "scaled_predictions = [(model.predict(np.array([X[i]]))[0][0])for i in range(len(X))]\n",
    "RFP_expression = [0 for i in range(len(X))]\n",
    "\n",
    "prediction_df = pd.DataFrame({'Promoter': promoters, 'Prediction': scaled_predictions})\n",
    "prediction_df.head(None)\n"
   ]
  },
  {
   "cell_type": "code",
   "execution_count": null,
   "metadata": {},
   "outputs": [],
   "source": [
    "# # Not necessary with old model\n",
    "\n",
    "# from sklearn.preprocessing import MinMaxScaler\n",
    "\n",
    "# observed_df = pd.read_csv('../predictions.csv')\n",
    "\n",
    "# scaler = MinMaxScaler()\n",
    "# scaled_data = scaler.fit_transform(observed_df[['Observed log(TX/Txref)']])\n",
    "# predicted_values = scaler.inverse_transform(np.array(scaled_predictions).reshape(-1, 1))\n",
    "# prediction_df['Prediction'] = predicted_values\n",
    "\n",
    "# prediction_df.head(None)"
   ]
  },
  {
   "cell_type": "markdown",
   "metadata": {},
   "source": [
    "## Getting observed RFP"
   ]
  },
  {
   "cell_type": "code",
   "execution_count": null,
   "metadata": {},
   "outputs": [],
   "source": [
    "RFP_df = pd.read_csv('2024_07_03_Fluorescence_Data_formatted.csv')\n",
    "RFP_df.head()"
   ]
  },
  {
   "cell_type": "code",
   "execution_count": null,
   "metadata": {},
   "outputs": [],
   "source": [
    "RFP_df = RFP_df[RFP_df['Promoter'] != 'Blank'].reset_index(drop=True)\n",
    "RFP_df.head()"
   ]
  },
  {
   "cell_type": "code",
   "execution_count": null,
   "metadata": {},
   "outputs": [],
   "source": [
    "# # drop P5 outliar\n",
    "\n",
    "# RFP_df = RFP_df[RFP_df['Promoter'] != 'P5'].reset_index(drop=True)\n",
    "# RFP_df.head()"
   ]
  },
  {
   "cell_type": "code",
   "execution_count": null,
   "metadata": {},
   "outputs": [],
   "source": [
    "comparison_df = RFP_df\n",
    "comparison_df = comparison_df.merge(prediction_df[['Promoter', 'Prediction']], on='Promoter', how='left')\n",
    "comparison_df.head()"
   ]
  },
  {
   "cell_type": "code",
   "execution_count": null,
   "metadata": {},
   "outputs": [],
   "source": [
    "# Drop rows with NaN values\n",
    "comparison_df.dropna(inplace=True)\n",
    "comparison_df.head()"
   ]
  },
  {
   "cell_type": "code",
   "execution_count": null,
   "metadata": {},
   "outputs": [],
   "source": [
    "import matplotlib.pyplot as plt\n",
    "import numpy as np\n",
    "import pandas as pd\n",
    "\n",
    "\n",
    "unique_media = comparison_df['Media'].unique()\n",
    "unique_promoters = comparison_df['Promoter'].unique()\n",
    "\n",
    "colors = plt.cm.Set2(np.linspace(0, 1, len(unique_promoters)))\n",
    "color_map = {promoter: colors[i] for i, promoter in enumerate(unique_promoters)}\n",
    "\n",
    "for media in unique_media:\n",
    "    subset_df_media = comparison_df[comparison_df['Media'] == media]\n",
    "\n",
    "    plt.figure()\n",
    "\n",
    "    for i, promoter in enumerate(unique_promoters):\n",
    "        promoter_subset_df = subset_df_media[subset_df_media['Promoter'] == promoter]\n",
    "        color = color_map[promoter]\n",
    "        plt.scatter(promoter_subset_df['Prediction'], promoter_subset_df['Relative Fluorescence'], c=[color], label=promoter)\n",
    "\n",
    "    plt.xlabel('Predicted log(TX/Txref)')\n",
    "    plt.ylabel('Relative Fluorescence')\n",
    "    plt.title(f'Scatter plot for Media: {media}')\n",
    "    plt.legend()\n",
    "\n",
    "plt.show()\n"
   ]
  }
 ],
 "metadata": {
  "kernelspec": {
   "display_name": "Python 3",
   "language": "python",
   "name": "python3"
  },
  "language_info": {
   "codemirror_mode": {
    "name": "ipython",
    "version": 3
   },
   "file_extension": ".py",
   "mimetype": "text/x-python",
   "name": "python",
   "nbconvert_exporter": "python",
   "pygments_lexer": "ipython3",
   "version": "3.12.3"
  }
 },
 "nbformat": 4,
 "nbformat_minor": 2
}
