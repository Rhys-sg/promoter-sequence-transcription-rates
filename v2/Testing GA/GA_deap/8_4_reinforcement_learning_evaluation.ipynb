{
 "cells": [
  {
   "cell_type": "markdown",
   "metadata": {},
   "source": [
    "### Description\n",
    "\n",
    "These are not comprehensive tests. We also need to vary the environment for 'target_expression'\n",
    "\n",
    "---"
   ]
  },
  {
   "cell_type": "code",
   "execution_count": 2,
   "metadata": {},
   "outputs": [],
   "source": [
    "import pandas as pd\n",
    "\n",
    "from GA.ReinforcementLearning import *\n",
    "from function_modules.function_module import *"
   ]
  },
  {
   "cell_type": "code",
   "execution_count": 3,
   "metadata": {},
   "outputs": [],
   "source": [
    "cnn_model_path = '../../Models/CNN_6_1_2.keras'\n",
    "masked_sequence = 'AATACTAGAGGTCTTCCGACNNNNNNNNNNNNNNNNNNNNNNNNNNNNNNGTGTGGGCGGGAAGACAACTAGGGG'\n",
    "target_expression = 1"
   ]
  },
  {
   "cell_type": "code",
   "execution_count": 34,
   "metadata": {},
   "outputs": [
    {
     "data": {
      "text/plain": [
       "['NNNNNNNNNNNNNNNNNNNNTTTACACTTTATGCTTCCGGCTCGTATGTTGTGTGGGCGGGAAGACAACTAGGGG',\n",
       " 'AATACTAGAGGTCTTCCGACNNNNNNCTTTATGCTTCCGGCTCGTATGTTGTGTGGGCGGGAAGACAACTAGGGG',\n",
       " 'AATACTAGAGGTCTTCCGACTTTACANNNNNNNNNNNNNNNNNNTATGTTGTGTGGGCGGGAAGACAACTAGGGG',\n",
       " 'AATACTAGAGGTCTTCCGACTTTACACTTTATGCTTCCGGCTCGNNNNNNGTGTGGGCGGGAAGACAACTAGGGG',\n",
       " 'AATACTAGAGGTCTTCCGACTTTACACTTTATGCTTCCGGCTCGTATGTTNNNNNNNNGGGAAGACAACTAGGGG',\n",
       " 'AATACTAGAGGTCTTCCGACTTTACACTTTATGCTTCCGGCTCGTATGTTGTGTGGGCNNNNNNNNNNNNNNNNN',\n",
       " 'AATACTAGAGGTCTTCCGACNNNNNNCTTTATGCTTCCGGCTCGNNNNNNGTGTGGGCGGGAAGACAACTAGGGG',\n",
       " 'AATACTAGAGGTCTTCCGACNNNNNNNNNNNNNNNNNNNNNNNNNNNNNNGTGTGGGCGGGAAGACAACTAGGGG']"
      ]
     },
     "execution_count": 34,
     "metadata": {},
     "output_type": "execute_result"
    }
   ],
   "source": [
    "# Generate the masked sequences based on pLac elements\n",
    "pLac_UP = 'AATACTAGAGGTCTTCCGAC'\n",
    "pLac_h35 = 'TTTACA'\n",
    "pLac_spacer = 'CTTTATGCTTCCGGCTCG'\n",
    "pLac_h10 = 'TATGTT'\n",
    "pLac_disc = 'GTGTGGGC'\n",
    "pLac_ITR = 'GGGAAGACAACTAGGGG'\n",
    "\n",
    "# All pLac elements in order\n",
    "pLac_elements = [pLac_UP, pLac_h35, pLac_spacer, pLac_h10, pLac_disc, pLac_ITR]\n",
    "\n",
    "# Mask each pLac element\n",
    "masked_sequences = []\n",
    "for element in pLac_elements:\n",
    "    i = pLac_elements.index(element)\n",
    "    up = ''.join([pLac_elements[j] for j in range(i)])\n",
    "    mask = 'N' * len(pLac_elements[i])\n",
    "    down = ''.join([pLac_elements[j] for j in range(i+1, len(pLac_elements))])\n",
    "    masked_sequences.append(up + mask + down)\n",
    "\n",
    "# Mask (h35 + h10) and (h35 + spacer + h10)\n",
    "masked_sequences.append(pLac_UP + 'N'*len(pLac_h35) + pLac_spacer + 'N'*len(pLac_h10) + pLac_disc + pLac_ITR)\n",
    "masked_sequences.append(pLac_UP + 'N'*len(pLac_h35) + 'N'*len(pLac_spacer) + 'N'*len(pLac_h10) + pLac_disc + pLac_ITR)\n",
    "\n",
    "masked_sequences"
   ]
  },
  {
   "cell_type": "code",
   "execution_count": 5,
   "metadata": {},
   "outputs": [
    {
     "name": "stdout",
     "output_type": "stream",
     "text": [
      "Using cpu device\n",
      "-----------------------------\n",
      "| time/              |      |\n",
      "|    fps             | 163  |\n",
      "|    iterations      | 1    |\n",
      "|    time_elapsed    | 50   |\n",
      "|    total_timesteps | 8192 |\n",
      "-----------------------------\n"
     ]
    }
   ],
   "source": [
    "# Train the RL agent with multiple sequences\n",
    "model = train_rl_agent(cnn_model_path, masked_sequences, target_expression, total_timesteps=1000, num_envs=4)\n",
    "model.save('../../Models/RL_1_0')"
   ]
  },
  {
   "cell_type": "code",
   "execution_count": 6,
   "metadata": {},
   "outputs": [
    {
     "name": "stdout",
     "output_type": "stream",
     "text": [
      "AATACTAGAGGTCTTCCGACNNNNNNNNNNNNNNNNNNNNNNNNNNNNNNGTGTGGGCGGGAAGACAACTAGGGG\n"
     ]
    }
   ],
   "source": [
    "# Test the RL agent on the (h35 + spacer + h10) masked sequence\n",
    "test_sequence = masked_sequences[-1]\n",
    "print(test_sequence)"
   ]
  },
  {
   "cell_type": "code",
   "execution_count": 35,
   "metadata": {},
   "outputs": [
    {
     "name": "stdout",
     "output_type": "stream",
     "text": [
      "0.2826947\n",
      "0.30730295\n",
      "0.326266\n",
      "0.33123773\n",
      "0.314807\n",
      "0.3856442\n",
      "0.32230258\n",
      "0.29798675\n",
      "0.3576943\n",
      "0.33402652\n",
      "0.27310663\n"
     ]
    }
   ],
   "source": [
    "# Load the pre-trained model\n",
    "model = load_rl_agent('../../Models/RL_1_0')\n",
    "\n",
    "target_expressions = np.linspace(0, 1, 11)\n",
    "\n",
    "# Optimize a new sequence using the trained model for each target expression\n",
    "for target_expression in target_expressions:\n",
    "    sequence, prediction, error, encoded = optimize_sequence_with_rl(model, cnn_model_path, masked_sequence, target_expression)\n",
    "    # print(sequence)\n",
    "    print(prediction)\n",
    "    # print(error)"
   ]
  }
 ],
 "metadata": {
  "kernelspec": {
   "display_name": "Python 3",
   "language": "python",
   "name": "python3"
  },
  "language_info": {
   "codemirror_mode": {
    "name": "ipython",
    "version": 3
   },
   "file_extension": ".py",
   "mimetype": "text/x-python",
   "name": "python",
   "nbconvert_exporter": "python",
   "pygments_lexer": "ipython3",
   "version": "3.12.3"
  }
 },
 "nbformat": 4,
 "nbformat_minor": 2
}
