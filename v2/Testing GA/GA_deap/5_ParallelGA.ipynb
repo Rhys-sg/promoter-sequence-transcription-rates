{
 "cells": [
  {
   "cell_type": "code",
   "execution_count": 1,
   "metadata": {},
   "outputs": [],
   "source": [
    "import numpy as np\n",
    "\n",
    "from function_modules.function_module import *\n",
    "from function_modules import parallel_function_module"
   ]
  },
  {
   "cell_type": "code",
   "execution_count": 2,
   "metadata": {},
   "outputs": [],
   "source": [
    "# Shared directory to save results \n",
    "shared_data_dir = 'Data/parameter_testing/parallel_GA/'\n",
    "\n",
    "# Shared GA parameters\n",
    "kwargs = {\n",
    "    'cnn_model_path': '../../Models/CNN_6_1_2.keras',\n",
    "    'masked_sequence': 'AATACTAGAGGTCTTCCGACNNNNNNNNNNNNNNNNNNNNNNNNNNNNNNGTGTGGGCGGGAAGACAACTAGGGG',\n",
    "    'seed': 0,\n",
    "}\n",
    "\n",
    "# Testing parameters\n",
    "target_expressions = [0, 0.5, 1]\n",
    "lineages = 5\n",
    "test_cases = 11"
   ]
  },
  {
   "cell_type": "code",
   "execution_count": null,
   "metadata": {},
   "outputs": [
    {
     "name": "stderr",
     "output_type": "stream",
     "text": [
      "Processing combinations:   0%|          | 0/15 [00:00<?, ?it/s]c:\\Users\\rsore\\anaconda3\\envs\\TX_prediction\\Lib\\site-packages\\keras\\src\\saving\\saving_lib.py:719: UserWarning: Skipping variable loading for optimizer 'adam', because it has 34 variables whereas the saved optimizer has 2 variables. \n",
      "  saveable.load_own_variables(weights_store.get(inner_path))\n"
     ]
    }
   ],
   "source": [
    "param_ranges = {\n",
    "    'population_size': [20],\n",
    "    'generations': [20],\n",
    "}\n",
    "\n",
    "# Evaluate ParallelGeneticAlgorithm\n",
    "ParallelGeneticAlgorithm_df = parallel_function_module.test_params(param_ranges, target_expressions, lineages, kwargs)\n",
    "ParallelGeneticAlgorithm_df['algorithm'] = 'ParallelGeneticAlgorithm'\n",
    "\n",
    "# Evaluate GeneticAlgorithm\n",
    "GeneticAlgorithm_df = test_params(param_ranges, target_expressions, lineages, kwargs)\n",
    "GeneticAlgorithm_df['algorithm'] = 'GeneticAlgorithm'\n",
    "\n",
    "# Concatenate all results, and save to csv\n",
    "results_df = pd.concat([ParallelGeneticAlgorithm_df, GeneticAlgorithm_df])\n",
    "results_df.to_csv(f'{shared_data_dir}parallel_comparison.csv', index=False)"
   ]
  },
  {
   "cell_type": "code",
   "execution_count": null,
   "metadata": {},
   "outputs": [],
   "source": [
    "# Read results (if necessary) and plot\n",
    "results_df = pd.read_csv(f'{shared_data_dir}parallel_comparison.csv')\n",
    "\n",
    "for target_expression in target_expressions:\n",
    "    filtered_df = results_df[results_df['target_expression'] == target_expression]\n",
    "    distribution_plot(filtered_df, target_expression, 'algorithm')"
   ]
  }
 ],
 "metadata": {
  "kernelspec": {
   "display_name": "Python 3",
   "language": "python",
   "name": "python3"
  },
  "language_info": {
   "codemirror_mode": {
    "name": "ipython",
    "version": 3
   },
   "file_extension": ".py",
   "mimetype": "text/x-python",
   "name": "python",
   "nbconvert_exporter": "python",
   "pygments_lexer": "ipython3",
   "version": "3.12.3"
  }
 },
 "nbformat": 4,
 "nbformat_minor": 2
}
