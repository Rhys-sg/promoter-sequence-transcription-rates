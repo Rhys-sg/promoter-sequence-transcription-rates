{
 "cells": [
  {
   "cell_type": "code",
   "execution_count": 1,
   "metadata": {},
   "outputs": [],
   "source": [
    "from database_query_1_0 import DatabaseQuery"
   ]
  },
  {
   "cell_type": "code",
   "execution_count": 4,
   "metadata": {},
   "outputs": [
    {
     "data": {
      "text/html": [
       "<div>\n",
       "<style scoped>\n",
       "    .dataframe tbody tr th:only-of-type {\n",
       "        vertical-align: middle;\n",
       "    }\n",
       "\n",
       "    .dataframe tbody tr th {\n",
       "        vertical-align: top;\n",
       "    }\n",
       "\n",
       "    .dataframe thead th {\n",
       "        text-align: right;\n",
       "    }\n",
       "</style>\n",
       "<table border=\"1\" class=\"dataframe\">\n",
       "  <thead>\n",
       "    <tr style=\"text-align: right;\">\n",
       "      <th></th>\n",
       "      <th>Sequence</th>\n",
       "      <th>BP Distance</th>\n",
       "      <th>Expression</th>\n",
       "      <th>Expression Difference</th>\n",
       "      <th>Abs Expression Difference</th>\n",
       "    </tr>\n",
       "  </thead>\n",
       "  <tbody>\n",
       "    <tr>\n",
       "      <th>19</th>\n",
       "      <td>TTTTCTATCTACGTACTTGACACTATTTCCTATTTCTCTTATAATG...</td>\n",
       "      <td>0</td>\n",
       "      <td>0.699199</td>\n",
       "      <td>-0.199199</td>\n",
       "      <td>0.199199</td>\n",
       "    </tr>\n",
       "    <tr>\n",
       "      <th>8</th>\n",
       "      <td>TTTTCTATCTACGTACTTGACACTATTTCCTATTTCTCTTATAATG...</td>\n",
       "      <td>0</td>\n",
       "      <td>0.709120</td>\n",
       "      <td>-0.209120</td>\n",
       "      <td>0.209120</td>\n",
       "    </tr>\n",
       "    <tr>\n",
       "      <th>18</th>\n",
       "      <td>TTTTCTATCTACGTACTTGACACTATTTCCTATTTCTCTTATAATC...</td>\n",
       "      <td>0</td>\n",
       "      <td>0.749454</td>\n",
       "      <td>-0.249454</td>\n",
       "      <td>0.249454</td>\n",
       "    </tr>\n",
       "    <tr>\n",
       "      <th>0</th>\n",
       "      <td>TTTTCTATCTACGTACTTGACACTATTTCCTATTTCTCTTATAATC...</td>\n",
       "      <td>0</td>\n",
       "      <td>0.751317</td>\n",
       "      <td>-0.251317</td>\n",
       "      <td>0.251317</td>\n",
       "    </tr>\n",
       "    <tr>\n",
       "      <th>10</th>\n",
       "      <td>TTTTCTATCTACGTACTTGACACTATTTCCTATTTCTCTTATAATG...</td>\n",
       "      <td>0</td>\n",
       "      <td>0.763553</td>\n",
       "      <td>-0.263553</td>\n",
       "      <td>0.263553</td>\n",
       "    </tr>\n",
       "  </tbody>\n",
       "</table>\n",
       "</div>"
      ],
      "text/plain": [
       "                                             Sequence  BP Distance  \\\n",
       "19  TTTTCTATCTACGTACTTGACACTATTTCCTATTTCTCTTATAATG...            0   \n",
       "8   TTTTCTATCTACGTACTTGACACTATTTCCTATTTCTCTTATAATG...            0   \n",
       "18  TTTTCTATCTACGTACTTGACACTATTTCCTATTTCTCTTATAATC...            0   \n",
       "0   TTTTCTATCTACGTACTTGACACTATTTCCTATTTCTCTTATAATC...            0   \n",
       "10  TTTTCTATCTACGTACTTGACACTATTTCCTATTTCTCTTATAATG...            0   \n",
       "\n",
       "    Expression  Expression Difference  Abs Expression Difference  \n",
       "19    0.699199              -0.199199                   0.199199  \n",
       "8     0.709120              -0.209120                   0.209120  \n",
       "18    0.749454              -0.249454                   0.249454  \n",
       "0     0.751317              -0.251317                   0.251317  \n",
       "10    0.763553              -0.263553                   0.263553  "
      ]
     },
     "execution_count": 4,
     "metadata": {},
     "output_type": "execute_result"
    }
   ],
   "source": [
    "db = DatabaseQuery()\n",
    "db.query_sequences('TTTTCTATCTACGTACTTGACAC_____________________________GCTCTACCTTAGTTTGTACGTT', 0.5).head()"
   ]
  }
 ],
 "metadata": {
  "kernelspec": {
   "display_name": "Python 3",
   "language": "python",
   "name": "python3"
  },
  "language_info": {
   "codemirror_mode": {
    "name": "ipython",
    "version": 3
   },
   "file_extension": ".py",
   "mimetype": "text/x-python",
   "name": "python",
   "nbconvert_exporter": "python",
   "pygments_lexer": "ipython3",
   "version": "3.12.3"
  }
 },
 "nbformat": 4,
 "nbformat_minor": 2
}
